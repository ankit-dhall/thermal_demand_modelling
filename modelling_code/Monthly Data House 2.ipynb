{
 "cells": [
  {
   "cell_type": "code",
   "execution_count": 1,
   "metadata": {},
   "outputs": [],
   "source": [
    "import numpy as np\n",
    "import pandas as pd\n",
    "from sklearn.model_selection import train_test_split\n",
    "from sklearn.metrics import accuracy_score\n",
    "from sklearn.metrics import confusion_matrix\n",
    "import plotly.figure_factory as ff\n",
    "import tensorflow as tf\n",
    "from tensorflow.python.keras.layers import Dense, Dropout, LSTM\n",
    "from tensorflow.python.keras import Sequential\n",
    "from tensorflow.keras.utils import to_categorical\n",
    "from sklearn.preprocessing import OrdinalEncoder\n",
    "from pandas import DataFrame\n",
    "from pandas import concat\n",
    "import matplotlib.pyplot as plt\n",
    "from sklearn.metrics import precision_recall_curve, precision_score, recall_score, f1_score\n",
    "import seaborn as sns"
   ]
  },
  {
   "cell_type": "code",
   "execution_count": 2,
   "metadata": {},
   "outputs": [],
   "source": [
    "months = ['October', 'November', 'December', 'January', 'February', 'March', 'April']"
   ]
  },
  {
   "cell_type": "code",
   "execution_count": 3,
   "metadata": {},
   "outputs": [],
   "source": [
    "acc = list()"
   ]
  },
  {
   "cell_type": "code",
   "execution_count": 4,
   "metadata": {},
   "outputs": [],
   "source": [
    "f1 = list()"
   ]
  },
  {
   "cell_type": "code",
   "execution_count": 5,
   "metadata": {},
   "outputs": [],
   "source": [
    "err = list()"
   ]
  },
  {
   "cell_type": "code",
   "execution_count": 6,
   "metadata": {},
   "outputs": [],
   "source": [
    "house_data = pd.read_csv(\"../preprocessed_data/std_test_data_ebfd64742c95ab9f71f8ac8a810624464782d17d.csv\")"
   ]
  },
  {
   "cell_type": "code",
   "execution_count": 7,
   "metadata": {},
   "outputs": [
    {
     "data": {
      "text/html": [
       "<div>\n",
       "<style scoped>\n",
       "    .dataframe tbody tr th:only-of-type {\n",
       "        vertical-align: middle;\n",
       "    }\n",
       "\n",
       "    .dataframe tbody tr th {\n",
       "        vertical-align: top;\n",
       "    }\n",
       "\n",
       "    .dataframe thead th {\n",
       "        text-align: right;\n",
       "    }\n",
       "</style>\n",
       "<table border=\"1\" class=\"dataframe\">\n",
       "  <thead>\n",
       "    <tr style=\"text-align: right;\">\n",
       "      <th></th>\n",
       "      <th>index</th>\n",
       "      <th>hour_sin</th>\n",
       "      <th>hour_cos</th>\n",
       "      <th>month_sin</th>\n",
       "      <th>month_cos</th>\n",
       "      <th>day_sin</th>\n",
       "      <th>day_cos</th>\n",
       "      <th>Month</th>\n",
       "      <th>DayOfWeek</th>\n",
       "      <th>HourofDay</th>\n",
       "      <th>Day</th>\n",
       "      <th>T_ctrl</th>\n",
       "      <th>T_stp_heat</th>\n",
       "      <th>Humidity</th>\n",
       "      <th>auxHeat1</th>\n",
       "      <th>fan</th>\n",
       "      <th>Thermostat_Temperature</th>\n",
       "      <th>T_out</th>\n",
       "      <th>RH_out</th>\n",
       "    </tr>\n",
       "  </thead>\n",
       "  <tbody>\n",
       "    <tr>\n",
       "      <th>0</th>\n",
       "      <td>0</td>\n",
       "      <td>0.0</td>\n",
       "      <td>1.0</td>\n",
       "      <td>0.0</td>\n",
       "      <td>1.0</td>\n",
       "      <td>0.755303</td>\n",
       "      <td>0.484974</td>\n",
       "      <td>1</td>\n",
       "      <td>1</td>\n",
       "      <td>0</td>\n",
       "      <td>1</td>\n",
       "      <td>-0.449119</td>\n",
       "      <td>-0.792779</td>\n",
       "      <td>-0.354029</td>\n",
       "      <td>0</td>\n",
       "      <td>0</td>\n",
       "      <td>-0.440369</td>\n",
       "      <td>0.113647</td>\n",
       "      <td>1.575996</td>\n",
       "    </tr>\n",
       "    <tr>\n",
       "      <th>1</th>\n",
       "      <td>1</td>\n",
       "      <td>0.0</td>\n",
       "      <td>1.0</td>\n",
       "      <td>0.0</td>\n",
       "      <td>1.0</td>\n",
       "      <td>0.755303</td>\n",
       "      <td>0.484974</td>\n",
       "      <td>1</td>\n",
       "      <td>1</td>\n",
       "      <td>0</td>\n",
       "      <td>1</td>\n",
       "      <td>-0.449119</td>\n",
       "      <td>-0.792779</td>\n",
       "      <td>-0.354029</td>\n",
       "      <td>0</td>\n",
       "      <td>0</td>\n",
       "      <td>-0.440369</td>\n",
       "      <td>0.113647</td>\n",
       "      <td>1.575996</td>\n",
       "    </tr>\n",
       "    <tr>\n",
       "      <th>2</th>\n",
       "      <td>2</td>\n",
       "      <td>0.0</td>\n",
       "      <td>1.0</td>\n",
       "      <td>0.0</td>\n",
       "      <td>1.0</td>\n",
       "      <td>0.755303</td>\n",
       "      <td>0.484974</td>\n",
       "      <td>1</td>\n",
       "      <td>1</td>\n",
       "      <td>0</td>\n",
       "      <td>1</td>\n",
       "      <td>-0.449119</td>\n",
       "      <td>-0.792779</td>\n",
       "      <td>-0.354029</td>\n",
       "      <td>0</td>\n",
       "      <td>0</td>\n",
       "      <td>-0.440369</td>\n",
       "      <td>0.113647</td>\n",
       "      <td>1.575996</td>\n",
       "    </tr>\n",
       "    <tr>\n",
       "      <th>3</th>\n",
       "      <td>3</td>\n",
       "      <td>0.0</td>\n",
       "      <td>1.0</td>\n",
       "      <td>0.0</td>\n",
       "      <td>1.0</td>\n",
       "      <td>0.755303</td>\n",
       "      <td>0.484974</td>\n",
       "      <td>1</td>\n",
       "      <td>1</td>\n",
       "      <td>0</td>\n",
       "      <td>1</td>\n",
       "      <td>-0.449119</td>\n",
       "      <td>-0.792779</td>\n",
       "      <td>-0.354029</td>\n",
       "      <td>0</td>\n",
       "      <td>0</td>\n",
       "      <td>-0.440369</td>\n",
       "      <td>0.113647</td>\n",
       "      <td>1.575996</td>\n",
       "    </tr>\n",
       "    <tr>\n",
       "      <th>4</th>\n",
       "      <td>4</td>\n",
       "      <td>0.0</td>\n",
       "      <td>1.0</td>\n",
       "      <td>0.0</td>\n",
       "      <td>1.0</td>\n",
       "      <td>0.755303</td>\n",
       "      <td>0.484974</td>\n",
       "      <td>1</td>\n",
       "      <td>1</td>\n",
       "      <td>0</td>\n",
       "      <td>1</td>\n",
       "      <td>-0.449119</td>\n",
       "      <td>-0.792779</td>\n",
       "      <td>-0.354029</td>\n",
       "      <td>0</td>\n",
       "      <td>0</td>\n",
       "      <td>-0.440369</td>\n",
       "      <td>0.113647</td>\n",
       "      <td>1.575996</td>\n",
       "    </tr>\n",
       "  </tbody>\n",
       "</table>\n",
       "</div>"
      ],
      "text/plain": [
       "   index  hour_sin  hour_cos  month_sin  month_cos   day_sin   day_cos  Month  \\\n",
       "0      0       0.0       1.0        0.0        1.0  0.755303  0.484974      1   \n",
       "1      1       0.0       1.0        0.0        1.0  0.755303  0.484974      1   \n",
       "2      2       0.0       1.0        0.0        1.0  0.755303  0.484974      1   \n",
       "3      3       0.0       1.0        0.0        1.0  0.755303  0.484974      1   \n",
       "4      4       0.0       1.0        0.0        1.0  0.755303  0.484974      1   \n",
       "\n",
       "   DayOfWeek  HourofDay  Day    T_ctrl  T_stp_heat  Humidity  auxHeat1  fan  \\\n",
       "0          1          0    1 -0.449119   -0.792779 -0.354029         0    0   \n",
       "1          1          0    1 -0.449119   -0.792779 -0.354029         0    0   \n",
       "2          1          0    1 -0.449119   -0.792779 -0.354029         0    0   \n",
       "3          1          0    1 -0.449119   -0.792779 -0.354029         0    0   \n",
       "4          1          0    1 -0.449119   -0.792779 -0.354029         0    0   \n",
       "\n",
       "   Thermostat_Temperature     T_out    RH_out  \n",
       "0               -0.440369  0.113647  1.575996  \n",
       "1               -0.440369  0.113647  1.575996  \n",
       "2               -0.440369  0.113647  1.575996  \n",
       "3               -0.440369  0.113647  1.575996  \n",
       "4               -0.440369  0.113647  1.575996  "
      ]
     },
     "execution_count": 7,
     "metadata": {},
     "output_type": "execute_result"
    }
   ],
   "source": [
    "house_data.head()"
   ]
  },
  {
   "cell_type": "code",
   "execution_count": 8,
   "metadata": {},
   "outputs": [
    {
     "data": {
      "text/plain": [
       "5     8917\n",
       "12    8889\n",
       "1     8695\n",
       "4     8611\n",
       "11    8609\n",
       "3     8233\n",
       "6     7775\n",
       "10    5859\n",
       "2     5212\n",
       "Name: Month, dtype: int64"
      ]
     },
     "execution_count": 8,
     "metadata": {},
     "output_type": "execute_result"
    }
   ],
   "source": [
    "house_data.Month.value_counts()"
   ]
  },
  {
   "cell_type": "code",
   "execution_count": 9,
   "metadata": {},
   "outputs": [],
   "source": [
    "def series_to_supervised(data, n_in = 1, n_out = 1, dropnan = True):\n",
    "    \n",
    "    n_vars = 1 if type(data) is list else data.shape[1]\n",
    "    df = DataFrame(data)\n",
    "    cols, names = list(), list()\n",
    "    \n",
    "    # input sequence (t-n, ... t-1)\n",
    "    for i in range(n_in, 0, -1):\n",
    "        cols.append(df.shift(i))\n",
    "        names += [('var%d(t-%d)' % (j+1, i)) for j in range(n_vars)]\n",
    "    \n",
    "    # forecast sequence (t, t+1, ... t+n)\n",
    "    for i in range(0, n_out):\n",
    "        cols.append(df.shift(-i))\n",
    "        if i == 0:\n",
    "            names += [('var%d(t)' % (j+1)) for j in range(n_vars)]\n",
    "        else:\n",
    "            names += [('var%d(t+%d)' % (j+1, i)) for j in range(n_vars)]\n",
    "    # put it all together\n",
    "    agg = concat(cols, axis=1)\n",
    "    agg.columns = names\n",
    "    # drop rows with NaN values\n",
    "    if dropnan:\n",
    "        agg.dropna(inplace=True)\n",
    "    return agg"
   ]
  },
  {
   "cell_type": "markdown",
   "metadata": {},
   "source": [
    "# October"
   ]
  },
  {
   "cell_type": "code",
   "execution_count": 10,
   "metadata": {},
   "outputs": [
    {
     "name": "stdout",
     "output_type": "stream",
     "text": [
      "(4682, 34) (4682, 21) (1171, 34) (1171, 21)\n"
     ]
    }
   ],
   "source": [
    "working_df = house_data[house_data.Month == 10]\n",
    "\n",
    "working_df = working_df[['T_ctrl', 'T_stp_heat', 'auxHeat1', 'T_out', 'RH_out']]\n",
    "cols = ['T_ctrl', 'T_stp_heat', 'T_out', 'RH_out', 'auxHeat1']\n",
    "working_df = working_df[cols]\n",
    "\n",
    "reframed = series_to_supervised(working_df, 6, 1)\n",
    "\n",
    "y_auxHeat = reframed['var5(t)']\n",
    "y_auxHeat = to_categorical(y_auxHeat)\n",
    "X = reframed.drop(labels = [\"var5(t)\"], axis = 1)\n",
    "\n",
    "X_train, X_test, y_train, y_test = train_test_split(X, y_auxHeat, test_size = 0.2, shuffle = True)\n",
    "\n",
    "X_train = X_train.values\n",
    "X_test = X_test.values\n",
    "\n",
    "print(X_train.shape, y_train.shape, X_test.shape, y_test.shape)"
   ]
  },
  {
   "cell_type": "code",
   "execution_count": 11,
   "metadata": {},
   "outputs": [
    {
     "name": "stdout",
     "output_type": "stream",
     "text": [
      "Train on 4682 samples, validate on 1171 samples\n",
      "Epoch 1/20\n",
      "4682/4682 [==============================] - 2s 491us/sample - loss: 0.6414 - accuracy: 0.9302 - val_loss: 0.2322 - val_accuracy: 0.9547\n",
      "Epoch 2/20\n",
      "4682/4682 [==============================] - 2s 365us/sample - loss: 0.2452 - accuracy: 0.9532 - val_loss: 0.1886 - val_accuracy: 0.9633\n",
      "Epoch 3/20\n",
      "4682/4682 [==============================] - 2s 367us/sample - loss: 0.2167 - accuracy: 0.9571 - val_loss: 0.1935 - val_accuracy: 0.9650\n",
      "Epoch 4/20\n",
      "4682/4682 [==============================] - 2s 363us/sample - loss: 0.2043 - accuracy: 0.9584 - val_loss: 0.1801 - val_accuracy: 0.9650\n",
      "Epoch 5/20\n",
      "4682/4682 [==============================] - 2s 398us/sample - loss: 0.1956 - accuracy: 0.9586 - val_loss: 0.1708 - val_accuracy: 0.9675\n",
      "Epoch 6/20\n",
      "4682/4682 [==============================] - 2s 425us/sample - loss: 0.1924 - accuracy: 0.9588 - val_loss: 0.1728 - val_accuracy: 0.9675\n",
      "Epoch 7/20\n",
      "4682/4682 [==============================] - 2s 363us/sample - loss: 0.1877 - accuracy: 0.9581 - val_loss: 0.1613 - val_accuracy: 0.9684\n",
      "Epoch 8/20\n",
      "4682/4682 [==============================] - 2s 369us/sample - loss: 0.1839 - accuracy: 0.9590 - val_loss: 0.1574 - val_accuracy: 0.9684\n",
      "Epoch 9/20\n",
      "4682/4682 [==============================] - 2s 366us/sample - loss: 0.1792 - accuracy: 0.9590 - val_loss: 0.1610 - val_accuracy: 0.9684\n",
      "Epoch 10/20\n",
      "4682/4682 [==============================] - 2s 364us/sample - loss: 0.1786 - accuracy: 0.9601 - val_loss: 0.1569 - val_accuracy: 0.9684\n",
      "Epoch 11/20\n",
      "4682/4682 [==============================] - 2s 367us/sample - loss: 0.1770 - accuracy: 0.9598 - val_loss: 0.1600 - val_accuracy: 0.9701\n",
      "Epoch 12/20\n",
      "4682/4682 [==============================] - 2s 365us/sample - loss: 0.1748 - accuracy: 0.9596 - val_loss: 0.1578 - val_accuracy: 0.9710\n",
      "Epoch 13/20\n",
      "4682/4682 [==============================] - 2s 364us/sample - loss: 0.1715 - accuracy: 0.9598 - val_loss: 0.1617 - val_accuracy: 0.9693\n",
      "Epoch 14/20\n",
      "4682/4682 [==============================] - 2s 392us/sample - loss: 0.1705 - accuracy: 0.9603 - val_loss: 0.1593 - val_accuracy: 0.9701\n",
      "Epoch 15/20\n",
      "4682/4682 [==============================] - 2s 419us/sample - loss: 0.1670 - accuracy: 0.9605 - val_loss: 0.1602 - val_accuracy: 0.9701\n",
      "Epoch 16/20\n",
      "4682/4682 [==============================] - 2s 517us/sample - loss: 0.1640 - accuracy: 0.9607 - val_loss: 0.1586 - val_accuracy: 0.9710\n",
      "Epoch 17/20\n",
      "4682/4682 [==============================] - 2s 393us/sample - loss: 0.1616 - accuracy: 0.9611 - val_loss: 0.1621 - val_accuracy: 0.9701\n",
      "Epoch 18/20\n",
      "4682/4682 [==============================] - 2s 341us/sample - loss: 0.1591 - accuracy: 0.9611 - val_loss: 0.1658 - val_accuracy: 0.9675\n",
      "Epoch 19/20\n",
      "4682/4682 [==============================] - 2s 341us/sample - loss: 0.1618 - accuracy: 0.9607 - val_loss: 0.1587 - val_accuracy: 0.9701\n",
      "Epoch 20/20\n",
      "4682/4682 [==============================] - 2s 342us/sample - loss: 0.1595 - accuracy: 0.9613 - val_loss: 0.1568 - val_accuracy: 0.9710\n"
     ]
    }
   ],
   "source": [
    "classifier = Sequential()\n",
    "\n",
    "# Adding the input layer and the first hidden layer\n",
    "classifier.add(Dense(units = 24, kernel_initializer = 'uniform', activation = 'relu', input_dim = 34))\n",
    "\n",
    "# Adding the second hidden layer\n",
    "classifier.add(Dense(units = 24, kernel_initializer = 'uniform', activation = 'relu'))\n",
    "\n",
    "# Adding the output layer\n",
    "classifier.add(Dense(units = 21, kernel_initializer = 'uniform', activation = 'softmax'))\n",
    "\n",
    "# Compiling the ANN\n",
    "classifier.compile(optimizer = 'adam', loss = 'categorical_crossentropy', metrics = ['accuracy']) \n",
    "\n",
    "# Fitting the ANN to the Training set\n",
    "history = classifier.fit(X_train, y_train, validation_data = (X_test, y_test), batch_size = 10, epochs = 20, shuffle = True)"
   ]
  },
  {
   "cell_type": "code",
   "execution_count": 12,
   "metadata": {},
   "outputs": [
    {
     "data": {
      "image/png": "[encoded data removed]",
      "text/plain": [
       "<Figure size 432x288 with 1 Axes>"
      ]
     },
     "metadata": {
      "needs_background": "light"
     },
     "output_type": "display_data"
    }
   ],
   "source": [
    "plt.plot(history.history['loss'], label = 'train')\n",
    "plt.plot(history.history['val_loss'], label = 'test')\n",
    "plt.legend()\n",
    "plt.show()"
   ]
  },
  {
   "cell_type": "code",
   "execution_count": 13,
   "metadata": {},
   "outputs": [
    {
     "data": {
      "image/png": "[encoded data removed]",
      "text/plain": [
       "<Figure size 432x288 with 1 Axes>"
      ]
     },
     "metadata": {
      "needs_background": "light"
     },
     "output_type": "display_data"
    }
   ],
   "source": [
    "plt.plot(history.history['accuracy'], label = 'train')\n",
    "plt.plot(history.history['val_accuracy'], label = 'test')\n",
    "plt.legend()\n",
    "plt.show()"
   ]
  },
  {
   "cell_type": "code",
   "execution_count": 14,
   "metadata": {},
   "outputs": [
    {
     "name": "stdout",
     "output_type": "stream",
     "text": [
      "20325\n",
      "18870\n",
      "Error Percentage in predicted values is : 7.158671586715867 %\n"
     ]
    }
   ],
   "source": [
    "y_predicted = classifier.predict(X_test)\n",
    "\n",
    "y_predicted = np.argmax(y_predicted, axis = 1)\n",
    "\n",
    "y_test = np.argmax(y_test, axis = 1)\n",
    "\n",
    "test_sum = 0\n",
    "for i in range(len(y_test)):\n",
    "    test_sum += (y_test[i] * 15)\n",
    "\n",
    "print(test_sum)\n",
    "\n",
    "predicted_sum = 0\n",
    "for i in range(len(y_predicted)):\n",
    "    predicted_sum += (y_predicted[i] * 15)\n",
    "\n",
    "print(predicted_sum)\n",
    "\n",
    "print(\"Error Percentage in predicted values is : {} %\".format(np.absolute((predicted_sum - test_sum)/test_sum)*100))\n",
    "err.append(np.absolute((predicted_sum - test_sum)/test_sum)*100)"
   ]
  },
  {
   "cell_type": "code",
   "execution_count": 15,
   "metadata": {},
   "outputs": [
    {
     "data": {
      "text/plain": [
       "0.9595882535477602"
      ]
     },
     "execution_count": 15,
     "metadata": {},
     "output_type": "execute_result"
    }
   ],
   "source": [
    "f1_score(y_test, y_predicted, average = 'weighted')"
   ]
  },
  {
   "cell_type": "code",
   "execution_count": 16,
   "metadata": {},
   "outputs": [],
   "source": [
    "f1.append(f1_score(y_test, y_predicted, average = 'weighted'))"
   ]
  },
  {
   "cell_type": "code",
   "execution_count": 17,
   "metadata": {},
   "outputs": [],
   "source": [
    "acc.append(max(history.history['accuracy']))"
   ]
  },
  {
   "cell_type": "markdown",
   "metadata": {},
   "source": [
    "# November"
   ]
  },
  {
   "cell_type": "code",
   "execution_count": 18,
   "metadata": {},
   "outputs": [
    {
     "name": "stdout",
     "output_type": "stream",
     "text": [
      "(6882, 34) (6882, 21) (1721, 34) (1721, 21)\n"
     ]
    }
   ],
   "source": [
    "working_df = house_data[house_data.Month == 11]\n",
    "\n",
    "working_df = working_df[['T_ctrl', 'T_stp_heat', 'auxHeat1', 'T_out', 'RH_out']]\n",
    "cols = ['T_ctrl', 'T_stp_heat', 'T_out', 'RH_out', 'auxHeat1']\n",
    "working_df = working_df[cols]\n",
    "\n",
    "reframed = series_to_supervised(working_df, 6, 1)\n",
    "\n",
    "y_auxHeat = reframed['var5(t)']\n",
    "y_auxHeat = to_categorical(y_auxHeat)\n",
    "X = reframed.drop(labels = [\"var5(t)\"], axis = 1)\n",
    "\n",
    "X_train, X_test, y_train, y_test = train_test_split(X, y_auxHeat, test_size = 0.2, shuffle = True)\n",
    "\n",
    "X_train = X_train.values\n",
    "X_test = X_test.values\n",
    "\n",
    "print(X_train.shape, y_train.shape, X_test.shape, y_test.shape)"
   ]
  },
  {
   "cell_type": "code",
   "execution_count": 19,
   "metadata": {},
   "outputs": [
    {
     "name": "stdout",
     "output_type": "stream",
     "text": [
      "Train on 6882 samples, validate on 1721 samples\n",
      "Epoch 1/20\n",
      "6882/6882 [==============================] - 3s 434us/sample - loss: 0.6417 - accuracy: 0.9087 - val_loss: 0.2847 - val_accuracy: 0.9489\n",
      "Epoch 2/20\n",
      "6882/6882 [==============================] - 3s 402us/sample - loss: 0.2928 - accuracy: 0.9425 - val_loss: 0.2446 - val_accuracy: 0.9512\n",
      "Epoch 3/20\n",
      "6882/6882 [==============================] - 3s 450us/sample - loss: 0.2732 - accuracy: 0.9426 - val_loss: 0.2382 - val_accuracy: 0.9529\n",
      "Epoch 4/20\n",
      "6882/6882 [==============================] - 3s 451us/sample - loss: 0.2655 - accuracy: 0.9438 - val_loss: 0.2220 - val_accuracy: 0.9535\n",
      "Epoch 5/20\n",
      "6882/6882 [==============================] - 4s 546us/sample - loss: 0.2567 - accuracy: 0.9452 - val_loss: 0.2480 - val_accuracy: 0.9465\n",
      "Epoch 6/20\n",
      "6882/6882 [==============================] - 3s 505us/sample - loss: 0.2530 - accuracy: 0.9448 - val_loss: 0.2178 - val_accuracy: 0.9541\n",
      "Epoch 7/20\n",
      "6882/6882 [==============================] - 3s 393us/sample - loss: 0.2442 - accuracy: 0.9451 - val_loss: 0.2212 - val_accuracy: 0.9512\n",
      "Epoch 8/20\n",
      "6882/6882 [==============================] - 3s 372us/sample - loss: 0.2432 - accuracy: 0.9451 - val_loss: 0.2160 - val_accuracy: 0.9535\n",
      "Epoch 9/20\n",
      "6882/6882 [==============================] - 3s 368us/sample - loss: 0.2374 - accuracy: 0.9445 - val_loss: 0.2138 - val_accuracy: 0.9547\n",
      "Epoch 10/20\n",
      "6882/6882 [==============================] - 4s 519us/sample - loss: 0.2309 - accuracy: 0.9473 - val_loss: 0.2136 - val_accuracy: 0.9553\n",
      "Epoch 11/20\n",
      "6882/6882 [==============================] - 3s 445us/sample - loss: 0.2298 - accuracy: 0.9455 - val_loss: 0.2081 - val_accuracy: 0.9553\n",
      "Epoch 12/20\n",
      "6882/6882 [==============================] - 3s 366us/sample - loss: 0.2243 - accuracy: 0.9471 - val_loss: 0.2012 - val_accuracy: 0.9553\n",
      "Epoch 13/20\n",
      "6882/6882 [==============================] - 2s 349us/sample - loss: 0.2219 - accuracy: 0.9475 - val_loss: 0.2057 - val_accuracy: 0.9541\n",
      "Epoch 14/20\n",
      "6882/6882 [==============================] - 3s 377us/sample - loss: 0.2213 - accuracy: 0.9475 - val_loss: 0.2112 - val_accuracy: 0.9558\n",
      "Epoch 15/20\n",
      "6882/6882 [==============================] - 3s 369us/sample - loss: 0.2176 - accuracy: 0.9475 - val_loss: 0.2029 - val_accuracy: 0.9553\n",
      "Epoch 16/20\n",
      "6882/6882 [==============================] - 3s 400us/sample - loss: 0.2152 - accuracy: 0.9484 - val_loss: 0.2025 - val_accuracy: 0.9553\n",
      "Epoch 17/20\n",
      "6882/6882 [==============================] - 3s 376us/sample - loss: 0.2125 - accuracy: 0.9484 - val_loss: 0.2078 - val_accuracy: 0.9541\n",
      "Epoch 18/20\n",
      "6882/6882 [==============================] - 3s 372us/sample - loss: 0.2103 - accuracy: 0.9481 - val_loss: 0.1993 - val_accuracy: 0.9553\n",
      "Epoch 19/20\n",
      "6882/6882 [==============================] - 3s 406us/sample - loss: 0.2106 - accuracy: 0.9484 - val_loss: 0.2048 - val_accuracy: 0.9547\n",
      "Epoch 20/20\n",
      "6882/6882 [==============================] - 3s 377us/sample - loss: 0.2082 - accuracy: 0.9483 - val_loss: 0.2162 - val_accuracy: 0.9553\n"
     ]
    }
   ],
   "source": [
    "classifier = Sequential()\n",
    "\n",
    "# Adding the input layer and the first hidden layer\n",
    "classifier.add(Dense(units = 24, kernel_initializer = 'uniform', activation = 'relu', input_dim = 34))\n",
    "\n",
    "# Adding the second hidden layer\n",
    "classifier.add(Dense(units = 24, kernel_initializer = 'uniform', activation = 'relu'))\n",
    "\n",
    "# Adding the output layer\n",
    "classifier.add(Dense(units = 21, kernel_initializer = 'uniform', activation = 'softmax'))\n",
    "\n",
    "# Compiling the ANN\n",
    "classifier.compile(optimizer = 'adam', loss = 'categorical_crossentropy', metrics = ['accuracy']) \n",
    "\n",
    "# Fitting the ANN to the Training set\n",
    "history = classifier.fit(X_train, y_train, validation_data = (X_test, y_test), batch_size = 10, epochs = 20, shuffle = True)"
   ]
  },
  {
   "cell_type": "code",
   "execution_count": 20,
   "metadata": {},
   "outputs": [
    {
     "data": {
      "image/png": "[encoded data removed]",
      "text/plain": [
       "<Figure size 432x288 with 1 Axes>"
      ]
     },
     "metadata": {
      "needs_background": "light"
     },
     "output_type": "display_data"
    }
   ],
   "source": [
    "plt.plot(history.history['loss'], label = 'train')\n",
    "plt.plot(history.history['val_loss'], label = 'test')\n",
    "plt.legend()\n",
    "plt.show()"
   ]
  },
  {
   "cell_type": "code",
   "execution_count": 21,
   "metadata": {},
   "outputs": [
    {
     "data": {
      "image/png": "[encoded data removed]",
      "text/plain": [
       "<Figure size 432x288 with 1 Axes>"
      ]
     },
     "metadata": {
      "needs_background": "light"
     },
     "output_type": "display_data"
    }
   ],
   "source": [
    "plt.plot(history.history['accuracy'], label = 'train')\n",
    "plt.plot(history.history['val_accuracy'], label = 'test')\n",
    "plt.legend()\n",
    "plt.show()"
   ]
  },
  {
   "cell_type": "code",
   "execution_count": 22,
   "metadata": {},
   "outputs": [
    {
     "name": "stdout",
     "output_type": "stream",
     "text": [
      "73485\n",
      "75135\n",
      "Error Percentage in predicted values is : 2.2453561951418655 %\n"
     ]
    }
   ],
   "source": [
    "y_predicted = classifier.predict(X_test)\n",
    "\n",
    "y_predicted = np.argmax(y_predicted, axis = 1)\n",
    "\n",
    "y_test = np.argmax(y_test, axis = 1)\n",
    "\n",
    "test_sum = 0\n",
    "for i in range(len(y_test)):\n",
    "    test_sum += (y_test[i] * 15)\n",
    "\n",
    "print(test_sum)\n",
    "\n",
    "predicted_sum = 0\n",
    "for i in range(len(y_predicted)):\n",
    "    predicted_sum += (y_predicted[i] * 15)\n",
    "\n",
    "print(predicted_sum)\n",
    "\n",
    "print(\"Error Percentage in predicted values is : {} %\".format(np.absolute((predicted_sum - test_sum)/test_sum)*100))\n",
    "err.append(np.absolute((predicted_sum - test_sum)/test_sum)*100)"
   ]
  },
  {
   "cell_type": "code",
   "execution_count": 23,
   "metadata": {},
   "outputs": [
    {
     "data": {
      "text/plain": [
       "0.9366542315888838"
      ]
     },
     "execution_count": 23,
     "metadata": {},
     "output_type": "execute_result"
    }
   ],
   "source": [
    "f1_score(y_test, y_predicted, average = 'weighted')"
   ]
  },
  {
   "cell_type": "code",
   "execution_count": 24,
   "metadata": {},
   "outputs": [],
   "source": [
    "f1.append(f1_score(y_test, y_predicted, average = 'weighted'))"
   ]
  },
  {
   "cell_type": "code",
   "execution_count": 25,
   "metadata": {},
   "outputs": [],
   "source": [
    "acc.append(max(history.history['accuracy']))"
   ]
  },
  {
   "cell_type": "markdown",
   "metadata": {},
   "source": [
    "# December"
   ]
  },
  {
   "cell_type": "code",
   "execution_count": 26,
   "metadata": {},
   "outputs": [
    {
     "name": "stdout",
     "output_type": "stream",
     "text": [
      "(7106, 34) (7106, 21) (1777, 34) (1777, 21)\n"
     ]
    }
   ],
   "source": [
    "working_df = house_data[house_data.Month == 12]\n",
    "\n",
    "working_df = working_df[['T_ctrl', 'T_stp_heat', 'auxHeat1', 'T_out', 'RH_out']]\n",
    "cols = ['T_ctrl', 'T_stp_heat', 'T_out', 'RH_out', 'auxHeat1']\n",
    "working_df = working_df[cols]\n",
    "\n",
    "reframed = series_to_supervised(working_df, 6, 1)\n",
    "\n",
    "y_auxHeat = reframed['var5(t)']\n",
    "y_auxHeat = to_categorical(y_auxHeat)\n",
    "X = reframed.drop(labels = [\"var5(t)\"], axis = 1)\n",
    "\n",
    "X_train, X_test, y_train, y_test = train_test_split(X, y_auxHeat, test_size = 0.2, shuffle = True)\n",
    "\n",
    "X_train = X_train.values\n",
    "X_test = X_test.values\n",
    "\n",
    "print(X_train.shape, y_train.shape, X_test.shape, y_test.shape)"
   ]
  },
  {
   "cell_type": "code",
   "execution_count": 27,
   "metadata": {},
   "outputs": [
    {
     "name": "stdout",
     "output_type": "stream",
     "text": [
      "Train on 7106 samples, validate on 1777 samples\n",
      "Epoch 1/20\n",
      "7106/7106 [==============================] - 3s 429us/sample - loss: 0.7180 - accuracy: 0.8808 - val_loss: 0.3605 - val_accuracy: 0.9302\n",
      "Epoch 2/20\n",
      "7106/7106 [==============================] - 3s 368us/sample - loss: 0.3715 - accuracy: 0.9239 - val_loss: 0.3218 - val_accuracy: 0.9353\n",
      "Epoch 3/20\n",
      "7106/7106 [==============================] - 3s 368us/sample - loss: 0.3446 - accuracy: 0.9261 - val_loss: 0.3092 - val_accuracy: 0.9370\n",
      "Epoch 4/20\n",
      "7106/7106 [==============================] - 3s 370us/sample - loss: 0.3346 - accuracy: 0.9282 - val_loss: 0.3063 - val_accuracy: 0.9370\n",
      "Epoch 5/20\n",
      "7106/7106 [==============================] - 3s 371us/sample - loss: 0.3263 - accuracy: 0.9281 - val_loss: 0.2874 - val_accuracy: 0.9392\n",
      "Epoch 6/20\n",
      "7106/7106 [==============================] - 3s 369us/sample - loss: 0.3184 - accuracy: 0.9289 - val_loss: 0.3027 - val_accuracy: 0.9375\n",
      "Epoch 7/20\n",
      "7106/7106 [==============================] - 3s 369us/sample - loss: 0.3128 - accuracy: 0.9288 - val_loss: 0.2882 - val_accuracy: 0.9392\n",
      "Epoch 8/20\n",
      "7106/7106 [==============================] - 3s 373us/sample - loss: 0.3089 - accuracy: 0.9295 - val_loss: 0.2792 - val_accuracy: 0.9403\n",
      "Epoch 9/20\n",
      "7106/7106 [==============================] - 3s 395us/sample - loss: 0.3080 - accuracy: 0.9299 - val_loss: 0.2815 - val_accuracy: 0.9392\n",
      "Epoch 10/20\n",
      "7106/7106 [==============================] - 3s 371us/sample - loss: 0.3058 - accuracy: 0.9301 - val_loss: 0.2708 - val_accuracy: 0.9403\n",
      "Epoch 11/20\n",
      "7106/7106 [==============================] - 3s 373us/sample - loss: 0.3009 - accuracy: 0.9308 - val_loss: 0.2878 - val_accuracy: 0.9375\n",
      "Epoch 12/20\n",
      "7106/7106 [==============================] - 3s 371us/sample - loss: 0.3005 - accuracy: 0.9296 - val_loss: 0.2712 - val_accuracy: 0.9409\n",
      "Epoch 13/20\n",
      "7106/7106 [==============================] - 3s 370us/sample - loss: 0.2937 - accuracy: 0.9310 - val_loss: 0.2873 - val_accuracy: 0.9375\n",
      "Epoch 14/20\n",
      "7106/7106 [==============================] - 3s 405us/sample - loss: 0.2943 - accuracy: 0.9310 - val_loss: 0.2646 - val_accuracy: 0.9403\n",
      "Epoch 15/20\n",
      "7106/7106 [==============================] - 3s 384us/sample - loss: 0.2910 - accuracy: 0.9309 - val_loss: 0.2675 - val_accuracy: 0.9403\n",
      "Epoch 16/20\n",
      "7106/7106 [==============================] - 3s 371us/sample - loss: 0.2879 - accuracy: 0.9313 - val_loss: 0.2670 - val_accuracy: 0.9398\n",
      "Epoch 17/20\n",
      "7106/7106 [==============================] - 3s 371us/sample - loss: 0.2903 - accuracy: 0.9305 - val_loss: 0.2706 - val_accuracy: 0.9409\n",
      "Epoch 18/20\n",
      "7106/7106 [==============================] - 3s 372us/sample - loss: 0.2870 - accuracy: 0.9325 - val_loss: 0.2834 - val_accuracy: 0.9398\n",
      "Epoch 19/20\n",
      "7106/7106 [==============================] - 3s 371us/sample - loss: 0.2875 - accuracy: 0.9303 - val_loss: 0.2702 - val_accuracy: 0.9403\n",
      "Epoch 20/20\n",
      "7106/7106 [==============================] - 3s 367us/sample - loss: 0.2829 - accuracy: 0.9312 - val_loss: 0.2728 - val_accuracy: 0.9409\n"
     ]
    }
   ],
   "source": [
    "classifier = Sequential()\n",
    "\n",
    "# Adding the input layer and the first hidden layer\n",
    "classifier.add(Dense(units = 24, kernel_initializer = 'uniform', activation = 'relu', input_dim = 34))\n",
    "\n",
    "# Adding the second hidden layer\n",
    "classifier.add(Dense(units = 24, kernel_initializer = 'uniform', activation = 'relu'))\n",
    "\n",
    "# Adding the output layer\n",
    "classifier.add(Dense(units = 21, kernel_initializer = 'uniform', activation = 'softmax'))\n",
    "\n",
    "# Compiling the ANN\n",
    "classifier.compile(optimizer = 'adam', loss = 'categorical_crossentropy', metrics = ['accuracy']) \n",
    "\n",
    "# Fitting the ANN to the Training set\n",
    "history = classifier.fit(X_train, y_train, validation_data = (X_test, y_test), batch_size = 10, epochs = 20, shuffle = True)"
   ]
  },
  {
   "cell_type": "code",
   "execution_count": 28,
   "metadata": {},
   "outputs": [
    {
     "data": {
      "image/png": "[encoded data removed]",
      "text/plain": [
       "<Figure size 432x288 with 1 Axes>"
      ]
     },
     "metadata": {
      "needs_background": "light"
     },
     "output_type": "display_data"
    }
   ],
   "source": [
    "plt.plot(history.history['loss'], label = 'train')\n",
    "plt.plot(history.history['val_loss'], label = 'test')\n",
    "plt.legend()\n",
    "plt.show()"
   ]
  },
  {
   "cell_type": "code",
   "execution_count": 29,
   "metadata": {},
   "outputs": [
    {
     "data": {
      "image/png": "[encoded data removed]",
      "text/plain": [
       "<Figure size 432x288 with 1 Axes>"
      ]
     },
     "metadata": {
      "needs_background": "light"
     },
     "output_type": "display_data"
    }
   ],
   "source": [
    "plt.plot(history.history['accuracy'], label = 'train')\n",
    "plt.plot(history.history['val_accuracy'], label = 'test')\n",
    "plt.legend()\n",
    "plt.show()"
   ]
  },
  {
   "cell_type": "code",
   "execution_count": 30,
   "metadata": {},
   "outputs": [
    {
     "name": "stdout",
     "output_type": "stream",
     "text": [
      "104850\n",
      "98985\n",
      "Error Percentage in predicted values is : 5.593705293276108 %\n"
     ]
    }
   ],
   "source": [
    "y_predicted = classifier.predict(X_test)\n",
    "\n",
    "y_predicted = np.argmax(y_predicted, axis = 1)\n",
    "\n",
    "y_test = np.argmax(y_test, axis = 1)\n",
    "\n",
    "test_sum = 0\n",
    "for i in range(len(y_test)):\n",
    "    test_sum += (y_test[i] * 15)\n",
    "\n",
    "print(test_sum)\n",
    "\n",
    "predicted_sum = 0\n",
    "for i in range(len(y_predicted)):\n",
    "    predicted_sum += (y_predicted[i] * 15)\n",
    "\n",
    "print(predicted_sum)\n",
    "\n",
    "print(\"Error Percentage in predicted values is : {} %\".format(np.absolute((predicted_sum - test_sum)/test_sum)*100))\n",
    "err.append(np.absolute((predicted_sum - test_sum)/test_sum)*100)"
   ]
  },
  {
   "cell_type": "code",
   "execution_count": 31,
   "metadata": {},
   "outputs": [
    {
     "data": {
      "text/plain": [
       "0.9156436061799991"
      ]
     },
     "execution_count": 31,
     "metadata": {},
     "output_type": "execute_result"
    }
   ],
   "source": [
    "f1_score(y_test, y_predicted, average = 'weighted')"
   ]
  },
  {
   "cell_type": "code",
   "execution_count": 32,
   "metadata": {},
   "outputs": [],
   "source": [
    "f1.append(f1_score(y_test, y_predicted, average = 'weighted'))"
   ]
  },
  {
   "cell_type": "code",
   "execution_count": 33,
   "metadata": {},
   "outputs": [],
   "source": [
    "acc.append(max(history.history['accuracy']))"
   ]
  },
  {
   "cell_type": "markdown",
   "metadata": {},
   "source": [
    "# January"
   ]
  },
  {
   "cell_type": "code",
   "execution_count": 34,
   "metadata": {},
   "outputs": [
    {
     "name": "stdout",
     "output_type": "stream",
     "text": [
      "(6951, 34) (6951, 21) (1738, 34) (1738, 21)\n"
     ]
    }
   ],
   "source": [
    "working_df = house_data[house_data.Month == 1]\n",
    "\n",
    "working_df = working_df[['T_ctrl', 'T_stp_heat', 'auxHeat1', 'T_out', 'RH_out']]\n",
    "cols = ['T_ctrl', 'T_stp_heat', 'T_out', 'RH_out', 'auxHeat1']\n",
    "working_df = working_df[cols]\n",
    "\n",
    "reframed = series_to_supervised(working_df, 6, 1)\n",
    "\n",
    "y_auxHeat = reframed['var5(t)']\n",
    "y_auxHeat = to_categorical(y_auxHeat)\n",
    "X = reframed.drop(labels = [\"var5(t)\"], axis = 1)\n",
    "\n",
    "X_train, X_test, y_train, y_test = train_test_split(X, y_auxHeat, test_size = 0.2, shuffle = True)\n",
    "\n",
    "X_train = X_train.values\n",
    "X_test = X_test.values\n",
    "\n",
    "print(X_train.shape, y_train.shape, X_test.shape, y_test.shape)"
   ]
  },
  {
   "cell_type": "code",
   "execution_count": 35,
   "metadata": {},
   "outputs": [
    {
     "name": "stdout",
     "output_type": "stream",
     "text": [
      "Train on 6951 samples, validate on 1738 samples\n",
      "Epoch 1/20\n",
      "6951/6951 [==============================] - 3s 425us/sample - loss: 0.7017 - accuracy: 0.8957 - val_loss: 0.3899 - val_accuracy: 0.9264\n",
      "Epoch 2/20\n",
      "6951/6951 [==============================] - 3s 386us/sample - loss: 0.3607 - accuracy: 0.9335 - val_loss: 0.3262 - val_accuracy: 0.9367\n",
      "Epoch 3/20\n",
      "6951/6951 [==============================] - 3s 372us/sample - loss: 0.3326 - accuracy: 0.9380 - val_loss: 0.3402 - val_accuracy: 0.9379\n",
      "Epoch 4/20\n",
      "6951/6951 [==============================] - 3s 374us/sample - loss: 0.3189 - accuracy: 0.9393 - val_loss: 0.3030 - val_accuracy: 0.9396\n",
      "Epoch 5/20\n",
      "6951/6951 [==============================] - 3s 372us/sample - loss: 0.3080 - accuracy: 0.9396 - val_loss: 0.2992 - val_accuracy: 0.9390\n",
      "Epoch 6/20\n",
      "6951/6951 [==============================] - 3s 373us/sample - loss: 0.3024 - accuracy: 0.9406 - val_loss: 0.2959 - val_accuracy: 0.9407\n",
      "Epoch 7/20\n",
      "6951/6951 [==============================] - 3s 374us/sample - loss: 0.2969 - accuracy: 0.9409 - val_loss: 0.2975 - val_accuracy: 0.9402\n",
      "Epoch 8/20\n",
      "6951/6951 [==============================] - 3s 374us/sample - loss: 0.2935 - accuracy: 0.9403 - val_loss: 0.2838 - val_accuracy: 0.9407\n",
      "Epoch 9/20\n",
      "6951/6951 [==============================] - 3s 375us/sample - loss: 0.2854 - accuracy: 0.9417 - val_loss: 0.2881 - val_accuracy: 0.9373\n",
      "Epoch 10/20\n",
      "6951/6951 [==============================] - 3s 374us/sample - loss: 0.2855 - accuracy: 0.9410 - val_loss: 0.2867 - val_accuracy: 0.9402\n",
      "Epoch 11/20\n",
      "6951/6951 [==============================] - 3s 374us/sample - loss: 0.2791 - accuracy: 0.9414 - val_loss: 0.2901 - val_accuracy: 0.9407\n",
      "Epoch 12/20\n",
      "6951/6951 [==============================] - 3s 376us/sample - loss: 0.2754 - accuracy: 0.9417 - val_loss: 0.2843 - val_accuracy: 0.9413\n",
      "Epoch 13/20\n",
      "6951/6951 [==============================] - 3s 377us/sample - loss: 0.2718 - accuracy: 0.9416 - val_loss: 0.2846 - val_accuracy: 0.9402\n",
      "Epoch 14/20\n",
      "6951/6951 [==============================] - 3s 373us/sample - loss: 0.2696 - accuracy: 0.9413 - val_loss: 0.2999 - val_accuracy: 0.9390\n",
      "Epoch 15/20\n",
      "6951/6951 [==============================] - 3s 376us/sample - loss: 0.2681 - accuracy: 0.9420 - val_loss: 0.2959 - val_accuracy: 0.9396\n",
      "Epoch 16/20\n",
      "6951/6951 [==============================] - 3s 372us/sample - loss: 0.2638 - accuracy: 0.9419 - val_loss: 0.2759 - val_accuracy: 0.9413\n",
      "Epoch 17/20\n",
      "6951/6951 [==============================] - 3s 375us/sample - loss: 0.2638 - accuracy: 0.9422 - val_loss: 0.2774 - val_accuracy: 0.9407\n",
      "Epoch 18/20\n",
      "6951/6951 [==============================] - 3s 373us/sample - loss: 0.2617 - accuracy: 0.9422 - val_loss: 0.2838 - val_accuracy: 0.9407\n",
      "Epoch 19/20\n",
      "6951/6951 [==============================] - 3s 372us/sample - loss: 0.2597 - accuracy: 0.9427 - val_loss: 0.2809 - val_accuracy: 0.9413\n",
      "Epoch 20/20\n",
      "6951/6951 [==============================] - 3s 376us/sample - loss: 0.2578 - accuracy: 0.9432 - val_loss: 0.2814 - val_accuracy: 0.9407\n"
     ]
    }
   ],
   "source": [
    "classifier = Sequential()\n",
    "\n",
    "# Adding the input layer and the first hidden layer\n",
    "classifier.add(Dense(units = 24, kernel_initializer = 'uniform', activation = 'relu', input_dim = 34))\n",
    "\n",
    "# Adding the second hidden layer\n",
    "classifier.add(Dense(units = 24, kernel_initializer = 'uniform', activation = 'relu'))\n",
    "\n",
    "# Adding the output layer\n",
    "classifier.add(Dense(units = 21, kernel_initializer = 'uniform', activation = 'softmax'))\n",
    "\n",
    "# Compiling the ANN\n",
    "classifier.compile(optimizer = 'adam', loss = 'categorical_crossentropy', metrics = ['accuracy']) \n",
    "\n",
    "# Fitting the ANN to the Training set\n",
    "history = classifier.fit(X_train, y_train, validation_data = (X_test, y_test), batch_size = 10, epochs = 20, shuffle = True)"
   ]
  },
  {
   "cell_type": "code",
   "execution_count": 36,
   "metadata": {},
   "outputs": [
    {
     "data": {
      "image/png": "[encoded data removed]",
      "text/plain": [
       "<Figure size 432x288 with 1 Axes>"
      ]
     },
     "metadata": {
      "needs_background": "light"
     },
     "output_type": "display_data"
    }
   ],
   "source": [
    "plt.plot(history.history['loss'], label = 'train')\n",
    "plt.plot(history.history['val_loss'], label = 'test')\n",
    "plt.legend()\n",
    "plt.show()"
   ]
  },
  {
   "cell_type": "code",
   "execution_count": 37,
   "metadata": {},
   "outputs": [
    {
     "data": {
      "image/png": "[encoded data removed]",
      "text/plain": [
       "<Figure size 432x288 with 1 Axes>"
      ]
     },
     "metadata": {
      "needs_background": "light"
     },
     "output_type": "display_data"
    }
   ],
   "source": [
    "plt.plot(history.history['accuracy'], label = 'train')\n",
    "plt.plot(history.history['val_accuracy'], label = 'test')\n",
    "plt.legend()\n",
    "plt.show()"
   ]
  },
  {
   "cell_type": "code",
   "execution_count": 38,
   "metadata": {},
   "outputs": [
    {
     "name": "stdout",
     "output_type": "stream",
     "text": [
      "103050\n",
      "98805\n",
      "Error Percentage in predicted values is : 4.119359534206696 %\n"
     ]
    }
   ],
   "source": [
    "y_predicted = classifier.predict(X_test)\n",
    "\n",
    "y_predicted = np.argmax(y_predicted, axis = 1)\n",
    "\n",
    "y_test = np.argmax(y_test, axis = 1)\n",
    "\n",
    "test_sum = 0\n",
    "for i in range(len(y_test)):\n",
    "    test_sum += (y_test[i] * 15)\n",
    "\n",
    "print(test_sum)\n",
    "\n",
    "predicted_sum = 0\n",
    "for i in range(len(y_predicted)):\n",
    "    predicted_sum += (y_predicted[i] * 15)\n",
    "\n",
    "print(predicted_sum)\n",
    "\n",
    "print(\"Error Percentage in predicted values is : {} %\".format(np.absolute((predicted_sum - test_sum)/test_sum)*100))\n",
    "err.append(np.absolute((predicted_sum - test_sum)/test_sum)*100)"
   ]
  },
  {
   "cell_type": "code",
   "execution_count": 39,
   "metadata": {},
   "outputs": [
    {
     "data": {
      "text/plain": [
       "0.915270533778534"
      ]
     },
     "execution_count": 39,
     "metadata": {},
     "output_type": "execute_result"
    }
   ],
   "source": [
    "f1_score(y_test, y_predicted, average = 'weighted')"
   ]
  },
  {
   "cell_type": "code",
   "execution_count": 40,
   "metadata": {},
   "outputs": [],
   "source": [
    "f1.append(f1_score(y_test, y_predicted, average = 'weighted'))"
   ]
  },
  {
   "cell_type": "code",
   "execution_count": 41,
   "metadata": {},
   "outputs": [],
   "source": [
    "acc.append(max(history.history['accuracy']))"
   ]
  },
  {
   "cell_type": "markdown",
   "metadata": {},
   "source": [
    "# February"
   ]
  },
  {
   "cell_type": "code",
   "execution_count": 42,
   "metadata": {},
   "outputs": [
    {
     "name": "stdout",
     "output_type": "stream",
     "text": [
      "(4164, 34) (4164, 21) (1042, 34) (1042, 21)\n"
     ]
    }
   ],
   "source": [
    "working_df = house_data[house_data.Month == 2]\n",
    "\n",
    "working_df = working_df[['T_ctrl', 'T_stp_heat', 'auxHeat1', 'T_out', 'RH_out']]\n",
    "cols = ['T_ctrl', 'T_stp_heat', 'T_out', 'RH_out', 'auxHeat1']\n",
    "working_df = working_df[cols]\n",
    "\n",
    "reframed = series_to_supervised(working_df, 6, 1)\n",
    "\n",
    "y_auxHeat = reframed['var5(t)']\n",
    "y_auxHeat = to_categorical(y_auxHeat)\n",
    "X = reframed.drop(labels = [\"var5(t)\"], axis = 1)\n",
    "\n",
    "X_train, X_test, y_train, y_test = train_test_split(X, y_auxHeat, test_size = 0.2, shuffle = True)\n",
    "\n",
    "X_train = X_train.values\n",
    "X_test = X_test.values\n",
    "\n",
    "print(X_train.shape, y_train.shape, X_test.shape, y_test.shape)"
   ]
  },
  {
   "cell_type": "code",
   "execution_count": 43,
   "metadata": {},
   "outputs": [
    {
     "name": "stdout",
     "output_type": "stream",
     "text": [
      "Train on 4164 samples, validate on 1042 samples\n",
      "Epoch 1/20\n",
      "4164/4164 [==============================] - 2s 457us/sample - loss: 0.9046 - accuracy: 0.8605 - val_loss: 0.3980 - val_accuracy: 0.9309\n",
      "Epoch 2/20\n",
      "4164/4164 [==============================] - 2s 376us/sample - loss: 0.3873 - accuracy: 0.9272 - val_loss: 0.3380 - val_accuracy: 0.9395\n",
      "Epoch 3/20\n",
      "4164/4164 [==============================] - 2s 384us/sample - loss: 0.3446 - accuracy: 0.9313 - val_loss: 0.3190 - val_accuracy: 0.9395\n",
      "Epoch 4/20\n",
      "4164/4164 [==============================] - 2s 377us/sample - loss: 0.3263 - accuracy: 0.9349 - val_loss: 0.3112 - val_accuracy: 0.9415\n",
      "Epoch 5/20\n",
      "4164/4164 [==============================] - 2s 375us/sample - loss: 0.3179 - accuracy: 0.9364 - val_loss: 0.2999 - val_accuracy: 0.9376\n",
      "Epoch 6/20\n",
      "4164/4164 [==============================] - 2s 380us/sample - loss: 0.3119 - accuracy: 0.9337 - val_loss: 0.2941 - val_accuracy: 0.9395\n",
      "Epoch 7/20\n",
      "4164/4164 [==============================] - 2s 376us/sample - loss: 0.3090 - accuracy: 0.9344 - val_loss: 0.2938 - val_accuracy: 0.9395\n",
      "Epoch 8/20\n",
      "4164/4164 [==============================] - 2s 385us/sample - loss: 0.3014 - accuracy: 0.9361 - val_loss: 0.2954 - val_accuracy: 0.9395\n",
      "Epoch 9/20\n",
      "4164/4164 [==============================] - 2s 384us/sample - loss: 0.2976 - accuracy: 0.9361 - val_loss: 0.2966 - val_accuracy: 0.9415\n",
      "Epoch 10/20\n",
      "4164/4164 [==============================] - 2s 380us/sample - loss: 0.2958 - accuracy: 0.9352 - val_loss: 0.2849 - val_accuracy: 0.9424\n",
      "Epoch 11/20\n",
      "4164/4164 [==============================] - 2s 376us/sample - loss: 0.2926 - accuracy: 0.9361 - val_loss: 0.3039 - val_accuracy: 0.9395\n",
      "Epoch 12/20\n",
      "4164/4164 [==============================] - 2s 377us/sample - loss: 0.2915 - accuracy: 0.9366 - val_loss: 0.2824 - val_accuracy: 0.9415\n",
      "Epoch 13/20\n",
      "4164/4164 [==============================] - 2s 412us/sample - loss: 0.2886 - accuracy: 0.9371 - val_loss: 0.2837 - val_accuracy: 0.9424\n",
      "Epoch 14/20\n",
      "4164/4164 [==============================] - 2s 375us/sample - loss: 0.2855 - accuracy: 0.9376 - val_loss: 0.2942 - val_accuracy: 0.9395\n",
      "Epoch 15/20\n",
      "4164/4164 [==============================] - 1s 340us/sample - loss: 0.2836 - accuracy: 0.9366 - val_loss: 0.2943 - val_accuracy: 0.9405\n",
      "Epoch 16/20\n",
      "4164/4164 [==============================] - 2s 393us/sample - loss: 0.2833 - accuracy: 0.9371 - val_loss: 0.2902 - val_accuracy: 0.9405\n",
      "Epoch 17/20\n",
      "4164/4164 [==============================] - 2s 376us/sample - loss: 0.2805 - accuracy: 0.9373 - val_loss: 0.2855 - val_accuracy: 0.9434\n",
      "Epoch 18/20\n",
      "4164/4164 [==============================] - 2s 376us/sample - loss: 0.2760 - accuracy: 0.9380 - val_loss: 0.2863 - val_accuracy: 0.9405\n",
      "Epoch 19/20\n",
      "4164/4164 [==============================] - 2s 378us/sample - loss: 0.2748 - accuracy: 0.9378 - val_loss: 0.2926 - val_accuracy: 0.9415\n",
      "Epoch 20/20\n",
      "4164/4164 [==============================] - 2s 390us/sample - loss: 0.2724 - accuracy: 0.9380 - val_loss: 0.2922 - val_accuracy: 0.9424\n"
     ]
    }
   ],
   "source": [
    "classifier = Sequential()\n",
    "\n",
    "# Adding the input layer and the first hidden layer\n",
    "classifier.add(Dense(units = 24, kernel_initializer = 'uniform', activation = 'relu', input_dim = 34))\n",
    "\n",
    "# Adding the second hidden layer\n",
    "classifier.add(Dense(units = 24, kernel_initializer = 'uniform', activation = 'relu'))\n",
    "\n",
    "# Adding the output layer\n",
    "classifier.add(Dense(units = 21, kernel_initializer = 'uniform', activation = 'softmax'))\n",
    "\n",
    "# Compiling the ANN\n",
    "classifier.compile(optimizer = 'adam', loss = 'categorical_crossentropy', metrics = ['accuracy']) \n",
    "\n",
    "# Fitting the ANN to the Training set\n",
    "history = classifier.fit(X_train, y_train, validation_data = (X_test, y_test), batch_size = 10, epochs = 20, shuffle = True)"
   ]
  },
  {
   "cell_type": "code",
   "execution_count": 44,
   "metadata": {},
   "outputs": [
    {
     "data": {
      "image/png": "[encoded data removed]",
      "text/plain": [
       "<Figure size 432x288 with 1 Axes>"
      ]
     },
     "metadata": {
      "needs_background": "light"
     },
     "output_type": "display_data"
    }
   ],
   "source": [
    "plt.plot(history.history['loss'], label = 'train')\n",
    "plt.plot(history.history['val_loss'], label = 'test')\n",
    "plt.legend()\n",
    "plt.show()"
   ]
  },
  {
   "cell_type": "code",
   "execution_count": 45,
   "metadata": {},
   "outputs": [
    {
     "data": {
      "image/png": "[encoded data removed]",
      "text/plain": [
       "<Figure size 432x288 with 1 Axes>"
      ]
     },
     "metadata": {
      "needs_background": "light"
     },
     "output_type": "display_data"
    }
   ],
   "source": [
    "plt.plot(history.history['accuracy'], label = 'train')\n",
    "plt.plot(history.history['val_accuracy'], label = 'test')\n",
    "plt.legend()\n",
    "plt.show()"
   ]
  },
  {
   "cell_type": "code",
   "execution_count": 46,
   "metadata": {},
   "outputs": [
    {
     "name": "stdout",
     "output_type": "stream",
     "text": [
      "54330\n",
      "53700\n",
      "Error Percentage in predicted values is : 1.1595803423522915 %\n"
     ]
    }
   ],
   "source": [
    "y_predicted = classifier.predict(X_test)\n",
    "\n",
    "y_predicted = np.argmax(y_predicted, axis = 1)\n",
    "\n",
    "y_test = np.argmax(y_test, axis = 1)\n",
    "\n",
    "test_sum = 0\n",
    "for i in range(len(y_test)):\n",
    "    test_sum += (y_test[i] * 15)\n",
    "\n",
    "print(test_sum)\n",
    "\n",
    "predicted_sum = 0\n",
    "for i in range(len(y_predicted)):\n",
    "    predicted_sum += (y_predicted[i] * 15)\n",
    "\n",
    "print(predicted_sum)\n",
    "\n",
    "print(\"Error Percentage in predicted values is : {} %\".format(np.absolute((predicted_sum - test_sum)/test_sum)*100))\n",
    "err.append(np.absolute((predicted_sum - test_sum)/test_sum)*100)"
   ]
  },
  {
   "cell_type": "code",
   "execution_count": 47,
   "metadata": {},
   "outputs": [
    {
     "data": {
      "text/plain": [
       "0.9191621792399444"
      ]
     },
     "execution_count": 47,
     "metadata": {},
     "output_type": "execute_result"
    }
   ],
   "source": [
    "f1_score(y_test, y_predicted, average = 'weighted')"
   ]
  },
  {
   "cell_type": "code",
   "execution_count": 48,
   "metadata": {},
   "outputs": [],
   "source": [
    "f1.append(f1_score(y_test, y_predicted, average = 'weighted'))"
   ]
  },
  {
   "cell_type": "code",
   "execution_count": 49,
   "metadata": {},
   "outputs": [],
   "source": [
    "acc.append(max(history.history['accuracy']))"
   ]
  },
  {
   "cell_type": "markdown",
   "metadata": {},
   "source": [
    "# March"
   ]
  },
  {
   "cell_type": "code",
   "execution_count": 50,
   "metadata": {},
   "outputs": [
    {
     "name": "stdout",
     "output_type": "stream",
     "text": [
      "(6581, 34) (6581, 21) (1646, 34) (1646, 21)\n"
     ]
    }
   ],
   "source": [
    "working_df = house_data[house_data.Month == 3]\n",
    "\n",
    "working_df = working_df[['T_ctrl', 'T_stp_heat', 'auxHeat1', 'T_out', 'RH_out']]\n",
    "cols = ['T_ctrl', 'T_stp_heat', 'T_out', 'RH_out', 'auxHeat1']\n",
    "working_df = working_df[cols]\n",
    "\n",
    "reframed = series_to_supervised(working_df, 6, 1)\n",
    "\n",
    "y_auxHeat = reframed['var5(t)']\n",
    "y_auxHeat = to_categorical(y_auxHeat)\n",
    "X = reframed.drop(labels = [\"var5(t)\"], axis = 1)\n",
    "\n",
    "X_train, X_test, y_train, y_test = train_test_split(X, y_auxHeat, test_size = 0.2, shuffle = True)\n",
    "\n",
    "X_train = X_train.values\n",
    "X_test = X_test.values\n",
    "\n",
    "print(X_train.shape, y_train.shape, X_test.shape, y_test.shape)"
   ]
  },
  {
   "cell_type": "code",
   "execution_count": 51,
   "metadata": {},
   "outputs": [
    {
     "name": "stdout",
     "output_type": "stream",
     "text": [
      "Train on 6581 samples, validate on 1646 samples\n",
      "Epoch 1/20\n",
      "6581/6581 [==============================] - 4s 543us/sample - loss: 0.6753 - accuracy: 0.9053 - val_loss: 0.3474 - val_accuracy: 0.9417\n",
      "Epoch 2/20\n",
      "6581/6581 [==============================] - 3s 469us/sample - loss: 0.3191 - accuracy: 0.9375 - val_loss: 0.3385 - val_accuracy: 0.9399\n",
      "Epoch 3/20\n",
      "6581/6581 [==============================] - 3s 499us/sample - loss: 0.2979 - accuracy: 0.9409 - val_loss: 0.3098 - val_accuracy: 0.9453\n",
      "Epoch 4/20\n",
      "6581/6581 [==============================] - 3s 489us/sample - loss: 0.2835 - accuracy: 0.9410 - val_loss: 0.3003 - val_accuracy: 0.9447\n",
      "Epoch 5/20\n",
      "6581/6581 [==============================] - 3s 444us/sample - loss: 0.2779 - accuracy: 0.9429 - val_loss: 0.2856 - val_accuracy: 0.9459\n",
      "Epoch 6/20\n",
      "6581/6581 [==============================] - 4s 540us/sample - loss: 0.2708 - accuracy: 0.9430 - val_loss: 0.2851 - val_accuracy: 0.9459\n",
      "Epoch 7/20\n",
      "6581/6581 [==============================] - 3s 431us/sample - loss: 0.2657 - accuracy: 0.9439 - val_loss: 0.2875 - val_accuracy: 0.9453\n",
      "Epoch 8/20\n",
      "6581/6581 [==============================] - 3s 381us/sample - loss: 0.2592 - accuracy: 0.9445 - val_loss: 0.2897 - val_accuracy: 0.9429\n",
      "Epoch 9/20\n",
      "6581/6581 [==============================] - 3s 415us/sample - loss: 0.2546 - accuracy: 0.9445 - val_loss: 0.2867 - val_accuracy: 0.9453\n",
      "Epoch 10/20\n",
      "6581/6581 [==============================] - 3s 380us/sample - loss: 0.2512 - accuracy: 0.9445 - val_loss: 0.2912 - val_accuracy: 0.9447\n",
      "Epoch 11/20\n",
      "6581/6581 [==============================] - 2s 376us/sample - loss: 0.2468 - accuracy: 0.9453 - val_loss: 0.2814 - val_accuracy: 0.9447\n",
      "Epoch 12/20\n",
      "6581/6581 [==============================] - 3s 395us/sample - loss: 0.2431 - accuracy: 0.9458 - val_loss: 0.2970 - val_accuracy: 0.9447\n",
      "Epoch 13/20\n",
      "6581/6581 [==============================] - 3s 407us/sample - loss: 0.2399 - accuracy: 0.9458 - val_loss: 0.2901 - val_accuracy: 0.9441\n",
      "Epoch 14/20\n",
      "6581/6581 [==============================] - 2s 375us/sample - loss: 0.2384 - accuracy: 0.9461 - val_loss: 0.2867 - val_accuracy: 0.9459\n",
      "Epoch 15/20\n",
      "6581/6581 [==============================] - 3s 382us/sample - loss: 0.2318 - accuracy: 0.9470 - val_loss: 0.3042 - val_accuracy: 0.9453\n",
      "Epoch 16/20\n",
      "6581/6581 [==============================] - 2s 372us/sample - loss: 0.2291 - accuracy: 0.9470 - val_loss: 0.2976 - val_accuracy: 0.9447\n",
      "Epoch 17/20\n",
      "6581/6581 [==============================] - 2s 374us/sample - loss: 0.2259 - accuracy: 0.9477 - val_loss: 0.2941 - val_accuracy: 0.9435\n",
      "Epoch 18/20\n",
      "6581/6581 [==============================] - 2s 378us/sample - loss: 0.2216 - accuracy: 0.9482 - val_loss: 0.2998 - val_accuracy: 0.9441\n",
      "Epoch 19/20\n",
      "6581/6581 [==============================] - 2s 374us/sample - loss: 0.2241 - accuracy: 0.9477 - val_loss: 0.3070 - val_accuracy: 0.9429\n",
      "Epoch 20/20\n",
      "6581/6581 [==============================] - 3s 381us/sample - loss: 0.2186 - accuracy: 0.9476 - val_loss: 0.3024 - val_accuracy: 0.9453\n"
     ]
    }
   ],
   "source": [
    "classifier = Sequential()\n",
    "\n",
    "# Adding the input layer and the first hidden layer\n",
    "classifier.add(Dense(units = 24, kernel_initializer = 'uniform', activation = 'relu', input_dim = 34))\n",
    "\n",
    "# Adding the second hidden layer\n",
    "classifier.add(Dense(units = 24, kernel_initializer = 'uniform', activation = 'relu'))\n",
    "\n",
    "# Adding the output layer\n",
    "classifier.add(Dense(units = 21, kernel_initializer = 'uniform', activation = 'softmax'))\n",
    "\n",
    "# Compiling the ANN\n",
    "classifier.compile(optimizer = 'adam', loss = 'categorical_crossentropy', metrics = ['accuracy']) \n",
    "\n",
    "# Fitting the ANN to the Training set\n",
    "history = classifier.fit(X_train, y_train, validation_data = (X_test, y_test), batch_size = 10, epochs = 20, shuffle = True)"
   ]
  },
  {
   "cell_type": "code",
   "execution_count": 52,
   "metadata": {},
   "outputs": [
    {
     "data": {
      "image/png": "[encoded data removed]",
      "text/plain": [
       "<Figure size 432x288 with 1 Axes>"
      ]
     },
     "metadata": {
      "needs_background": "light"
     },
     "output_type": "display_data"
    }
   ],
   "source": [
    "plt.plot(history.history['loss'], label = 'train')\n",
    "plt.plot(history.history['val_loss'], label = 'test')\n",
    "plt.legend()\n",
    "plt.show()"
   ]
  },
  {
   "cell_type": "code",
   "execution_count": 53,
   "metadata": {},
   "outputs": [
    {
     "data": {
      "image/png": "[encoded data removed]",
      "text/plain": [
       "<Figure size 432x288 with 1 Axes>"
      ]
     },
     "metadata": {
      "needs_background": "light"
     },
     "output_type": "display_data"
    }
   ],
   "source": [
    "plt.plot(history.history['accuracy'], label = 'train')\n",
    "plt.plot(history.history['val_accuracy'], label = 'test')\n",
    "plt.legend()\n",
    "plt.show()"
   ]
  },
  {
   "cell_type": "code",
   "execution_count": 54,
   "metadata": {},
   "outputs": [
    {
     "name": "stdout",
     "output_type": "stream",
     "text": [
      "72780\n",
      "68760\n",
      "Error Percentage in predicted values is : 5.523495465787304 %\n"
     ]
    }
   ],
   "source": [
    "y_predicted = classifier.predict(X_test)\n",
    "\n",
    "y_predicted = np.argmax(y_predicted, axis = 1)\n",
    "\n",
    "y_test = np.argmax(y_test, axis = 1)\n",
    "\n",
    "test_sum = 0\n",
    "for i in range(len(y_test)):\n",
    "    test_sum += (y_test[i] * 15)\n",
    "\n",
    "print(test_sum)\n",
    "\n",
    "predicted_sum = 0\n",
    "for i in range(len(y_predicted)):\n",
    "    predicted_sum += (y_predicted[i] * 15)\n",
    "\n",
    "print(predicted_sum)\n",
    "\n",
    "print(\"Error Percentage in predicted values is : {} %\".format(np.absolute((predicted_sum - test_sum)/test_sum)*100))\n",
    "err.append(np.absolute((predicted_sum - test_sum)/test_sum)*100)"
   ]
  },
  {
   "cell_type": "code",
   "execution_count": 55,
   "metadata": {},
   "outputs": [
    {
     "data": {
      "text/plain": [
       "0.9219516263216284"
      ]
     },
     "execution_count": 55,
     "metadata": {},
     "output_type": "execute_result"
    }
   ],
   "source": [
    "f1_score(y_test, y_predicted, average = 'weighted')"
   ]
  },
  {
   "cell_type": "code",
   "execution_count": 56,
   "metadata": {},
   "outputs": [],
   "source": [
    "f1.append(f1_score(y_test, y_predicted, average = 'weighted'))"
   ]
  },
  {
   "cell_type": "code",
   "execution_count": 57,
   "metadata": {},
   "outputs": [],
   "source": [
    "acc.append(max(history.history['accuracy']))"
   ]
  },
  {
   "cell_type": "markdown",
   "metadata": {},
   "source": [
    "# April"
   ]
  },
  {
   "cell_type": "code",
   "execution_count": 58,
   "metadata": {},
   "outputs": [
    {
     "name": "stdout",
     "output_type": "stream",
     "text": [
      "(6884, 34) (6884, 21) (1721, 34) (1721, 21)\n"
     ]
    }
   ],
   "source": [
    "working_df = house_data[house_data.Month == 4]\n",
    "\n",
    "working_df = working_df[['T_ctrl', 'T_stp_heat', 'auxHeat1', 'T_out', 'RH_out']]\n",
    "cols = ['T_ctrl', 'T_stp_heat', 'T_out', 'RH_out', 'auxHeat1']\n",
    "working_df = working_df[cols]\n",
    "\n",
    "reframed = series_to_supervised(working_df, 6, 1)\n",
    "\n",
    "y_auxHeat = reframed['var5(t)']\n",
    "y_auxHeat = to_categorical(y_auxHeat)\n",
    "X = reframed.drop(labels = [\"var5(t)\"], axis = 1)\n",
    "\n",
    "X_train, X_test, y_train, y_test = train_test_split(X, y_auxHeat, test_size = 0.2, shuffle = True)\n",
    "\n",
    "X_train = X_train.values\n",
    "X_test = X_test.values\n",
    "\n",
    "print(X_train.shape, y_train.shape, X_test.shape, y_test.shape)"
   ]
  },
  {
   "cell_type": "code",
   "execution_count": 59,
   "metadata": {},
   "outputs": [
    {
     "name": "stdout",
     "output_type": "stream",
     "text": [
      "Train on 6884 samples, validate on 1721 samples\n",
      "Epoch 1/20\n",
      "6884/6884 [==============================] - 3s 438us/sample - loss: 0.7234 - accuracy: 0.8905 - val_loss: 0.4019 - val_accuracy: 0.9210\n",
      "Epoch 2/20\n",
      "6884/6884 [==============================] - 3s 375us/sample - loss: 0.3739 - accuracy: 0.9285 - val_loss: 0.3568 - val_accuracy: 0.9303\n",
      "Epoch 3/20\n",
      "6884/6884 [==============================] - 3s 372us/sample - loss: 0.3459 - accuracy: 0.9343 - val_loss: 0.3544 - val_accuracy: 0.9349\n",
      "Epoch 4/20\n",
      "6884/6884 [==============================] - 3s 377us/sample - loss: 0.3340 - accuracy: 0.9354 - val_loss: 0.3387 - val_accuracy: 0.9349\n",
      "Epoch 5/20\n",
      "6884/6884 [==============================] - 3s 375us/sample - loss: 0.3270 - accuracy: 0.9364 - val_loss: 0.3255 - val_accuracy: 0.9355\n",
      "Epoch 6/20\n",
      "6884/6884 [==============================] - 3s 376us/sample - loss: 0.3198 - accuracy: 0.9372 - val_loss: 0.3357 - val_accuracy: 0.9361\n",
      "Epoch 7/20\n",
      "6884/6884 [==============================] - 3s 372us/sample - loss: 0.3158 - accuracy: 0.9377 - val_loss: 0.3161 - val_accuracy: 0.9361\n",
      "Epoch 8/20\n",
      "6884/6884 [==============================] - 3s 373us/sample - loss: 0.3111 - accuracy: 0.9377 - val_loss: 0.3503 - val_accuracy: 0.9227\n",
      "Epoch 9/20\n",
      "6884/6884 [==============================] - 3s 379us/sample - loss: 0.3099 - accuracy: 0.9372 - val_loss: 0.3115 - val_accuracy: 0.9361\n",
      "Epoch 10/20\n",
      "6884/6884 [==============================] - 3s 372us/sample - loss: 0.3038 - accuracy: 0.9386 - val_loss: 0.3116 - val_accuracy: 0.9367\n",
      "Epoch 11/20\n",
      "6884/6884 [==============================] - 3s 375us/sample - loss: 0.3025 - accuracy: 0.9386 - val_loss: 0.3102 - val_accuracy: 0.9355\n",
      "Epoch 12/20\n",
      "6884/6884 [==============================] - 3s 399us/sample - loss: 0.3000 - accuracy: 0.9384 - val_loss: 0.3115 - val_accuracy: 0.9361\n",
      "Epoch 13/20\n",
      "6884/6884 [==============================] - 3s 374us/sample - loss: 0.2977 - accuracy: 0.9386 - val_loss: 0.3115 - val_accuracy: 0.9367\n",
      "Epoch 14/20\n",
      "6884/6884 [==============================] - 3s 375us/sample - loss: 0.2938 - accuracy: 0.9390 - val_loss: 0.3078 - val_accuracy: 0.9361\n",
      "Epoch 15/20\n",
      "6884/6884 [==============================] - 3s 376us/sample - loss: 0.2896 - accuracy: 0.9388 - val_loss: 0.3089 - val_accuracy: 0.9372\n",
      "Epoch 16/20\n",
      "6884/6884 [==============================] - 3s 381us/sample - loss: 0.2910 - accuracy: 0.9390 - val_loss: 0.3083 - val_accuracy: 0.9361\n",
      "Epoch 17/20\n",
      "6884/6884 [==============================] - 3s 379us/sample - loss: 0.2906 - accuracy: 0.9394 - val_loss: 0.3092 - val_accuracy: 0.9361\n",
      "Epoch 18/20\n",
      "6884/6884 [==============================] - 3s 376us/sample - loss: 0.2855 - accuracy: 0.9391 - val_loss: 0.3112 - val_accuracy: 0.9372\n",
      "Epoch 19/20\n",
      "6884/6884 [==============================] - 3s 424us/sample - loss: 0.2857 - accuracy: 0.9391 - val_loss: 0.3104 - val_accuracy: 0.9367\n",
      "Epoch 20/20\n",
      "6884/6884 [==============================] - 3s 425us/sample - loss: 0.2824 - accuracy: 0.9397 - val_loss: 0.3093 - val_accuracy: 0.9378\n"
     ]
    }
   ],
   "source": [
    "classifier = Sequential()\n",
    "\n",
    "# Adding the input layer and the first hidden layer\n",
    "classifier.add(Dense(units = 24, kernel_initializer = 'uniform', activation = 'relu', input_dim = 34))\n",
    "\n",
    "# Adding the second hidden layer\n",
    "classifier.add(Dense(units = 24, kernel_initializer = 'uniform', activation = 'relu'))\n",
    "\n",
    "# Adding the output layer\n",
    "classifier.add(Dense(units = 21, kernel_initializer = 'uniform', activation = 'softmax'))\n",
    "\n",
    "# Compiling the ANN\n",
    "classifier.compile(optimizer = 'adam', loss = 'categorical_crossentropy', metrics = ['accuracy']) \n",
    "\n",
    "# Fitting the ANN to the Training set\n",
    "history = classifier.fit(X_train, y_train, validation_data = (X_test, y_test), batch_size = 10, epochs = 20, shuffle = True)"
   ]
  },
  {
   "cell_type": "code",
   "execution_count": 60,
   "metadata": {},
   "outputs": [
    {
     "data": {
      "image/png": "[encoded data removed]",
      "text/plain": [
       "<Figure size 432x288 with 1 Axes>"
      ]
     },
     "metadata": {
      "needs_background": "light"
     },
     "output_type": "display_data"
    }
   ],
   "source": [
    "plt.plot(history.history['loss'], label = 'train')\n",
    "plt.plot(history.history['val_loss'], label = 'test')\n",
    "plt.legend()\n",
    "plt.show()"
   ]
  },
  {
   "cell_type": "code",
   "execution_count": 61,
   "metadata": {},
   "outputs": [
    {
     "data": {
      "image/png": "[encoded data removed]",
      "text/plain": [
       "<Figure size 432x288 with 1 Axes>"
      ]
     },
     "metadata": {
      "needs_background": "light"
     },
     "output_type": "display_data"
    }
   ],
   "source": [
    "plt.plot(history.history['accuracy'], label = 'train')\n",
    "plt.plot(history.history['val_accuracy'], label = 'test')\n",
    "plt.legend()\n",
    "plt.show()"
   ]
  },
  {
   "cell_type": "code",
   "execution_count": 62,
   "metadata": {},
   "outputs": [
    {
     "name": "stdout",
     "output_type": "stream",
     "text": [
      "50505\n",
      "45465\n",
      "Error Percentage in predicted values is : 9.97920997920998 %\n"
     ]
    }
   ],
   "source": [
    "y_predicted = classifier.predict(X_test)\n",
    "\n",
    "y_predicted = np.argmax(y_predicted, axis = 1)\n",
    "\n",
    "y_test = np.argmax(y_test, axis = 1)\n",
    "\n",
    "test_sum = 0\n",
    "for i in range(len(y_test)):\n",
    "    test_sum += (y_test[i] * 15)\n",
    "\n",
    "print(test_sum)\n",
    "\n",
    "predicted_sum = 0\n",
    "for i in range(len(y_predicted)):\n",
    "    predicted_sum += (y_predicted[i] * 15)\n",
    "\n",
    "print(predicted_sum)\n",
    "\n",
    "print(\"Error Percentage in predicted values is : {} %\".format(np.absolute((predicted_sum - test_sum)/test_sum)*100))\n",
    "err.append(np.absolute((predicted_sum - test_sum)/test_sum)*100)"
   ]
  },
  {
   "cell_type": "code",
   "execution_count": 63,
   "metadata": {},
   "outputs": [
    {
     "data": {
      "text/plain": [
       "0.9109266466090394"
      ]
     },
     "execution_count": 63,
     "metadata": {},
     "output_type": "execute_result"
    }
   ],
   "source": [
    "f1_score(y_test, y_predicted, average = 'weighted')"
   ]
  },
  {
   "cell_type": "code",
   "execution_count": 64,
   "metadata": {},
   "outputs": [],
   "source": [
    "f1.append(f1_score(y_test, y_predicted, average = 'weighted'))"
   ]
  },
  {
   "cell_type": "code",
   "execution_count": 65,
   "metadata": {},
   "outputs": [],
   "source": [
    "acc.append(max(history.history['accuracy']))"
   ]
  },
  {
   "cell_type": "code",
   "execution_count": 66,
   "metadata": {},
   "outputs": [
    {
     "data": {
      "text/plain": [
       "<matplotlib.axes._subplots.AxesSubplot at 0x1de78fc4cc8>"
      ]
     },
     "execution_count": 66,
     "metadata": {},
     "output_type": "execute_result"
    },
    {
     "data": {
      "image/png": "[encoded data removed]",
      "text/plain": [
       "<Figure size 432x288 with 1 Axes>"
      ]
     },
     "metadata": {
      "needs_background": "light"
     },
     "output_type": "display_data"
    }
   ],
   "source": [
    "sns.lineplot(x = months, y = f1, sort = False)"
   ]
  },
  {
   "cell_type": "code",
   "execution_count": 67,
   "metadata": {},
   "outputs": [
    {
     "data": {
      "text/plain": [
       "<matplotlib.axes._subplots.AxesSubplot at 0x1de98afbd88>"
      ]
     },
     "execution_count": 67,
     "metadata": {},
     "output_type": "execute_result"
    },
    {
     "data": {
      "image/png": "[encoded data removed]",
      "text/plain": [
       "<Figure size 432x288 with 1 Axes>"
      ]
     },
     "metadata": {
      "needs_background": "light"
     },
     "output_type": "display_data"
    }
   ],
   "source": [
    "sns.lineplot(x = months, y = acc, sort = False)"
   ]
  },
  {
   "cell_type": "code",
   "execution_count": 68,
   "metadata": {},
   "outputs": [
    {
     "data": {
      "text/plain": [
       "<matplotlib.axes._subplots.AxesSubplot at 0x1de94cc2648>"
      ]
     },
     "execution_count": 68,
     "metadata": {},
     "output_type": "execute_result"
    },
    {
     "data": {
      "image/png": "[encoded data removed]",
      "text/plain": [
       "<Figure size 432x288 with 1 Axes>"
      ]
     },
     "metadata": {
      "needs_background": "light"
     },
     "output_type": "display_data"
    }
   ],
   "source": [
    "sns.lineplot(x = months, y = err, sort = False)"
   ]
  },
  {
   "cell_type": "code",
   "execution_count": null,
   "metadata": {},
   "outputs": [],
   "source": []
  },
  {
   "cell_type": "code",
   "execution_count": null,
   "metadata": {},
   "outputs": [],
   "source": []
  },
  {
   "cell_type": "code",
   "execution_count": null,
   "metadata": {},
   "outputs": [],
   "source": []
  }
 ],
 "metadata": {
  "kernelspec": {
   "display_name": "Python 3",
   "language": "python",
   "name": "python3"
  },
  "language_info": {
   "codemirror_mode": {
    "name": "ipython",
    "version": 3
   },
   "file_extension": ".py",
   "mimetype": "text/x-python",
   "name": "python",
   "nbconvert_exporter": "python",
   "pygments_lexer": "ipython3",
   "version": "3.7.6"
  }
 },
 "nbformat": 4,
 "nbformat_minor": 4
}
