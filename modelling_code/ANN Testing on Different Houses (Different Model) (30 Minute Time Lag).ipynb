{
 "cells": [
  {
   "cell_type": "code",
   "execution_count": 1,
   "metadata": {},
   "outputs": [],
   "source": [
    "import numpy as np\n",
    "import pandas as pd\n",
    "from sklearn.model_selection import train_test_split\n",
    "from sklearn.metrics import accuracy_score\n",
    "from sklearn.metrics import confusion_matrix\n",
    "import plotly.figure_factory as ff\n",
    "import tensorflow as tf\n",
    "from tensorflow.python.keras.layers import Dense, Dropout, LSTM\n",
    "from tensorflow.python.keras import Sequential\n",
    "from tensorflow.keras.utils import to_categorical\n",
    "from sklearn.preprocessing import OrdinalEncoder\n",
    "from pandas import DataFrame\n",
    "from pandas import concat\n",
    "import matplotlib.pyplot as plt\n",
    "from sklearn.metrics import precision_recall_curve, precision_score, recall_score, f1_score"
   ]
  },
  {
   "cell_type": "code",
   "execution_count": 2,
   "metadata": {},
   "outputs": [],
   "source": [
    "house_data = pd.read_csv(\"../preprocessed_data/oneHot_data.csv\")"
   ]
  },
  {
   "cell_type": "code",
   "execution_count": 3,
   "metadata": {},
   "outputs": [
    {
     "data": {
      "text/html": [
       "<div>\n",
       "<style scoped>\n",
       "    .dataframe tbody tr th:only-of-type {\n",
       "        vertical-align: middle;\n",
       "    }\n",
       "\n",
       "    .dataframe tbody tr th {\n",
       "        vertical-align: top;\n",
       "    }\n",
       "\n",
       "    .dataframe thead th {\n",
       "        text-align: right;\n",
       "    }\n",
       "</style>\n",
       "<table border=\"1\" class=\"dataframe\">\n",
       "  <thead>\n",
       "    <tr style=\"text-align: right;\">\n",
       "      <th></th>\n",
       "      <th>hour_sin</th>\n",
       "      <th>hour_cos</th>\n",
       "      <th>month_sin</th>\n",
       "      <th>month_cos</th>\n",
       "      <th>day_sin</th>\n",
       "      <th>day_cos</th>\n",
       "      <th>Month</th>\n",
       "      <th>DayOfWeek</th>\n",
       "      <th>Day</th>\n",
       "      <th>HourofDay</th>\n",
       "      <th>...</th>\n",
       "      <th>T_stp_heat</th>\n",
       "      <th>Humidity</th>\n",
       "      <th>auxHeat1</th>\n",
       "      <th>fan</th>\n",
       "      <th>Thermostat_Temperature</th>\n",
       "      <th>Thermostat_Motion</th>\n",
       "      <th>Remote_Sensor_1_Temperature</th>\n",
       "      <th>Remote_Sensor_1_Motion</th>\n",
       "      <th>T_out</th>\n",
       "      <th>RH_out</th>\n",
       "    </tr>\n",
       "  </thead>\n",
       "  <tbody>\n",
       "    <tr>\n",
       "      <th>0</th>\n",
       "      <td>0.0</td>\n",
       "      <td>1.0</td>\n",
       "      <td>0.0</td>\n",
       "      <td>1.0</td>\n",
       "      <td>0.755303</td>\n",
       "      <td>0.484974</td>\n",
       "      <td>1</td>\n",
       "      <td>1</td>\n",
       "      <td>1</td>\n",
       "      <td>0</td>\n",
       "      <td>...</td>\n",
       "      <td>0.663321</td>\n",
       "      <td>0.177458</td>\n",
       "      <td>0</td>\n",
       "      <td>11</td>\n",
       "      <td>0.330465</td>\n",
       "      <td>0.0</td>\n",
       "      <td>67.0</td>\n",
       "      <td>0.0</td>\n",
       "      <td>0.009112</td>\n",
       "      <td>1.808865</td>\n",
       "    </tr>\n",
       "    <tr>\n",
       "      <th>1</th>\n",
       "      <td>0.0</td>\n",
       "      <td>1.0</td>\n",
       "      <td>0.0</td>\n",
       "      <td>1.0</td>\n",
       "      <td>0.755303</td>\n",
       "      <td>0.484974</td>\n",
       "      <td>1</td>\n",
       "      <td>1</td>\n",
       "      <td>1</td>\n",
       "      <td>0</td>\n",
       "      <td>...</td>\n",
       "      <td>0.663321</td>\n",
       "      <td>0.177458</td>\n",
       "      <td>2</td>\n",
       "      <td>9</td>\n",
       "      <td>0.330465</td>\n",
       "      <td>0.0</td>\n",
       "      <td>67.0</td>\n",
       "      <td>0.0</td>\n",
       "      <td>0.009112</td>\n",
       "      <td>1.808865</td>\n",
       "    </tr>\n",
       "    <tr>\n",
       "      <th>2</th>\n",
       "      <td>0.0</td>\n",
       "      <td>1.0</td>\n",
       "      <td>0.0</td>\n",
       "      <td>1.0</td>\n",
       "      <td>0.755303</td>\n",
       "      <td>0.484974</td>\n",
       "      <td>1</td>\n",
       "      <td>1</td>\n",
       "      <td>1</td>\n",
       "      <td>0</td>\n",
       "      <td>...</td>\n",
       "      <td>0.663321</td>\n",
       "      <td>0.177458</td>\n",
       "      <td>20</td>\n",
       "      <td>20</td>\n",
       "      <td>0.330465</td>\n",
       "      <td>0.0</td>\n",
       "      <td>67.0</td>\n",
       "      <td>0.0</td>\n",
       "      <td>0.009112</td>\n",
       "      <td>1.808865</td>\n",
       "    </tr>\n",
       "    <tr>\n",
       "      <th>3</th>\n",
       "      <td>0.0</td>\n",
       "      <td>1.0</td>\n",
       "      <td>0.0</td>\n",
       "      <td>1.0</td>\n",
       "      <td>0.755303</td>\n",
       "      <td>0.484974</td>\n",
       "      <td>1</td>\n",
       "      <td>1</td>\n",
       "      <td>1</td>\n",
       "      <td>0</td>\n",
       "      <td>...</td>\n",
       "      <td>0.663321</td>\n",
       "      <td>0.177458</td>\n",
       "      <td>9</td>\n",
       "      <td>12</td>\n",
       "      <td>0.330465</td>\n",
       "      <td>0.0</td>\n",
       "      <td>67.0</td>\n",
       "      <td>0.0</td>\n",
       "      <td>0.009112</td>\n",
       "      <td>1.808865</td>\n",
       "    </tr>\n",
       "    <tr>\n",
       "      <th>4</th>\n",
       "      <td>0.0</td>\n",
       "      <td>1.0</td>\n",
       "      <td>0.0</td>\n",
       "      <td>1.0</td>\n",
       "      <td>0.755303</td>\n",
       "      <td>0.484974</td>\n",
       "      <td>1</td>\n",
       "      <td>1</td>\n",
       "      <td>1</td>\n",
       "      <td>0</td>\n",
       "      <td>...</td>\n",
       "      <td>0.663321</td>\n",
       "      <td>0.177458</td>\n",
       "      <td>0</td>\n",
       "      <td>8</td>\n",
       "      <td>0.330465</td>\n",
       "      <td>0.0</td>\n",
       "      <td>67.0</td>\n",
       "      <td>0.0</td>\n",
       "      <td>0.009112</td>\n",
       "      <td>1.808865</td>\n",
       "    </tr>\n",
       "  </tbody>\n",
       "</table>\n",
       "<p>5 rows × 27 columns</p>\n",
       "</div>"
      ],
      "text/plain": [
       "   hour_sin  hour_cos  month_sin  month_cos   day_sin   day_cos  Month  \\\n",
       "0       0.0       1.0        0.0        1.0  0.755303  0.484974      1   \n",
       "1       0.0       1.0        0.0        1.0  0.755303  0.484974      1   \n",
       "2       0.0       1.0        0.0        1.0  0.755303  0.484974      1   \n",
       "3       0.0       1.0        0.0        1.0  0.755303  0.484974      1   \n",
       "4       0.0       1.0        0.0        1.0  0.755303  0.484974      1   \n",
       "\n",
       "   DayOfWeek  Day  HourofDay  ...  T_stp_heat  Humidity  auxHeat1  fan  \\\n",
       "0          1    1          0  ...    0.663321  0.177458         0   11   \n",
       "1          1    1          0  ...    0.663321  0.177458         2    9   \n",
       "2          1    1          0  ...    0.663321  0.177458        20   20   \n",
       "3          1    1          0  ...    0.663321  0.177458         9   12   \n",
       "4          1    1          0  ...    0.663321  0.177458         0    8   \n",
       "\n",
       "   Thermostat_Temperature  Thermostat_Motion  Remote_Sensor_1_Temperature  \\\n",
       "0                0.330465                0.0                         67.0   \n",
       "1                0.330465                0.0                         67.0   \n",
       "2                0.330465                0.0                         67.0   \n",
       "3                0.330465                0.0                         67.0   \n",
       "4                0.330465                0.0                         67.0   \n",
       "\n",
       "   Remote_Sensor_1_Motion     T_out    RH_out  \n",
       "0                     0.0  0.009112  1.808865  \n",
       "1                     0.0  0.009112  1.808865  \n",
       "2                     0.0  0.009112  1.808865  \n",
       "3                     0.0  0.009112  1.808865  \n",
       "4                     0.0  0.009112  1.808865  \n",
       "\n",
       "[5 rows x 27 columns]"
      ]
     },
     "execution_count": 3,
     "metadata": {},
     "output_type": "execute_result"
    }
   ],
   "source": [
    "house_data.head()"
   ]
  },
  {
   "cell_type": "code",
   "execution_count": 4,
   "metadata": {},
   "outputs": [
    {
     "data": {
      "text/plain": [
       "Index(['hour_sin', 'hour_cos', 'month_sin', 'month_cos', 'day_sin', 'day_cos',\n",
       "       'Month', 'DayOfWeek', 'Day', 'HourofDay', 'HvacMode_heat', 'Event_Hold',\n",
       "       'Event_None', 'Schedule_Away', 'Schedule_Home', 'Schedule_Sleep',\n",
       "       'T_ctrl', 'T_stp_heat', 'Humidity', 'auxHeat1', 'fan',\n",
       "       'Thermostat_Temperature', 'Thermostat_Motion',\n",
       "       'Remote_Sensor_1_Temperature', 'Remote_Sensor_1_Motion', 'T_out',\n",
       "       'RH_out'],\n",
       "      dtype='object')"
      ]
     },
     "execution_count": 4,
     "metadata": {},
     "output_type": "execute_result"
    }
   ],
   "source": [
    "house_data.columns"
   ]
  },
  {
   "cell_type": "code",
   "execution_count": 5,
   "metadata": {},
   "outputs": [],
   "source": [
    "working_df = house_data[['T_ctrl', 'T_stp_heat', 'auxHeat1', 'T_out', 'RH_out']]\n",
    "cols = ['T_ctrl', 'T_stp_heat', 'T_out', 'RH_out', 'auxHeat1']\n",
    "working_df = working_df[cols]"
   ]
  },
  {
   "cell_type": "code",
   "execution_count": 6,
   "metadata": {},
   "outputs": [
    {
     "data": {
      "text/html": [
       "<div>\n",
       "<style scoped>\n",
       "    .dataframe tbody tr th:only-of-type {\n",
       "        vertical-align: middle;\n",
       "    }\n",
       "\n",
       "    .dataframe tbody tr th {\n",
       "        vertical-align: top;\n",
       "    }\n",
       "\n",
       "    .dataframe thead th {\n",
       "        text-align: right;\n",
       "    }\n",
       "</style>\n",
       "<table border=\"1\" class=\"dataframe\">\n",
       "  <thead>\n",
       "    <tr style=\"text-align: right;\">\n",
       "      <th></th>\n",
       "      <th>T_ctrl</th>\n",
       "      <th>T_stp_heat</th>\n",
       "      <th>T_out</th>\n",
       "      <th>RH_out</th>\n",
       "      <th>auxHeat1</th>\n",
       "    </tr>\n",
       "  </thead>\n",
       "  <tbody>\n",
       "    <tr>\n",
       "      <th>0</th>\n",
       "      <td>0.311691</td>\n",
       "      <td>0.663321</td>\n",
       "      <td>0.009112</td>\n",
       "      <td>1.808865</td>\n",
       "      <td>0</td>\n",
       "    </tr>\n",
       "    <tr>\n",
       "      <th>1</th>\n",
       "      <td>0.311691</td>\n",
       "      <td>0.663321</td>\n",
       "      <td>0.009112</td>\n",
       "      <td>1.808865</td>\n",
       "      <td>2</td>\n",
       "    </tr>\n",
       "    <tr>\n",
       "      <th>2</th>\n",
       "      <td>0.311691</td>\n",
       "      <td>0.663321</td>\n",
       "      <td>0.009112</td>\n",
       "      <td>1.808865</td>\n",
       "      <td>20</td>\n",
       "    </tr>\n",
       "    <tr>\n",
       "      <th>3</th>\n",
       "      <td>0.311691</td>\n",
       "      <td>0.663321</td>\n",
       "      <td>0.009112</td>\n",
       "      <td>1.808865</td>\n",
       "      <td>9</td>\n",
       "    </tr>\n",
       "    <tr>\n",
       "      <th>4</th>\n",
       "      <td>0.311691</td>\n",
       "      <td>0.663321</td>\n",
       "      <td>0.009112</td>\n",
       "      <td>1.808865</td>\n",
       "      <td>0</td>\n",
       "    </tr>\n",
       "  </tbody>\n",
       "</table>\n",
       "</div>"
      ],
      "text/plain": [
       "     T_ctrl  T_stp_heat     T_out    RH_out  auxHeat1\n",
       "0  0.311691    0.663321  0.009112  1.808865         0\n",
       "1  0.311691    0.663321  0.009112  1.808865         2\n",
       "2  0.311691    0.663321  0.009112  1.808865        20\n",
       "3  0.311691    0.663321  0.009112  1.808865         9\n",
       "4  0.311691    0.663321  0.009112  1.808865         0"
      ]
     },
     "execution_count": 6,
     "metadata": {},
     "output_type": "execute_result"
    }
   ],
   "source": [
    "working_df.head()"
   ]
  },
  {
   "cell_type": "code",
   "execution_count": 7,
   "metadata": {},
   "outputs": [],
   "source": [
    "def series_to_supervised(data, n_in = 1, n_out = 1, dropnan = True):\n",
    "    \n",
    "    n_vars = 1 if type(data) is list else data.shape[1]\n",
    "    df = DataFrame(data)\n",
    "    cols, names = list(), list()\n",
    "    \n",
    "    # input sequence (t-n, ... t-1)\n",
    "    for i in range(n_in, 0, -1):\n",
    "        cols.append(df.shift(i))\n",
    "        names += [('var%d(t-%d)' % (j+1, i)) for j in range(n_vars)]\n",
    "    \n",
    "    # forecast sequence (t, t+1, ... t+n)\n",
    "    for i in range(0, n_out):\n",
    "        cols.append(df.shift(-i))\n",
    "        if i == 0:\n",
    "            names += [('var%d(t)' % (j+1)) for j in range(n_vars)]\n",
    "        else:\n",
    "            names += [('var%d(t+%d)' % (j+1, i)) for j in range(n_vars)]\n",
    "    # put it all together\n",
    "    agg = concat(cols, axis=1)\n",
    "    agg.columns = names\n",
    "    # drop rows with NaN values\n",
    "    if dropnan:\n",
    "        agg.dropna(inplace=True)\n",
    "    return agg"
   ]
  },
  {
   "cell_type": "markdown",
   "metadata": {},
   "source": [
    "### Model House"
   ]
  },
  {
   "cell_type": "code",
   "execution_count": 8,
   "metadata": {},
   "outputs": [],
   "source": [
    "reframed = series_to_supervised(working_df, 6, 1)"
   ]
  },
  {
   "cell_type": "code",
   "execution_count": 9,
   "metadata": {},
   "outputs": [
    {
     "data": {
      "text/html": [
       "<div>\n",
       "<style scoped>\n",
       "    .dataframe tbody tr th:only-of-type {\n",
       "        vertical-align: middle;\n",
       "    }\n",
       "\n",
       "    .dataframe tbody tr th {\n",
       "        vertical-align: top;\n",
       "    }\n",
       "\n",
       "    .dataframe thead th {\n",
       "        text-align: right;\n",
       "    }\n",
       "</style>\n",
       "<table border=\"1\" class=\"dataframe\">\n",
       "  <thead>\n",
       "    <tr style=\"text-align: right;\">\n",
       "      <th></th>\n",
       "      <th>var1(t-6)</th>\n",
       "      <th>var2(t-6)</th>\n",
       "      <th>var3(t-6)</th>\n",
       "      <th>var4(t-6)</th>\n",
       "      <th>var5(t-6)</th>\n",
       "      <th>var1(t-5)</th>\n",
       "      <th>var2(t-5)</th>\n",
       "      <th>var3(t-5)</th>\n",
       "      <th>var4(t-5)</th>\n",
       "      <th>var5(t-5)</th>\n",
       "      <th>...</th>\n",
       "      <th>var1(t-1)</th>\n",
       "      <th>var2(t-1)</th>\n",
       "      <th>var3(t-1)</th>\n",
       "      <th>var4(t-1)</th>\n",
       "      <th>var5(t-1)</th>\n",
       "      <th>var1(t)</th>\n",
       "      <th>var2(t)</th>\n",
       "      <th>var3(t)</th>\n",
       "      <th>var4(t)</th>\n",
       "      <th>var5(t)</th>\n",
       "    </tr>\n",
       "  </thead>\n",
       "  <tbody>\n",
       "    <tr>\n",
       "      <th>6</th>\n",
       "      <td>0.311691</td>\n",
       "      <td>0.663321</td>\n",
       "      <td>0.009112</td>\n",
       "      <td>1.808865</td>\n",
       "      <td>0.0</td>\n",
       "      <td>0.311691</td>\n",
       "      <td>0.663321</td>\n",
       "      <td>0.009112</td>\n",
       "      <td>1.808865</td>\n",
       "      <td>2.0</td>\n",
       "      <td>...</td>\n",
       "      <td>0.311691</td>\n",
       "      <td>0.663321</td>\n",
       "      <td>0.009112</td>\n",
       "      <td>1.808865</td>\n",
       "      <td>0.0</td>\n",
       "      <td>0.311691</td>\n",
       "      <td>0.663321</td>\n",
       "      <td>0.075007</td>\n",
       "      <td>1.877919</td>\n",
       "      <td>0</td>\n",
       "    </tr>\n",
       "    <tr>\n",
       "      <th>7</th>\n",
       "      <td>0.311691</td>\n",
       "      <td>0.663321</td>\n",
       "      <td>0.009112</td>\n",
       "      <td>1.808865</td>\n",
       "      <td>2.0</td>\n",
       "      <td>0.311691</td>\n",
       "      <td>0.663321</td>\n",
       "      <td>0.009112</td>\n",
       "      <td>1.808865</td>\n",
       "      <td>20.0</td>\n",
       "      <td>...</td>\n",
       "      <td>0.311691</td>\n",
       "      <td>0.663321</td>\n",
       "      <td>0.075007</td>\n",
       "      <td>1.877919</td>\n",
       "      <td>0.0</td>\n",
       "      <td>0.311691</td>\n",
       "      <td>0.663321</td>\n",
       "      <td>0.075007</td>\n",
       "      <td>1.877919</td>\n",
       "      <td>0</td>\n",
       "    </tr>\n",
       "    <tr>\n",
       "      <th>8</th>\n",
       "      <td>0.311691</td>\n",
       "      <td>0.663321</td>\n",
       "      <td>0.009112</td>\n",
       "      <td>1.808865</td>\n",
       "      <td>20.0</td>\n",
       "      <td>0.311691</td>\n",
       "      <td>0.663321</td>\n",
       "      <td>0.009112</td>\n",
       "      <td>1.808865</td>\n",
       "      <td>9.0</td>\n",
       "      <td>...</td>\n",
       "      <td>0.311691</td>\n",
       "      <td>0.663321</td>\n",
       "      <td>0.075007</td>\n",
       "      <td>1.877919</td>\n",
       "      <td>0.0</td>\n",
       "      <td>0.311691</td>\n",
       "      <td>0.663321</td>\n",
       "      <td>0.075007</td>\n",
       "      <td>1.877919</td>\n",
       "      <td>14</td>\n",
       "    </tr>\n",
       "    <tr>\n",
       "      <th>9</th>\n",
       "      <td>0.311691</td>\n",
       "      <td>0.663321</td>\n",
       "      <td>0.009112</td>\n",
       "      <td>1.808865</td>\n",
       "      <td>9.0</td>\n",
       "      <td>0.311691</td>\n",
       "      <td>0.663321</td>\n",
       "      <td>0.009112</td>\n",
       "      <td>1.808865</td>\n",
       "      <td>0.0</td>\n",
       "      <td>...</td>\n",
       "      <td>0.311691</td>\n",
       "      <td>0.663321</td>\n",
       "      <td>0.075007</td>\n",
       "      <td>1.877919</td>\n",
       "      <td>14.0</td>\n",
       "      <td>0.311691</td>\n",
       "      <td>0.663321</td>\n",
       "      <td>0.075007</td>\n",
       "      <td>1.877919</td>\n",
       "      <td>19</td>\n",
       "    </tr>\n",
       "    <tr>\n",
       "      <th>10</th>\n",
       "      <td>0.311691</td>\n",
       "      <td>0.663321</td>\n",
       "      <td>0.009112</td>\n",
       "      <td>1.808865</td>\n",
       "      <td>0.0</td>\n",
       "      <td>0.311691</td>\n",
       "      <td>0.663321</td>\n",
       "      <td>0.009112</td>\n",
       "      <td>1.808865</td>\n",
       "      <td>0.0</td>\n",
       "      <td>...</td>\n",
       "      <td>0.311691</td>\n",
       "      <td>0.663321</td>\n",
       "      <td>0.075007</td>\n",
       "      <td>1.877919</td>\n",
       "      <td>19.0</td>\n",
       "      <td>0.311691</td>\n",
       "      <td>0.663321</td>\n",
       "      <td>0.075007</td>\n",
       "      <td>1.877919</td>\n",
       "      <td>0</td>\n",
       "    </tr>\n",
       "    <tr>\n",
       "      <th>...</th>\n",
       "      <td>...</td>\n",
       "      <td>...</td>\n",
       "      <td>...</td>\n",
       "      <td>...</td>\n",
       "      <td>...</td>\n",
       "      <td>...</td>\n",
       "      <td>...</td>\n",
       "      <td>...</td>\n",
       "      <td>...</td>\n",
       "      <td>...</td>\n",
       "      <td>...</td>\n",
       "      <td>...</td>\n",
       "      <td>...</td>\n",
       "      <td>...</td>\n",
       "      <td>...</td>\n",
       "      <td>...</td>\n",
       "      <td>...</td>\n",
       "      <td>...</td>\n",
       "      <td>...</td>\n",
       "      <td>...</td>\n",
       "      <td>...</td>\n",
       "    </tr>\n",
       "    <tr>\n",
       "      <th>58832</th>\n",
       "      <td>0.311691</td>\n",
       "      <td>0.663321</td>\n",
       "      <td>-0.649837</td>\n",
       "      <td>-0.055597</td>\n",
       "      <td>10.0</td>\n",
       "      <td>0.311691</td>\n",
       "      <td>0.663321</td>\n",
       "      <td>-0.649837</td>\n",
       "      <td>-0.055597</td>\n",
       "      <td>20.0</td>\n",
       "      <td>...</td>\n",
       "      <td>0.311691</td>\n",
       "      <td>0.663321</td>\n",
       "      <td>-0.649837</td>\n",
       "      <td>-0.124651</td>\n",
       "      <td>0.0</td>\n",
       "      <td>0.311691</td>\n",
       "      <td>0.663321</td>\n",
       "      <td>-0.649837</td>\n",
       "      <td>-0.124651</td>\n",
       "      <td>0</td>\n",
       "    </tr>\n",
       "    <tr>\n",
       "      <th>58833</th>\n",
       "      <td>0.311691</td>\n",
       "      <td>0.663321</td>\n",
       "      <td>-0.649837</td>\n",
       "      <td>-0.055597</td>\n",
       "      <td>20.0</td>\n",
       "      <td>0.311691</td>\n",
       "      <td>0.663321</td>\n",
       "      <td>-0.649837</td>\n",
       "      <td>-0.055597</td>\n",
       "      <td>20.0</td>\n",
       "      <td>...</td>\n",
       "      <td>0.311691</td>\n",
       "      <td>0.663321</td>\n",
       "      <td>-0.649837</td>\n",
       "      <td>-0.124651</td>\n",
       "      <td>0.0</td>\n",
       "      <td>0.311691</td>\n",
       "      <td>0.663321</td>\n",
       "      <td>-0.649837</td>\n",
       "      <td>-0.124651</td>\n",
       "      <td>0</td>\n",
       "    </tr>\n",
       "    <tr>\n",
       "      <th>58834</th>\n",
       "      <td>0.311691</td>\n",
       "      <td>0.663321</td>\n",
       "      <td>-0.649837</td>\n",
       "      <td>-0.055597</td>\n",
       "      <td>20.0</td>\n",
       "      <td>0.311691</td>\n",
       "      <td>0.663321</td>\n",
       "      <td>-0.649837</td>\n",
       "      <td>-0.055597</td>\n",
       "      <td>9.0</td>\n",
       "      <td>...</td>\n",
       "      <td>0.311691</td>\n",
       "      <td>0.663321</td>\n",
       "      <td>-0.649837</td>\n",
       "      <td>-0.124651</td>\n",
       "      <td>0.0</td>\n",
       "      <td>0.311691</td>\n",
       "      <td>0.663321</td>\n",
       "      <td>-0.649837</td>\n",
       "      <td>-0.124651</td>\n",
       "      <td>0</td>\n",
       "    </tr>\n",
       "    <tr>\n",
       "      <th>58835</th>\n",
       "      <td>0.311691</td>\n",
       "      <td>0.663321</td>\n",
       "      <td>-0.649837</td>\n",
       "      <td>-0.055597</td>\n",
       "      <td>9.0</td>\n",
       "      <td>0.311691</td>\n",
       "      <td>0.663321</td>\n",
       "      <td>-0.649837</td>\n",
       "      <td>-0.055597</td>\n",
       "      <td>0.0</td>\n",
       "      <td>...</td>\n",
       "      <td>0.311691</td>\n",
       "      <td>0.663321</td>\n",
       "      <td>-0.649837</td>\n",
       "      <td>-0.124651</td>\n",
       "      <td>0.0</td>\n",
       "      <td>0.311691</td>\n",
       "      <td>0.663321</td>\n",
       "      <td>-0.649837</td>\n",
       "      <td>-0.124651</td>\n",
       "      <td>0</td>\n",
       "    </tr>\n",
       "    <tr>\n",
       "      <th>58836</th>\n",
       "      <td>0.311691</td>\n",
       "      <td>0.663321</td>\n",
       "      <td>-0.649837</td>\n",
       "      <td>-0.055597</td>\n",
       "      <td>0.0</td>\n",
       "      <td>0.311691</td>\n",
       "      <td>0.663321</td>\n",
       "      <td>-0.649837</td>\n",
       "      <td>-0.124651</td>\n",
       "      <td>0.0</td>\n",
       "      <td>...</td>\n",
       "      <td>0.311691</td>\n",
       "      <td>0.663321</td>\n",
       "      <td>-0.649837</td>\n",
       "      <td>-0.124651</td>\n",
       "      <td>0.0</td>\n",
       "      <td>0.311691</td>\n",
       "      <td>0.663321</td>\n",
       "      <td>-0.649837</td>\n",
       "      <td>-0.124651</td>\n",
       "      <td>6</td>\n",
       "    </tr>\n",
       "  </tbody>\n",
       "</table>\n",
       "<p>58831 rows × 35 columns</p>\n",
       "</div>"
      ],
      "text/plain": [
       "       var1(t-6)  var2(t-6)  var3(t-6)  var4(t-6)  var5(t-6)  var1(t-5)  \\\n",
       "6       0.311691   0.663321   0.009112   1.808865        0.0   0.311691   \n",
       "7       0.311691   0.663321   0.009112   1.808865        2.0   0.311691   \n",
       "8       0.311691   0.663321   0.009112   1.808865       20.0   0.311691   \n",
       "9       0.311691   0.663321   0.009112   1.808865        9.0   0.311691   \n",
       "10      0.311691   0.663321   0.009112   1.808865        0.0   0.311691   \n",
       "...          ...        ...        ...        ...        ...        ...   \n",
       "58832   0.311691   0.663321  -0.649837  -0.055597       10.0   0.311691   \n",
       "58833   0.311691   0.663321  -0.649837  -0.055597       20.0   0.311691   \n",
       "58834   0.311691   0.663321  -0.649837  -0.055597       20.0   0.311691   \n",
       "58835   0.311691   0.663321  -0.649837  -0.055597        9.0   0.311691   \n",
       "58836   0.311691   0.663321  -0.649837  -0.055597        0.0   0.311691   \n",
       "\n",
       "       var2(t-5)  var3(t-5)  var4(t-5)  var5(t-5)  ...  var1(t-1)  var2(t-1)  \\\n",
       "6       0.663321   0.009112   1.808865        2.0  ...   0.311691   0.663321   \n",
       "7       0.663321   0.009112   1.808865       20.0  ...   0.311691   0.663321   \n",
       "8       0.663321   0.009112   1.808865        9.0  ...   0.311691   0.663321   \n",
       "9       0.663321   0.009112   1.808865        0.0  ...   0.311691   0.663321   \n",
       "10      0.663321   0.009112   1.808865        0.0  ...   0.311691   0.663321   \n",
       "...          ...        ...        ...        ...  ...        ...        ...   \n",
       "58832   0.663321  -0.649837  -0.055597       20.0  ...   0.311691   0.663321   \n",
       "58833   0.663321  -0.649837  -0.055597       20.0  ...   0.311691   0.663321   \n",
       "58834   0.663321  -0.649837  -0.055597        9.0  ...   0.311691   0.663321   \n",
       "58835   0.663321  -0.649837  -0.055597        0.0  ...   0.311691   0.663321   \n",
       "58836   0.663321  -0.649837  -0.124651        0.0  ...   0.311691   0.663321   \n",
       "\n",
       "       var3(t-1)  var4(t-1)  var5(t-1)   var1(t)   var2(t)   var3(t)  \\\n",
       "6       0.009112   1.808865        0.0  0.311691  0.663321  0.075007   \n",
       "7       0.075007   1.877919        0.0  0.311691  0.663321  0.075007   \n",
       "8       0.075007   1.877919        0.0  0.311691  0.663321  0.075007   \n",
       "9       0.075007   1.877919       14.0  0.311691  0.663321  0.075007   \n",
       "10      0.075007   1.877919       19.0  0.311691  0.663321  0.075007   \n",
       "...          ...        ...        ...       ...       ...       ...   \n",
       "58832  -0.649837  -0.124651        0.0  0.311691  0.663321 -0.649837   \n",
       "58833  -0.649837  -0.124651        0.0  0.311691  0.663321 -0.649837   \n",
       "58834  -0.649837  -0.124651        0.0  0.311691  0.663321 -0.649837   \n",
       "58835  -0.649837  -0.124651        0.0  0.311691  0.663321 -0.649837   \n",
       "58836  -0.649837  -0.124651        0.0  0.311691  0.663321 -0.649837   \n",
       "\n",
       "        var4(t)  var5(t)  \n",
       "6      1.877919        0  \n",
       "7      1.877919        0  \n",
       "8      1.877919       14  \n",
       "9      1.877919       19  \n",
       "10     1.877919        0  \n",
       "...         ...      ...  \n",
       "58832 -0.124651        0  \n",
       "58833 -0.124651        0  \n",
       "58834 -0.124651        0  \n",
       "58835 -0.124651        0  \n",
       "58836 -0.124651        6  \n",
       "\n",
       "[58831 rows x 35 columns]"
      ]
     },
     "execution_count": 9,
     "metadata": {},
     "output_type": "execute_result"
    }
   ],
   "source": [
    "reframed"
   ]
  },
  {
   "cell_type": "code",
   "execution_count": 10,
   "metadata": {},
   "outputs": [],
   "source": [
    "y_auxHeat = reframed['var5(t)']\n",
    "y_auxHeat = to_categorical(y_auxHeat)\n",
    "X = reframed.drop(labels = [\"var5(t)\"], axis = 1)"
   ]
  },
  {
   "cell_type": "code",
   "execution_count": 11,
   "metadata": {},
   "outputs": [],
   "source": [
    "X_train, X_test, y_train, y_test = train_test_split(X, y_auxHeat, test_size = 0.2, shuffle = True)"
   ]
  },
  {
   "cell_type": "code",
   "execution_count": 12,
   "metadata": {},
   "outputs": [],
   "source": [
    "X_train = X_train.values\n",
    "X_test = X_test.values"
   ]
  },
  {
   "cell_type": "code",
   "execution_count": 13,
   "metadata": {},
   "outputs": [
    {
     "name": "stdout",
     "output_type": "stream",
     "text": [
      "(47064, 34) (47064, 21) (11767, 34) (11767, 21)\n"
     ]
    }
   ],
   "source": [
    "print(X_train.shape, y_train.shape, X_test.shape, y_test.shape)"
   ]
  },
  {
   "cell_type": "code",
   "execution_count": 14,
   "metadata": {},
   "outputs": [
    {
     "name": "stdout",
     "output_type": "stream",
     "text": [
      "Epoch 1/50\n",
      "736/736 [==============================] - 3s 4ms/step - loss: 0.9796 - accuracy: 0.8167 - val_loss: 0.7255 - val_accuracy: 0.8518\n",
      "Epoch 2/50\n",
      "736/736 [==============================] - 3s 3ms/step - loss: 0.7116 - accuracy: 0.8566 - val_loss: 0.6859 - val_accuracy: 0.8622\n",
      "Epoch 3/50\n",
      "736/736 [==============================] - 3s 3ms/step - loss: 0.6803 - accuracy: 0.8610 - val_loss: 0.6686 - val_accuracy: 0.8616\n",
      "Epoch 4/50\n",
      "736/736 [==============================] - 3s 3ms/step - loss: 0.6614 - accuracy: 0.8629 - val_loss: 0.6538 - val_accuracy: 0.8633\n",
      "Epoch 5/50\n",
      "736/736 [==============================] - 3s 3ms/step - loss: 0.6513 - accuracy: 0.8635 - val_loss: 0.6465 - val_accuracy: 0.8652\n",
      "Epoch 6/50\n",
      "736/736 [==============================] - 3s 3ms/step - loss: 0.6453 - accuracy: 0.8636 - val_loss: 0.6548 - val_accuracy: 0.8629\n",
      "Epoch 7/50\n",
      "736/736 [==============================] - 3s 3ms/step - loss: 0.6428 - accuracy: 0.8632 - val_loss: 0.6372 - val_accuracy: 0.8631\n",
      "Epoch 8/50\n",
      "736/736 [==============================] - 3s 3ms/step - loss: 0.6369 - accuracy: 0.8635 - val_loss: 0.6295 - val_accuracy: 0.8648\n",
      "Epoch 9/50\n",
      "736/736 [==============================] - 3s 3ms/step - loss: 0.6327 - accuracy: 0.8646 - val_loss: 0.6276 - val_accuracy: 0.8654\n",
      "Epoch 10/50\n",
      "736/736 [==============================] - 3s 3ms/step - loss: 0.6309 - accuracy: 0.8645 - val_loss: 0.6201 - val_accuracy: 0.8665\n",
      "Epoch 11/50\n",
      "736/736 [==============================] - 3s 3ms/step - loss: 0.6278 - accuracy: 0.8651 - val_loss: 0.6217 - val_accuracy: 0.8665\n",
      "Epoch 12/50\n",
      "736/736 [==============================] - 3s 3ms/step - loss: 0.6262 - accuracy: 0.8652 - val_loss: 0.6182 - val_accuracy: 0.8661\n",
      "Epoch 13/50\n",
      "736/736 [==============================] - 3s 3ms/step - loss: 0.6241 - accuracy: 0.8653 - val_loss: 0.6189 - val_accuracy: 0.8662\n",
      "Epoch 14/50\n",
      "736/736 [==============================] - 3s 3ms/step - loss: 0.6227 - accuracy: 0.8657 - val_loss: 0.6163 - val_accuracy: 0.8674\n",
      "Epoch 15/50\n",
      "736/736 [==============================] - 3s 3ms/step - loss: 0.6211 - accuracy: 0.8656 - val_loss: 0.6142 - val_accuracy: 0.8655\n",
      "Epoch 16/50\n",
      "736/736 [==============================] - 3s 4ms/step - loss: 0.6192 - accuracy: 0.8659 - val_loss: 0.6170 - val_accuracy: 0.8669\n",
      "Epoch 17/50\n",
      "736/736 [==============================] - 3s 4ms/step - loss: 0.6179 - accuracy: 0.8658 - val_loss: 0.6163 - val_accuracy: 0.8674\n",
      "Epoch 18/50\n",
      "736/736 [==============================] - 3s 4ms/step - loss: 0.6171 - accuracy: 0.8656 - val_loss: 0.6245 - val_accuracy: 0.8660\n",
      "Epoch 19/50\n",
      "736/736 [==============================] - 3s 4ms/step - loss: 0.6161 - accuracy: 0.8660 - val_loss: 0.6096 - val_accuracy: 0.8684\n",
      "Epoch 20/50\n",
      "736/736 [==============================] - 3s 4ms/step - loss: 0.6140 - accuracy: 0.8663 - val_loss: 0.6139 - val_accuracy: 0.8676\n",
      "Epoch 21/50\n",
      "736/736 [==============================] - 3s 4ms/step - loss: 0.6137 - accuracy: 0.8666 - val_loss: 0.6093 - val_accuracy: 0.8686\n",
      "Epoch 22/50\n",
      "736/736 [==============================] - 3s 4ms/step - loss: 0.6134 - accuracy: 0.8663 - val_loss: 0.6232 - val_accuracy: 0.8667\n",
      "Epoch 23/50\n",
      "736/736 [==============================] - 3s 4ms/step - loss: 0.6120 - accuracy: 0.8661 - val_loss: 0.6094 - val_accuracy: 0.8672\n",
      "Epoch 24/50\n",
      "736/736 [==============================] - 3s 4ms/step - loss: 0.6114 - accuracy: 0.8663 - val_loss: 0.6100 - val_accuracy: 0.8672\n",
      "Epoch 25/50\n",
      "736/736 [==============================] - 3s 4ms/step - loss: 0.6096 - accuracy: 0.8665 - val_loss: 0.6067 - val_accuracy: 0.8674\n",
      "Epoch 26/50\n",
      "736/736 [==============================] - 3s 4ms/step - loss: 0.6091 - accuracy: 0.8662 - val_loss: 0.6078 - val_accuracy: 0.8683\n",
      "Epoch 27/50\n",
      "736/736 [==============================] - 3s 4ms/step - loss: 0.6087 - accuracy: 0.8666 - val_loss: 0.6159 - val_accuracy: 0.8650\n",
      "Epoch 28/50\n",
      "736/736 [==============================] - 3s 4ms/step - loss: 0.6073 - accuracy: 0.8668 - val_loss: 0.6139 - val_accuracy: 0.8684\n",
      "Epoch 29/50\n",
      "736/736 [==============================] - 3s 4ms/step - loss: 0.6070 - accuracy: 0.8667 - val_loss: 0.6122 - val_accuracy: 0.8672\n",
      "Epoch 30/50\n",
      "736/736 [==============================] - 3s 4ms/step - loss: 0.6064 - accuracy: 0.8668 - val_loss: 0.6047 - val_accuracy: 0.8681\n",
      "Epoch 31/50\n",
      "736/736 [==============================] - 3s 4ms/step - loss: 0.6067 - accuracy: 0.8667 - val_loss: 0.6059 - val_accuracy: 0.8686\n",
      "Epoch 32/50\n",
      "736/736 [==============================] - 3s 4ms/step - loss: 0.6044 - accuracy: 0.8667 - val_loss: 0.6090 - val_accuracy: 0.8662\n",
      "Epoch 33/50\n",
      "736/736 [==============================] - 3s 4ms/step - loss: 0.6043 - accuracy: 0.8667 - val_loss: 0.6050 - val_accuracy: 0.8684\n",
      "Epoch 34/50\n",
      "736/736 [==============================] - 3s 4ms/step - loss: 0.6038 - accuracy: 0.8664 - val_loss: 0.6031 - val_accuracy: 0.8683\n",
      "Epoch 35/50\n",
      "736/736 [==============================] - 3s 4ms/step - loss: 0.6025 - accuracy: 0.8669 - val_loss: 0.6033 - val_accuracy: 0.8681\n",
      "Epoch 36/50\n",
      "736/736 [==============================] - 3s 4ms/step - loss: 0.6027 - accuracy: 0.8666 - val_loss: 0.6100 - val_accuracy: 0.8677\n",
      "Epoch 37/50\n",
      "736/736 [==============================] - 3s 4ms/step - loss: 0.6020 - accuracy: 0.8671 - val_loss: 0.6057 - val_accuracy: 0.8676\n",
      "Epoch 38/50\n",
      "736/736 [==============================] - 3s 4ms/step - loss: 0.6009 - accuracy: 0.8669 - val_loss: 0.6106 - val_accuracy: 0.8679\n",
      "Epoch 39/50\n",
      "736/736 [==============================] - 3s 4ms/step - loss: 0.6013 - accuracy: 0.8668 - val_loss: 0.6091 - val_accuracy: 0.8679\n",
      "Epoch 40/50\n",
      "736/736 [==============================] - 3s 5ms/step - loss: 0.6007 - accuracy: 0.8668 - val_loss: 0.6034 - val_accuracy: 0.8686\n",
      "Epoch 41/50\n",
      "736/736 [==============================] - 3s 5ms/step - loss: 0.5998 - accuracy: 0.8674 - val_loss: 0.6104 - val_accuracy: 0.8669\n",
      "Epoch 42/50\n",
      "736/736 [==============================] - 4s 6ms/step - loss: 0.5996 - accuracy: 0.8671 - val_loss: 0.6052 - val_accuracy: 0.8679\n",
      "Epoch 43/50\n",
      "736/736 [==============================] - 3s 4ms/step - loss: 0.5995 - accuracy: 0.8671 - val_loss: 0.6006 - val_accuracy: 0.8692\n",
      "Epoch 44/50\n",
      "736/736 [==============================] - 4s 5ms/step - loss: 0.5995 - accuracy: 0.8670 - val_loss: 0.6037 - val_accuracy: 0.8674\n",
      "Epoch 45/50\n",
      "736/736 [==============================] - 3s 4ms/step - loss: 0.5994 - accuracy: 0.8670 - val_loss: 0.6035 - val_accuracy: 0.8688\n",
      "Epoch 46/50\n",
      "736/736 [==============================] - 3s 4ms/step - loss: 0.5980 - accuracy: 0.8671 - val_loss: 0.6014 - val_accuracy: 0.8691\n",
      "Epoch 47/50\n",
      "736/736 [==============================] - 3s 4ms/step - loss: 0.5973 - accuracy: 0.8675 - val_loss: 0.6030 - val_accuracy: 0.8683\n",
      "Epoch 48/50\n",
      "736/736 [==============================] - 4s 5ms/step - loss: 0.5969 - accuracy: 0.8672 - val_loss: 0.6045 - val_accuracy: 0.8674\n",
      "Epoch 49/50\n",
      "736/736 [==============================] - 4s 6ms/step - loss: 0.5977 - accuracy: 0.8672 - val_loss: 0.6045 - val_accuracy: 0.8688\n",
      "Epoch 50/50\n",
      "736/736 [==============================] - 4s 6ms/step - loss: 0.5968 - accuracy: 0.8673 - val_loss: 0.6017 - val_accuracy: 0.8689\n"
     ]
    }
   ],
   "source": [
    "classifier = Sequential()\n",
    "\n",
    "# Adding the input layer and the first hidden layer\n",
    "classifier.add(Dense(units = 24, kernel_initializer = 'uniform', activation = 'relu', input_dim = 34))\n",
    "\n",
    "# Adding the second hidden layer\n",
    "classifier.add(Dense(units = 24, kernel_initializer = 'uniform', activation = 'relu'))\n",
    "\n",
    "# Adding the output layer\n",
    "classifier.add(Dense(units = 21, kernel_initializer = 'uniform', activation = 'softmax'))\n",
    "\n",
    "# Compiling the ANN\n",
    "classifier.compile(optimizer = 'adam', loss = 'categorical_crossentropy', metrics = ['accuracy']) \n",
    "\n",
    "# Fitting the ANN to the Training set\n",
    "history = classifier.fit(X_train, y_train, validation_data = (X_test, y_test), batch_size = 64, epochs = 50, shuffle = True)"
   ]
  },
  {
   "cell_type": "code",
   "execution_count": null,
   "metadata": {},
   "outputs": [],
   "source": [
    "plt.figure(figsize = (12, 10))\n",
    "plt.plot(history.history['loss'], label = 'Training Set')\n",
    "plt.plot(history.history['val_loss'], label = 'Test Set')\n",
    "plt.legend()\n",
    "plt.xlabel(\"Training Epoch Number\")\n",
    "plt.ylabel(\"Categorical Cross-Entropy Loss\")\n",
    "plt.xlim((-1, 20))\n",
    "plt.show()"
   ]
  },
  {
   "cell_type": "code",
   "execution_count": null,
   "metadata": {},
   "outputs": [],
   "source": [
    "plt.figure(figsize = (12, 10))\n",
    "plt.plot(history.history['accuracy'], label = 'Training Set')\n",
    "plt.plot(history.history['val_accuracy'], label = 'Test Set')\n",
    "plt.legend()\n",
    "plt.xlabel(\"Training Epoch Number\")\n",
    "plt.ylabel(\"Accuracy Achieved\")\n",
    "plt.xlim((-1, 20))\n",
    "plt.show()"
   ]
  },
  {
   "cell_type": "code",
   "execution_count": null,
   "metadata": {},
   "outputs": [],
   "source": [
    "y_predicted = classifier.predict(X_test)"
   ]
  },
  {
   "cell_type": "code",
   "execution_count": null,
   "metadata": {},
   "outputs": [],
   "source": [
    "y_predicted = np.argmax(y_predicted, axis = 1)"
   ]
  },
  {
   "cell_type": "code",
   "execution_count": null,
   "metadata": {},
   "outputs": [],
   "source": [
    "y_test = np.argmax(y_test, axis = 1)"
   ]
  },
  {
   "cell_type": "code",
   "execution_count": null,
   "metadata": {},
   "outputs": [],
   "source": [
    "cm = confusion_matrix(y_test, y_predicted)"
   ]
  },
  {
   "cell_type": "code",
   "execution_count": null,
   "metadata": {},
   "outputs": [],
   "source": [
    "cfm_n = np.flipud(cm)\n",
    "cfm_n = cfm_n.astype('float') / cfm_n.sum(axis=1)[:, np.newaxis]\n",
    "\n",
    "z = np.round(cfm_n, 2)\n",
    "#x = ['0', '1', '2', '3', '4', '5', '6', '7', '8', '9', '10', '11', '12', '13', '14', '15', '16', '17', '18', '19', '20']\n",
    "y = ['0', '1', '2', '3', '4', '5', '6', '7', '8', '9', '10', '11', '12', '13', '14', '15', '16', '17', '18', '19', '20']\n",
    "#y = ['20', '19', '18', '17', '16', '15', '14', '13', '12', '11', '10', '9', '8', '7', '6', '5', '4', '3', '2', '1', '0']\n",
    "x = ['20', '19', '18', '17', '16', '15', '14', '13', '12', '11', '10', '9', '8', '7', '6', '5', '4', '3', '2', '1', '0']\n",
    "#x = ['1', '0']\n",
    "#y = ['0', '1']\n",
    "fig = ff.create_annotated_heatmap(z, x = x, y = y, annotation_text = z, colorscale = 'deep')\n",
    "fig.update_layout(width = 1600, height = 1600, xaxis_showgrid = False, yaxis_showgrid = False, template = 'none')\n",
    "fig.update_layout(title = {'text': \"\",\n",
    "                           'y':0.95,\n",
    "                           'x':0.47,\n",
    "                           'xanchor': 'center',\n",
    "                           'yanchor': 'top'}, \n",
    "                  xaxis_title = 'Predicted Labels',\n",
    "                  yaxis_title = 'True Labels')\n",
    "fig['layout']['xaxis']['side'] = 'bottom'\n",
    "fig.show()"
   ]
  },
  {
   "cell_type": "code",
   "execution_count": null,
   "metadata": {},
   "outputs": [],
   "source": [
    "test_sum = 0\n",
    "for i in range(len(y_test)):\n",
    "    test_sum += (y_test[i] * 15)"
   ]
  },
  {
   "cell_type": "code",
   "execution_count": null,
   "metadata": {},
   "outputs": [],
   "source": [
    "test_sum"
   ]
  },
  {
   "cell_type": "code",
   "execution_count": null,
   "metadata": {},
   "outputs": [],
   "source": [
    "predicted_sum = 0\n",
    "for i in range(len(y_predicted)):\n",
    "    predicted_sum += (y_predicted[i] * 15)"
   ]
  },
  {
   "cell_type": "code",
   "execution_count": null,
   "metadata": {},
   "outputs": [],
   "source": [
    "predicted_sum"
   ]
  },
  {
   "cell_type": "code",
   "execution_count": null,
   "metadata": {},
   "outputs": [],
   "source": [
    "print(\"Error Percentage in predicted values is : {} %\".format(np.absolute((predicted_sum - test_sum)/test_sum)*100))"
   ]
  },
  {
   "cell_type": "code",
   "execution_count": null,
   "metadata": {},
   "outputs": [],
   "source": [
    "f1_score(y_test, y_predicted, average = 'weighted')"
   ]
  },
  {
   "cell_type": "code",
   "execution_count": null,
   "metadata": {},
   "outputs": [],
   "source": [
    "X[0:5]"
   ]
  },
  {
   "cell_type": "code",
   "execution_count": null,
   "metadata": {},
   "outputs": [],
   "source": [
    "X_small, y_small = X[12480:12492], y_auxHeat[12480:12492]"
   ]
  },
  {
   "cell_type": "code",
   "execution_count": null,
   "metadata": {},
   "outputs": [],
   "source": [
    "print(X_small.shape, y_small.shape)"
   ]
  },
  {
   "cell_type": "code",
   "execution_count": null,
   "metadata": {},
   "outputs": [],
   "source": [
    "X_small = X_small.values"
   ]
  },
  {
   "cell_type": "code",
   "execution_count": null,
   "metadata": {},
   "outputs": [],
   "source": [
    "y_small_predicted = classifier.predict(X_small)"
   ]
  },
  {
   "cell_type": "code",
   "execution_count": null,
   "metadata": {},
   "outputs": [],
   "source": [
    "y_small_predicted = np.argmax(y_small_predicted, axis = 1)"
   ]
  },
  {
   "cell_type": "code",
   "execution_count": null,
   "metadata": {},
   "outputs": [],
   "source": [
    "y_small_test = np.argmax(y_small, axis = 1)"
   ]
  },
  {
   "cell_type": "code",
   "execution_count": null,
   "metadata": {},
   "outputs": [],
   "source": [
    "y_small_predicted"
   ]
  },
  {
   "cell_type": "code",
   "execution_count": null,
   "metadata": {},
   "outputs": [],
   "source": [
    "y_small_test"
   ]
  },
  {
   "cell_type": "code",
   "execution_count": null,
   "metadata": {},
   "outputs": [],
   "source": [
    "test_sum = 0\n",
    "for i in range(len(y_small_test)):\n",
    "    test_sum += (y_small_test[i] * 15)"
   ]
  },
  {
   "cell_type": "code",
   "execution_count": null,
   "metadata": {},
   "outputs": [],
   "source": [
    "test_sum"
   ]
  },
  {
   "cell_type": "code",
   "execution_count": null,
   "metadata": {},
   "outputs": [],
   "source": [
    "predicted_sum = 0\n",
    "for i in range(len(y_small_predicted)):\n",
    "    predicted_sum += (y_small_predicted[i] * 15)"
   ]
  },
  {
   "cell_type": "code",
   "execution_count": null,
   "metadata": {},
   "outputs": [],
   "source": [
    "predicted_sum"
   ]
  },
  {
   "cell_type": "code",
   "execution_count": null,
   "metadata": {},
   "outputs": [],
   "source": [
    "print(\"Error Percentage in predicted values is : {} %\".format(np.absolute((predicted_sum - test_sum)/test_sum)*100))"
   ]
  },
  {
   "cell_type": "markdown",
   "metadata": {},
   "source": [
    "# Testing ebfd64742c95ab9f71f8ac8a810624464782d17d"
   ]
  },
  {
   "cell_type": "code",
   "execution_count": null,
   "metadata": {},
   "outputs": [],
   "source": [
    "house_data = pd.read_csv(\"../preprocessed_data/std_test_data_ebfd64742c95ab9f71f8ac8a810624464782d17d.csv\")"
   ]
  },
  {
   "cell_type": "code",
   "execution_count": null,
   "metadata": {},
   "outputs": [],
   "source": [
    "working_df = house_data[['T_ctrl', 'T_stp_heat', 'auxHeat1', 'T_out', 'RH_out']]\n",
    "cols = ['T_ctrl', 'T_stp_heat', 'T_out', 'RH_out', 'auxHeat1']\n",
    "working_df = working_df[cols]"
   ]
  },
  {
   "cell_type": "code",
   "execution_count": null,
   "metadata": {},
   "outputs": [],
   "source": [
    "working_df.head()"
   ]
  },
  {
   "cell_type": "code",
   "execution_count": null,
   "metadata": {},
   "outputs": [],
   "source": [
    "reframed = series_to_supervised(working_df, 6, 1)"
   ]
  },
  {
   "cell_type": "code",
   "execution_count": null,
   "metadata": {},
   "outputs": [],
   "source": [
    "y_auxHeat = reframed['var5(t)']\n",
    "y_auxHeat = to_categorical(y_auxHeat)\n",
    "X = reframed.drop(labels = [\"var5(t)\"], axis = 1)"
   ]
  },
  {
   "cell_type": "code",
   "execution_count": null,
   "metadata": {},
   "outputs": [],
   "source": [
    "X_train, X_test, y_train, y_test = train_test_split(X, y_auxHeat, test_size = 0.2, shuffle = True)"
   ]
  },
  {
   "cell_type": "code",
   "execution_count": null,
   "metadata": {},
   "outputs": [],
   "source": [
    "X_train = X_train.values\n",
    "X_test = X_test.values"
   ]
  },
  {
   "cell_type": "code",
   "execution_count": null,
   "metadata": {},
   "outputs": [],
   "source": [
    "print(X_train.shape, y_train.shape, X_test.shape, y_test.shape)"
   ]
  },
  {
   "cell_type": "code",
   "execution_count": null,
   "metadata": {},
   "outputs": [],
   "source": [
    "classifier = Sequential()\n",
    "\n",
    "# Adding the input layer and the first hidden layer\n",
    "classifier.add(Dense(units = 24, kernel_initializer = 'uniform', activation = 'relu', input_dim = 34))\n",
    "\n",
    "# Adding the second hidden layer\n",
    "classifier.add(Dense(units = 24, kernel_initializer = 'uniform', activation = 'relu'))\n",
    "\n",
    "# Adding the output layer\n",
    "classifier.add(Dense(units = 21, kernel_initializer = 'uniform', activation = 'softmax'))\n",
    "\n",
    "# Compiling the ANN\n",
    "classifier.compile(optimizer = 'adam', loss = 'categorical_crossentropy', metrics = ['accuracy']) \n",
    "\n",
    "# Fitting the ANN to the Training set\n",
    "history = classifier.fit(X_train, y_train, validation_data = (X_test, y_test), batch_size = 10, epochs = 20, shuffle = True)"
   ]
  },
  {
   "cell_type": "code",
   "execution_count": null,
   "metadata": {},
   "outputs": [],
   "source": [
    "plt.plot(history.history['loss'], label = 'train')\n",
    "plt.plot(history.history['val_loss'], label = 'test')\n",
    "plt.legend()\n",
    "plt.show()"
   ]
  },
  {
   "cell_type": "code",
   "execution_count": null,
   "metadata": {},
   "outputs": [],
   "source": [
    "plt.plot(history.history['accuracy'], label = 'train')\n",
    "plt.plot(history.history['val_accuracy'], label = 'test')\n",
    "plt.legend()\n",
    "plt.show()"
   ]
  },
  {
   "cell_type": "code",
   "execution_count": null,
   "metadata": {},
   "outputs": [],
   "source": [
    "y_predicted = classifier.predict(X_test)"
   ]
  },
  {
   "cell_type": "code",
   "execution_count": null,
   "metadata": {},
   "outputs": [],
   "source": [
    "y_predicted = np.argmax(y_predicted, axis = 1)"
   ]
  },
  {
   "cell_type": "code",
   "execution_count": null,
   "metadata": {},
   "outputs": [],
   "source": [
    "y_test = np.argmax(y_test, axis = 1)"
   ]
  },
  {
   "cell_type": "code",
   "execution_count": null,
   "metadata": {},
   "outputs": [],
   "source": [
    "cm = confusion_matrix(y_test, y_predicted)\n",
    "\n",
    "cfm_n = np.flipud(cm)\n",
    "cfm_n = cfm_n.astype('float') / cfm_n.sum(axis=1)[:, np.newaxis]\n",
    "\n",
    "z = np.round(cfm_n, 2)\n",
    "#x = ['0', '1', '2', '3', '4', '5', '6', '7', '8', '9', '10', '11', '12', '13', '14', '15', '16', '17', '18', '19', '20']\n",
    "y = ['0', '1', '2', '3', '4', '5', '6', '7', '8', '9', '10', '11', '12', '13', '14', '15', '16', '17', '18', '19', '20']\n",
    "#y = ['20', '19', '18', '17', '16', '15', '14', '13', '12', '11', '10', '9', '8', '7', '6', '5', '4', '3', '2', '1', '0']\n",
    "x = ['20', '19', '18', '17', '16', '15', '14', '13', '12', '11', '10', '9', '8', '7', '6', '5', '4', '3', '2', '1', '0']\n",
    "#x = ['1', '0']\n",
    "#y = ['0', '1']\n",
    "fig = ff.create_annotated_heatmap(z, x = x, y = y, annotation_text = z, colorscale = 'deep')\n",
    "fig.update_layout(width = 1600, height = 1600, xaxis_showgrid = False, yaxis_showgrid = False, template = 'none')\n",
    "fig.update_layout(title = {'text': \"\",\n",
    "                           'y':0.95,\n",
    "                           'x':0.47,\n",
    "                           'xanchor': 'center',\n",
    "                           'yanchor': 'top'}, \n",
    "                  xaxis_title = 'Predicted Labels',\n",
    "                  yaxis_title = 'True Labels')\n",
    "fig['layout']['xaxis']['side'] = 'bottom'\n",
    "fig.show()"
   ]
  },
  {
   "cell_type": "code",
   "execution_count": null,
   "metadata": {},
   "outputs": [],
   "source": [
    "test_sum = 0\n",
    "for i in range(len(y_test)):\n",
    "    test_sum += (y_test[i] * 15)"
   ]
  },
  {
   "cell_type": "code",
   "execution_count": null,
   "metadata": {},
   "outputs": [],
   "source": [
    "test_sum"
   ]
  },
  {
   "cell_type": "code",
   "execution_count": null,
   "metadata": {},
   "outputs": [],
   "source": [
    "predicted_sum = 0\n",
    "for i in range(len(y_predicted)):\n",
    "    predicted_sum += (y_predicted[i] * 15)"
   ]
  },
  {
   "cell_type": "code",
   "execution_count": null,
   "metadata": {},
   "outputs": [],
   "source": [
    "predicted_sum"
   ]
  },
  {
   "cell_type": "code",
   "execution_count": null,
   "metadata": {},
   "outputs": [],
   "source": [
    "print(\"Error Percentage in predicted values is : {} %\".format(np.absolute((predicted_sum - test_sum)/test_sum)*100))"
   ]
  },
  {
   "cell_type": "code",
   "execution_count": null,
   "metadata": {},
   "outputs": [],
   "source": [
    "f1_score(y_test, y_predicted, average = 'weighted')"
   ]
  },
  {
   "cell_type": "code",
   "execution_count": null,
   "metadata": {},
   "outputs": [],
   "source": [
    "X_small, y_small = X[12465:12477], y_auxHeat[12465:12477]"
   ]
  },
  {
   "cell_type": "code",
   "execution_count": null,
   "metadata": {},
   "outputs": [],
   "source": [
    "print(X_small.shape, y_small.shape)"
   ]
  },
  {
   "cell_type": "code",
   "execution_count": null,
   "metadata": {},
   "outputs": [],
   "source": [
    "X_small = X_small.values"
   ]
  },
  {
   "cell_type": "code",
   "execution_count": null,
   "metadata": {},
   "outputs": [],
   "source": [
    "y_small_predicted = classifier.predict(X_small)"
   ]
  },
  {
   "cell_type": "code",
   "execution_count": null,
   "metadata": {},
   "outputs": [],
   "source": [
    "y_small_predicted = np.argmax(y_small_predicted, axis = 1)"
   ]
  },
  {
   "cell_type": "code",
   "execution_count": null,
   "metadata": {},
   "outputs": [],
   "source": [
    "y_small_test = np.argmax(y_small, axis = 1)"
   ]
  },
  {
   "cell_type": "code",
   "execution_count": null,
   "metadata": {},
   "outputs": [],
   "source": [
    "y_small_predicted"
   ]
  },
  {
   "cell_type": "code",
   "execution_count": null,
   "metadata": {},
   "outputs": [],
   "source": [
    "y_small_test"
   ]
  },
  {
   "cell_type": "code",
   "execution_count": null,
   "metadata": {},
   "outputs": [],
   "source": [
    "test_sum = 0\n",
    "for i in range(len(y_small_test)):\n",
    "    test_sum += (y_small_test[i] * 15)"
   ]
  },
  {
   "cell_type": "code",
   "execution_count": null,
   "metadata": {},
   "outputs": [],
   "source": [
    "test_sum"
   ]
  },
  {
   "cell_type": "code",
   "execution_count": null,
   "metadata": {},
   "outputs": [],
   "source": [
    "predicted_sum = 0\n",
    "for i in range(len(y_small_predicted)):\n",
    "    predicted_sum += (y_small_predicted[i] * 15)"
   ]
  },
  {
   "cell_type": "code",
   "execution_count": null,
   "metadata": {},
   "outputs": [],
   "source": [
    "predicted_sum"
   ]
  },
  {
   "cell_type": "code",
   "execution_count": null,
   "metadata": {},
   "outputs": [],
   "source": [
    "print(\"Error Percentage in predicted values is : {} %\".format(np.absolute((predicted_sum - test_sum)/test_sum)*100))"
   ]
  },
  {
   "cell_type": "markdown",
   "metadata": {},
   "source": [
    "# Testing 6150c70f76a3f4b0c6e303de7da9422aceb37345"
   ]
  },
  {
   "cell_type": "code",
   "execution_count": null,
   "metadata": {},
   "outputs": [],
   "source": [
    "house_data = pd.read_csv(\"../preprocessed_data/std_test_data_6150c70f76a3f4b0c6e303de7da9422aceb37345.csv\")"
   ]
  },
  {
   "cell_type": "code",
   "execution_count": null,
   "metadata": {},
   "outputs": [],
   "source": [
    "working_df = house_data[['T_ctrl', 'T_stp_heat', 'auxHeat1', 'T_out', 'RH_out']]\n",
    "cols = ['T_ctrl', 'T_stp_heat', 'T_out', 'RH_out', 'auxHeat1']\n",
    "working_df = working_df[cols]"
   ]
  },
  {
   "cell_type": "code",
   "execution_count": null,
   "metadata": {},
   "outputs": [],
   "source": [
    "working_df.head()"
   ]
  },
  {
   "cell_type": "code",
   "execution_count": null,
   "metadata": {},
   "outputs": [],
   "source": [
    "reframed = series_to_supervised(working_df, 6, 1)"
   ]
  },
  {
   "cell_type": "code",
   "execution_count": null,
   "metadata": {},
   "outputs": [],
   "source": [
    "y_auxHeat = reframed['var5(t)']\n",
    "y_auxHeat = to_categorical(y_auxHeat)\n",
    "X = reframed.drop(labels = [\"var5(t)\"], axis = 1)"
   ]
  },
  {
   "cell_type": "code",
   "execution_count": null,
   "metadata": {},
   "outputs": [],
   "source": [
    "X_train, X_test, y_train, y_test = train_test_split(X, y_auxHeat, test_size = 0.2, shuffle = True)"
   ]
  },
  {
   "cell_type": "code",
   "execution_count": null,
   "metadata": {},
   "outputs": [],
   "source": [
    "X_train = X_train.values\n",
    "X_test = X_test.values"
   ]
  },
  {
   "cell_type": "code",
   "execution_count": null,
   "metadata": {},
   "outputs": [],
   "source": [
    "print(X_train.shape, y_train.shape, X_test.shape, y_test.shape)"
   ]
  },
  {
   "cell_type": "code",
   "execution_count": null,
   "metadata": {},
   "outputs": [],
   "source": [
    "classifier = Sequential()\n",
    "\n",
    "# Adding the input layer and the first hidden layer\n",
    "classifier.add(Dense(units = 24, kernel_initializer = 'uniform', activation = 'relu', input_dim = 34))\n",
    "\n",
    "# Adding the second hidden layer\n",
    "classifier.add(Dense(units = 24, kernel_initializer = 'uniform', activation = 'relu'))\n",
    "\n",
    "# Adding the output layer\n",
    "classifier.add(Dense(units = 21, kernel_initializer = 'uniform', activation = 'softmax'))\n",
    "\n",
    "# Compiling the ANN\n",
    "classifier.compile(optimizer = 'adam', loss = 'categorical_crossentropy', metrics = ['accuracy']) \n",
    "\n",
    "# Fitting the ANN to the Training set\n",
    "history = classifier.fit(X_train, y_train, validation_data = (X_test, y_test), batch_size = 10, epochs = 20, shuffle = True)"
   ]
  },
  {
   "cell_type": "code",
   "execution_count": null,
   "metadata": {},
   "outputs": [],
   "source": [
    "plt.plot(history.history['loss'], label = 'train')\n",
    "plt.plot(history.history['val_loss'], label = 'test')\n",
    "plt.legend()\n",
    "plt.show()"
   ]
  },
  {
   "cell_type": "code",
   "execution_count": null,
   "metadata": {},
   "outputs": [],
   "source": [
    "plt.plot(history.history['accuracy'], label = 'train')\n",
    "plt.plot(history.history['val_accuracy'], label = 'test')\n",
    "plt.legend()\n",
    "plt.show()"
   ]
  },
  {
   "cell_type": "code",
   "execution_count": null,
   "metadata": {},
   "outputs": [],
   "source": [
    "y_predicted = classifier.predict(X_test)"
   ]
  },
  {
   "cell_type": "code",
   "execution_count": null,
   "metadata": {},
   "outputs": [],
   "source": [
    "y_predicted = np.argmax(y_predicted, axis = 1)"
   ]
  },
  {
   "cell_type": "code",
   "execution_count": null,
   "metadata": {},
   "outputs": [],
   "source": [
    "y_test = np.argmax(y_test, axis = 1)"
   ]
  },
  {
   "cell_type": "code",
   "execution_count": null,
   "metadata": {},
   "outputs": [],
   "source": [
    "cm = confusion_matrix(y_test, y_predicted)\n",
    "\n",
    "cfm_n = np.flipud(cm)\n",
    "cfm_n = cfm_n.astype('float') / cfm_n.sum(axis=1)[:, np.newaxis]\n",
    "\n",
    "z = np.round(cfm_n, 2)\n",
    "#x = ['0', '1', '2', '3', '4', '5', '6', '7', '8', '9', '10', '11', '12', '13', '14', '15', '16', '17', '18', '19', '20']\n",
    "y = ['0', '1', '2', '3', '4', '5', '6', '7', '8', '9', '10', '11', '12', '13', '14', '15', '16', '17', '18', '19', '20']\n",
    "#y = ['20', '19', '18', '17', '16', '15', '14', '13', '12', '11', '10', '9', '8', '7', '6', '5', '4', '3', '2', '1', '0']\n",
    "x = ['20', '19', '18', '17', '16', '15', '14', '13', '12', '11', '10', '9', '8', '7', '6', '5', '4', '3', '2', '1', '0']\n",
    "#x = ['1', '0']\n",
    "#y = ['0', '1']\n",
    "fig = ff.create_annotated_heatmap(z, x = x, y = y, annotation_text = z, colorscale = 'deep')\n",
    "fig.update_layout(width = 1600, height = 1600, xaxis_showgrid = False, yaxis_showgrid = False, template = 'none')\n",
    "fig.update_layout(title = {'text': \"\",\n",
    "                           'y':0.95,\n",
    "                           'x':0.47,\n",
    "                           'xanchor': 'center',\n",
    "                           'yanchor': 'top'}, \n",
    "                  xaxis_title = 'Predicted Labels',\n",
    "                  yaxis_title = 'True Labels')\n",
    "fig['layout']['xaxis']['side'] = 'bottom'\n",
    "fig.show()"
   ]
  },
  {
   "cell_type": "code",
   "execution_count": null,
   "metadata": {},
   "outputs": [],
   "source": [
    "test_sum = 0\n",
    "for i in range(len(y_test)):\n",
    "    test_sum += (y_test[i] * 15)"
   ]
  },
  {
   "cell_type": "code",
   "execution_count": null,
   "metadata": {},
   "outputs": [],
   "source": [
    "test_sum"
   ]
  },
  {
   "cell_type": "code",
   "execution_count": null,
   "metadata": {},
   "outputs": [],
   "source": [
    "predicted_sum = 0\n",
    "for i in range(len(y_predicted)):\n",
    "    predicted_sum += (y_predicted[i] * 15)"
   ]
  },
  {
   "cell_type": "code",
   "execution_count": null,
   "metadata": {},
   "outputs": [],
   "source": [
    "predicted_sum"
   ]
  },
  {
   "cell_type": "code",
   "execution_count": null,
   "metadata": {},
   "outputs": [],
   "source": [
    "print(\"Error Percentage in predicted values is : {} %\".format(np.absolute((predicted_sum - test_sum)/test_sum)*100))"
   ]
  },
  {
   "cell_type": "code",
   "execution_count": null,
   "metadata": {},
   "outputs": [],
   "source": [
    "f1_score(y_test, y_predicted, average = 'weighted')"
   ]
  },
  {
   "cell_type": "code",
   "execution_count": null,
   "metadata": {},
   "outputs": [],
   "source": [
    "X_small, y_small = X[12465:12477], y_auxHeat[12465:12477]"
   ]
  },
  {
   "cell_type": "code",
   "execution_count": null,
   "metadata": {},
   "outputs": [],
   "source": [
    "print(X_small.shape, y_small.shape)"
   ]
  },
  {
   "cell_type": "code",
   "execution_count": null,
   "metadata": {},
   "outputs": [],
   "source": [
    "X_small = X_small.values"
   ]
  },
  {
   "cell_type": "code",
   "execution_count": null,
   "metadata": {},
   "outputs": [],
   "source": [
    "y_small_predicted = classifier.predict(X_small)"
   ]
  },
  {
   "cell_type": "code",
   "execution_count": null,
   "metadata": {},
   "outputs": [],
   "source": [
    "y_small_predicted = np.argmax(y_small_predicted, axis = 1)"
   ]
  },
  {
   "cell_type": "code",
   "execution_count": null,
   "metadata": {},
   "outputs": [],
   "source": [
    "y_small_test = np.argmax(y_small, axis = 1)"
   ]
  },
  {
   "cell_type": "code",
   "execution_count": null,
   "metadata": {},
   "outputs": [],
   "source": [
    "y_small_predicted"
   ]
  },
  {
   "cell_type": "code",
   "execution_count": null,
   "metadata": {},
   "outputs": [],
   "source": [
    "y_small_test"
   ]
  },
  {
   "cell_type": "code",
   "execution_count": null,
   "metadata": {},
   "outputs": [],
   "source": [
    "test_sum = 0\n",
    "for i in range(len(y_small_test)):\n",
    "    test_sum += (y_small_test[i] * 15)"
   ]
  },
  {
   "cell_type": "code",
   "execution_count": null,
   "metadata": {},
   "outputs": [],
   "source": [
    "test_sum"
   ]
  },
  {
   "cell_type": "code",
   "execution_count": null,
   "metadata": {},
   "outputs": [],
   "source": [
    "predicted_sum = 0\n",
    "for i in range(len(y_small_predicted)):\n",
    "    predicted_sum += (y_small_predicted[i] * 15)"
   ]
  },
  {
   "cell_type": "code",
   "execution_count": null,
   "metadata": {},
   "outputs": [],
   "source": [
    "predicted_sum"
   ]
  },
  {
   "cell_type": "code",
   "execution_count": null,
   "metadata": {},
   "outputs": [],
   "source": [
    "print(\"Error Percentage in predicted values is : {} %\".format(np.absolute((predicted_sum - test_sum)/test_sum)*100))"
   ]
  },
  {
   "cell_type": "markdown",
   "metadata": {},
   "source": [
    "# Testing 1faa36208e696350ee3ca80197c773f062678051"
   ]
  },
  {
   "cell_type": "code",
   "execution_count": null,
   "metadata": {},
   "outputs": [],
   "source": [
    "house_data = pd.read_csv(\"../preprocessed_data/std_test_data_1faa36208e696350ee3ca80197c773f062678051.csv\")"
   ]
  },
  {
   "cell_type": "code",
   "execution_count": null,
   "metadata": {},
   "outputs": [],
   "source": [
    "working_df = house_data[['T_ctrl', 'T_stp_heat', 'auxHeat1', 'T_out', 'RH_out']]\n",
    "cols = ['T_ctrl', 'T_stp_heat', 'T_out', 'RH_out', 'auxHeat1']\n",
    "working_df = working_df[cols]"
   ]
  },
  {
   "cell_type": "code",
   "execution_count": null,
   "metadata": {},
   "outputs": [],
   "source": [
    "working_df.head()"
   ]
  },
  {
   "cell_type": "code",
   "execution_count": null,
   "metadata": {},
   "outputs": [],
   "source": [
    "reframed = series_to_supervised(working_df, 6, 1)"
   ]
  },
  {
   "cell_type": "code",
   "execution_count": null,
   "metadata": {},
   "outputs": [],
   "source": [
    "y_auxHeat = reframed['var5(t)']\n",
    "y_auxHeat = to_categorical(y_auxHeat)\n",
    "X = reframed.drop(labels = [\"var5(t)\"], axis = 1)"
   ]
  },
  {
   "cell_type": "code",
   "execution_count": null,
   "metadata": {},
   "outputs": [],
   "source": [
    "X_train, X_test, y_train, y_test = train_test_split(X, y_auxHeat, test_size = 0.2, shuffle = True)"
   ]
  },
  {
   "cell_type": "code",
   "execution_count": null,
   "metadata": {},
   "outputs": [],
   "source": [
    "X_train = X_train.values\n",
    "X_test = X_test.values"
   ]
  },
  {
   "cell_type": "code",
   "execution_count": null,
   "metadata": {},
   "outputs": [],
   "source": [
    "print(X_train.shape, y_train.shape, X_test.shape, y_test.shape)"
   ]
  },
  {
   "cell_type": "code",
   "execution_count": null,
   "metadata": {},
   "outputs": [],
   "source": [
    "classifier = Sequential()\n",
    "\n",
    "# Adding the input layer and the first hidden layer\n",
    "classifier.add(Dense(units = 24, kernel_initializer = 'uniform', activation = 'relu', input_dim = 34))\n",
    "\n",
    "# Adding the second hidden layer\n",
    "classifier.add(Dense(units = 24, kernel_initializer = 'uniform', activation = 'relu'))\n",
    "\n",
    "# Adding the output layer\n",
    "classifier.add(Dense(units = 21, kernel_initializer = 'uniform', activation = 'softmax'))\n",
    "\n",
    "# Compiling the ANN\n",
    "classifier.compile(optimizer = 'adam', loss = 'categorical_crossentropy', metrics = ['accuracy']) \n",
    "\n",
    "# Fitting the ANN to the Training set\n",
    "history = classifier.fit(X_train, y_train, validation_data = (X_test, y_test), batch_size = 10, epochs = 20, shuffle = True)"
   ]
  },
  {
   "cell_type": "code",
   "execution_count": null,
   "metadata": {},
   "outputs": [],
   "source": [
    "plt.plot(history.history['loss'], label = 'train')\n",
    "plt.plot(history.history['val_loss'], label = 'test')\n",
    "plt.legend()\n",
    "plt.show()"
   ]
  },
  {
   "cell_type": "code",
   "execution_count": null,
   "metadata": {},
   "outputs": [],
   "source": [
    "plt.plot(history.history['accuracy'], label = 'train')\n",
    "plt.plot(history.history['val_accuracy'], label = 'test')\n",
    "plt.legend()\n",
    "plt.show()"
   ]
  },
  {
   "cell_type": "code",
   "execution_count": null,
   "metadata": {},
   "outputs": [],
   "source": [
    "y_predicted = classifier.predict(X_test)"
   ]
  },
  {
   "cell_type": "code",
   "execution_count": null,
   "metadata": {},
   "outputs": [],
   "source": [
    "y_predicted = np.argmax(y_predicted, axis = 1)"
   ]
  },
  {
   "cell_type": "code",
   "execution_count": null,
   "metadata": {},
   "outputs": [],
   "source": [
    "y_test = np.argmax(y_test, axis = 1)"
   ]
  },
  {
   "cell_type": "code",
   "execution_count": null,
   "metadata": {},
   "outputs": [],
   "source": [
    "cm = confusion_matrix(y_test, y_predicted)\n",
    "\n",
    "cfm_n = np.flipud(cm)\n",
    "cfm_n = cfm_n.astype('float') / cfm_n.sum(axis=1)[:, np.newaxis]\n",
    "\n",
    "z = np.round(cfm_n, 2)\n",
    "#x = ['0', '1', '2', '3', '4', '5', '6', '7', '8', '9', '10', '11', '12', '13', '14', '15', '16', '17', '18', '19', '20']\n",
    "y = ['0', '1', '2', '3', '4', '5', '6', '7', '8', '9', '10', '11', '12', '13', '14', '15', '16', '17', '18', '19', '20']\n",
    "#y = ['20', '19', '18', '17', '16', '15', '14', '13', '12', '11', '10', '9', '8', '7', '6', '5', '4', '3', '2', '1', '0']\n",
    "x = ['20', '19', '18', '17', '16', '15', '14', '13', '12', '11', '10', '9', '8', '7', '6', '5', '4', '3', '2', '1', '0']\n",
    "#x = ['1', '0']\n",
    "#y = ['0', '1']\n",
    "fig = ff.create_annotated_heatmap(z, x = x, y = y, annotation_text = z, colorscale = 'deep')\n",
    "fig.update_layout(width = 1600, height = 1600, xaxis_showgrid = False, yaxis_showgrid = False, template = 'none')\n",
    "fig.update_layout(title = {'text': \"\",\n",
    "                           'y':0.95,\n",
    "                           'x':0.47,\n",
    "                           'xanchor': 'center',\n",
    "                           'yanchor': 'top'}, \n",
    "                  xaxis_title = 'Predicted Labels',\n",
    "                  yaxis_title = 'True Labels')\n",
    "fig['layout']['xaxis']['side'] = 'bottom'\n",
    "fig.show()"
   ]
  },
  {
   "cell_type": "code",
   "execution_count": null,
   "metadata": {},
   "outputs": [],
   "source": [
    "test_sum = 0\n",
    "for i in range(len(y_test)):\n",
    "    test_sum += (y_test[i] * 15)"
   ]
  },
  {
   "cell_type": "code",
   "execution_count": null,
   "metadata": {},
   "outputs": [],
   "source": [
    "test_sum"
   ]
  },
  {
   "cell_type": "code",
   "execution_count": null,
   "metadata": {},
   "outputs": [],
   "source": [
    "predicted_sum = 0\n",
    "for i in range(len(y_predicted)):\n",
    "    predicted_sum += (y_predicted[i] * 15)"
   ]
  },
  {
   "cell_type": "code",
   "execution_count": null,
   "metadata": {},
   "outputs": [],
   "source": [
    "predicted_sum"
   ]
  },
  {
   "cell_type": "code",
   "execution_count": null,
   "metadata": {},
   "outputs": [],
   "source": [
    "print(\"Error Percentage in predicted values is : {} %\".format(np.absolute((predicted_sum - test_sum)/test_sum)*100))"
   ]
  },
  {
   "cell_type": "code",
   "execution_count": null,
   "metadata": {},
   "outputs": [],
   "source": [
    "f1_score(y_test, y_predicted, average = 'weighted')"
   ]
  },
  {
   "cell_type": "code",
   "execution_count": null,
   "metadata": {},
   "outputs": [],
   "source": [
    "X_small, y_small = X[1234:1246], y_auxHeat[1234:1246]"
   ]
  },
  {
   "cell_type": "code",
   "execution_count": null,
   "metadata": {},
   "outputs": [],
   "source": [
    "print(X_small.shape, y_small.shape)"
   ]
  },
  {
   "cell_type": "code",
   "execution_count": null,
   "metadata": {},
   "outputs": [],
   "source": [
    "y_small_predicted = classifier.predict(X_small)\n",
    "y_small_predicted = np.argmax(y_small_predicted, axis = 1)"
   ]
  },
  {
   "cell_type": "code",
   "execution_count": null,
   "metadata": {},
   "outputs": [],
   "source": [
    "y_small_predicted"
   ]
  },
  {
   "cell_type": "code",
   "execution_count": null,
   "metadata": {},
   "outputs": [],
   "source": [
    "y_small_test = np.argmax(y_small, axis = 1)"
   ]
  },
  {
   "cell_type": "code",
   "execution_count": null,
   "metadata": {},
   "outputs": [],
   "source": [
    "y_small_test"
   ]
  },
  {
   "cell_type": "code",
   "execution_count": null,
   "metadata": {},
   "outputs": [],
   "source": [
    "test_sum = 0\n",
    "for i in range(len(y_small_test)):\n",
    "    test_sum += (y_small_test[i] * 15)"
   ]
  },
  {
   "cell_type": "code",
   "execution_count": null,
   "metadata": {},
   "outputs": [],
   "source": [
    "test_sum"
   ]
  },
  {
   "cell_type": "code",
   "execution_count": null,
   "metadata": {},
   "outputs": [],
   "source": [
    "predicted_sum = 0\n",
    "for i in range(len(y_small_predicted)):\n",
    "    predicted_sum += (y_small_predicted[i] * 15)"
   ]
  },
  {
   "cell_type": "code",
   "execution_count": null,
   "metadata": {},
   "outputs": [],
   "source": [
    "predicted_sum"
   ]
  },
  {
   "cell_type": "code",
   "execution_count": null,
   "metadata": {},
   "outputs": [],
   "source": [
    "print(\"Error Percentage in predicted values is : {} %\".format(np.absolute((predicted_sum - test_sum)/test_sum)*100))"
   ]
  },
  {
   "cell_type": "markdown",
   "metadata": {},
   "source": [
    "# Testing 6c83e118e0c6dde25b3aba4935f902a0291b95a7 Alberta House"
   ]
  },
  {
   "cell_type": "code",
   "execution_count": null,
   "metadata": {},
   "outputs": [],
   "source": [
    "house_data = pd.read_csv(\"../preprocessed_data/std_test_data_6c83e118e0c6dde25b3aba4935f902a0291b95a7.csv\")"
   ]
  },
  {
   "cell_type": "code",
   "execution_count": null,
   "metadata": {},
   "outputs": [],
   "source": [
    "working_df = house_data[['T_ctrl', 'T_stp_heat', 'auxHeat1', 'T_out', 'RH_out']]\n",
    "cols = ['T_ctrl', 'T_stp_heat', 'T_out', 'RH_out', 'auxHeat1']\n",
    "working_df = working_df[cols]"
   ]
  },
  {
   "cell_type": "code",
   "execution_count": null,
   "metadata": {},
   "outputs": [],
   "source": [
    "working_df.head()"
   ]
  },
  {
   "cell_type": "code",
   "execution_count": null,
   "metadata": {},
   "outputs": [],
   "source": [
    "reframed = series_to_supervised(working_df, 6, 1)"
   ]
  },
  {
   "cell_type": "code",
   "execution_count": null,
   "metadata": {},
   "outputs": [],
   "source": [
    "y_auxHeat = reframed['var5(t)']\n",
    "y_auxHeat = to_categorical(y_auxHeat)\n",
    "X = reframed.drop(labels = [\"var5(t)\"], axis = 1)"
   ]
  },
  {
   "cell_type": "code",
   "execution_count": null,
   "metadata": {},
   "outputs": [],
   "source": [
    "X_train, X_test, y_train, y_test = train_test_split(X, y_auxHeat, test_size = 0.2, shuffle = True)"
   ]
  },
  {
   "cell_type": "code",
   "execution_count": null,
   "metadata": {},
   "outputs": [],
   "source": [
    "X_train = X_train.values"
   ]
  },
  {
   "cell_type": "code",
   "execution_count": null,
   "metadata": {},
   "outputs": [],
   "source": [
    "X_test = X_test.values"
   ]
  },
  {
   "cell_type": "code",
   "execution_count": null,
   "metadata": {},
   "outputs": [],
   "source": [
    "print(X_train.shape, y_train.shape, X_test.shape, y_test.shape)"
   ]
  },
  {
   "cell_type": "code",
   "execution_count": null,
   "metadata": {},
   "outputs": [],
   "source": [
    "classifier = Sequential()\n",
    "\n",
    "# Adding the input layer and the first hidden layer\n",
    "classifier.add(Dense(units = 24, kernel_initializer = 'uniform', activation = 'relu', input_dim = 34))\n",
    "\n",
    "# Adding the second hidden layer\n",
    "classifier.add(Dense(units = 24, kernel_initializer = 'uniform', activation = 'relu'))\n",
    "\n",
    "# Adding the output layer\n",
    "classifier.add(Dense(units = 21, kernel_initializer = 'uniform', activation = 'softmax'))\n",
    "\n",
    "# Compiling the ANN\n",
    "classifier.compile(optimizer = 'adam', loss = 'categorical_crossentropy', metrics = ['accuracy']) \n",
    "\n",
    "# Fitting the ANN to the Training set\n",
    "history = classifier.fit(X_train, y_train, validation_data = (X_test, y_test), batch_size = 10, epochs = 20, shuffle = True)"
   ]
  },
  {
   "cell_type": "code",
   "execution_count": null,
   "metadata": {},
   "outputs": [],
   "source": [
    "plt.plot(history.history['loss'], label = 'train')\n",
    "plt.plot(history.history['val_loss'], label = 'test')\n",
    "plt.legend()\n",
    "plt.show()"
   ]
  },
  {
   "cell_type": "code",
   "execution_count": null,
   "metadata": {},
   "outputs": [],
   "source": [
    "plt.plot(history.history['accuracy'], label = 'train')\n",
    "plt.plot(history.history['val_accuracy'], label = 'test')\n",
    "plt.legend()\n",
    "plt.show()"
   ]
  },
  {
   "cell_type": "code",
   "execution_count": null,
   "metadata": {},
   "outputs": [],
   "source": [
    "y_predicted = classifier.predict(X_test)"
   ]
  },
  {
   "cell_type": "code",
   "execution_count": null,
   "metadata": {},
   "outputs": [],
   "source": [
    "y_predicted = np.argmax(y_predicted, axis = 1)"
   ]
  },
  {
   "cell_type": "code",
   "execution_count": null,
   "metadata": {},
   "outputs": [],
   "source": [
    "y_test = np.argmax(y_test, axis = 1)"
   ]
  },
  {
   "cell_type": "code",
   "execution_count": null,
   "metadata": {},
   "outputs": [],
   "source": [
    "cm = confusion_matrix(y_test, y_predicted)\n",
    "\n",
    "cfm_n = np.flipud(cm)\n",
    "cfm_n = cfm_n.astype('float') / cfm_n.sum(axis=1)[:, np.newaxis]\n",
    "\n",
    "z = np.round(cfm_n, 2)\n",
    "#x = ['0', '1', '2', '3', '4', '5', '6', '7', '8', '9', '10', '11', '12', '13', '14', '15', '16', '17', '18', '19', '20']\n",
    "y = ['0', '1', '2', '3', '4', '5', '6', '7', '8', '9', '10', '11', '12', '13', '14', '15', '16', '17', '18', '19', '20']\n",
    "#y = ['20', '19', '18', '17', '16', '15', '14', '13', '12', '11', '10', '9', '8', '7', '6', '5', '4', '3', '2', '1', '0']\n",
    "x = ['20', '19', '18', '17', '16', '15', '14', '13', '12', '11', '10', '9', '8', '7', '6', '5', '4', '3', '2', '1', '0']\n",
    "#x = ['1', '0']\n",
    "#y = ['0', '1']\n",
    "fig = ff.create_annotated_heatmap(z, x = x, y = y, annotation_text = z, colorscale = 'deep')\n",
    "fig.update_layout(width = 1600, height = 1600, xaxis_showgrid = False, yaxis_showgrid = False, template = 'none')\n",
    "fig.update_layout(title = {'text': \"\",\n",
    "                           'y':0.95,\n",
    "                           'x':0.47,\n",
    "                           'xanchor': 'center',\n",
    "                           'yanchor': 'top'}, \n",
    "                  xaxis_title = 'Predicted Labels',\n",
    "                  yaxis_title = 'True Labels')\n",
    "fig['layout']['xaxis']['side'] = 'bottom'\n",
    "fig.show()"
   ]
  },
  {
   "cell_type": "code",
   "execution_count": null,
   "metadata": {},
   "outputs": [],
   "source": [
    "test_sum = 0\n",
    "for i in range(len(y_test)):\n",
    "    test_sum += (y_test[i] * 15)"
   ]
  },
  {
   "cell_type": "code",
   "execution_count": null,
   "metadata": {},
   "outputs": [],
   "source": [
    "test_sum"
   ]
  },
  {
   "cell_type": "code",
   "execution_count": null,
   "metadata": {},
   "outputs": [],
   "source": [
    "predicted_sum = 0\n",
    "for i in range(len(y_predicted)):\n",
    "    predicted_sum += (y_predicted[i] * 15)"
   ]
  },
  {
   "cell_type": "code",
   "execution_count": null,
   "metadata": {},
   "outputs": [],
   "source": [
    "predicted_sum"
   ]
  },
  {
   "cell_type": "code",
   "execution_count": null,
   "metadata": {},
   "outputs": [],
   "source": [
    "print(\"Error Percentage in predicted values is : {} %\".format(np.absolute((predicted_sum - test_sum)/test_sum)*100))"
   ]
  },
  {
   "cell_type": "code",
   "execution_count": null,
   "metadata": {},
   "outputs": [],
   "source": [
    "f1_score(y_test, y_predicted, average = 'weighted')"
   ]
  },
  {
   "cell_type": "code",
   "execution_count": null,
   "metadata": {},
   "outputs": [],
   "source": [
    "X_small, y_small = X[12345:12357], y_auxHeat[12345:12357]"
   ]
  },
  {
   "cell_type": "code",
   "execution_count": null,
   "metadata": {},
   "outputs": [],
   "source": [
    "print(X_small.shape, y_small.shape)"
   ]
  },
  {
   "cell_type": "code",
   "execution_count": null,
   "metadata": {},
   "outputs": [],
   "source": [
    "y_small_predicted = classifier.predict(X_small)\n",
    "y_small_predicted = np.argmax(y_small_predicted, axis = 1)"
   ]
  },
  {
   "cell_type": "code",
   "execution_count": null,
   "metadata": {},
   "outputs": [],
   "source": [
    "y_small_predicted"
   ]
  },
  {
   "cell_type": "code",
   "execution_count": null,
   "metadata": {},
   "outputs": [],
   "source": [
    "y_small_test = np.argmax(y_small, axis = 1)"
   ]
  },
  {
   "cell_type": "code",
   "execution_count": null,
   "metadata": {},
   "outputs": [],
   "source": [
    "y_small_test"
   ]
  },
  {
   "cell_type": "code",
   "execution_count": null,
   "metadata": {},
   "outputs": [],
   "source": [
    "test_sum = 0\n",
    "for i in range(len(y_small_test)):\n",
    "    test_sum += (y_small_test[i] * 15)"
   ]
  },
  {
   "cell_type": "code",
   "execution_count": null,
   "metadata": {},
   "outputs": [],
   "source": [
    "test_sum"
   ]
  },
  {
   "cell_type": "code",
   "execution_count": null,
   "metadata": {},
   "outputs": [],
   "source": [
    "predicted_sum = 0\n",
    "for i in range(len(y_small_predicted)):\n",
    "    predicted_sum += (y_small_predicted[i] * 15)"
   ]
  },
  {
   "cell_type": "code",
   "execution_count": null,
   "metadata": {},
   "outputs": [],
   "source": [
    "predicted_sum"
   ]
  },
  {
   "cell_type": "code",
   "execution_count": null,
   "metadata": {},
   "outputs": [],
   "source": [
    "print(\"Error Percentage in predicted values is : {} %\".format(np.absolute((predicted_sum - test_sum)/test_sum)*100))"
   ]
  },
  {
   "cell_type": "code",
   "execution_count": null,
   "metadata": {},
   "outputs": [],
   "source": []
  }
 ],
 "metadata": {
  "kernelspec": {
   "display_name": "Python 3",
   "language": "python",
   "name": "python3"
  },
  "language_info": {
   "codemirror_mode": {
    "name": "ipython",
    "version": 3
   },
   "file_extension": ".py",
   "mimetype": "text/x-python",
   "name": "python",
   "nbconvert_exporter": "python",
   "pygments_lexer": "ipython3",
   "version": "3.7.6"
  }
 },
 "nbformat": 4,
 "nbformat_minor": 4
}
