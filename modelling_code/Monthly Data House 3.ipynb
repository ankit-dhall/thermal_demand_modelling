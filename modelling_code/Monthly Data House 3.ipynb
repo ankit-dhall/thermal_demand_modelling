{
 "cells": [
  {
   "cell_type": "code",
   "execution_count": 1,
   "metadata": {},
   "outputs": [],
   "source": [
    "import numpy as np\n",
    "import pandas as pd\n",
    "from sklearn.model_selection import train_test_split\n",
    "from sklearn.metrics import accuracy_score\n",
    "from sklearn.metrics import confusion_matrix\n",
    "import plotly.figure_factory as ff\n",
    "import tensorflow as tf\n",
    "from tensorflow.python.keras.layers import Dense, Dropout, LSTM\n",
    "from tensorflow.python.keras import Sequential\n",
    "from tensorflow.keras.utils import to_categorical\n",
    "from sklearn.preprocessing import OrdinalEncoder\n",
    "from pandas import DataFrame\n",
    "from pandas import concat\n",
    "import matplotlib.pyplot as plt\n",
    "from sklearn.metrics import precision_recall_curve, precision_score, recall_score, f1_score\n",
    "import seaborn as sns"
   ]
  },
  {
   "cell_type": "code",
   "execution_count": 2,
   "metadata": {},
   "outputs": [],
   "source": [
    "months = ['October', 'November', 'December', 'January', 'February', 'March', 'April']"
   ]
  },
  {
   "cell_type": "code",
   "execution_count": 3,
   "metadata": {},
   "outputs": [],
   "source": [
    "acc = list()"
   ]
  },
  {
   "cell_type": "code",
   "execution_count": 4,
   "metadata": {},
   "outputs": [],
   "source": [
    "f1 = list()"
   ]
  },
  {
   "cell_type": "code",
   "execution_count": 5,
   "metadata": {},
   "outputs": [],
   "source": [
    "err = list()"
   ]
  },
  {
   "cell_type": "code",
   "execution_count": 6,
   "metadata": {},
   "outputs": [],
   "source": [
    "house_data = pd.read_csv(\"../preprocessed_data/std_test_data_6150c70f76a3f4b0c6e303de7da9422aceb37345.csv\")"
   ]
  },
  {
   "cell_type": "code",
   "execution_count": 7,
   "metadata": {},
   "outputs": [
    {
     "data": {
      "text/html": [
       "<div>\n",
       "<style scoped>\n",
       "    .dataframe tbody tr th:only-of-type {\n",
       "        vertical-align: middle;\n",
       "    }\n",
       "\n",
       "    .dataframe tbody tr th {\n",
       "        vertical-align: top;\n",
       "    }\n",
       "\n",
       "    .dataframe thead th {\n",
       "        text-align: right;\n",
       "    }\n",
       "</style>\n",
       "<table border=\"1\" class=\"dataframe\">\n",
       "  <thead>\n",
       "    <tr style=\"text-align: right;\">\n",
       "      <th></th>\n",
       "      <th>index</th>\n",
       "      <th>hour_sin</th>\n",
       "      <th>hour_cos</th>\n",
       "      <th>month_sin</th>\n",
       "      <th>month_cos</th>\n",
       "      <th>day_sin</th>\n",
       "      <th>day_cos</th>\n",
       "      <th>Month</th>\n",
       "      <th>DayOfWeek</th>\n",
       "      <th>HourofDay</th>\n",
       "      <th>Day</th>\n",
       "      <th>T_ctrl</th>\n",
       "      <th>T_stp_heat</th>\n",
       "      <th>Humidity</th>\n",
       "      <th>auxHeat1</th>\n",
       "      <th>fan</th>\n",
       "      <th>Thermostat_Temperature</th>\n",
       "      <th>T_out</th>\n",
       "      <th>RH_out</th>\n",
       "    </tr>\n",
       "  </thead>\n",
       "  <tbody>\n",
       "    <tr>\n",
       "      <th>0</th>\n",
       "      <td>0</td>\n",
       "      <td>0.0</td>\n",
       "      <td>1.0</td>\n",
       "      <td>0.0</td>\n",
       "      <td>1.0</td>\n",
       "      <td>0.755303</td>\n",
       "      <td>0.484974</td>\n",
       "      <td>1</td>\n",
       "      <td>1</td>\n",
       "      <td>0</td>\n",
       "      <td>1</td>\n",
       "      <td>1.177675</td>\n",
       "      <td>1.14455</td>\n",
       "      <td>-0.270977</td>\n",
       "      <td>0</td>\n",
       "      <td>0</td>\n",
       "      <td>1.177675</td>\n",
       "      <td>0.322013</td>\n",
       "      <td>1.760593</td>\n",
       "    </tr>\n",
       "    <tr>\n",
       "      <th>1</th>\n",
       "      <td>1</td>\n",
       "      <td>0.0</td>\n",
       "      <td>1.0</td>\n",
       "      <td>0.0</td>\n",
       "      <td>1.0</td>\n",
       "      <td>0.755303</td>\n",
       "      <td>0.484974</td>\n",
       "      <td>1</td>\n",
       "      <td>1</td>\n",
       "      <td>0</td>\n",
       "      <td>1</td>\n",
       "      <td>1.177675</td>\n",
       "      <td>1.14455</td>\n",
       "      <td>-0.270977</td>\n",
       "      <td>0</td>\n",
       "      <td>17</td>\n",
       "      <td>1.177675</td>\n",
       "      <td>0.322013</td>\n",
       "      <td>1.760593</td>\n",
       "    </tr>\n",
       "    <tr>\n",
       "      <th>2</th>\n",
       "      <td>2</td>\n",
       "      <td>0.0</td>\n",
       "      <td>1.0</td>\n",
       "      <td>0.0</td>\n",
       "      <td>1.0</td>\n",
       "      <td>0.755303</td>\n",
       "      <td>0.484974</td>\n",
       "      <td>1</td>\n",
       "      <td>1</td>\n",
       "      <td>0</td>\n",
       "      <td>1</td>\n",
       "      <td>1.177675</td>\n",
       "      <td>1.14455</td>\n",
       "      <td>-0.270977</td>\n",
       "      <td>6</td>\n",
       "      <td>19</td>\n",
       "      <td>1.177675</td>\n",
       "      <td>0.322013</td>\n",
       "      <td>1.760593</td>\n",
       "    </tr>\n",
       "    <tr>\n",
       "      <th>3</th>\n",
       "      <td>3</td>\n",
       "      <td>0.0</td>\n",
       "      <td>1.0</td>\n",
       "      <td>0.0</td>\n",
       "      <td>1.0</td>\n",
       "      <td>0.755303</td>\n",
       "      <td>0.484974</td>\n",
       "      <td>1</td>\n",
       "      <td>1</td>\n",
       "      <td>0</td>\n",
       "      <td>1</td>\n",
       "      <td>0.398793</td>\n",
       "      <td>1.14455</td>\n",
       "      <td>-0.270977</td>\n",
       "      <td>20</td>\n",
       "      <td>20</td>\n",
       "      <td>0.398793</td>\n",
       "      <td>0.322013</td>\n",
       "      <td>1.760593</td>\n",
       "    </tr>\n",
       "    <tr>\n",
       "      <th>4</th>\n",
       "      <td>4</td>\n",
       "      <td>0.0</td>\n",
       "      <td>1.0</td>\n",
       "      <td>0.0</td>\n",
       "      <td>1.0</td>\n",
       "      <td>0.755303</td>\n",
       "      <td>0.484974</td>\n",
       "      <td>1</td>\n",
       "      <td>1</td>\n",
       "      <td>0</td>\n",
       "      <td>1</td>\n",
       "      <td>0.398793</td>\n",
       "      <td>1.14455</td>\n",
       "      <td>-0.270977</td>\n",
       "      <td>20</td>\n",
       "      <td>20</td>\n",
       "      <td>0.398793</td>\n",
       "      <td>0.322013</td>\n",
       "      <td>1.760593</td>\n",
       "    </tr>\n",
       "  </tbody>\n",
       "</table>\n",
       "</div>"
      ],
      "text/plain": [
       "   index  hour_sin  hour_cos  month_sin  month_cos   day_sin   day_cos  Month  \\\n",
       "0      0       0.0       1.0        0.0        1.0  0.755303  0.484974      1   \n",
       "1      1       0.0       1.0        0.0        1.0  0.755303  0.484974      1   \n",
       "2      2       0.0       1.0        0.0        1.0  0.755303  0.484974      1   \n",
       "3      3       0.0       1.0        0.0        1.0  0.755303  0.484974      1   \n",
       "4      4       0.0       1.0        0.0        1.0  0.755303  0.484974      1   \n",
       "\n",
       "   DayOfWeek  HourofDay  Day    T_ctrl  T_stp_heat  Humidity  auxHeat1  fan  \\\n",
       "0          1          0    1  1.177675     1.14455 -0.270977         0    0   \n",
       "1          1          0    1  1.177675     1.14455 -0.270977         0   17   \n",
       "2          1          0    1  1.177675     1.14455 -0.270977         6   19   \n",
       "3          1          0    1  0.398793     1.14455 -0.270977        20   20   \n",
       "4          1          0    1  0.398793     1.14455 -0.270977        20   20   \n",
       "\n",
       "   Thermostat_Temperature     T_out    RH_out  \n",
       "0                1.177675  0.322013  1.760593  \n",
       "1                1.177675  0.322013  1.760593  \n",
       "2                1.177675  0.322013  1.760593  \n",
       "3                0.398793  0.322013  1.760593  \n",
       "4                0.398793  0.322013  1.760593  "
      ]
     },
     "execution_count": 7,
     "metadata": {},
     "output_type": "execute_result"
    }
   ],
   "source": [
    "house_data.head()"
   ]
  },
  {
   "cell_type": "code",
   "execution_count": 8,
   "metadata": {},
   "outputs": [
    {
     "data": {
      "text/plain": [
       "12    8918\n",
       "11    8621\n",
       "1     8612\n",
       "3     8255\n",
       "4     8244\n",
       "10    7311\n",
       "2     5221\n",
       "5     4975\n",
       "6     1305\n",
       "Name: Month, dtype: int64"
      ]
     },
     "execution_count": 8,
     "metadata": {},
     "output_type": "execute_result"
    }
   ],
   "source": [
    "house_data.Month.value_counts()"
   ]
  },
  {
   "cell_type": "code",
   "execution_count": 9,
   "metadata": {},
   "outputs": [],
   "source": [
    "def series_to_supervised(data, n_in = 1, n_out = 1, dropnan = True):\n",
    "    \n",
    "    n_vars = 1 if type(data) is list else data.shape[1]\n",
    "    df = DataFrame(data)\n",
    "    cols, names = list(), list()\n",
    "    \n",
    "    # input sequence (t-n, ... t-1)\n",
    "    for i in range(n_in, 0, -1):\n",
    "        cols.append(df.shift(i))\n",
    "        names += [('var%d(t-%d)' % (j+1, i)) for j in range(n_vars)]\n",
    "    \n",
    "    # forecast sequence (t, t+1, ... t+n)\n",
    "    for i in range(0, n_out):\n",
    "        cols.append(df.shift(-i))\n",
    "        if i == 0:\n",
    "            names += [('var%d(t)' % (j+1)) for j in range(n_vars)]\n",
    "        else:\n",
    "            names += [('var%d(t+%d)' % (j+1, i)) for j in range(n_vars)]\n",
    "    # put it all together\n",
    "    agg = concat(cols, axis=1)\n",
    "    agg.columns = names\n",
    "    # drop rows with NaN values\n",
    "    if dropnan:\n",
    "        agg.dropna(inplace=True)\n",
    "    return agg"
   ]
  },
  {
   "cell_type": "markdown",
   "metadata": {},
   "source": [
    "# October"
   ]
  },
  {
   "cell_type": "code",
   "execution_count": 10,
   "metadata": {},
   "outputs": [
    {
     "name": "stdout",
     "output_type": "stream",
     "text": [
      "(5844, 34) (5844, 21) (1461, 34) (1461, 21)\n"
     ]
    }
   ],
   "source": [
    "working_df = house_data[house_data.Month == 10]\n",
    "\n",
    "working_df = working_df[['T_ctrl', 'T_stp_heat', 'auxHeat1', 'T_out', 'RH_out']]\n",
    "cols = ['T_ctrl', 'T_stp_heat', 'T_out', 'RH_out', 'auxHeat1']\n",
    "working_df = working_df[cols]\n",
    "\n",
    "reframed = series_to_supervised(working_df, 6, 1)\n",
    "\n",
    "y_auxHeat = reframed['var5(t)']\n",
    "y_auxHeat = to_categorical(y_auxHeat)\n",
    "X = reframed.drop(labels = [\"var5(t)\"], axis = 1)\n",
    "\n",
    "X_train, X_test, y_train, y_test = train_test_split(X, y_auxHeat, test_size = 0.2, shuffle = True)\n",
    "\n",
    "X_train = X_train.values\n",
    "X_test = X_test.values\n",
    "\n",
    "print(X_train.shape, y_train.shape, X_test.shape, y_test.shape)"
   ]
  },
  {
   "cell_type": "code",
   "execution_count": 11,
   "metadata": {},
   "outputs": [
    {
     "name": "stdout",
     "output_type": "stream",
     "text": [
      "Train on 5844 samples, validate on 1461 samples\n",
      "Epoch 1/20\n",
      "5844/5844 [==============================] - 3s 460us/sample - loss: 0.4460 - accuracy: 0.9577 - val_loss: 0.1927 - val_accuracy: 0.9685\n",
      "Epoch 2/20\n",
      "5844/5844 [==============================] - 2s 366us/sample - loss: 0.1650 - accuracy: 0.9738 - val_loss: 0.1854 - val_accuracy: 0.9713\n",
      "Epoch 3/20\n",
      "5844/5844 [==============================] - 2s 369us/sample - loss: 0.1555 - accuracy: 0.9752 - val_loss: 0.1798 - val_accuracy: 0.9740\n",
      "Epoch 4/20\n",
      "5844/5844 [==============================] - 2s 368us/sample - loss: 0.1503 - accuracy: 0.9766 - val_loss: 0.1850 - val_accuracy: 0.9733\n",
      "Epoch 5/20\n",
      "5844/5844 [==============================] - 2s 364us/sample - loss: 0.1451 - accuracy: 0.9771 - val_loss: 0.1754 - val_accuracy: 0.9726\n",
      "Epoch 6/20\n",
      "5844/5844 [==============================] - 2s 404us/sample - loss: 0.1454 - accuracy: 0.9778 - val_loss: 0.1691 - val_accuracy: 0.9740\n",
      "Epoch 7/20\n",
      "5844/5844 [==============================] - 2s 411us/sample - loss: 0.1433 - accuracy: 0.9772 - val_loss: 0.1696 - val_accuracy: 0.9740\n",
      "Epoch 8/20\n",
      "5844/5844 [==============================] - 2s 364us/sample - loss: 0.1390 - accuracy: 0.9772 - val_loss: 0.1685 - val_accuracy: 0.9740\n",
      "Epoch 9/20\n",
      "5844/5844 [==============================] - 2s 365us/sample - loss: 0.1394 - accuracy: 0.9776 - val_loss: 0.1731 - val_accuracy: 0.9747\n",
      "Epoch 10/20\n",
      "5844/5844 [==============================] - 2s 362us/sample - loss: 0.1369 - accuracy: 0.9779 - val_loss: 0.1649 - val_accuracy: 0.9740\n",
      "Epoch 11/20\n",
      "5844/5844 [==============================] - 2s 364us/sample - loss: 0.1352 - accuracy: 0.9783 - val_loss: 0.1654 - val_accuracy: 0.9740\n",
      "Epoch 12/20\n",
      "5844/5844 [==============================] - 2s 363us/sample - loss: 0.1353 - accuracy: 0.9788 - val_loss: 0.1691 - val_accuracy: 0.9747\n",
      "Epoch 13/20\n",
      "5844/5844 [==============================] - 2s 369us/sample - loss: 0.1343 - accuracy: 0.9784 - val_loss: 0.1656 - val_accuracy: 0.9740\n",
      "Epoch 14/20\n",
      "5844/5844 [==============================] - 2s 365us/sample - loss: 0.1328 - accuracy: 0.9784 - val_loss: 0.1690 - val_accuracy: 0.9740\n",
      "Epoch 15/20\n",
      "5844/5844 [==============================] - 2s 364us/sample - loss: 0.1313 - accuracy: 0.9786 - val_loss: 0.1594 - val_accuracy: 0.9740\n",
      "Epoch 16/20\n",
      "5844/5844 [==============================] - 2s 364us/sample - loss: 0.1296 - accuracy: 0.9786 - val_loss: 0.1612 - val_accuracy: 0.9740\n",
      "Epoch 17/20\n",
      "5844/5844 [==============================] - 2s 365us/sample - loss: 0.1290 - accuracy: 0.9786 - val_loss: 0.1667 - val_accuracy: 0.9740\n",
      "Epoch 18/20\n",
      "5844/5844 [==============================] - 2s 368us/sample - loss: 0.1296 - accuracy: 0.9790 - val_loss: 0.1632 - val_accuracy: 0.9740\n",
      "Epoch 19/20\n",
      "5844/5844 [==============================] - 2s 364us/sample - loss: 0.1284 - accuracy: 0.9790 - val_loss: 0.1598 - val_accuracy: 0.9747\n",
      "Epoch 20/20\n",
      "5844/5844 [==============================] - 2s 366us/sample - loss: 0.1263 - accuracy: 0.9790 - val_loss: 0.1656 - val_accuracy: 0.9740\n"
     ]
    }
   ],
   "source": [
    "classifier = Sequential()\n",
    "\n",
    "# Adding the input layer and the first hidden layer\n",
    "classifier.add(Dense(units = 24, kernel_initializer = 'uniform', activation = 'relu', input_dim = 34))\n",
    "\n",
    "# Adding the second hidden layer\n",
    "classifier.add(Dense(units = 24, kernel_initializer = 'uniform', activation = 'relu'))\n",
    "\n",
    "# Adding the output layer\n",
    "classifier.add(Dense(units = 21, kernel_initializer = 'uniform', activation = 'softmax'))\n",
    "\n",
    "# Compiling the ANN\n",
    "classifier.compile(optimizer = 'adam', loss = 'categorical_crossentropy', metrics = ['accuracy']) \n",
    "\n",
    "# Fitting the ANN to the Training set\n",
    "history = classifier.fit(X_train, y_train, validation_data = (X_test, y_test), batch_size = 10, epochs = 20, shuffle = True)"
   ]
  },
  {
   "cell_type": "code",
   "execution_count": 12,
   "metadata": {},
   "outputs": [
    {
     "data": {
      "image/png": "[encoded data removed]",
      "text/plain": [
       "<Figure size 432x288 with 1 Axes>"
      ]
     },
     "metadata": {
      "needs_background": "light"
     },
     "output_type": "display_data"
    }
   ],
   "source": [
    "plt.plot(history.history['loss'], label = 'train')\n",
    "plt.plot(history.history['val_loss'], label = 'test')\n",
    "plt.legend()\n",
    "plt.show()"
   ]
  },
  {
   "cell_type": "code",
   "execution_count": 13,
   "metadata": {},
   "outputs": [
    {
     "data": {
      "image/png": "[encoded data removed]",
      "text/plain": [
       "<Figure size 432x288 with 1 Axes>"
      ]
     },
     "metadata": {
      "needs_background": "light"
     },
     "output_type": "display_data"
    }
   ],
   "source": [
    "plt.plot(history.history['accuracy'], label = 'train')\n",
    "plt.plot(history.history['val_accuracy'], label = 'test')\n",
    "plt.legend()\n",
    "plt.show()"
   ]
  },
  {
   "cell_type": "code",
   "execution_count": 14,
   "metadata": {},
   "outputs": [
    {
     "name": "stdout",
     "output_type": "stream",
     "text": [
      "21795\n",
      "22500\n",
      "Error Percentage in predicted values is : 3.2346868547832073 %\n"
     ]
    }
   ],
   "source": [
    "y_predicted = classifier.predict(X_test)\n",
    "\n",
    "y_predicted = np.argmax(y_predicted, axis = 1)\n",
    "\n",
    "y_test = np.argmax(y_test, axis = 1)\n",
    "\n",
    "test_sum = 0\n",
    "for i in range(len(y_test)):\n",
    "    test_sum += (y_test[i] * 15)\n",
    "\n",
    "print(test_sum)\n",
    "\n",
    "predicted_sum = 0\n",
    "for i in range(len(y_predicted)):\n",
    "    predicted_sum += (y_predicted[i] * 15)\n",
    "\n",
    "print(predicted_sum)\n",
    "\n",
    "print(\"Error Percentage in predicted values is : {} %\".format(np.absolute((predicted_sum - test_sum)/test_sum)*100))\n",
    "err.append(np.absolute((predicted_sum - test_sum)/test_sum)*100)"
   ]
  },
  {
   "cell_type": "code",
   "execution_count": 15,
   "metadata": {},
   "outputs": [
    {
     "data": {
      "text/plain": [
       "0.964766674272015"
      ]
     },
     "execution_count": 15,
     "metadata": {},
     "output_type": "execute_result"
    }
   ],
   "source": [
    "f1_score(y_test, y_predicted, average = 'weighted')"
   ]
  },
  {
   "cell_type": "code",
   "execution_count": 16,
   "metadata": {},
   "outputs": [],
   "source": [
    "f1.append(f1_score(y_test, y_predicted, average = 'weighted'))"
   ]
  },
  {
   "cell_type": "code",
   "execution_count": 17,
   "metadata": {},
   "outputs": [],
   "source": [
    "acc.append(max(history.history['accuracy']))"
   ]
  },
  {
   "cell_type": "markdown",
   "metadata": {},
   "source": [
    "# November"
   ]
  },
  {
   "cell_type": "code",
   "execution_count": 18,
   "metadata": {},
   "outputs": [
    {
     "name": "stdout",
     "output_type": "stream",
     "text": [
      "(6892, 34) (6892, 21) (1723, 34) (1723, 21)\n"
     ]
    }
   ],
   "source": [
    "working_df = house_data[house_data.Month == 11]\n",
    "\n",
    "working_df = working_df[['T_ctrl', 'T_stp_heat', 'auxHeat1', 'T_out', 'RH_out']]\n",
    "cols = ['T_ctrl', 'T_stp_heat', 'T_out', 'RH_out', 'auxHeat1']\n",
    "working_df = working_df[cols]\n",
    "\n",
    "reframed = series_to_supervised(working_df, 6, 1)\n",
    "\n",
    "y_auxHeat = reframed['var5(t)']\n",
    "y_auxHeat = to_categorical(y_auxHeat)\n",
    "X = reframed.drop(labels = [\"var5(t)\"], axis = 1)\n",
    "\n",
    "X_train, X_test, y_train, y_test = train_test_split(X, y_auxHeat, test_size = 0.2, shuffle = True)\n",
    "\n",
    "X_train = X_train.values\n",
    "X_test = X_test.values\n",
    "\n",
    "print(X_train.shape, y_train.shape, X_test.shape, y_test.shape)"
   ]
  },
  {
   "cell_type": "code",
   "execution_count": 19,
   "metadata": {},
   "outputs": [
    {
     "name": "stdout",
     "output_type": "stream",
     "text": [
      "Train on 6892 samples, validate on 1723 samples\n",
      "Epoch 1/20\n",
      "6892/6892 [==============================] - 3s 433us/sample - loss: 0.7881 - accuracy: 0.8745 - val_loss: 0.3949 - val_accuracy: 0.9338\n",
      "Epoch 2/20\n",
      "6892/6892 [==============================] - 3s 393us/sample - loss: 0.4564 - accuracy: 0.9161 - val_loss: 0.3815 - val_accuracy: 0.9367\n",
      "Epoch 3/20\n",
      "6892/6892 [==============================] - 3s 379us/sample - loss: 0.4349 - accuracy: 0.9211 - val_loss: 0.3778 - val_accuracy: 0.9362\n",
      "Epoch 4/20\n",
      "6892/6892 [==============================] - 3s 374us/sample - loss: 0.4240 - accuracy: 0.9234 - val_loss: 0.3666 - val_accuracy: 0.9385\n",
      "Epoch 5/20\n",
      "6892/6892 [==============================] - 3s 425us/sample - loss: 0.4156 - accuracy: 0.9241 - val_loss: 0.3591 - val_accuracy: 0.9385\n",
      "Epoch 6/20\n",
      "6892/6892 [==============================] - 3s 457us/sample - loss: 0.4088 - accuracy: 0.9251 - val_loss: 0.3521 - val_accuracy: 0.9379\n",
      "Epoch 7/20\n",
      "6892/6892 [==============================] - 5s 699us/sample - loss: 0.4002 - accuracy: 0.9250 - val_loss: 0.3531 - val_accuracy: 0.9391\n",
      "Epoch 8/20\n",
      "6892/6892 [==============================] - 5s 665us/sample - loss: 0.3923 - accuracy: 0.9250 - val_loss: 0.3631 - val_accuracy: 0.9344\n",
      "Epoch 9/20\n",
      "6892/6892 [==============================] - 4s 575us/sample - loss: 0.3860 - accuracy: 0.9267 - val_loss: 0.3379 - val_accuracy: 0.9396\n",
      "Epoch 10/20\n",
      "6892/6892 [==============================] - 4s 634us/sample - loss: 0.3834 - accuracy: 0.9272 - val_loss: 0.3418 - val_accuracy: 0.9420\n",
      "Epoch 11/20\n",
      "6892/6892 [==============================] - 4s 544us/sample - loss: 0.3786 - accuracy: 0.9267 - val_loss: 0.3394 - val_accuracy: 0.9420\n",
      "Epoch 12/20\n",
      "6892/6892 [==============================] - 4s 530us/sample - loss: 0.3790 - accuracy: 0.9270 - val_loss: 0.3402 - val_accuracy: 0.9408\n",
      "Epoch 13/20\n",
      "6892/6892 [==============================] - 4s 575us/sample - loss: 0.3720 - accuracy: 0.9279 - val_loss: 0.3515 - val_accuracy: 0.9414\n",
      "Epoch 14/20\n",
      "6892/6892 [==============================] - 4s 619us/sample - loss: 0.3690 - accuracy: 0.9272 - val_loss: 0.3393 - val_accuracy: 0.9408\n",
      "Epoch 15/20\n",
      "6892/6892 [==============================] - 3s 487us/sample - loss: 0.3689 - accuracy: 0.9279 - val_loss: 0.3311 - val_accuracy: 0.9408\n",
      "Epoch 16/20\n",
      "6892/6892 [==============================] - 3s 481us/sample - loss: 0.3665 - accuracy: 0.9270 - val_loss: 0.3322 - val_accuracy: 0.9420\n",
      "Epoch 17/20\n",
      "6892/6892 [==============================] - 3s 471us/sample - loss: 0.3644 - accuracy: 0.9272 - val_loss: 0.3343 - val_accuracy: 0.9408\n",
      "Epoch 18/20\n",
      "6892/6892 [==============================] - 3s 391us/sample - loss: 0.3628 - accuracy: 0.9277 - val_loss: 0.3355 - val_accuracy: 0.9414\n",
      "Epoch 19/20\n",
      "6892/6892 [==============================] - 3s 371us/sample - loss: 0.3608 - accuracy: 0.9275 - val_loss: 0.3320 - val_accuracy: 0.9420\n",
      "Epoch 20/20\n",
      "6892/6892 [==============================] - 3s 402us/sample - loss: 0.3574 - accuracy: 0.9279 - val_loss: 0.3326 - val_accuracy: 0.9420\n"
     ]
    }
   ],
   "source": [
    "classifier = Sequential()\n",
    "\n",
    "# Adding the input layer and the first hidden layer\n",
    "classifier.add(Dense(units = 24, kernel_initializer = 'uniform', activation = 'relu', input_dim = 34))\n",
    "\n",
    "# Adding the second hidden layer\n",
    "classifier.add(Dense(units = 24, kernel_initializer = 'uniform', activation = 'relu'))\n",
    "\n",
    "# Adding the output layer\n",
    "classifier.add(Dense(units = 21, kernel_initializer = 'uniform', activation = 'softmax'))\n",
    "\n",
    "# Compiling the ANN\n",
    "classifier.compile(optimizer = 'adam', loss = 'categorical_crossentropy', metrics = ['accuracy']) \n",
    "\n",
    "# Fitting the ANN to the Training set\n",
    "history = classifier.fit(X_train, y_train, validation_data = (X_test, y_test), batch_size = 10, epochs = 20, shuffle = True)"
   ]
  },
  {
   "cell_type": "code",
   "execution_count": 20,
   "metadata": {},
   "outputs": [
    {
     "data": {
      "image/png": "[encoded data removed]",
      "text/plain": [
       "<Figure size 432x288 with 1 Axes>"
      ]
     },
     "metadata": {
      "needs_background": "light"
     },
     "output_type": "display_data"
    }
   ],
   "source": [
    "plt.plot(history.history['loss'], label = 'train')\n",
    "plt.plot(history.history['val_loss'], label = 'test')\n",
    "plt.legend()\n",
    "plt.show()"
   ]
  },
  {
   "cell_type": "code",
   "execution_count": 21,
   "metadata": {},
   "outputs": [
    {
     "data": {
      "image/png": "[encoded data removed]",
      "text/plain": [
       "<Figure size 432x288 with 1 Axes>"
      ]
     },
     "metadata": {
      "needs_background": "light"
     },
     "output_type": "display_data"
    }
   ],
   "source": [
    "plt.plot(history.history['accuracy'], label = 'train')\n",
    "plt.plot(history.history['val_accuracy'], label = 'test')\n",
    "plt.legend()\n",
    "plt.show()"
   ]
  },
  {
   "cell_type": "code",
   "execution_count": 22,
   "metadata": {},
   "outputs": [
    {
     "name": "stdout",
     "output_type": "stream",
     "text": [
      "92415\n",
      "93600\n",
      "Error Percentage in predicted values is : 1.2822593734783314 %\n"
     ]
    }
   ],
   "source": [
    "y_predicted = classifier.predict(X_test)\n",
    "\n",
    "y_predicted = np.argmax(y_predicted, axis = 1)\n",
    "\n",
    "y_test = np.argmax(y_test, axis = 1)\n",
    "\n",
    "test_sum = 0\n",
    "for i in range(len(y_test)):\n",
    "    test_sum += (y_test[i] * 15)\n",
    "\n",
    "print(test_sum)\n",
    "\n",
    "predicted_sum = 0\n",
    "for i in range(len(y_predicted)):\n",
    "    predicted_sum += (y_predicted[i] * 15)\n",
    "\n",
    "print(predicted_sum)\n",
    "\n",
    "print(\"Error Percentage in predicted values is : {} %\".format(np.absolute((predicted_sum - test_sum)/test_sum)*100))\n",
    "err.append(np.absolute((predicted_sum - test_sum)/test_sum)*100)"
   ]
  },
  {
   "cell_type": "code",
   "execution_count": 23,
   "metadata": {},
   "outputs": [
    {
     "data": {
      "text/plain": [
       "0.9174807791384109"
      ]
     },
     "execution_count": 23,
     "metadata": {},
     "output_type": "execute_result"
    }
   ],
   "source": [
    "f1_score(y_test, y_predicted, average = 'weighted')"
   ]
  },
  {
   "cell_type": "code",
   "execution_count": 24,
   "metadata": {},
   "outputs": [],
   "source": [
    "f1.append(f1_score(y_test, y_predicted, average = 'weighted'))"
   ]
  },
  {
   "cell_type": "code",
   "execution_count": 25,
   "metadata": {},
   "outputs": [],
   "source": [
    "acc.append(max(history.history['accuracy']))"
   ]
  },
  {
   "cell_type": "markdown",
   "metadata": {},
   "source": [
    "# December"
   ]
  },
  {
   "cell_type": "code",
   "execution_count": 26,
   "metadata": {},
   "outputs": [
    {
     "name": "stdout",
     "output_type": "stream",
     "text": [
      "(7129, 34) (7129, 21) (1783, 34) (1783, 21)\n"
     ]
    }
   ],
   "source": [
    "working_df = house_data[house_data.Month == 12]\n",
    "\n",
    "working_df = working_df[['T_ctrl', 'T_stp_heat', 'auxHeat1', 'T_out', 'RH_out']]\n",
    "cols = ['T_ctrl', 'T_stp_heat', 'T_out', 'RH_out', 'auxHeat1']\n",
    "working_df = working_df[cols]\n",
    "\n",
    "reframed = series_to_supervised(working_df, 6, 1)\n",
    "\n",
    "y_auxHeat = reframed['var5(t)']\n",
    "y_auxHeat = to_categorical(y_auxHeat)\n",
    "X = reframed.drop(labels = [\"var5(t)\"], axis = 1)\n",
    "\n",
    "X_train, X_test, y_train, y_test = train_test_split(X, y_auxHeat, test_size = 0.2, shuffle = True)\n",
    "\n",
    "X_train = X_train.values\n",
    "X_test = X_test.values\n",
    "\n",
    "print(X_train.shape, y_train.shape, X_test.shape, y_test.shape)"
   ]
  },
  {
   "cell_type": "code",
   "execution_count": 27,
   "metadata": {},
   "outputs": [
    {
     "name": "stdout",
     "output_type": "stream",
     "text": [
      "Train on 7129 samples, validate on 1783 samples\n",
      "Epoch 1/20\n",
      "7129/7129 [==============================] - 3s 482us/sample - loss: 0.8008 - accuracy: 0.8645 - val_loss: 0.5310 - val_accuracy: 0.9091\n",
      "Epoch 2/20\n",
      "7129/7129 [==============================] - 3s 380us/sample - loss: 0.4607 - accuracy: 0.9186 - val_loss: 0.4953 - val_accuracy: 0.9153\n",
      "Epoch 3/20\n",
      "7129/7129 [==============================] - 3s 375us/sample - loss: 0.4421 - accuracy: 0.9213 - val_loss: 0.4795 - val_accuracy: 0.9170\n",
      "Epoch 4/20\n",
      "7129/7129 [==============================] - 3s 389us/sample - loss: 0.4313 - accuracy: 0.9236 - val_loss: 0.4819 - val_accuracy: 0.9192\n",
      "Epoch 5/20\n",
      "7129/7129 [==============================] - 3s 484us/sample - loss: 0.4256 - accuracy: 0.9231 - val_loss: 0.4913 - val_accuracy: 0.9181\n",
      "Epoch 6/20\n",
      "7129/7129 [==============================] - 4s 515us/sample - loss: 0.4186 - accuracy: 0.9245 - val_loss: 0.4635 - val_accuracy: 0.9192\n",
      "Epoch 7/20\n",
      "7129/7129 [==============================] - 3s 389us/sample - loss: 0.4121 - accuracy: 0.9259 - val_loss: 0.4641 - val_accuracy: 0.9204\n",
      "Epoch 8/20\n",
      "7129/7129 [==============================] - 3s 386us/sample - loss: 0.4047 - accuracy: 0.9279 - val_loss: 0.4645 - val_accuracy: 0.9209\n",
      "Epoch 9/20\n",
      "7129/7129 [==============================] - 3s 384us/sample - loss: 0.4009 - accuracy: 0.9286 - val_loss: 0.4691 - val_accuracy: 0.9192\n",
      "Epoch 10/20\n",
      "7129/7129 [==============================] - 3s 387us/sample - loss: 0.3974 - accuracy: 0.9285 - val_loss: 0.4493 - val_accuracy: 0.9204\n",
      "Epoch 11/20\n",
      "7129/7129 [==============================] - 3s 387us/sample - loss: 0.3955 - accuracy: 0.9280 - val_loss: 0.4603 - val_accuracy: 0.9215\n",
      "Epoch 12/20\n",
      "7129/7129 [==============================] - 3s 393us/sample - loss: 0.3916 - accuracy: 0.9289 - val_loss: 0.4539 - val_accuracy: 0.9204\n",
      "Epoch 13/20\n",
      "7129/7129 [==============================] - 3s 393us/sample - loss: 0.3905 - accuracy: 0.9292 - val_loss: 0.4830 - val_accuracy: 0.9091\n",
      "Epoch 14/20\n",
      "7129/7129 [==============================] - 3s 394us/sample - loss: 0.3868 - accuracy: 0.9290 - val_loss: 0.4501 - val_accuracy: 0.9220\n",
      "Epoch 15/20\n",
      "7129/7129 [==============================] - 3s 422us/sample - loss: 0.3876 - accuracy: 0.9286 - val_loss: 0.4492 - val_accuracy: 0.9209\n",
      "Epoch 16/20\n",
      "7129/7129 [==============================] - 3s 392us/sample - loss: 0.3853 - accuracy: 0.9292 - val_loss: 0.4487 - val_accuracy: 0.9209\n",
      "Epoch 17/20\n",
      "7129/7129 [==============================] - 3s 395us/sample - loss: 0.3832 - accuracy: 0.9300 - val_loss: 0.4559 - val_accuracy: 0.9209\n",
      "Epoch 18/20\n",
      "7129/7129 [==============================] - 3s 421us/sample - loss: 0.3825 - accuracy: 0.9296 - val_loss: 0.4464 - val_accuracy: 0.9215\n",
      "Epoch 19/20\n",
      "7129/7129 [==============================] - 3s 397us/sample - loss: 0.3801 - accuracy: 0.9299 - val_loss: 0.4498 - val_accuracy: 0.9215\n",
      "Epoch 20/20\n",
      "7129/7129 [==============================] - 3s 396us/sample - loss: 0.3785 - accuracy: 0.9303 - val_loss: 0.4438 - val_accuracy: 0.9204\n"
     ]
    }
   ],
   "source": [
    "classifier = Sequential()\n",
    "\n",
    "# Adding the input layer and the first hidden layer\n",
    "classifier.add(Dense(units = 24, kernel_initializer = 'uniform', activation = 'relu', input_dim = 34))\n",
    "\n",
    "# Adding the second hidden layer\n",
    "classifier.add(Dense(units = 24, kernel_initializer = 'uniform', activation = 'relu'))\n",
    "\n",
    "# Adding the output layer\n",
    "classifier.add(Dense(units = 21, kernel_initializer = 'uniform', activation = 'softmax'))\n",
    "\n",
    "# Compiling the ANN\n",
    "classifier.compile(optimizer = 'adam', loss = 'categorical_crossentropy', metrics = ['accuracy']) \n",
    "\n",
    "# Fitting the ANN to the Training set\n",
    "history = classifier.fit(X_train, y_train, validation_data = (X_test, y_test), batch_size = 10, epochs = 20, shuffle = True)"
   ]
  },
  {
   "cell_type": "code",
   "execution_count": 28,
   "metadata": {},
   "outputs": [
    {
     "data": {
      "image/png": "[encoded data removed]",
      "text/plain": [
       "<Figure size 432x288 with 1 Axes>"
      ]
     },
     "metadata": {
      "needs_background": "light"
     },
     "output_type": "display_data"
    }
   ],
   "source": [
    "plt.plot(history.history['loss'], label = 'train')\n",
    "plt.plot(history.history['val_loss'], label = 'test')\n",
    "plt.legend()\n",
    "plt.show()"
   ]
  },
  {
   "cell_type": "code",
   "execution_count": 29,
   "metadata": {},
   "outputs": [
    {
     "data": {
      "image/png": "[encoded data removed]",
      "text/plain": [
       "<Figure size 432x288 with 1 Axes>"
      ]
     },
     "metadata": {
      "needs_background": "light"
     },
     "output_type": "display_data"
    }
   ],
   "source": [
    "plt.plot(history.history['accuracy'], label = 'train')\n",
    "plt.plot(history.history['val_accuracy'], label = 'test')\n",
    "plt.legend()\n",
    "plt.show()"
   ]
  },
  {
   "cell_type": "code",
   "execution_count": 30,
   "metadata": {},
   "outputs": [
    {
     "name": "stdout",
     "output_type": "stream",
     "text": [
      "125715\n",
      "123900\n",
      "Error Percentage in predicted values is : 1.4437417969216084 %\n"
     ]
    }
   ],
   "source": [
    "y_predicted = classifier.predict(X_test)\n",
    "\n",
    "y_predicted = np.argmax(y_predicted, axis = 1)\n",
    "\n",
    "y_test = np.argmax(y_test, axis = 1)\n",
    "\n",
    "test_sum = 0\n",
    "for i in range(len(y_test)):\n",
    "    test_sum += (y_test[i] * 15)\n",
    "\n",
    "print(test_sum)\n",
    "\n",
    "predicted_sum = 0\n",
    "for i in range(len(y_predicted)):\n",
    "    predicted_sum += (y_predicted[i] * 15)\n",
    "\n",
    "print(predicted_sum)\n",
    "\n",
    "print(\"Error Percentage in predicted values is : {} %\".format(np.absolute((predicted_sum - test_sum)/test_sum)*100))\n",
    "err.append(np.absolute((predicted_sum - test_sum)/test_sum)*100)"
   ]
  },
  {
   "cell_type": "code",
   "execution_count": 31,
   "metadata": {},
   "outputs": [
    {
     "data": {
      "text/plain": [
       "0.8873982625759211"
      ]
     },
     "execution_count": 31,
     "metadata": {},
     "output_type": "execute_result"
    }
   ],
   "source": [
    "f1_score(y_test, y_predicted, average = 'weighted')"
   ]
  },
  {
   "cell_type": "code",
   "execution_count": 32,
   "metadata": {},
   "outputs": [],
   "source": [
    "f1.append(f1_score(y_test, y_predicted, average = 'weighted'))"
   ]
  },
  {
   "cell_type": "code",
   "execution_count": 33,
   "metadata": {},
   "outputs": [],
   "source": [
    "acc.append(max(history.history['accuracy']))"
   ]
  },
  {
   "cell_type": "markdown",
   "metadata": {},
   "source": [
    "# January"
   ]
  },
  {
   "cell_type": "code",
   "execution_count": 34,
   "metadata": {},
   "outputs": [
    {
     "name": "stdout",
     "output_type": "stream",
     "text": [
      "(6884, 34) (6884, 21) (1722, 34) (1722, 21)\n"
     ]
    }
   ],
   "source": [
    "working_df = house_data[house_data.Month == 1]\n",
    "\n",
    "working_df = working_df[['T_ctrl', 'T_stp_heat', 'auxHeat1', 'T_out', 'RH_out']]\n",
    "cols = ['T_ctrl', 'T_stp_heat', 'T_out', 'RH_out', 'auxHeat1']\n",
    "working_df = working_df[cols]\n",
    "\n",
    "reframed = series_to_supervised(working_df, 6, 1)\n",
    "\n",
    "y_auxHeat = reframed['var5(t)']\n",
    "y_auxHeat = to_categorical(y_auxHeat)\n",
    "X = reframed.drop(labels = [\"var5(t)\"], axis = 1)\n",
    "\n",
    "X_train, X_test, y_train, y_test = train_test_split(X, y_auxHeat, test_size = 0.2, shuffle = True)\n",
    "\n",
    "X_train = X_train.values\n",
    "X_test = X_test.values\n",
    "\n",
    "print(X_train.shape, y_train.shape, X_test.shape, y_test.shape)"
   ]
  },
  {
   "cell_type": "code",
   "execution_count": 35,
   "metadata": {},
   "outputs": [
    {
     "name": "stdout",
     "output_type": "stream",
     "text": [
      "Train on 6884 samples, validate on 1722 samples\n",
      "Epoch 1/20\n",
      "6884/6884 [==============================] - 3s 424us/sample - loss: 1.0537 - accuracy: 0.7991 - val_loss: 0.8556 - val_accuracy: 0.8415\n",
      "Epoch 2/20\n",
      "6884/6884 [==============================] - 3s 375us/sample - loss: 0.7931 - accuracy: 0.8497 - val_loss: 0.7966 - val_accuracy: 0.8484\n",
      "Epoch 3/20\n",
      "6884/6884 [==============================] - 3s 373us/sample - loss: 0.7478 - accuracy: 0.8539 - val_loss: 0.7725 - val_accuracy: 0.8496\n",
      "Epoch 4/20\n",
      "6884/6884 [==============================] - 3s 377us/sample - loss: 0.7328 - accuracy: 0.8575 - val_loss: 0.7664 - val_accuracy: 0.8479\n",
      "Epoch 5/20\n",
      "6884/6884 [==============================] - 3s 375us/sample - loss: 0.7287 - accuracy: 0.8568 - val_loss: 0.7537 - val_accuracy: 0.8502\n",
      "Epoch 6/20\n",
      "6884/6884 [==============================] - 3s 380us/sample - loss: 0.7188 - accuracy: 0.8591 - val_loss: 0.7427 - val_accuracy: 0.8508\n",
      "Epoch 7/20\n",
      "6884/6884 [==============================] - 3s 377us/sample - loss: 0.7139 - accuracy: 0.8594 - val_loss: 0.7447 - val_accuracy: 0.8566\n",
      "Epoch 8/20\n",
      "6884/6884 [==============================] - 3s 378us/sample - loss: 0.7121 - accuracy: 0.8597 - val_loss: 0.7575 - val_accuracy: 0.8525\n",
      "Epoch 9/20\n",
      "6884/6884 [==============================] - 3s 375us/sample - loss: 0.7087 - accuracy: 0.8604 - val_loss: 0.7491 - val_accuracy: 0.8531\n",
      "Epoch 10/20\n",
      "6884/6884 [==============================] - 3s 374us/sample - loss: 0.7061 - accuracy: 0.8598 - val_loss: 0.7340 - val_accuracy: 0.8531\n",
      "Epoch 11/20\n",
      "6884/6884 [==============================] - 3s 376us/sample - loss: 0.7002 - accuracy: 0.8613 - val_loss: 0.7295 - val_accuracy: 0.8554\n",
      "Epoch 12/20\n",
      "6884/6884 [==============================] - 3s 375us/sample - loss: 0.6962 - accuracy: 0.8613 - val_loss: 0.7323 - val_accuracy: 0.8554\n",
      "Epoch 13/20\n",
      "6884/6884 [==============================] - 3s 378us/sample - loss: 0.6929 - accuracy: 0.8616 - val_loss: 0.7370 - val_accuracy: 0.8525\n",
      "Epoch 14/20\n",
      "6884/6884 [==============================] - 3s 383us/sample - loss: 0.6913 - accuracy: 0.8614 - val_loss: 0.7242 - val_accuracy: 0.8548\n",
      "Epoch 15/20\n",
      "6884/6884 [==============================] - 3s 373us/sample - loss: 0.6913 - accuracy: 0.8616 - val_loss: 0.7246 - val_accuracy: 0.8566\n",
      "Epoch 16/20\n",
      "6884/6884 [==============================] - 3s 377us/sample - loss: 0.6899 - accuracy: 0.8620 - val_loss: 0.7217 - val_accuracy: 0.8554\n",
      "Epoch 17/20\n",
      "6884/6884 [==============================] - 3s 376us/sample - loss: 0.6871 - accuracy: 0.8626 - val_loss: 0.7150 - val_accuracy: 0.8560\n",
      "Epoch 18/20\n",
      "6884/6884 [==============================] - 3s 376us/sample - loss: 0.6843 - accuracy: 0.8624 - val_loss: 0.7174 - val_accuracy: 0.8560\n",
      "Epoch 19/20\n",
      "6884/6884 [==============================] - 3s 376us/sample - loss: 0.6823 - accuracy: 0.8627 - val_loss: 0.7191 - val_accuracy: 0.8554\n",
      "Epoch 20/20\n",
      "6884/6884 [==============================] - 3s 381us/sample - loss: 0.6798 - accuracy: 0.8626 - val_loss: 0.7216 - val_accuracy: 0.8571\n"
     ]
    }
   ],
   "source": [
    "classifier = Sequential()\n",
    "\n",
    "# Adding the input layer and the first hidden layer\n",
    "classifier.add(Dense(units = 24, kernel_initializer = 'uniform', activation = 'relu', input_dim = 34))\n",
    "\n",
    "# Adding the second hidden layer\n",
    "classifier.add(Dense(units = 24, kernel_initializer = 'uniform', activation = 'relu'))\n",
    "\n",
    "# Adding the output layer\n",
    "classifier.add(Dense(units = 21, kernel_initializer = 'uniform', activation = 'softmax'))\n",
    "\n",
    "# Compiling the ANN\n",
    "classifier.compile(optimizer = 'adam', loss = 'categorical_crossentropy', metrics = ['accuracy']) \n",
    "\n",
    "# Fitting the ANN to the Training set\n",
    "history = classifier.fit(X_train, y_train, validation_data = (X_test, y_test), batch_size = 10, epochs = 20, shuffle = True)"
   ]
  },
  {
   "cell_type": "code",
   "execution_count": 36,
   "metadata": {},
   "outputs": [
    {
     "data": {
      "image/png": "[encoded data removed]",
      "text/plain": [
       "<Figure size 432x288 with 1 Axes>"
      ]
     },
     "metadata": {
      "needs_background": "light"
     },
     "output_type": "display_data"
    }
   ],
   "source": [
    "plt.plot(history.history['loss'], label = 'train')\n",
    "plt.plot(history.history['val_loss'], label = 'test')\n",
    "plt.legend()\n",
    "plt.show()"
   ]
  },
  {
   "cell_type": "code",
   "execution_count": 37,
   "metadata": {},
   "outputs": [
    {
     "data": {
      "image/png": "[encoded data removed]",
      "text/plain": [
       "<Figure size 432x288 with 1 Axes>"
      ]
     },
     "metadata": {
      "needs_background": "light"
     },
     "output_type": "display_data"
    }
   ],
   "source": [
    "plt.plot(history.history['accuracy'], label = 'train')\n",
    "plt.plot(history.history['val_accuracy'], label = 'test')\n",
    "plt.legend()\n",
    "plt.show()"
   ]
  },
  {
   "cell_type": "code",
   "execution_count": 38,
   "metadata": {},
   "outputs": [
    {
     "name": "stdout",
     "output_type": "stream",
     "text": [
      "162150\n",
      "154800\n",
      "Error Percentage in predicted values is : 4.532839962997224 %\n"
     ]
    }
   ],
   "source": [
    "y_predicted = classifier.predict(X_test)\n",
    "\n",
    "y_predicted = np.argmax(y_predicted, axis = 1)\n",
    "\n",
    "y_test = np.argmax(y_test, axis = 1)\n",
    "\n",
    "test_sum = 0\n",
    "for i in range(len(y_test)):\n",
    "    test_sum += (y_test[i] * 15)\n",
    "\n",
    "print(test_sum)\n",
    "\n",
    "predicted_sum = 0\n",
    "for i in range(len(y_predicted)):\n",
    "    predicted_sum += (y_predicted[i] * 15)\n",
    "\n",
    "print(predicted_sum)\n",
    "\n",
    "print(\"Error Percentage in predicted values is : {} %\".format(np.absolute((predicted_sum - test_sum)/test_sum)*100))\n",
    "err.append(np.absolute((predicted_sum - test_sum)/test_sum)*100)"
   ]
  },
  {
   "cell_type": "code",
   "execution_count": 39,
   "metadata": {},
   "outputs": [
    {
     "data": {
      "text/plain": [
       "0.797357323832491"
      ]
     },
     "execution_count": 39,
     "metadata": {},
     "output_type": "execute_result"
    }
   ],
   "source": [
    "f1_score(y_test, y_predicted, average = 'weighted')"
   ]
  },
  {
   "cell_type": "code",
   "execution_count": 40,
   "metadata": {},
   "outputs": [],
   "source": [
    "f1.append(f1_score(y_test, y_predicted, average = 'weighted'))"
   ]
  },
  {
   "cell_type": "code",
   "execution_count": 41,
   "metadata": {},
   "outputs": [],
   "source": [
    "acc.append(max(history.history['accuracy']))"
   ]
  },
  {
   "cell_type": "markdown",
   "metadata": {},
   "source": [
    "# February"
   ]
  },
  {
   "cell_type": "code",
   "execution_count": 42,
   "metadata": {},
   "outputs": [
    {
     "name": "stdout",
     "output_type": "stream",
     "text": [
      "(4172, 34) (4172, 21) (1043, 34) (1043, 21)\n"
     ]
    }
   ],
   "source": [
    "working_df = house_data[house_data.Month == 2]\n",
    "\n",
    "working_df = working_df[['T_ctrl', 'T_stp_heat', 'auxHeat1', 'T_out', 'RH_out']]\n",
    "cols = ['T_ctrl', 'T_stp_heat', 'T_out', 'RH_out', 'auxHeat1']\n",
    "working_df = working_df[cols]\n",
    "\n",
    "reframed = series_to_supervised(working_df, 6, 1)\n",
    "\n",
    "y_auxHeat = reframed['var5(t)']\n",
    "y_auxHeat = to_categorical(y_auxHeat)\n",
    "X = reframed.drop(labels = [\"var5(t)\"], axis = 1)\n",
    "\n",
    "X_train, X_test, y_train, y_test = train_test_split(X, y_auxHeat, test_size = 0.2, shuffle = True)\n",
    "\n",
    "X_train = X_train.values\n",
    "X_test = X_test.values\n",
    "\n",
    "print(X_train.shape, y_train.shape, X_test.shape, y_test.shape)"
   ]
  },
  {
   "cell_type": "code",
   "execution_count": 43,
   "metadata": {},
   "outputs": [
    {
     "name": "stdout",
     "output_type": "stream",
     "text": [
      "Train on 4172 samples, validate on 1043 samples\n",
      "Epoch 1/20\n",
      "4172/4172 [==============================] - 2s 473us/sample - loss: 1.3000 - accuracy: 0.7821 - val_loss: 0.9268 - val_accuracy: 0.8284\n",
      "Epoch 2/20\n",
      "4172/4172 [==============================] - 2s 384us/sample - loss: 0.8979 - accuracy: 0.8272 - val_loss: 0.8700 - val_accuracy: 0.8341\n",
      "Epoch 3/20\n",
      "4172/4172 [==============================] - 2s 416us/sample - loss: 0.8574 - accuracy: 0.8298 - val_loss: 0.8463 - val_accuracy: 0.8303\n",
      "Epoch 4/20\n",
      "4172/4172 [==============================] - 2s 379us/sample - loss: 0.8367 - accuracy: 0.8325 - val_loss: 0.8303 - val_accuracy: 0.8370\n",
      "Epoch 5/20\n",
      "4172/4172 [==============================] - 2s 384us/sample - loss: 0.8243 - accuracy: 0.8351 - val_loss: 0.8181 - val_accuracy: 0.8389\n",
      "Epoch 6/20\n",
      "4172/4172 [==============================] - 2s 465us/sample - loss: 0.8174 - accuracy: 0.8360 - val_loss: 0.8136 - val_accuracy: 0.8399\n",
      "Epoch 7/20\n",
      "4172/4172 [==============================] - 2s 413us/sample - loss: 0.8089 - accuracy: 0.8372 - val_loss: 0.8229 - val_accuracy: 0.8389\n",
      "Epoch 8/20\n",
      "4172/4172 [==============================] - 2s 384us/sample - loss: 0.8026 - accuracy: 0.8392 - val_loss: 0.8043 - val_accuracy: 0.8418\n",
      "Epoch 9/20\n",
      "4172/4172 [==============================] - 2s 378us/sample - loss: 0.7966 - accuracy: 0.8382 - val_loss: 0.8044 - val_accuracy: 0.8418\n",
      "Epoch 10/20\n",
      "4172/4172 [==============================] - 2s 372us/sample - loss: 0.7939 - accuracy: 0.8382 - val_loss: 0.8086 - val_accuracy: 0.8408\n",
      "Epoch 11/20\n",
      "4172/4172 [==============================] - 2s 379us/sample - loss: 0.7845 - accuracy: 0.8420 - val_loss: 0.7985 - val_accuracy: 0.8437\n",
      "Epoch 12/20\n",
      "4172/4172 [==============================] - 2s 393us/sample - loss: 0.7791 - accuracy: 0.8437 - val_loss: 0.7948 - val_accuracy: 0.8437\n",
      "Epoch 13/20\n",
      "4172/4172 [==============================] - 2s 429us/sample - loss: 0.7744 - accuracy: 0.8437 - val_loss: 0.7913 - val_accuracy: 0.8428\n",
      "Epoch 14/20\n",
      "4172/4172 [==============================] - 2s 386us/sample - loss: 0.7679 - accuracy: 0.8461 - val_loss: 0.7851 - val_accuracy: 0.8447\n",
      "Epoch 15/20\n",
      "4172/4172 [==============================] - 2s 381us/sample - loss: 0.7663 - accuracy: 0.8449 - val_loss: 0.7992 - val_accuracy: 0.8322\n",
      "Epoch 16/20\n",
      "4172/4172 [==============================] - 2s 376us/sample - loss: 0.7624 - accuracy: 0.8454 - val_loss: 0.8078 - val_accuracy: 0.8360\n",
      "Epoch 17/20\n",
      "4172/4172 [==============================] - 2s 379us/sample - loss: 0.7570 - accuracy: 0.8483 - val_loss: 0.7692 - val_accuracy: 0.8456\n",
      "Epoch 18/20\n",
      "4172/4172 [==============================] - 2s 382us/sample - loss: 0.7512 - accuracy: 0.8461 - val_loss: 0.7778 - val_accuracy: 0.8466\n",
      "Epoch 19/20\n",
      "4172/4172 [==============================] - 2s 379us/sample - loss: 0.7479 - accuracy: 0.8480 - val_loss: 0.7731 - val_accuracy: 0.8456\n",
      "Epoch 20/20\n",
      "4172/4172 [==============================] - 2s 376us/sample - loss: 0.7471 - accuracy: 0.8471 - val_loss: 0.7827 - val_accuracy: 0.8456\n"
     ]
    }
   ],
   "source": [
    "classifier = Sequential()\n",
    "\n",
    "# Adding the input layer and the first hidden layer\n",
    "classifier.add(Dense(units = 24, kernel_initializer = 'uniform', activation = 'relu', input_dim = 34))\n",
    "\n",
    "# Adding the second hidden layer\n",
    "classifier.add(Dense(units = 24, kernel_initializer = 'uniform', activation = 'relu'))\n",
    "\n",
    "# Adding the output layer\n",
    "classifier.add(Dense(units = 21, kernel_initializer = 'uniform', activation = 'softmax'))\n",
    "\n",
    "# Compiling the ANN\n",
    "classifier.compile(optimizer = 'adam', loss = 'categorical_crossentropy', metrics = ['accuracy']) \n",
    "\n",
    "# Fitting the ANN to the Training set\n",
    "history = classifier.fit(X_train, y_train, validation_data = (X_test, y_test), batch_size = 10, epochs = 20, shuffle = True)"
   ]
  },
  {
   "cell_type": "code",
   "execution_count": 44,
   "metadata": {},
   "outputs": [
    {
     "data": {
      "image/png": "[encoded data removed]",
      "text/plain": [
       "<Figure size 432x288 with 1 Axes>"
      ]
     },
     "metadata": {
      "needs_background": "light"
     },
     "output_type": "display_data"
    }
   ],
   "source": [
    "plt.plot(history.history['loss'], label = 'train')\n",
    "plt.plot(history.history['val_loss'], label = 'test')\n",
    "plt.legend()\n",
    "plt.show()"
   ]
  },
  {
   "cell_type": "code",
   "execution_count": 45,
   "metadata": {},
   "outputs": [
    {
     "data": {
      "image/png": "[encoded data removed]",
      "text/plain": [
       "<Figure size 432x288 with 1 Axes>"
      ]
     },
     "metadata": {
      "needs_background": "light"
     },
     "output_type": "display_data"
    }
   ],
   "source": [
    "plt.plot(history.history['accuracy'], label = 'train')\n",
    "plt.plot(history.history['val_accuracy'], label = 'test')\n",
    "plt.legend()\n",
    "plt.show()"
   ]
  },
  {
   "cell_type": "code",
   "execution_count": 46,
   "metadata": {},
   "outputs": [
    {
     "name": "stdout",
     "output_type": "stream",
     "text": [
      "84930\n",
      "83700\n",
      "Error Percentage in predicted values is : 1.4482515012363122 %\n"
     ]
    }
   ],
   "source": [
    "y_predicted = classifier.predict(X_test)\n",
    "\n",
    "y_predicted = np.argmax(y_predicted, axis = 1)\n",
    "\n",
    "y_test = np.argmax(y_test, axis = 1)\n",
    "\n",
    "test_sum = 0\n",
    "for i in range(len(y_test)):\n",
    "    test_sum += (y_test[i] * 15)\n",
    "\n",
    "print(test_sum)\n",
    "\n",
    "predicted_sum = 0\n",
    "for i in range(len(y_predicted)):\n",
    "    predicted_sum += (y_predicted[i] * 15)\n",
    "\n",
    "print(predicted_sum)\n",
    "\n",
    "print(\"Error Percentage in predicted values is : {} %\".format(np.absolute((predicted_sum - test_sum)/test_sum)*100))\n",
    "err.append(np.absolute((predicted_sum - test_sum)/test_sum)*100)"
   ]
  },
  {
   "cell_type": "code",
   "execution_count": 47,
   "metadata": {},
   "outputs": [
    {
     "data": {
      "text/plain": [
       "0.7979449216904249"
      ]
     },
     "execution_count": 47,
     "metadata": {},
     "output_type": "execute_result"
    }
   ],
   "source": [
    "f1_score(y_test, y_predicted, average = 'weighted')"
   ]
  },
  {
   "cell_type": "code",
   "execution_count": 48,
   "metadata": {},
   "outputs": [],
   "source": [
    "f1.append(f1_score(y_test, y_predicted, average = 'weighted'))"
   ]
  },
  {
   "cell_type": "code",
   "execution_count": 49,
   "metadata": {},
   "outputs": [],
   "source": [
    "acc.append(max(history.history['accuracy']))"
   ]
  },
  {
   "cell_type": "markdown",
   "metadata": {},
   "source": [
    "# March"
   ]
  },
  {
   "cell_type": "code",
   "execution_count": 50,
   "metadata": {},
   "outputs": [
    {
     "name": "stdout",
     "output_type": "stream",
     "text": [
      "(6599, 34) (6599, 21) (1650, 34) (1650, 21)\n"
     ]
    }
   ],
   "source": [
    "working_df = house_data[house_data.Month == 3]\n",
    "\n",
    "working_df = working_df[['T_ctrl', 'T_stp_heat', 'auxHeat1', 'T_out', 'RH_out']]\n",
    "cols = ['T_ctrl', 'T_stp_heat', 'T_out', 'RH_out', 'auxHeat1']\n",
    "working_df = working_df[cols]\n",
    "\n",
    "reframed = series_to_supervised(working_df, 6, 1)\n",
    "\n",
    "y_auxHeat = reframed['var5(t)']\n",
    "y_auxHeat = to_categorical(y_auxHeat)\n",
    "X = reframed.drop(labels = [\"var5(t)\"], axis = 1)\n",
    "\n",
    "X_train, X_test, y_train, y_test = train_test_split(X, y_auxHeat, test_size = 0.2, shuffle = True)\n",
    "\n",
    "X_train = X_train.values\n",
    "X_test = X_test.values\n",
    "\n",
    "print(X_train.shape, y_train.shape, X_test.shape, y_test.shape)"
   ]
  },
  {
   "cell_type": "code",
   "execution_count": 51,
   "metadata": {},
   "outputs": [
    {
     "name": "stdout",
     "output_type": "stream",
     "text": [
      "Train on 6599 samples, validate on 1650 samples\n",
      "Epoch 1/20\n",
      "6599/6599 [==============================] - 3s 421us/sample - loss: 0.8513 - accuracy: 0.8685 - val_loss: 0.4455 - val_accuracy: 0.9152\n",
      "Epoch 2/20\n",
      "6599/6599 [==============================] - 3s 388us/sample - loss: 0.4552 - accuracy: 0.9209 - val_loss: 0.4124 - val_accuracy: 0.9230\n",
      "Epoch 3/20\n",
      "6599/6599 [==============================] - 3s 386us/sample - loss: 0.4387 - accuracy: 0.9247 - val_loss: 0.4034 - val_accuracy: 0.9267\n",
      "Epoch 4/20\n",
      "6599/6599 [==============================] - 2s 371us/sample - loss: 0.4277 - accuracy: 0.9250 - val_loss: 0.4413 - val_accuracy: 0.9206\n",
      "Epoch 5/20\n",
      "6599/6599 [==============================] - 2s 367us/sample - loss: 0.4217 - accuracy: 0.9260 - val_loss: 0.3944 - val_accuracy: 0.9248\n",
      "Epoch 6/20\n",
      "6599/6599 [==============================] - 2s 364us/sample - loss: 0.4144 - accuracy: 0.9279 - val_loss: 0.3996 - val_accuracy: 0.9261\n",
      "Epoch 7/20\n",
      "6599/6599 [==============================] - 2s 369us/sample - loss: 0.4111 - accuracy: 0.9273 - val_loss: 0.3972 - val_accuracy: 0.9267\n",
      "Epoch 8/20\n",
      "6599/6599 [==============================] - 2s 366us/sample - loss: 0.4093 - accuracy: 0.9276 - val_loss: 0.3917 - val_accuracy: 0.9273\n",
      "Epoch 9/20\n",
      "6599/6599 [==============================] - 2s 366us/sample - loss: 0.4055 - accuracy: 0.9277 - val_loss: 0.3939 - val_accuracy: 0.9273\n",
      "Epoch 10/20\n",
      "6599/6599 [==============================] - 3s 386us/sample - loss: 0.4028 - accuracy: 0.9277 - val_loss: 0.3911 - val_accuracy: 0.9273\n",
      "Epoch 11/20\n",
      "6599/6599 [==============================] - 2s 366us/sample - loss: 0.4009 - accuracy: 0.9273 - val_loss: 0.3846 - val_accuracy: 0.9248\n",
      "Epoch 12/20\n",
      "6599/6599 [==============================] - 2s 371us/sample - loss: 0.3985 - accuracy: 0.9282 - val_loss: 0.3876 - val_accuracy: 0.9279\n",
      "Epoch 13/20\n",
      "6599/6599 [==============================] - 2s 371us/sample - loss: 0.3950 - accuracy: 0.9276 - val_loss: 0.3889 - val_accuracy: 0.9273\n",
      "Epoch 14/20\n",
      "6599/6599 [==============================] - 2s 367us/sample - loss: 0.3928 - accuracy: 0.9286 - val_loss: 0.3875 - val_accuracy: 0.9279\n",
      "Epoch 15/20\n",
      "6599/6599 [==============================] - 2s 366us/sample - loss: 0.3894 - accuracy: 0.9283 - val_loss: 0.3949 - val_accuracy: 0.9279\n",
      "Epoch 16/20\n",
      "6599/6599 [==============================] - 2s 369us/sample - loss: 0.3903 - accuracy: 0.9289 - val_loss: 0.4011 - val_accuracy: 0.9285\n",
      "Epoch 17/20\n",
      "6599/6599 [==============================] - 2s 369us/sample - loss: 0.3857 - accuracy: 0.9289 - val_loss: 0.3998 - val_accuracy: 0.9248\n",
      "Epoch 18/20\n",
      "6599/6599 [==============================] - 2s 371us/sample - loss: 0.3834 - accuracy: 0.9294 - val_loss: 0.3954 - val_accuracy: 0.9285\n",
      "Epoch 19/20\n",
      "6599/6599 [==============================] - 2s 367us/sample - loss: 0.3827 - accuracy: 0.9288 - val_loss: 0.3857 - val_accuracy: 0.9279\n",
      "Epoch 20/20\n",
      "6599/6599 [==============================] - 2s 372us/sample - loss: 0.3816 - accuracy: 0.9289 - val_loss: 0.3885 - val_accuracy: 0.9273\n"
     ]
    }
   ],
   "source": [
    "classifier = Sequential()\n",
    "\n",
    "# Adding the input layer and the first hidden layer\n",
    "classifier.add(Dense(units = 24, kernel_initializer = 'uniform', activation = 'relu', input_dim = 34))\n",
    "\n",
    "# Adding the second hidden layer\n",
    "classifier.add(Dense(units = 24, kernel_initializer = 'uniform', activation = 'relu'))\n",
    "\n",
    "# Adding the output layer\n",
    "classifier.add(Dense(units = 21, kernel_initializer = 'uniform', activation = 'softmax'))\n",
    "\n",
    "# Compiling the ANN\n",
    "classifier.compile(optimizer = 'adam', loss = 'categorical_crossentropy', metrics = ['accuracy']) \n",
    "\n",
    "# Fitting the ANN to the Training set\n",
    "history = classifier.fit(X_train, y_train, validation_data = (X_test, y_test), batch_size = 10, epochs = 20, shuffle = True)"
   ]
  },
  {
   "cell_type": "code",
   "execution_count": 52,
   "metadata": {},
   "outputs": [
    {
     "data": {
      "image/png": "[encoded data removed]",
      "text/plain": [
       "<Figure size 432x288 with 1 Axes>"
      ]
     },
     "metadata": {
      "needs_background": "light"
     },
     "output_type": "display_data"
    }
   ],
   "source": [
    "plt.plot(history.history['loss'], label = 'train')\n",
    "plt.plot(history.history['val_loss'], label = 'test')\n",
    "plt.legend()\n",
    "plt.show()"
   ]
  },
  {
   "cell_type": "code",
   "execution_count": 53,
   "metadata": {},
   "outputs": [
    {
     "data": {
      "image/png": "[encoded data removed]",
      "text/plain": [
       "<Figure size 432x288 with 1 Axes>"
      ]
     },
     "metadata": {
      "needs_background": "light"
     },
     "output_type": "display_data"
    }
   ],
   "source": [
    "plt.plot(history.history['accuracy'], label = 'train')\n",
    "plt.plot(history.history['val_accuracy'], label = 'test')\n",
    "plt.legend()\n",
    "plt.show()"
   ]
  },
  {
   "cell_type": "code",
   "execution_count": 54,
   "metadata": {},
   "outputs": [
    {
     "name": "stdout",
     "output_type": "stream",
     "text": [
      "89850\n",
      "90300\n",
      "Error Percentage in predicted values is : 0.5008347245409015 %\n"
     ]
    }
   ],
   "source": [
    "y_predicted = classifier.predict(X_test)\n",
    "\n",
    "y_predicted = np.argmax(y_predicted, axis = 1)\n",
    "\n",
    "y_test = np.argmax(y_test, axis = 1)\n",
    "\n",
    "test_sum = 0\n",
    "for i in range(len(y_test)):\n",
    "    test_sum += (y_test[i] * 15)\n",
    "\n",
    "print(test_sum)\n",
    "\n",
    "predicted_sum = 0\n",
    "for i in range(len(y_predicted)):\n",
    "    predicted_sum += (y_predicted[i] * 15)\n",
    "\n",
    "print(predicted_sum)\n",
    "\n",
    "print(\"Error Percentage in predicted values is : {} %\".format(np.absolute((predicted_sum - test_sum)/test_sum)*100))\n",
    "err.append(np.absolute((predicted_sum - test_sum)/test_sum)*100)"
   ]
  },
  {
   "cell_type": "code",
   "execution_count": 55,
   "metadata": {},
   "outputs": [
    {
     "data": {
      "text/plain": [
       "0.8982908218879443"
      ]
     },
     "execution_count": 55,
     "metadata": {},
     "output_type": "execute_result"
    }
   ],
   "source": [
    "f1_score(y_test, y_predicted, average = 'weighted')"
   ]
  },
  {
   "cell_type": "code",
   "execution_count": 56,
   "metadata": {},
   "outputs": [],
   "source": [
    "f1.append(f1_score(y_test, y_predicted, average = 'weighted'))"
   ]
  },
  {
   "cell_type": "code",
   "execution_count": 57,
   "metadata": {},
   "outputs": [],
   "source": [
    "acc.append(max(history.history['accuracy']))"
   ]
  },
  {
   "cell_type": "markdown",
   "metadata": {},
   "source": [
    "# April"
   ]
  },
  {
   "cell_type": "code",
   "execution_count": 58,
   "metadata": {},
   "outputs": [
    {
     "name": "stdout",
     "output_type": "stream",
     "text": [
      "(6590, 34) (6590, 21) (1648, 34) (1648, 21)\n"
     ]
    }
   ],
   "source": [
    "working_df = house_data[house_data.Month == 4]\n",
    "\n",
    "working_df = working_df[['T_ctrl', 'T_stp_heat', 'auxHeat1', 'T_out', 'RH_out']]\n",
    "cols = ['T_ctrl', 'T_stp_heat', 'T_out', 'RH_out', 'auxHeat1']\n",
    "working_df = working_df[cols]\n",
    "\n",
    "reframed = series_to_supervised(working_df, 6, 1)\n",
    "\n",
    "y_auxHeat = reframed['var5(t)']\n",
    "y_auxHeat = to_categorical(y_auxHeat)\n",
    "X = reframed.drop(labels = [\"var5(t)\"], axis = 1)\n",
    "\n",
    "X_train, X_test, y_train, y_test = train_test_split(X, y_auxHeat, test_size = 0.2, shuffle = True)\n",
    "\n",
    "X_train = X_train.values\n",
    "X_test = X_test.values\n",
    "\n",
    "print(X_train.shape, y_train.shape, X_test.shape, y_test.shape)"
   ]
  },
  {
   "cell_type": "code",
   "execution_count": 59,
   "metadata": {},
   "outputs": [
    {
     "name": "stdout",
     "output_type": "stream",
     "text": [
      "Train on 6590 samples, validate on 1648 samples\n",
      "Epoch 1/20\n",
      "6590/6590 [==============================] - 3s 406us/sample - loss: 0.5287 - accuracy: 0.9379 - val_loss: 0.2928 - val_accuracy: 0.9587\n",
      "Epoch 2/20\n",
      "6590/6590 [==============================] - 2s 336us/sample - loss: 0.2222 - accuracy: 0.9630 - val_loss: 0.2684 - val_accuracy: 0.9587\n",
      "Epoch 3/20\n",
      "6590/6590 [==============================] - 2s 329us/sample - loss: 0.2041 - accuracy: 0.9657 - val_loss: 0.2486 - val_accuracy: 0.9593\n",
      "Epoch 4/20\n",
      "6590/6590 [==============================] - 2s 323us/sample - loss: 0.1941 - accuracy: 0.9660 - val_loss: 0.2398 - val_accuracy: 0.9606\n",
      "Epoch 5/20\n",
      "6590/6590 [==============================] - 2s 329us/sample - loss: 0.1863 - accuracy: 0.9663 - val_loss: 0.2357 - val_accuracy: 0.9618\n",
      "Epoch 6/20\n",
      "6590/6590 [==============================] - 2s 325us/sample - loss: 0.1803 - accuracy: 0.9680 - val_loss: 0.2291 - val_accuracy: 0.9618\n",
      "Epoch 7/20\n",
      "6590/6590 [==============================] - 2s 327us/sample - loss: 0.1758 - accuracy: 0.9687 - val_loss: 0.2268 - val_accuracy: 0.9630\n",
      "Epoch 8/20\n",
      "6590/6590 [==============================] - 2s 324us/sample - loss: 0.1698 - accuracy: 0.9695 - val_loss: 0.2210 - val_accuracy: 0.9624\n",
      "Epoch 9/20\n",
      "6590/6590 [==============================] - 2s 324us/sample - loss: 0.1659 - accuracy: 0.9710 - val_loss: 0.2225 - val_accuracy: 0.9624\n",
      "Epoch 10/20\n",
      "6590/6590 [==============================] - 2s 326us/sample - loss: 0.1638 - accuracy: 0.9704 - val_loss: 0.2198 - val_accuracy: 0.9624\n",
      "Epoch 11/20\n",
      "6590/6590 [==============================] - 2s 326us/sample - loss: 0.1626 - accuracy: 0.9703 - val_loss: 0.2206 - val_accuracy: 0.9630\n",
      "Epoch 12/20\n",
      "6590/6590 [==============================] - 2s 323us/sample - loss: 0.1611 - accuracy: 0.9709 - val_loss: 0.2237 - val_accuracy: 0.9630\n",
      "Epoch 13/20\n",
      "6590/6590 [==============================] - 2s 325us/sample - loss: 0.1585 - accuracy: 0.9704 - val_loss: 0.2199 - val_accuracy: 0.9630\n",
      "Epoch 14/20\n",
      "6590/6590 [==============================] - 2s 328us/sample - loss: 0.1576 - accuracy: 0.9704 - val_loss: 0.2239 - val_accuracy: 0.9630\n",
      "Epoch 15/20\n",
      "6590/6590 [==============================] - 2s 346us/sample - loss: 0.1562 - accuracy: 0.9706 - val_loss: 0.2212 - val_accuracy: 0.9630\n",
      "Epoch 16/20\n",
      "6590/6590 [==============================] - 2s 336us/sample - loss: 0.1555 - accuracy: 0.9704 - val_loss: 0.2313 - val_accuracy: 0.9630\n",
      "Epoch 17/20\n",
      "6590/6590 [==============================] - 2s 332us/sample - loss: 0.1546 - accuracy: 0.9707 - val_loss: 0.2211 - val_accuracy: 0.9630\n",
      "Epoch 18/20\n",
      "6590/6590 [==============================] - 2s 331us/sample - loss: 0.1529 - accuracy: 0.9713 - val_loss: 0.2166 - val_accuracy: 0.9630\n",
      "Epoch 19/20\n",
      "6590/6590 [==============================] - 2s 330us/sample - loss: 0.1510 - accuracy: 0.9718 - val_loss: 0.2216 - val_accuracy: 0.9630\n",
      "Epoch 20/20\n",
      "6590/6590 [==============================] - 2s 329us/sample - loss: 0.1513 - accuracy: 0.9707 - val_loss: 0.2295 - val_accuracy: 0.9630\n"
     ]
    }
   ],
   "source": [
    "classifier = Sequential()\n",
    "\n",
    "# Adding the input layer and the first hidden layer\n",
    "classifier.add(Dense(units = 24, kernel_initializer = 'uniform', activation = 'relu', input_dim = 34))\n",
    "\n",
    "# Adding the second hidden layer\n",
    "classifier.add(Dense(units = 24, kernel_initializer = 'uniform', activation = 'relu'))\n",
    "\n",
    "# Adding the output layer\n",
    "classifier.add(Dense(units = 21, kernel_initializer = 'uniform', activation = 'softmax'))\n",
    "\n",
    "# Compiling the ANN\n",
    "classifier.compile(optimizer = 'adam', loss = 'categorical_crossentropy', metrics = ['accuracy']) \n",
    "\n",
    "# Fitting the ANN to the Training set\n",
    "history = classifier.fit(X_train, y_train, validation_data = (X_test, y_test), batch_size = 10, epochs = 20, shuffle = True)"
   ]
  },
  {
   "cell_type": "code",
   "execution_count": 60,
   "metadata": {},
   "outputs": [
    {
     "data": {
      "image/png": "[encoded data removed]",
      "text/plain": [
       "<Figure size 432x288 with 1 Axes>"
      ]
     },
     "metadata": {
      "needs_background": "light"
     },
     "output_type": "display_data"
    }
   ],
   "source": [
    "plt.plot(history.history['loss'], label = 'train')\n",
    "plt.plot(history.history['val_loss'], label = 'test')\n",
    "plt.legend()\n",
    "plt.show()"
   ]
  },
  {
   "cell_type": "code",
   "execution_count": 61,
   "metadata": {},
   "outputs": [
    {
     "data": {
      "image/png": "[encoded data removed]",
      "text/plain": [
       "<Figure size 432x288 with 1 Axes>"
      ]
     },
     "metadata": {
      "needs_background": "light"
     },
     "output_type": "display_data"
    }
   ],
   "source": [
    "plt.plot(history.history['accuracy'], label = 'train')\n",
    "plt.plot(history.history['val_accuracy'], label = 'test')\n",
    "plt.legend()\n",
    "plt.show()"
   ]
  },
  {
   "cell_type": "code",
   "execution_count": 62,
   "metadata": {},
   "outputs": [
    {
     "name": "stdout",
     "output_type": "stream",
     "text": [
      "51825\n",
      "48600\n",
      "Error Percentage in predicted values is : 6.2228654124457305 %\n"
     ]
    }
   ],
   "source": [
    "y_predicted = classifier.predict(X_test)\n",
    "\n",
    "y_predicted = np.argmax(y_predicted, axis = 1)\n",
    "\n",
    "y_test = np.argmax(y_test, axis = 1)\n",
    "\n",
    "test_sum = 0\n",
    "for i in range(len(y_test)):\n",
    "    test_sum += (y_test[i] * 15)\n",
    "\n",
    "print(test_sum)\n",
    "\n",
    "predicted_sum = 0\n",
    "for i in range(len(y_predicted)):\n",
    "    predicted_sum += (y_predicted[i] * 15)\n",
    "\n",
    "print(predicted_sum)\n",
    "\n",
    "print(\"Error Percentage in predicted values is : {} %\".format(np.absolute((predicted_sum - test_sum)/test_sum)*100))\n",
    "err.append(np.absolute((predicted_sum - test_sum)/test_sum)*100)"
   ]
  },
  {
   "cell_type": "code",
   "execution_count": 63,
   "metadata": {},
   "outputs": [
    {
     "data": {
      "text/plain": [
       "0.9455690837269675"
      ]
     },
     "execution_count": 63,
     "metadata": {},
     "output_type": "execute_result"
    }
   ],
   "source": [
    "f1_score(y_test, y_predicted, average = 'weighted')"
   ]
  },
  {
   "cell_type": "code",
   "execution_count": 64,
   "metadata": {},
   "outputs": [],
   "source": [
    "f1.append(f1_score(y_test, y_predicted, average = 'weighted'))"
   ]
  },
  {
   "cell_type": "code",
   "execution_count": 65,
   "metadata": {},
   "outputs": [],
   "source": [
    "acc.append(max(history.history['accuracy']))"
   ]
  },
  {
   "cell_type": "code",
   "execution_count": 66,
   "metadata": {},
   "outputs": [
    {
     "data": {
      "text/plain": [
       "<matplotlib.axes._subplots.AxesSubplot at 0x2cf0c041e48>"
      ]
     },
     "execution_count": 66,
     "metadata": {},
     "output_type": "execute_result"
    },
    {
     "data": {
      "image/png": "[encoded data removed]",
      "text/plain": [
       "<Figure size 432x288 with 1 Axes>"
      ]
     },
     "metadata": {
      "needs_background": "light"
     },
     "output_type": "display_data"
    }
   ],
   "source": [
    "sns.lineplot(x = months, y = f1, sort = False)"
   ]
  },
  {
   "cell_type": "code",
   "execution_count": 67,
   "metadata": {},
   "outputs": [
    {
     "data": {
      "text/plain": [
       "<matplotlib.axes._subplots.AxesSubplot at 0x2cf95971088>"
      ]
     },
     "execution_count": 67,
     "metadata": {},
     "output_type": "execute_result"
    },
    {
     "data": {
      "image/png": "[encoded data removed]",
      "text/plain": [
       "<Figure size 432x288 with 1 Axes>"
      ]
     },
     "metadata": {
      "needs_background": "light"
     },
     "output_type": "display_data"
    }
   ],
   "source": [
    "sns.lineplot(x = months, y = acc, sort = False)"
   ]
  },
  {
   "cell_type": "code",
   "execution_count": 68,
   "metadata": {},
   "outputs": [
    {
     "data": {
      "text/plain": [
       "<matplotlib.axes._subplots.AxesSubplot at 0x2cf959bf288>"
      ]
     },
     "execution_count": 68,
     "metadata": {},
     "output_type": "execute_result"
    },
    {
     "data": {
      "image/png": "[encoded data removed]",
      "text/plain": [
       "<Figure size 432x288 with 1 Axes>"
      ]
     },
     "metadata": {
      "needs_background": "light"
     },
     "output_type": "display_data"
    }
   ],
   "source": [
    "sns.lineplot(x = months, y = err, sort = False)"
   ]
  },
  {
   "cell_type": "code",
   "execution_count": null,
   "metadata": {},
   "outputs": [],
   "source": []
  },
  {
   "cell_type": "code",
   "execution_count": null,
   "metadata": {},
   "outputs": [],
   "source": []
  },
  {
   "cell_type": "code",
   "execution_count": null,
   "metadata": {},
   "outputs": [],
   "source": []
  }
 ],
 "metadata": {
  "kernelspec": {
   "display_name": "Python 3",
   "language": "python",
   "name": "python3"
  },
  "language_info": {
   "codemirror_mode": {
    "name": "ipython",
    "version": 3
   },
   "file_extension": ".py",
   "mimetype": "text/x-python",
   "name": "python",
   "nbconvert_exporter": "python",
   "pygments_lexer": "ipython3",
   "version": "3.7.6"
  }
 },
 "nbformat": 4,
 "nbformat_minor": 4
}
