{
 "cells": [
  {
   "cell_type": "code",
   "execution_count": 1,
   "metadata": {},
   "outputs": [],
   "source": [
    "import numpy as np\n",
    "import os\n",
    "import pandas as pd\n",
    "import datetime\n",
    "import math"
   ]
  },
  {
   "cell_type": "code",
   "execution_count": 2,
   "metadata": {},
   "outputs": [],
   "source": [
    "house_data = pd.read_csv(\"../preprocessed_data/oneHot_data.csv\")"
   ]
  },
  {
   "cell_type": "code",
   "execution_count": 3,
   "metadata": {},
   "outputs": [
    {
     "data": {
      "text/html": [
       "<div>\n",
       "<style scoped>\n",
       "    .dataframe tbody tr th:only-of-type {\n",
       "        vertical-align: middle;\n",
       "    }\n",
       "\n",
       "    .dataframe tbody tr th {\n",
       "        vertical-align: top;\n",
       "    }\n",
       "\n",
       "    .dataframe thead th {\n",
       "        text-align: right;\n",
       "    }\n",
       "</style>\n",
       "<table border=\"1\" class=\"dataframe\">\n",
       "  <thead>\n",
       "    <tr style=\"text-align: right;\">\n",
       "      <th></th>\n",
       "      <th>hour_sin</th>\n",
       "      <th>hour_cos</th>\n",
       "      <th>month_sin</th>\n",
       "      <th>month_cos</th>\n",
       "      <th>day_sin</th>\n",
       "      <th>day_cos</th>\n",
       "      <th>Month</th>\n",
       "      <th>DayOfWeek</th>\n",
       "      <th>Day</th>\n",
       "      <th>HourofDay</th>\n",
       "      <th>...</th>\n",
       "      <th>T_stp_heat</th>\n",
       "      <th>Humidity</th>\n",
       "      <th>auxHeat1</th>\n",
       "      <th>fan</th>\n",
       "      <th>Thermostat_Temperature</th>\n",
       "      <th>Thermostat_Motion</th>\n",
       "      <th>Remote_Sensor_1_Temperature</th>\n",
       "      <th>Remote_Sensor_1_Motion</th>\n",
       "      <th>T_out</th>\n",
       "      <th>RH_out</th>\n",
       "    </tr>\n",
       "  </thead>\n",
       "  <tbody>\n",
       "    <tr>\n",
       "      <th>0</th>\n",
       "      <td>0.0</td>\n",
       "      <td>1.0</td>\n",
       "      <td>0.0</td>\n",
       "      <td>1.0</td>\n",
       "      <td>0.755303</td>\n",
       "      <td>0.484974</td>\n",
       "      <td>1</td>\n",
       "      <td>1</td>\n",
       "      <td>1</td>\n",
       "      <td>0</td>\n",
       "      <td>...</td>\n",
       "      <td>0.663321</td>\n",
       "      <td>0.177458</td>\n",
       "      <td>0</td>\n",
       "      <td>11</td>\n",
       "      <td>0.330465</td>\n",
       "      <td>0.0</td>\n",
       "      <td>67.0</td>\n",
       "      <td>0.0</td>\n",
       "      <td>0.009112</td>\n",
       "      <td>1.808865</td>\n",
       "    </tr>\n",
       "    <tr>\n",
       "      <th>1</th>\n",
       "      <td>0.0</td>\n",
       "      <td>1.0</td>\n",
       "      <td>0.0</td>\n",
       "      <td>1.0</td>\n",
       "      <td>0.755303</td>\n",
       "      <td>0.484974</td>\n",
       "      <td>1</td>\n",
       "      <td>1</td>\n",
       "      <td>1</td>\n",
       "      <td>0</td>\n",
       "      <td>...</td>\n",
       "      <td>0.663321</td>\n",
       "      <td>0.177458</td>\n",
       "      <td>2</td>\n",
       "      <td>9</td>\n",
       "      <td>0.330465</td>\n",
       "      <td>0.0</td>\n",
       "      <td>67.0</td>\n",
       "      <td>0.0</td>\n",
       "      <td>0.009112</td>\n",
       "      <td>1.808865</td>\n",
       "    </tr>\n",
       "    <tr>\n",
       "      <th>2</th>\n",
       "      <td>0.0</td>\n",
       "      <td>1.0</td>\n",
       "      <td>0.0</td>\n",
       "      <td>1.0</td>\n",
       "      <td>0.755303</td>\n",
       "      <td>0.484974</td>\n",
       "      <td>1</td>\n",
       "      <td>1</td>\n",
       "      <td>1</td>\n",
       "      <td>0</td>\n",
       "      <td>...</td>\n",
       "      <td>0.663321</td>\n",
       "      <td>0.177458</td>\n",
       "      <td>20</td>\n",
       "      <td>20</td>\n",
       "      <td>0.330465</td>\n",
       "      <td>0.0</td>\n",
       "      <td>67.0</td>\n",
       "      <td>0.0</td>\n",
       "      <td>0.009112</td>\n",
       "      <td>1.808865</td>\n",
       "    </tr>\n",
       "    <tr>\n",
       "      <th>3</th>\n",
       "      <td>0.0</td>\n",
       "      <td>1.0</td>\n",
       "      <td>0.0</td>\n",
       "      <td>1.0</td>\n",
       "      <td>0.755303</td>\n",
       "      <td>0.484974</td>\n",
       "      <td>1</td>\n",
       "      <td>1</td>\n",
       "      <td>1</td>\n",
       "      <td>0</td>\n",
       "      <td>...</td>\n",
       "      <td>0.663321</td>\n",
       "      <td>0.177458</td>\n",
       "      <td>9</td>\n",
       "      <td>12</td>\n",
       "      <td>0.330465</td>\n",
       "      <td>0.0</td>\n",
       "      <td>67.0</td>\n",
       "      <td>0.0</td>\n",
       "      <td>0.009112</td>\n",
       "      <td>1.808865</td>\n",
       "    </tr>\n",
       "    <tr>\n",
       "      <th>4</th>\n",
       "      <td>0.0</td>\n",
       "      <td>1.0</td>\n",
       "      <td>0.0</td>\n",
       "      <td>1.0</td>\n",
       "      <td>0.755303</td>\n",
       "      <td>0.484974</td>\n",
       "      <td>1</td>\n",
       "      <td>1</td>\n",
       "      <td>1</td>\n",
       "      <td>0</td>\n",
       "      <td>...</td>\n",
       "      <td>0.663321</td>\n",
       "      <td>0.177458</td>\n",
       "      <td>0</td>\n",
       "      <td>8</td>\n",
       "      <td>0.330465</td>\n",
       "      <td>0.0</td>\n",
       "      <td>67.0</td>\n",
       "      <td>0.0</td>\n",
       "      <td>0.009112</td>\n",
       "      <td>1.808865</td>\n",
       "    </tr>\n",
       "  </tbody>\n",
       "</table>\n",
       "<p>5 rows × 27 columns</p>\n",
       "</div>"
      ],
      "text/plain": [
       "   hour_sin  hour_cos  month_sin  month_cos   day_sin   day_cos  Month  \\\n",
       "0       0.0       1.0        0.0        1.0  0.755303  0.484974      1   \n",
       "1       0.0       1.0        0.0        1.0  0.755303  0.484974      1   \n",
       "2       0.0       1.0        0.0        1.0  0.755303  0.484974      1   \n",
       "3       0.0       1.0        0.0        1.0  0.755303  0.484974      1   \n",
       "4       0.0       1.0        0.0        1.0  0.755303  0.484974      1   \n",
       "\n",
       "   DayOfWeek  Day  HourofDay  ...  T_stp_heat  Humidity  auxHeat1  fan  \\\n",
       "0          1    1          0  ...    0.663321  0.177458         0   11   \n",
       "1          1    1          0  ...    0.663321  0.177458         2    9   \n",
       "2          1    1          0  ...    0.663321  0.177458        20   20   \n",
       "3          1    1          0  ...    0.663321  0.177458         9   12   \n",
       "4          1    1          0  ...    0.663321  0.177458         0    8   \n",
       "\n",
       "   Thermostat_Temperature  Thermostat_Motion  Remote_Sensor_1_Temperature  \\\n",
       "0                0.330465                0.0                         67.0   \n",
       "1                0.330465                0.0                         67.0   \n",
       "2                0.330465                0.0                         67.0   \n",
       "3                0.330465                0.0                         67.0   \n",
       "4                0.330465                0.0                         67.0   \n",
       "\n",
       "   Remote_Sensor_1_Motion     T_out    RH_out  \n",
       "0                     0.0  0.009112  1.808865  \n",
       "1                     0.0  0.009112  1.808865  \n",
       "2                     0.0  0.009112  1.808865  \n",
       "3                     0.0  0.009112  1.808865  \n",
       "4                     0.0  0.009112  1.808865  \n",
       "\n",
       "[5 rows x 27 columns]"
      ]
     },
     "execution_count": 3,
     "metadata": {},
     "output_type": "execute_result"
    }
   ],
   "source": [
    "house_data.head()"
   ]
  },
  {
   "cell_type": "code",
   "execution_count": 4,
   "metadata": {},
   "outputs": [],
   "source": [
    "house_data.drop(labels = ['HvacMode_heat', 'Event_Hold', 'Event_None', 'Schedule_Away', 'Schedule_Home', 'Schedule_Sleep', \n",
    "                          'Humidity', 'fan', 'Thermostat_Temperature', 'Thermostat_Motion', 'Remote_Sensor_1_Temperature', \n",
    "                          'Remote_Sensor_1_Motion'], axis = 1, inplace = True)"
   ]
  },
  {
   "cell_type": "code",
   "execution_count": 5,
   "metadata": {},
   "outputs": [
    {
     "name": "stderr",
     "output_type": "stream",
     "text": [
      "C:\\Users\\ankit\\Anaconda3\\envs\\tensorflow-gpu\\lib\\site-packages\\ipykernel_launcher.py:11: SettingWithCopyWarning: \n",
      "A value is trying to be set on a copy of a slice from a DataFrame\n",
      "\n",
      "See the caveats in the documentation: https://pandas.pydata.org/pandas-docs/stable/user_guide/indexing.html#returning-a-view-versus-a-copy\n",
      "  # This is added back by InteractiveShellApp.init_path()\n",
      "C:\\Users\\ankit\\Anaconda3\\envs\\tensorflow-gpu\\lib\\site-packages\\ipykernel_launcher.py:15: SettingWithCopyWarning: \n",
      "A value is trying to be set on a copy of a slice from a DataFrame\n",
      "\n",
      "See the caveats in the documentation: https://pandas.pydata.org/pandas-docs/stable/user_guide/indexing.html#returning-a-view-versus-a-copy\n",
      "  from ipykernel import kernelapp as app\n"
     ]
    }
   ],
   "source": [
    "weather_data_january = pd.read_csv(\"../raw_weather_data/en_climate_hourly_ON_6158731_01-2019_P1H.csv\")\n",
    "\n",
    "weather_data_january.drop(labels = ['Temp Flag', 'Dew Point Temp Flag', 'Rel Hum Flag', 'Wind Dir Flag', 'Wind Spd Flag', \n",
    "                                    'Visibility Flag', 'Stn Press Flag', 'Hmdx', 'Hmdx Flag', 'Wind Chill Flag', 'Weather', \n",
    "                                    'Longitude (x)', 'Latitude (y)', 'Station Name', 'Climate ID', 'Date/Time', 'Year'], \n",
    "                          axis = 1, inplace = True)\n",
    "\n",
    "for i in range(len(weather_data_january)):\n",
    "    weather_data_january.Time[i] = int(weather_data_january.Time[i].split(':')[0])\n",
    "    \n",
    "for i in range(len(weather_data_january)):\n",
    "    if math.isnan(weather_data_january['Wind Chill'][i]):\n",
    "        weather_data_january['Wind Chill'][i] = weather_data_january['Temp (°C)'][i]\n",
    "\n",
    "weather_data_january.drop(labels = ['Temp (°C)', 'Dew Point Temp (°C)', 'Rel Hum (%)', 'Wind Dir (10s deg)', 'Visibility (km)'], \n",
    "                          axis = 1, inplace = True)"
   ]
  },
  {
   "cell_type": "code",
   "execution_count": 7,
   "metadata": {},
   "outputs": [
    {
     "name": "stderr",
     "output_type": "stream",
     "text": [
      "C:\\Users\\ankit\\Anaconda3\\envs\\tensorflow-gpu\\lib\\site-packages\\ipykernel_launcher.py:9: SettingWithCopyWarning: \n",
      "A value is trying to be set on a copy of a slice from a DataFrame\n",
      "\n",
      "See the caveats in the documentation: https://pandas.pydata.org/pandas-docs/stable/user_guide/indexing.html#returning-a-view-versus-a-copy\n",
      "  if __name__ == '__main__':\n",
      "C:\\Users\\ankit\\Anaconda3\\envs\\tensorflow-gpu\\lib\\site-packages\\ipykernel_launcher.py:13: SettingWithCopyWarning: \n",
      "A value is trying to be set on a copy of a slice from a DataFrame\n",
      "\n",
      "See the caveats in the documentation: https://pandas.pydata.org/pandas-docs/stable/user_guide/indexing.html#returning-a-view-versus-a-copy\n",
      "  del sys.path[0]\n"
     ]
    }
   ],
   "source": [
    "weather_data_february = pd.read_csv(\"../raw_weather_data/en_climate_hourly_ON_6158731_02-2019_P1H.csv\")\n",
    "\n",
    "weather_data_february.drop(labels = ['Temp Flag', 'Dew Point Temp Flag', 'Rel Hum Flag', 'Wind Dir Flag', 'Wind Spd Flag', \n",
    "                                    'Visibility Flag', 'Stn Press Flag', 'Hmdx', 'Hmdx Flag', 'Wind Chill Flag', 'Weather', \n",
    "                                    'Longitude (x)', 'Latitude (y)', 'Station Name', 'Climate ID', 'Date/Time', 'Year'], \n",
    "                          axis = 1, inplace = True)\n",
    "\n",
    "for i in range(len(weather_data_february)):\n",
    "    weather_data_february.Time[i] = int(weather_data_february.Time[i].split(':')[0])\n",
    "    \n",
    "for i in range(len(weather_data_february)):\n",
    "    if math.isnan(weather_data_february['Wind Chill'][i]):\n",
    "        weather_data_february['Wind Chill'][i] = weather_data_february['Temp (°C)'][i]\n",
    "\n",
    "weather_data_february.drop(labels = ['Temp (°C)', 'Dew Point Temp (°C)', 'Rel Hum (%)', 'Wind Dir (10s deg)', 'Visibility (km)'], \n",
    "                          axis = 1, inplace = True)"
   ]
  },
  {
   "cell_type": "code",
   "execution_count": 8,
   "metadata": {},
   "outputs": [
    {
     "name": "stderr",
     "output_type": "stream",
     "text": [
      "C:\\Users\\ankit\\Anaconda3\\envs\\tensorflow-gpu\\lib\\site-packages\\ipykernel_launcher.py:9: SettingWithCopyWarning: \n",
      "A value is trying to be set on a copy of a slice from a DataFrame\n",
      "\n",
      "See the caveats in the documentation: https://pandas.pydata.org/pandas-docs/stable/user_guide/indexing.html#returning-a-view-versus-a-copy\n",
      "  if __name__ == '__main__':\n",
      "C:\\Users\\ankit\\Anaconda3\\envs\\tensorflow-gpu\\lib\\site-packages\\ipykernel_launcher.py:13: SettingWithCopyWarning: \n",
      "A value is trying to be set on a copy of a slice from a DataFrame\n",
      "\n",
      "See the caveats in the documentation: https://pandas.pydata.org/pandas-docs/stable/user_guide/indexing.html#returning-a-view-versus-a-copy\n",
      "  del sys.path[0]\n"
     ]
    }
   ],
   "source": [
    "weather_data_march = pd.read_csv(\"../raw_weather_data/en_climate_hourly_ON_6158731_03-2019_P1H.csv\")\n",
    "\n",
    "weather_data_march.drop(labels = ['Temp Flag', 'Dew Point Temp Flag', 'Rel Hum Flag', 'Wind Dir Flag', 'Wind Spd Flag', \n",
    "                                    'Visibility Flag', 'Stn Press Flag', 'Hmdx', 'Hmdx Flag', 'Wind Chill Flag', 'Weather', \n",
    "                                    'Longitude (x)', 'Latitude (y)', 'Station Name', 'Climate ID', 'Date/Time', 'Year'], \n",
    "                          axis = 1, inplace = True)\n",
    "\n",
    "for i in range(len(weather_data_march)):\n",
    "    weather_data_march.Time[i] = int(weather_data_march.Time[i].split(':')[0])\n",
    "    \n",
    "for i in range(len(weather_data_march)):\n",
    "    if math.isnan(weather_data_march['Wind Chill'][i]):\n",
    "        weather_data_march['Wind Chill'][i] = weather_data_march['Temp (°C)'][i]\n",
    "\n",
    "weather_data_march.drop(labels = ['Temp (°C)', 'Dew Point Temp (°C)', 'Rel Hum (%)', 'Wind Dir (10s deg)', 'Visibility (km)'], \n",
    "                          axis = 1, inplace = True)"
   ]
  },
  {
   "cell_type": "code",
   "execution_count": 9,
   "metadata": {},
   "outputs": [
    {
     "name": "stderr",
     "output_type": "stream",
     "text": [
      "C:\\Users\\ankit\\Anaconda3\\envs\\tensorflow-gpu\\lib\\site-packages\\ipykernel_launcher.py:9: SettingWithCopyWarning: \n",
      "A value is trying to be set on a copy of a slice from a DataFrame\n",
      "\n",
      "See the caveats in the documentation: https://pandas.pydata.org/pandas-docs/stable/user_guide/indexing.html#returning-a-view-versus-a-copy\n",
      "  if __name__ == '__main__':\n",
      "C:\\Users\\ankit\\Anaconda3\\envs\\tensorflow-gpu\\lib\\site-packages\\ipykernel_launcher.py:13: SettingWithCopyWarning: \n",
      "A value is trying to be set on a copy of a slice from a DataFrame\n",
      "\n",
      "See the caveats in the documentation: https://pandas.pydata.org/pandas-docs/stable/user_guide/indexing.html#returning-a-view-versus-a-copy\n",
      "  del sys.path[0]\n"
     ]
    }
   ],
   "source": [
    "weather_data_april = pd.read_csv(\"../raw_weather_data/en_climate_hourly_ON_6158731_04-2019_P1H.csv\")\n",
    "\n",
    "weather_data_april.drop(labels = ['Temp Flag', 'Dew Point Temp Flag', 'Rel Hum Flag', 'Wind Dir Flag', 'Wind Spd Flag', \n",
    "                                    'Visibility Flag', 'Stn Press Flag', 'Hmdx', 'Hmdx Flag', 'Wind Chill Flag', 'Weather', \n",
    "                                    'Longitude (x)', 'Latitude (y)', 'Station Name', 'Climate ID', 'Date/Time', 'Year'], \n",
    "                          axis = 1, inplace = True)\n",
    "\n",
    "for i in range(len(weather_data_april)):\n",
    "    weather_data_april.Time[i] = int(weather_data_april.Time[i].split(':')[0])\n",
    "    \n",
    "for i in range(len(weather_data_april)):\n",
    "    if math.isnan(weather_data_april['Wind Chill'][i]):\n",
    "        weather_data_april['Wind Chill'][i] = weather_data_april['Temp (°C)'][i]\n",
    "\n",
    "weather_data_april.drop(labels = ['Temp (°C)', 'Dew Point Temp (°C)', 'Rel Hum (%)', 'Wind Dir (10s deg)', 'Visibility (km)'], \n",
    "                          axis = 1, inplace = True)"
   ]
  },
  {
   "cell_type": "code",
   "execution_count": 10,
   "metadata": {},
   "outputs": [
    {
     "name": "stderr",
     "output_type": "stream",
     "text": [
      "C:\\Users\\ankit\\Anaconda3\\envs\\tensorflow-gpu\\lib\\site-packages\\ipykernel_launcher.py:9: SettingWithCopyWarning: \n",
      "A value is trying to be set on a copy of a slice from a DataFrame\n",
      "\n",
      "See the caveats in the documentation: https://pandas.pydata.org/pandas-docs/stable/user_guide/indexing.html#returning-a-view-versus-a-copy\n",
      "  if __name__ == '__main__':\n",
      "C:\\Users\\ankit\\Anaconda3\\envs\\tensorflow-gpu\\lib\\site-packages\\ipykernel_launcher.py:13: SettingWithCopyWarning: \n",
      "A value is trying to be set on a copy of a slice from a DataFrame\n",
      "\n",
      "See the caveats in the documentation: https://pandas.pydata.org/pandas-docs/stable/user_guide/indexing.html#returning-a-view-versus-a-copy\n",
      "  del sys.path[0]\n"
     ]
    }
   ],
   "source": [
    "weather_data_may = pd.read_csv(\"../raw_weather_data/en_climate_hourly_ON_6158731_05-2019_P1H.csv\")\n",
    "\n",
    "weather_data_may.drop(labels = ['Temp Flag', 'Dew Point Temp Flag', 'Rel Hum Flag', 'Wind Dir Flag', 'Wind Spd Flag', \n",
    "                                    'Visibility Flag', 'Stn Press Flag', 'Hmdx', 'Hmdx Flag', 'Wind Chill Flag', 'Weather', \n",
    "                                    'Longitude (x)', 'Latitude (y)', 'Station Name', 'Climate ID', 'Date/Time', 'Year'], \n",
    "                          axis = 1, inplace = True)\n",
    "\n",
    "for i in range(len(weather_data_may)):\n",
    "    weather_data_may.Time[i] = int(weather_data_may.Time[i].split(':')[0])\n",
    "    \n",
    "for i in range(len(weather_data_may)):\n",
    "    if math.isnan(weather_data_may['Wind Chill'][i]):\n",
    "        weather_data_may['Wind Chill'][i] = weather_data_may['Temp (°C)'][i]\n",
    "\n",
    "weather_data_may.drop(labels = ['Temp (°C)', 'Dew Point Temp (°C)', 'Rel Hum (%)', 'Wind Dir (10s deg)', 'Visibility (km)'], \n",
    "                          axis = 1, inplace = True)"
   ]
  },
  {
   "cell_type": "code",
   "execution_count": 11,
   "metadata": {},
   "outputs": [
    {
     "name": "stderr",
     "output_type": "stream",
     "text": [
      "C:\\Users\\ankit\\Anaconda3\\envs\\tensorflow-gpu\\lib\\site-packages\\ipykernel_launcher.py:9: SettingWithCopyWarning: \n",
      "A value is trying to be set on a copy of a slice from a DataFrame\n",
      "\n",
      "See the caveats in the documentation: https://pandas.pydata.org/pandas-docs/stable/user_guide/indexing.html#returning-a-view-versus-a-copy\n",
      "  if __name__ == '__main__':\n",
      "C:\\Users\\ankit\\Anaconda3\\envs\\tensorflow-gpu\\lib\\site-packages\\ipykernel_launcher.py:13: SettingWithCopyWarning: \n",
      "A value is trying to be set on a copy of a slice from a DataFrame\n",
      "\n",
      "See the caveats in the documentation: https://pandas.pydata.org/pandas-docs/stable/user_guide/indexing.html#returning-a-view-versus-a-copy\n",
      "  del sys.path[0]\n"
     ]
    }
   ],
   "source": [
    "weather_data_june = pd.read_csv(\"../raw_weather_data/en_climate_hourly_ON_6158731_06-2019_P1H.csv\")\n",
    "\n",
    "weather_data_june.drop(labels = ['Temp Flag', 'Dew Point Temp Flag', 'Rel Hum Flag', 'Wind Dir Flag', 'Wind Spd Flag', \n",
    "                                    'Visibility Flag', 'Stn Press Flag', 'Hmdx', 'Hmdx Flag', 'Wind Chill Flag', 'Weather', \n",
    "                                    'Longitude (x)', 'Latitude (y)', 'Station Name', 'Climate ID', 'Date/Time', 'Year'], \n",
    "                          axis = 1, inplace = True)\n",
    "\n",
    "for i in range(len(weather_data_june)):\n",
    "    weather_data_june.Time[i] = int(weather_data_june.Time[i].split(':')[0])\n",
    "    \n",
    "for i in range(len(weather_data_june)):\n",
    "    if math.isnan(weather_data_june['Wind Chill'][i]):\n",
    "        weather_data_june['Wind Chill'][i] = weather_data_june['Temp (°C)'][i]\n",
    "\n",
    "weather_data_june.drop(labels = ['Temp (°C)', 'Dew Point Temp (°C)', 'Rel Hum (%)', 'Wind Dir (10s deg)', 'Visibility (km)'], \n",
    "                          axis = 1, inplace = True)"
   ]
  },
  {
   "cell_type": "code",
   "execution_count": 12,
   "metadata": {},
   "outputs": [
    {
     "name": "stderr",
     "output_type": "stream",
     "text": [
      "C:\\Users\\ankit\\Anaconda3\\envs\\tensorflow-gpu\\lib\\site-packages\\ipykernel_launcher.py:9: SettingWithCopyWarning: \n",
      "A value is trying to be set on a copy of a slice from a DataFrame\n",
      "\n",
      "See the caveats in the documentation: https://pandas.pydata.org/pandas-docs/stable/user_guide/indexing.html#returning-a-view-versus-a-copy\n",
      "  if __name__ == '__main__':\n",
      "C:\\Users\\ankit\\Anaconda3\\envs\\tensorflow-gpu\\lib\\site-packages\\ipykernel_launcher.py:13: SettingWithCopyWarning: \n",
      "A value is trying to be set on a copy of a slice from a DataFrame\n",
      "\n",
      "See the caveats in the documentation: https://pandas.pydata.org/pandas-docs/stable/user_guide/indexing.html#returning-a-view-versus-a-copy\n",
      "  del sys.path[0]\n"
     ]
    }
   ],
   "source": [
    "weather_data_july = pd.read_csv(\"../raw_weather_data/en_climate_hourly_ON_6158731_07-2019_P1H.csv\")\n",
    "\n",
    "weather_data_july.drop(labels = ['Temp Flag', 'Dew Point Temp Flag', 'Rel Hum Flag', 'Wind Dir Flag', 'Wind Spd Flag', \n",
    "                                    'Visibility Flag', 'Stn Press Flag', 'Hmdx', 'Hmdx Flag', 'Wind Chill Flag', 'Weather', \n",
    "                                    'Longitude (x)', 'Latitude (y)', 'Station Name', 'Climate ID', 'Date/Time', 'Year'], \n",
    "                          axis = 1, inplace = True)\n",
    "\n",
    "for i in range(len(weather_data_july)):\n",
    "    weather_data_july.Time[i] = int(weather_data_july.Time[i].split(':')[0])\n",
    "    \n",
    "for i in range(len(weather_data_july)):\n",
    "    if math.isnan(weather_data_july['Wind Chill'][i]):\n",
    "        weather_data_july['Wind Chill'][i] = weather_data_july['Temp (°C)'][i]\n",
    "\n",
    "weather_data_july.drop(labels = ['Temp (°C)', 'Dew Point Temp (°C)', 'Rel Hum (%)', 'Wind Dir (10s deg)', 'Visibility (km)'], \n",
    "                          axis = 1, inplace = True)"
   ]
  },
  {
   "cell_type": "code",
   "execution_count": 13,
   "metadata": {},
   "outputs": [
    {
     "name": "stderr",
     "output_type": "stream",
     "text": [
      "C:\\Users\\ankit\\Anaconda3\\envs\\tensorflow-gpu\\lib\\site-packages\\ipykernel_launcher.py:9: SettingWithCopyWarning: \n",
      "A value is trying to be set on a copy of a slice from a DataFrame\n",
      "\n",
      "See the caveats in the documentation: https://pandas.pydata.org/pandas-docs/stable/user_guide/indexing.html#returning-a-view-versus-a-copy\n",
      "  if __name__ == '__main__':\n",
      "C:\\Users\\ankit\\Anaconda3\\envs\\tensorflow-gpu\\lib\\site-packages\\ipykernel_launcher.py:13: SettingWithCopyWarning: \n",
      "A value is trying to be set on a copy of a slice from a DataFrame\n",
      "\n",
      "See the caveats in the documentation: https://pandas.pydata.org/pandas-docs/stable/user_guide/indexing.html#returning-a-view-versus-a-copy\n",
      "  del sys.path[0]\n"
     ]
    }
   ],
   "source": [
    "weather_data_august = pd.read_csv(\"../raw_weather_data/en_climate_hourly_ON_6158731_08-2019_P1H.csv\")\n",
    "\n",
    "weather_data_august.drop(labels = ['Temp Flag', 'Dew Point Temp Flag', 'Rel Hum Flag', 'Wind Dir Flag', 'Wind Spd Flag', \n",
    "                                    'Visibility Flag', 'Stn Press Flag', 'Hmdx', 'Hmdx Flag', 'Wind Chill Flag', 'Weather', \n",
    "                                    'Longitude (x)', 'Latitude (y)', 'Station Name', 'Climate ID', 'Date/Time', 'Year'], \n",
    "                          axis = 1, inplace = True)\n",
    "\n",
    "for i in range(len(weather_data_august)):\n",
    "    weather_data_august.Time[i] = int(weather_data_august.Time[i].split(':')[0])\n",
    "    \n",
    "for i in range(len(weather_data_august)):\n",
    "    if math.isnan(weather_data_august['Wind Chill'][i]):\n",
    "        weather_data_august['Wind Chill'][i] = weather_data_august['Temp (°C)'][i]\n",
    "\n",
    "weather_data_august.drop(labels = ['Temp (°C)', 'Dew Point Temp (°C)', 'Rel Hum (%)', 'Wind Dir (10s deg)', 'Visibility (km)'], \n",
    "                          axis = 1, inplace = True)"
   ]
  },
  {
   "cell_type": "code",
   "execution_count": 14,
   "metadata": {},
   "outputs": [
    {
     "name": "stderr",
     "output_type": "stream",
     "text": [
      "C:\\Users\\ankit\\Anaconda3\\envs\\tensorflow-gpu\\lib\\site-packages\\ipykernel_launcher.py:9: SettingWithCopyWarning: \n",
      "A value is trying to be set on a copy of a slice from a DataFrame\n",
      "\n",
      "See the caveats in the documentation: https://pandas.pydata.org/pandas-docs/stable/user_guide/indexing.html#returning-a-view-versus-a-copy\n",
      "  if __name__ == '__main__':\n",
      "C:\\Users\\ankit\\Anaconda3\\envs\\tensorflow-gpu\\lib\\site-packages\\ipykernel_launcher.py:13: SettingWithCopyWarning: \n",
      "A value is trying to be set on a copy of a slice from a DataFrame\n",
      "\n",
      "See the caveats in the documentation: https://pandas.pydata.org/pandas-docs/stable/user_guide/indexing.html#returning-a-view-versus-a-copy\n",
      "  del sys.path[0]\n"
     ]
    }
   ],
   "source": [
    "weather_data_september = pd.read_csv(\"../raw_weather_data/en_climate_hourly_ON_6158731_09-2019_P1H.csv\")\n",
    "\n",
    "weather_data_september.drop(labels = ['Temp Flag', 'Dew Point Temp Flag', 'Rel Hum Flag', 'Wind Dir Flag', 'Wind Spd Flag', \n",
    "                                    'Visibility Flag', 'Stn Press Flag', 'Hmdx', 'Hmdx Flag', 'Wind Chill Flag', 'Weather', \n",
    "                                    'Longitude (x)', 'Latitude (y)', 'Station Name', 'Climate ID', 'Date/Time', 'Year'], \n",
    "                          axis = 1, inplace = True)\n",
    "\n",
    "for i in range(len(weather_data_september)):\n",
    "    weather_data_september.Time[i] = int(weather_data_september.Time[i].split(':')[0])\n",
    "    \n",
    "for i in range(len(weather_data_september)):\n",
    "    if math.isnan(weather_data_september['Wind Chill'][i]):\n",
    "        weather_data_september['Wind Chill'][i] = weather_data_september['Temp (°C)'][i]\n",
    "\n",
    "weather_data_september.drop(labels = ['Temp (°C)', 'Dew Point Temp (°C)', 'Rel Hum (%)', 'Wind Dir (10s deg)', 'Visibility (km)'], \n",
    "                          axis = 1, inplace = True)"
   ]
  },
  {
   "cell_type": "code",
   "execution_count": 15,
   "metadata": {},
   "outputs": [
    {
     "name": "stderr",
     "output_type": "stream",
     "text": [
      "C:\\Users\\ankit\\Anaconda3\\envs\\tensorflow-gpu\\lib\\site-packages\\ipykernel_launcher.py:9: SettingWithCopyWarning: \n",
      "A value is trying to be set on a copy of a slice from a DataFrame\n",
      "\n",
      "See the caveats in the documentation: https://pandas.pydata.org/pandas-docs/stable/user_guide/indexing.html#returning-a-view-versus-a-copy\n",
      "  if __name__ == '__main__':\n",
      "C:\\Users\\ankit\\Anaconda3\\envs\\tensorflow-gpu\\lib\\site-packages\\ipykernel_launcher.py:13: SettingWithCopyWarning: \n",
      "A value is trying to be set on a copy of a slice from a DataFrame\n",
      "\n",
      "See the caveats in the documentation: https://pandas.pydata.org/pandas-docs/stable/user_guide/indexing.html#returning-a-view-versus-a-copy\n",
      "  del sys.path[0]\n"
     ]
    }
   ],
   "source": [
    "weather_data_october = pd.read_csv(\"../raw_weather_data/en_climate_hourly_ON_6158731_10-2019_P1H.csv\")\n",
    "\n",
    "weather_data_october.drop(labels = ['Temp Flag', 'Dew Point Temp Flag', 'Rel Hum Flag', 'Wind Dir Flag', 'Wind Spd Flag', \n",
    "                                    'Visibility Flag', 'Stn Press Flag', 'Hmdx', 'Hmdx Flag', 'Wind Chill Flag', 'Weather', \n",
    "                                    'Longitude (x)', 'Latitude (y)', 'Station Name', 'Climate ID', 'Date/Time', 'Year'], \n",
    "                          axis = 1, inplace = True)\n",
    "\n",
    "for i in range(len(weather_data_october)):\n",
    "    weather_data_october.Time[i] = int(weather_data_october.Time[i].split(':')[0])\n",
    "    \n",
    "for i in range(len(weather_data_october)):\n",
    "    if math.isnan(weather_data_october['Wind Chill'][i]):\n",
    "        weather_data_october['Wind Chill'][i] = weather_data_october['Temp (°C)'][i]\n",
    "\n",
    "weather_data_october.drop(labels = ['Temp (°C)', 'Dew Point Temp (°C)', 'Rel Hum (%)', 'Wind Dir (10s deg)', 'Visibility (km)'], \n",
    "                          axis = 1, inplace = True)"
   ]
  },
  {
   "cell_type": "code",
   "execution_count": 16,
   "metadata": {},
   "outputs": [
    {
     "name": "stderr",
     "output_type": "stream",
     "text": [
      "C:\\Users\\ankit\\Anaconda3\\envs\\tensorflow-gpu\\lib\\site-packages\\ipykernel_launcher.py:9: SettingWithCopyWarning: \n",
      "A value is trying to be set on a copy of a slice from a DataFrame\n",
      "\n",
      "See the caveats in the documentation: https://pandas.pydata.org/pandas-docs/stable/user_guide/indexing.html#returning-a-view-versus-a-copy\n",
      "  if __name__ == '__main__':\n",
      "C:\\Users\\ankit\\Anaconda3\\envs\\tensorflow-gpu\\lib\\site-packages\\ipykernel_launcher.py:13: SettingWithCopyWarning: \n",
      "A value is trying to be set on a copy of a slice from a DataFrame\n",
      "\n",
      "See the caveats in the documentation: https://pandas.pydata.org/pandas-docs/stable/user_guide/indexing.html#returning-a-view-versus-a-copy\n",
      "  del sys.path[0]\n"
     ]
    }
   ],
   "source": [
    "weather_data_november = pd.read_csv(\"../raw_weather_data/en_climate_hourly_ON_6158731_11-2019_P1H.csv\")\n",
    "\n",
    "weather_data_november.drop(labels = ['Temp Flag', 'Dew Point Temp Flag', 'Rel Hum Flag', 'Wind Dir Flag', 'Wind Spd Flag', \n",
    "                                    'Visibility Flag', 'Stn Press Flag', 'Hmdx', 'Hmdx Flag', 'Wind Chill Flag', 'Weather', \n",
    "                                    'Longitude (x)', 'Latitude (y)', 'Station Name', 'Climate ID', 'Date/Time', 'Year'], \n",
    "                          axis = 1, inplace = True)\n",
    "\n",
    "for i in range(len(weather_data_november)):\n",
    "    weather_data_november.Time[i] = int(weather_data_november.Time[i].split(':')[0])\n",
    "    \n",
    "for i in range(len(weather_data_november)):\n",
    "    if math.isnan(weather_data_november['Wind Chill'][i]):\n",
    "        weather_data_november['Wind Chill'][i] = weather_data_november['Temp (°C)'][i]\n",
    "\n",
    "weather_data_november.drop(labels = ['Temp (°C)', 'Dew Point Temp (°C)', 'Rel Hum (%)', 'Wind Dir (10s deg)', 'Visibility (km)'], \n",
    "                          axis = 1, inplace = True)"
   ]
  },
  {
   "cell_type": "code",
   "execution_count": 17,
   "metadata": {},
   "outputs": [
    {
     "name": "stderr",
     "output_type": "stream",
     "text": [
      "C:\\Users\\ankit\\Anaconda3\\envs\\tensorflow-gpu\\lib\\site-packages\\ipykernel_launcher.py:9: SettingWithCopyWarning: \n",
      "A value is trying to be set on a copy of a slice from a DataFrame\n",
      "\n",
      "See the caveats in the documentation: https://pandas.pydata.org/pandas-docs/stable/user_guide/indexing.html#returning-a-view-versus-a-copy\n",
      "  if __name__ == '__main__':\n",
      "C:\\Users\\ankit\\Anaconda3\\envs\\tensorflow-gpu\\lib\\site-packages\\ipykernel_launcher.py:13: SettingWithCopyWarning: \n",
      "A value is trying to be set on a copy of a slice from a DataFrame\n",
      "\n",
      "See the caveats in the documentation: https://pandas.pydata.org/pandas-docs/stable/user_guide/indexing.html#returning-a-view-versus-a-copy\n",
      "  del sys.path[0]\n"
     ]
    }
   ],
   "source": [
    "weather_data_december = pd.read_csv(\"../raw_weather_data/en_climate_hourly_ON_6158731_12-2019_P1H.csv\")\n",
    "\n",
    "weather_data_december.drop(labels = ['Temp Flag', 'Dew Point Temp Flag', 'Rel Hum Flag', 'Wind Dir Flag', 'Wind Spd Flag', \n",
    "                                    'Visibility Flag', 'Stn Press Flag', 'Hmdx', 'Hmdx Flag', 'Wind Chill Flag', 'Weather', \n",
    "                                    'Longitude (x)', 'Latitude (y)', 'Station Name', 'Climate ID', 'Date/Time', 'Year'], \n",
    "                          axis = 1, inplace = True)\n",
    "\n",
    "for i in range(len(weather_data_december)):\n",
    "    weather_data_december.Time[i] = int(weather_data_december.Time[i].split(':')[0])\n",
    "    \n",
    "for i in range(len(weather_data_december)):\n",
    "    if math.isnan(weather_data_december['Wind Chill'][i]):\n",
    "        weather_data_december['Wind Chill'][i] = weather_data_december['Temp (°C)'][i]\n",
    "\n",
    "weather_data_december.drop(labels = ['Temp (°C)', 'Dew Point Temp (°C)', 'Rel Hum (%)', 'Wind Dir (10s deg)', 'Visibility (km)'], \n",
    "                          axis = 1, inplace = True)"
   ]
  },
  {
   "cell_type": "code",
   "execution_count": 20,
   "metadata": {},
   "outputs": [],
   "source": [
    "frames = [weather_data_january, weather_data_february, weather_data_march, weather_data_april, weather_data_may, \n",
    "          weather_data_june, weather_data_july, weather_data_august, weather_data_september, weather_data_october, \n",
    "          weather_data_november, weather_data_december]"
   ]
  },
  {
   "cell_type": "code",
   "execution_count": 21,
   "metadata": {},
   "outputs": [],
   "source": [
    "weather_data = pd.concat(frames)"
   ]
  },
  {
   "cell_type": "code",
   "execution_count": 23,
   "metadata": {},
   "outputs": [
    {
     "data": {
      "text/plain": [
       "(8760, 6)"
      ]
     },
     "execution_count": 23,
     "metadata": {},
     "output_type": "execute_result"
    }
   ],
   "source": [
    "weather_data.shape"
   ]
  },
  {
   "cell_type": "code",
   "execution_count": 24,
   "metadata": {},
   "outputs": [],
   "source": [
    "weather_data.to_csv(\"../preprocessed_data/weather_data.csv\", index = False)"
   ]
  },
  {
   "cell_type": "code",
   "execution_count": null,
   "metadata": {},
   "outputs": [],
   "source": []
  }
 ],
 "metadata": {
  "kernelspec": {
   "display_name": "Python 3",
   "language": "python",
   "name": "python3"
  },
  "language_info": {
   "codemirror_mode": {
    "name": "ipython",
    "version": 3
   },
   "file_extension": ".py",
   "mimetype": "text/x-python",
   "name": "python",
   "nbconvert_exporter": "python",
   "pygments_lexer": "ipython3",
   "version": "3.7.6"
  }
 },
 "nbformat": 4,
 "nbformat_minor": 4
}
