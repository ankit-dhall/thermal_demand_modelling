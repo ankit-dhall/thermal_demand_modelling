{
 "cells": [
  {
   "cell_type": "code",
   "execution_count": 1,
   "metadata": {},
   "outputs": [],
   "source": [
    "import numpy as np\n",
    "import pandas as pd\n",
    "from sklearn.model_selection import train_test_split\n",
    "from sklearn.metrics import accuracy_score\n",
    "from sklearn.metrics import confusion_matrix\n",
    "import plotly.figure_factory as ff\n",
    "import tensorflow as tf\n",
    "from tensorflow.python.keras.layers import Dense, Dropout, LSTM\n",
    "from tensorflow.python.keras import Sequential\n",
    "from tensorflow.keras.utils import to_categorical\n",
    "from sklearn.preprocessing import OrdinalEncoder\n",
    "from pandas import DataFrame\n",
    "from pandas import concat\n",
    "import matplotlib.pyplot as plt\n",
    "from sklearn.metrics import precision_recall_curve, precision_score, recall_score, f1_score\n",
    "import seaborn as sns"
   ]
  },
  {
   "cell_type": "code",
   "execution_count": 2,
   "metadata": {},
   "outputs": [],
   "source": [
    "months = ['October', 'November', 'December', 'January', 'February', 'March', 'April']"
   ]
  },
  {
   "cell_type": "code",
   "execution_count": 3,
   "metadata": {},
   "outputs": [],
   "source": [
    "acc = list()"
   ]
  },
  {
   "cell_type": "code",
   "execution_count": 4,
   "metadata": {},
   "outputs": [],
   "source": [
    "f1 = list()"
   ]
  },
  {
   "cell_type": "code",
   "execution_count": 5,
   "metadata": {},
   "outputs": [],
   "source": [
    "err = list()"
   ]
  },
  {
   "cell_type": "code",
   "execution_count": 6,
   "metadata": {},
   "outputs": [],
   "source": [
    "house_data = pd.read_csv(\"../preprocessed_data/std_test_data_1faa36208e696350ee3ca80197c773f062678051.csv\")"
   ]
  },
  {
   "cell_type": "code",
   "execution_count": 7,
   "metadata": {},
   "outputs": [
    {
     "data": {
      "text/html": [
       "<div>\n",
       "<style scoped>\n",
       "    .dataframe tbody tr th:only-of-type {\n",
       "        vertical-align: middle;\n",
       "    }\n",
       "\n",
       "    .dataframe tbody tr th {\n",
       "        vertical-align: top;\n",
       "    }\n",
       "\n",
       "    .dataframe thead th {\n",
       "        text-align: right;\n",
       "    }\n",
       "</style>\n",
       "<table border=\"1\" class=\"dataframe\">\n",
       "  <thead>\n",
       "    <tr style=\"text-align: right;\">\n",
       "      <th></th>\n",
       "      <th>index</th>\n",
       "      <th>hour_sin</th>\n",
       "      <th>hour_cos</th>\n",
       "      <th>month_sin</th>\n",
       "      <th>month_cos</th>\n",
       "      <th>day_sin</th>\n",
       "      <th>day_cos</th>\n",
       "      <th>Month</th>\n",
       "      <th>DayOfWeek</th>\n",
       "      <th>HourofDay</th>\n",
       "      <th>Day</th>\n",
       "      <th>T_ctrl</th>\n",
       "      <th>T_stp_heat</th>\n",
       "      <th>Humidity</th>\n",
       "      <th>auxHeat1</th>\n",
       "      <th>fan</th>\n",
       "      <th>Thermostat_Temperature</th>\n",
       "      <th>T_out</th>\n",
       "      <th>RH_out</th>\n",
       "    </tr>\n",
       "  </thead>\n",
       "  <tbody>\n",
       "    <tr>\n",
       "      <th>0</th>\n",
       "      <td>0</td>\n",
       "      <td>0.0</td>\n",
       "      <td>1.0</td>\n",
       "      <td>0.0</td>\n",
       "      <td>1.0</td>\n",
       "      <td>0.755303</td>\n",
       "      <td>0.484974</td>\n",
       "      <td>1</td>\n",
       "      <td>1</td>\n",
       "      <td>0</td>\n",
       "      <td>1</td>\n",
       "      <td>0.173227</td>\n",
       "      <td>-1.11864</td>\n",
       "      <td>0.818161</td>\n",
       "      <td>0</td>\n",
       "      <td>3</td>\n",
       "      <td>0.565131</td>\n",
       "      <td>0.185707</td>\n",
       "      <td>1.760278</td>\n",
       "    </tr>\n",
       "    <tr>\n",
       "      <th>1</th>\n",
       "      <td>1</td>\n",
       "      <td>0.0</td>\n",
       "      <td>1.0</td>\n",
       "      <td>0.0</td>\n",
       "      <td>1.0</td>\n",
       "      <td>0.755303</td>\n",
       "      <td>0.484974</td>\n",
       "      <td>1</td>\n",
       "      <td>1</td>\n",
       "      <td>0</td>\n",
       "      <td>1</td>\n",
       "      <td>0.173227</td>\n",
       "      <td>-1.11864</td>\n",
       "      <td>0.946499</td>\n",
       "      <td>0</td>\n",
       "      <td>17</td>\n",
       "      <td>0.565131</td>\n",
       "      <td>0.185707</td>\n",
       "      <td>1.760278</td>\n",
       "    </tr>\n",
       "    <tr>\n",
       "      <th>2</th>\n",
       "      <td>2</td>\n",
       "      <td>0.0</td>\n",
       "      <td>1.0</td>\n",
       "      <td>0.0</td>\n",
       "      <td>1.0</td>\n",
       "      <td>0.755303</td>\n",
       "      <td>0.484974</td>\n",
       "      <td>1</td>\n",
       "      <td>1</td>\n",
       "      <td>0</td>\n",
       "      <td>1</td>\n",
       "      <td>0.173227</td>\n",
       "      <td>-1.11864</td>\n",
       "      <td>0.946499</td>\n",
       "      <td>0</td>\n",
       "      <td>0</td>\n",
       "      <td>0.565131</td>\n",
       "      <td>0.185707</td>\n",
       "      <td>1.760278</td>\n",
       "    </tr>\n",
       "    <tr>\n",
       "      <th>3</th>\n",
       "      <td>3</td>\n",
       "      <td>0.0</td>\n",
       "      <td>1.0</td>\n",
       "      <td>0.0</td>\n",
       "      <td>1.0</td>\n",
       "      <td>0.755303</td>\n",
       "      <td>0.484974</td>\n",
       "      <td>1</td>\n",
       "      <td>1</td>\n",
       "      <td>0</td>\n",
       "      <td>1</td>\n",
       "      <td>0.173227</td>\n",
       "      <td>-1.11864</td>\n",
       "      <td>0.946499</td>\n",
       "      <td>0</td>\n",
       "      <td>3</td>\n",
       "      <td>0.565131</td>\n",
       "      <td>0.185707</td>\n",
       "      <td>1.760278</td>\n",
       "    </tr>\n",
       "    <tr>\n",
       "      <th>4</th>\n",
       "      <td>4</td>\n",
       "      <td>0.0</td>\n",
       "      <td>1.0</td>\n",
       "      <td>0.0</td>\n",
       "      <td>1.0</td>\n",
       "      <td>0.755303</td>\n",
       "      <td>0.484974</td>\n",
       "      <td>1</td>\n",
       "      <td>1</td>\n",
       "      <td>0</td>\n",
       "      <td>1</td>\n",
       "      <td>0.173227</td>\n",
       "      <td>-1.11864</td>\n",
       "      <td>0.818161</td>\n",
       "      <td>0</td>\n",
       "      <td>17</td>\n",
       "      <td>0.565131</td>\n",
       "      <td>0.185707</td>\n",
       "      <td>1.760278</td>\n",
       "    </tr>\n",
       "  </tbody>\n",
       "</table>\n",
       "</div>"
      ],
      "text/plain": [
       "   index  hour_sin  hour_cos  month_sin  month_cos   day_sin   day_cos  Month  \\\n",
       "0      0       0.0       1.0        0.0        1.0  0.755303  0.484974      1   \n",
       "1      1       0.0       1.0        0.0        1.0  0.755303  0.484974      1   \n",
       "2      2       0.0       1.0        0.0        1.0  0.755303  0.484974      1   \n",
       "3      3       0.0       1.0        0.0        1.0  0.755303  0.484974      1   \n",
       "4      4       0.0       1.0        0.0        1.0  0.755303  0.484974      1   \n",
       "\n",
       "   DayOfWeek  HourofDay  Day    T_ctrl  T_stp_heat  Humidity  auxHeat1  fan  \\\n",
       "0          1          0    1  0.173227    -1.11864  0.818161         0    3   \n",
       "1          1          0    1  0.173227    -1.11864  0.946499         0   17   \n",
       "2          1          0    1  0.173227    -1.11864  0.946499         0    0   \n",
       "3          1          0    1  0.173227    -1.11864  0.946499         0    3   \n",
       "4          1          0    1  0.173227    -1.11864  0.818161         0   17   \n",
       "\n",
       "   Thermostat_Temperature     T_out    RH_out  \n",
       "0                0.565131  0.185707  1.760278  \n",
       "1                0.565131  0.185707  1.760278  \n",
       "2                0.565131  0.185707  1.760278  \n",
       "3                0.565131  0.185707  1.760278  \n",
       "4                0.565131  0.185707  1.760278  "
      ]
     },
     "execution_count": 7,
     "metadata": {},
     "output_type": "execute_result"
    }
   ],
   "source": [
    "house_data.head()"
   ]
  },
  {
   "cell_type": "code",
   "execution_count": 8,
   "metadata": {},
   "outputs": [
    {
     "data": {
      "text/plain": [
       "12    8914\n",
       "1     8695\n",
       "11    8647\n",
       "4     8622\n",
       "5     8214\n",
       "3     8188\n",
       "6     5351\n",
       "2     5181\n",
       "10    1774\n",
       "Name: Month, dtype: int64"
      ]
     },
     "execution_count": 8,
     "metadata": {},
     "output_type": "execute_result"
    }
   ],
   "source": [
    "house_data.Month.value_counts()"
   ]
  },
  {
   "cell_type": "code",
   "execution_count": 9,
   "metadata": {},
   "outputs": [],
   "source": [
    "def series_to_supervised(data, n_in = 1, n_out = 1, dropnan = True):\n",
    "    \n",
    "    n_vars = 1 if type(data) is list else data.shape[1]\n",
    "    df = DataFrame(data)\n",
    "    cols, names = list(), list()\n",
    "    \n",
    "    # input sequence (t-n, ... t-1)\n",
    "    for i in range(n_in, 0, -1):\n",
    "        cols.append(df.shift(i))\n",
    "        names += [('var%d(t-%d)' % (j+1, i)) for j in range(n_vars)]\n",
    "    \n",
    "    # forecast sequence (t, t+1, ... t+n)\n",
    "    for i in range(0, n_out):\n",
    "        cols.append(df.shift(-i))\n",
    "        if i == 0:\n",
    "            names += [('var%d(t)' % (j+1)) for j in range(n_vars)]\n",
    "        else:\n",
    "            names += [('var%d(t+%d)' % (j+1, i)) for j in range(n_vars)]\n",
    "    # put it all together\n",
    "    agg = concat(cols, axis=1)\n",
    "    agg.columns = names\n",
    "    # drop rows with NaN values\n",
    "    if dropnan:\n",
    "        agg.dropna(inplace=True)\n",
    "    return agg"
   ]
  },
  {
   "cell_type": "markdown",
   "metadata": {},
   "source": [
    "# October"
   ]
  },
  {
   "cell_type": "code",
   "execution_count": 10,
   "metadata": {},
   "outputs": [
    {
     "name": "stdout",
     "output_type": "stream",
     "text": [
      "(1414, 34) (1414, 21) (354, 34) (354, 21)\n"
     ]
    }
   ],
   "source": [
    "working_df = house_data[house_data.Month == 10]\n",
    "\n",
    "working_df = working_df[['T_ctrl', 'T_stp_heat', 'auxHeat1', 'T_out', 'RH_out']]\n",
    "cols = ['T_ctrl', 'T_stp_heat', 'T_out', 'RH_out', 'auxHeat1']\n",
    "working_df = working_df[cols]\n",
    "\n",
    "reframed = series_to_supervised(working_df, 6, 1)\n",
    "\n",
    "y_auxHeat = reframed['var5(t)']\n",
    "y_auxHeat = to_categorical(y_auxHeat)\n",
    "X = reframed.drop(labels = [\"var5(t)\"], axis = 1)\n",
    "\n",
    "X_train, X_test, y_train, y_test = train_test_split(X, y_auxHeat, test_size = 0.2, shuffle = True)\n",
    "\n",
    "X_train = X_train.values\n",
    "X_test = X_test.values\n",
    "\n",
    "print(X_train.shape, y_train.shape, X_test.shape, y_test.shape)"
   ]
  },
  {
   "cell_type": "code",
   "execution_count": 11,
   "metadata": {},
   "outputs": [
    {
     "name": "stdout",
     "output_type": "stream",
     "text": [
      "Train on 1414 samples, validate on 354 samples\n",
      "Epoch 1/20\n",
      "1414/1414 [==============================] - 1s 782us/sample - loss: 0.9879 - accuracy: 0.9823 - val_loss: 0.0747 - val_accuracy: 0.9915\n",
      "Epoch 2/20\n",
      "1414/1414 [==============================] - 1s 391us/sample - loss: 0.0602 - accuracy: 0.9915 - val_loss: 0.0539 - val_accuracy: 0.9915\n",
      "Epoch 3/20\n",
      "1414/1414 [==============================] - 1s 389us/sample - loss: 0.0493 - accuracy: 0.9915 - val_loss: 0.0541 - val_accuracy: 0.9915\n",
      "Epoch 4/20\n",
      "1414/1414 [==============================] - 1s 377us/sample - loss: 0.0465 - accuracy: 0.9915 - val_loss: 0.0460 - val_accuracy: 0.9915\n",
      "Epoch 5/20\n",
      "1414/1414 [==============================] - 1s 379us/sample - loss: 0.0425 - accuracy: 0.9915 - val_loss: 0.0499 - val_accuracy: 0.9915\n",
      "Epoch 6/20\n",
      "1414/1414 [==============================] - 1s 378us/sample - loss: 0.0374 - accuracy: 0.9922 - val_loss: 0.0422 - val_accuracy: 0.9915\n",
      "Epoch 7/20\n",
      "1414/1414 [==============================] - 1s 377us/sample - loss: 0.0352 - accuracy: 0.9922 - val_loss: 0.0467 - val_accuracy: 0.9915\n",
      "Epoch 8/20\n",
      "1414/1414 [==============================] - 1s 383us/sample - loss: 0.0335 - accuracy: 0.9922 - val_loss: 0.0423 - val_accuracy: 0.9915\n",
      "Epoch 9/20\n",
      "1414/1414 [==============================] - 1s 379us/sample - loss: 0.0315 - accuracy: 0.9936 - val_loss: 0.0456 - val_accuracy: 0.9915\n",
      "Epoch 10/20\n",
      "1414/1414 [==============================] - 1s 386us/sample - loss: 0.0304 - accuracy: 0.9922 - val_loss: 0.0436 - val_accuracy: 0.9915\n",
      "Epoch 11/20\n",
      "1414/1414 [==============================] - 1s 382us/sample - loss: 0.0289 - accuracy: 0.9929 - val_loss: 0.0378 - val_accuracy: 0.9915\n",
      "Epoch 12/20\n",
      "1414/1414 [==============================] - 1s 401us/sample - loss: 0.0280 - accuracy: 0.9936 - val_loss: 0.0451 - val_accuracy: 0.9915\n",
      "Epoch 13/20\n",
      "1414/1414 [==============================] - 1s 445us/sample - loss: 0.0290 - accuracy: 0.9936 - val_loss: 0.0356 - val_accuracy: 0.9915\n",
      "Epoch 14/20\n",
      "1414/1414 [==============================] - 1s 429us/sample - loss: 0.0266 - accuracy: 0.9936 - val_loss: 0.0424 - val_accuracy: 0.9915\n",
      "Epoch 15/20\n",
      "1414/1414 [==============================] - 1s 384us/sample - loss: 0.0270 - accuracy: 0.9936 - val_loss: 0.0384 - val_accuracy: 0.9915\n",
      "Epoch 16/20\n",
      "1414/1414 [==============================] - 1s 378us/sample - loss: 0.0256 - accuracy: 0.9936 - val_loss: 0.0382 - val_accuracy: 0.9944\n",
      "Epoch 17/20\n",
      "1414/1414 [==============================] - 1s 396us/sample - loss: 0.0256 - accuracy: 0.9943 - val_loss: 0.0385 - val_accuracy: 0.9944\n",
      "Epoch 18/20\n",
      "1414/1414 [==============================] - 1s 395us/sample - loss: 0.0248 - accuracy: 0.9943 - val_loss: 0.0384 - val_accuracy: 0.9944\n",
      "Epoch 19/20\n",
      "1414/1414 [==============================] - 1s 389us/sample - loss: 0.0259 - accuracy: 0.9943 - val_loss: 0.0455 - val_accuracy: 0.9944\n",
      "Epoch 20/20\n",
      "1414/1414 [==============================] - 1s 375us/sample - loss: 0.0242 - accuracy: 0.9943 - val_loss: 0.0365 - val_accuracy: 0.9944\n"
     ]
    }
   ],
   "source": [
    "classifier = Sequential()\n",
    "\n",
    "# Adding the input layer and the first hidden layer\n",
    "classifier.add(Dense(units = 24, kernel_initializer = 'uniform', activation = 'relu', input_dim = 34))\n",
    "\n",
    "# Adding the second hidden layer\n",
    "classifier.add(Dense(units = 24, kernel_initializer = 'uniform', activation = 'relu'))\n",
    "\n",
    "# Adding the output layer\n",
    "classifier.add(Dense(units = 21, kernel_initializer = 'uniform', activation = 'softmax'))\n",
    "\n",
    "# Compiling the ANN\n",
    "classifier.compile(optimizer = 'adam', loss = 'categorical_crossentropy', metrics = ['accuracy']) \n",
    "\n",
    "# Fitting the ANN to the Training set\n",
    "history = classifier.fit(X_train, y_train, validation_data = (X_test, y_test), batch_size = 10, epochs = 20, shuffle = True)"
   ]
  },
  {
   "cell_type": "code",
   "execution_count": 12,
   "metadata": {},
   "outputs": [
    {
     "data": {
      "image/png": "[encoded data removed]",
      "text/plain": [
       "<Figure size 432x288 with 1 Axes>"
      ]
     },
     "metadata": {
      "needs_background": "light"
     },
     "output_type": "display_data"
    }
   ],
   "source": [
    "plt.plot(history.history['loss'], label = 'train')\n",
    "plt.plot(history.history['val_loss'], label = 'test')\n",
    "plt.legend()\n",
    "plt.show()"
   ]
  },
  {
   "cell_type": "code",
   "execution_count": 13,
   "metadata": {},
   "outputs": [
    {
     "data": {
      "image/png": "[encoded data removed]",
      "text/plain": [
       "<Figure size 432x288 with 1 Axes>"
      ]
     },
     "metadata": {
      "needs_background": "light"
     },
     "output_type": "display_data"
    }
   ],
   "source": [
    "plt.plot(history.history['accuracy'], label = 'train')\n",
    "plt.plot(history.history['val_accuracy'], label = 'test')\n",
    "plt.legend()\n",
    "plt.show()"
   ]
  },
  {
   "cell_type": "code",
   "execution_count": 14,
   "metadata": {},
   "outputs": [
    {
     "name": "stdout",
     "output_type": "stream",
     "text": [
      "600\n",
      "600\n",
      "Error Percentage in predicted values is : 0.0 %\n"
     ]
    }
   ],
   "source": [
    "y_predicted = classifier.predict(X_test)\n",
    "\n",
    "y_predicted = np.argmax(y_predicted, axis = 1)\n",
    "\n",
    "y_test = np.argmax(y_test, axis = 1)\n",
    "\n",
    "test_sum = 0\n",
    "for i in range(len(y_test)):\n",
    "    test_sum += (y_test[i] * 15)\n",
    "\n",
    "print(test_sum)\n",
    "\n",
    "predicted_sum = 0\n",
    "for i in range(len(y_predicted)):\n",
    "    predicted_sum += (y_predicted[i] * 15)\n",
    "\n",
    "print(predicted_sum)\n",
    "\n",
    "print(\"Error Percentage in predicted values is : {} %\".format(np.absolute((predicted_sum - test_sum)/test_sum)*100))\n",
    "err.append(np.absolute((predicted_sum - test_sum)/test_sum)*100)"
   ]
  },
  {
   "cell_type": "code",
   "execution_count": 15,
   "metadata": {},
   "outputs": [
    {
     "data": {
      "text/plain": [
       "0.9919982426672882"
      ]
     },
     "execution_count": 15,
     "metadata": {},
     "output_type": "execute_result"
    }
   ],
   "source": [
    "f1_score(y_test, y_predicted, average = 'weighted')"
   ]
  },
  {
   "cell_type": "code",
   "execution_count": 16,
   "metadata": {},
   "outputs": [],
   "source": [
    "f1.append(f1_score(y_test, y_predicted, average = 'weighted'))"
   ]
  },
  {
   "cell_type": "code",
   "execution_count": 17,
   "metadata": {},
   "outputs": [],
   "source": [
    "acc.append(max(history.history['accuracy']))"
   ]
  },
  {
   "cell_type": "markdown",
   "metadata": {},
   "source": [
    "# November"
   ]
  },
  {
   "cell_type": "code",
   "execution_count": 18,
   "metadata": {},
   "outputs": [
    {
     "name": "stdout",
     "output_type": "stream",
     "text": [
      "(6912, 34) (6912, 21) (1729, 34) (1729, 21)\n"
     ]
    }
   ],
   "source": [
    "working_df = house_data[house_data.Month == 11]\n",
    "\n",
    "working_df = working_df[['T_ctrl', 'T_stp_heat', 'auxHeat1', 'T_out', 'RH_out']]\n",
    "cols = ['T_ctrl', 'T_stp_heat', 'T_out', 'RH_out', 'auxHeat1']\n",
    "working_df = working_df[cols]\n",
    "\n",
    "reframed = series_to_supervised(working_df, 6, 1)\n",
    "\n",
    "y_auxHeat = reframed['var5(t)']\n",
    "y_auxHeat = to_categorical(y_auxHeat)\n",
    "X = reframed.drop(labels = [\"var5(t)\"], axis = 1)\n",
    "\n",
    "X_train, X_test, y_train, y_test = train_test_split(X, y_auxHeat, test_size = 0.2, shuffle = True)\n",
    "\n",
    "X_train = X_train.values\n",
    "X_test = X_test.values\n",
    "\n",
    "print(X_train.shape, y_train.shape, X_test.shape, y_test.shape)"
   ]
  },
  {
   "cell_type": "code",
   "execution_count": 19,
   "metadata": {},
   "outputs": [
    {
     "name": "stdout",
     "output_type": "stream",
     "text": [
      "Train on 6912 samples, validate on 1729 samples\n",
      "Epoch 1/20\n",
      "6912/6912 [==============================] - 3s 428us/sample - loss: 0.7975 - accuracy: 0.8809 - val_loss: 0.4261 - val_accuracy: 0.9225\n",
      "Epoch 2/20\n",
      "6912/6912 [==============================] - 3s 368us/sample - loss: 0.4326 - accuracy: 0.9230 - val_loss: 0.3839 - val_accuracy: 0.9318\n",
      "Epoch 3/20\n",
      "6912/6912 [==============================] - 3s 364us/sample - loss: 0.3964 - accuracy: 0.9282 - val_loss: 0.3665 - val_accuracy: 0.9329\n",
      "Epoch 4/20\n",
      "6912/6912 [==============================] - 3s 370us/sample - loss: 0.3799 - accuracy: 0.9310 - val_loss: 0.3434 - val_accuracy: 0.9300\n",
      "Epoch 5/20\n",
      "6912/6912 [==============================] - 3s 365us/sample - loss: 0.3664 - accuracy: 0.9319 - val_loss: 0.3418 - val_accuracy: 0.9341\n",
      "Epoch 6/20\n",
      "6912/6912 [==============================] - 3s 366us/sample - loss: 0.3582 - accuracy: 0.9323 - val_loss: 0.3616 - val_accuracy: 0.9294\n",
      "Epoch 7/20\n",
      "6912/6912 [==============================] - 3s 364us/sample - loss: 0.3533 - accuracy: 0.9320 - val_loss: 0.3264 - val_accuracy: 0.9398\n",
      "Epoch 8/20\n",
      "6912/6912 [==============================] - 3s 367us/sample - loss: 0.3512 - accuracy: 0.9327 - val_loss: 0.3235 - val_accuracy: 0.9387\n",
      "Epoch 9/20\n",
      "6912/6912 [==============================] - 3s 372us/sample - loss: 0.3483 - accuracy: 0.9321 - val_loss: 0.3144 - val_accuracy: 0.9393\n",
      "Epoch 10/20\n",
      "6912/6912 [==============================] - 3s 366us/sample - loss: 0.3444 - accuracy: 0.9333 - val_loss: 0.3233 - val_accuracy: 0.9364\n",
      "Epoch 11/20\n",
      "6912/6912 [==============================] - 3s 376us/sample - loss: 0.3433 - accuracy: 0.9320 - val_loss: 0.3123 - val_accuracy: 0.9398\n",
      "Epoch 12/20\n",
      "6912/6912 [==============================] - 3s 400us/sample - loss: 0.3395 - accuracy: 0.9327 - val_loss: 0.3094 - val_accuracy: 0.9404\n",
      "Epoch 13/20\n",
      "6912/6912 [==============================] - 3s 368us/sample - loss: 0.3374 - accuracy: 0.9339 - val_loss: 0.3094 - val_accuracy: 0.9398\n",
      "Epoch 14/20\n",
      "6912/6912 [==============================] - 3s 369us/sample - loss: 0.3333 - accuracy: 0.9329 - val_loss: 0.3067 - val_accuracy: 0.9381\n",
      "Epoch 15/20\n",
      "6912/6912 [==============================] - 3s 368us/sample - loss: 0.3312 - accuracy: 0.9334 - val_loss: 0.3113 - val_accuracy: 0.9381\n",
      "Epoch 16/20\n",
      "6912/6912 [==============================] - 3s 363us/sample - loss: 0.3311 - accuracy: 0.9336 - val_loss: 0.3123 - val_accuracy: 0.9387\n",
      "Epoch 17/20\n",
      "6912/6912 [==============================] - 3s 367us/sample - loss: 0.3262 - accuracy: 0.9337 - val_loss: 0.3074 - val_accuracy: 0.9370\n",
      "Epoch 18/20\n",
      "6912/6912 [==============================] - 3s 366us/sample - loss: 0.3246 - accuracy: 0.9340 - val_loss: 0.3223 - val_accuracy: 0.9398\n",
      "Epoch 19/20\n",
      "6912/6912 [==============================] - 3s 371us/sample - loss: 0.3250 - accuracy: 0.9332 - val_loss: 0.3016 - val_accuracy: 0.9410\n",
      "Epoch 20/20\n",
      "6912/6912 [==============================] - 3s 369us/sample - loss: 0.3219 - accuracy: 0.9339 - val_loss: 0.3163 - val_accuracy: 0.9370\n"
     ]
    }
   ],
   "source": [
    "classifier = Sequential()\n",
    "\n",
    "# Adding the input layer and the first hidden layer\n",
    "classifier.add(Dense(units = 24, kernel_initializer = 'uniform', activation = 'relu', input_dim = 34))\n",
    "\n",
    "# Adding the second hidden layer\n",
    "classifier.add(Dense(units = 24, kernel_initializer = 'uniform', activation = 'relu'))\n",
    "\n",
    "# Adding the output layer\n",
    "classifier.add(Dense(units = 21, kernel_initializer = 'uniform', activation = 'softmax'))\n",
    "\n",
    "# Compiling the ANN\n",
    "classifier.compile(optimizer = 'adam', loss = 'categorical_crossentropy', metrics = ['accuracy']) \n",
    "\n",
    "# Fitting the ANN to the Training set\n",
    "history = classifier.fit(X_train, y_train, validation_data = (X_test, y_test), batch_size = 10, epochs = 20, shuffle = True)"
   ]
  },
  {
   "cell_type": "code",
   "execution_count": 20,
   "metadata": {},
   "outputs": [
    {
     "data": {
      "image/png": "[encoded data removed]",
      "text/plain": [
       "<Figure size 432x288 with 1 Axes>"
      ]
     },
     "metadata": {
      "needs_background": "light"
     },
     "output_type": "display_data"
    }
   ],
   "source": [
    "plt.plot(history.history['loss'], label = 'train')\n",
    "plt.plot(history.history['val_loss'], label = 'test')\n",
    "plt.legend()\n",
    "plt.show()"
   ]
  },
  {
   "cell_type": "code",
   "execution_count": 21,
   "metadata": {},
   "outputs": [
    {
     "data": {
      "image/png": "[encoded data removed]",
      "text/plain": [
       "<Figure size 432x288 with 1 Axes>"
      ]
     },
     "metadata": {
      "needs_background": "light"
     },
     "output_type": "display_data"
    }
   ],
   "source": [
    "plt.plot(history.history['accuracy'], label = 'train')\n",
    "plt.plot(history.history['val_accuracy'], label = 'test')\n",
    "plt.legend()\n",
    "plt.show()"
   ]
  },
  {
   "cell_type": "code",
   "execution_count": 22,
   "metadata": {},
   "outputs": [
    {
     "name": "stdout",
     "output_type": "stream",
     "text": [
      "75450\n",
      "67200\n",
      "Error Percentage in predicted values is : 10.934393638170974 %\n"
     ]
    }
   ],
   "source": [
    "y_predicted = classifier.predict(X_test)\n",
    "\n",
    "y_predicted = np.argmax(y_predicted, axis = 1)\n",
    "\n",
    "y_test = np.argmax(y_test, axis = 1)\n",
    "\n",
    "test_sum = 0\n",
    "for i in range(len(y_test)):\n",
    "    test_sum += (y_test[i] * 15)\n",
    "\n",
    "print(test_sum)\n",
    "\n",
    "predicted_sum = 0\n",
    "for i in range(len(y_predicted)):\n",
    "    predicted_sum += (y_predicted[i] * 15)\n",
    "\n",
    "print(predicted_sum)\n",
    "\n",
    "print(\"Error Percentage in predicted values is : {} %\".format(np.absolute((predicted_sum - test_sum)/test_sum)*100))\n",
    "err.append(np.absolute((predicted_sum - test_sum)/test_sum)*100)"
   ]
  },
  {
   "cell_type": "code",
   "execution_count": 23,
   "metadata": {},
   "outputs": [
    {
     "data": {
      "text/plain": [
       "0.910336131423548"
      ]
     },
     "execution_count": 23,
     "metadata": {},
     "output_type": "execute_result"
    }
   ],
   "source": [
    "f1_score(y_test, y_predicted, average = 'weighted')"
   ]
  },
  {
   "cell_type": "code",
   "execution_count": 24,
   "metadata": {},
   "outputs": [],
   "source": [
    "f1.append(f1_score(y_test, y_predicted, average = 'weighted'))"
   ]
  },
  {
   "cell_type": "code",
   "execution_count": 25,
   "metadata": {},
   "outputs": [],
   "source": [
    "acc.append(max(history.history['accuracy']))"
   ]
  },
  {
   "cell_type": "markdown",
   "metadata": {},
   "source": [
    "# December"
   ]
  },
  {
   "cell_type": "code",
   "execution_count": 26,
   "metadata": {},
   "outputs": [
    {
     "name": "stdout",
     "output_type": "stream",
     "text": [
      "(7126, 34) (7126, 21) (1782, 34) (1782, 21)\n"
     ]
    }
   ],
   "source": [
    "working_df = house_data[house_data.Month == 12]\n",
    "\n",
    "working_df = working_df[['T_ctrl', 'T_stp_heat', 'auxHeat1', 'T_out', 'RH_out']]\n",
    "cols = ['T_ctrl', 'T_stp_heat', 'T_out', 'RH_out', 'auxHeat1']\n",
    "working_df = working_df[cols]\n",
    "\n",
    "reframed = series_to_supervised(working_df, 6, 1)\n",
    "\n",
    "y_auxHeat = reframed['var5(t)']\n",
    "y_auxHeat = to_categorical(y_auxHeat)\n",
    "X = reframed.drop(labels = [\"var5(t)\"], axis = 1)\n",
    "\n",
    "X_train, X_test, y_train, y_test = train_test_split(X, y_auxHeat, test_size = 0.2, shuffle = True)\n",
    "\n",
    "X_train = X_train.values\n",
    "X_test = X_test.values\n",
    "\n",
    "print(X_train.shape, y_train.shape, X_test.shape, y_test.shape)"
   ]
  },
  {
   "cell_type": "code",
   "execution_count": 27,
   "metadata": {},
   "outputs": [
    {
     "name": "stdout",
     "output_type": "stream",
     "text": [
      "Train on 7126 samples, validate on 1782 samples\n",
      "Epoch 1/20\n",
      "7126/7126 [==============================] - 3s 424us/sample - loss: 0.7759 - accuracy: 0.8873 - val_loss: 0.5311 - val_accuracy: 0.9130\n",
      "Epoch 2/20\n",
      "7126/7126 [==============================] - 3s 367us/sample - loss: 0.4351 - accuracy: 0.9266 - val_loss: 0.4769 - val_accuracy: 0.9198\n",
      "Epoch 3/20\n",
      "7126/7126 [==============================] - 3s 374us/sample - loss: 0.4044 - accuracy: 0.9307 - val_loss: 0.4660 - val_accuracy: 0.9203\n",
      "Epoch 4/20\n",
      "7126/7126 [==============================] - 3s 375us/sample - loss: 0.3921 - accuracy: 0.9328 - val_loss: 0.4371 - val_accuracy: 0.9248\n",
      "Epoch 5/20\n",
      "7126/7126 [==============================] - 3s 366us/sample - loss: 0.3802 - accuracy: 0.9336 - val_loss: 0.4300 - val_accuracy: 0.9220\n",
      "Epoch 6/20\n",
      "7126/7126 [==============================] - 3s 367us/sample - loss: 0.3736 - accuracy: 0.9336 - val_loss: 0.4226 - val_accuracy: 0.9248\n",
      "Epoch 7/20\n",
      "7126/7126 [==============================] - 3s 364us/sample - loss: 0.3665 - accuracy: 0.9338 - val_loss: 0.4340 - val_accuracy: 0.9231\n",
      "Epoch 8/20\n",
      "7126/7126 [==============================] - 3s 367us/sample - loss: 0.3591 - accuracy: 0.9345 - val_loss: 0.4105 - val_accuracy: 0.9254\n",
      "Epoch 9/20\n",
      "7126/7126 [==============================] - 3s 370us/sample - loss: 0.3567 - accuracy: 0.9350 - val_loss: 0.4223 - val_accuracy: 0.9248\n",
      "Epoch 10/20\n",
      "7126/7126 [==============================] - 3s 366us/sample - loss: 0.3515 - accuracy: 0.9357 - val_loss: 0.4131 - val_accuracy: 0.9254\n",
      "Epoch 11/20\n",
      "7126/7126 [==============================] - 3s 365us/sample - loss: 0.3493 - accuracy: 0.9345 - val_loss: 0.4004 - val_accuracy: 0.9265\n",
      "Epoch 12/20\n",
      "7126/7126 [==============================] - 3s 363us/sample - loss: 0.3471 - accuracy: 0.9347 - val_loss: 0.3960 - val_accuracy: 0.9276\n",
      "Epoch 13/20\n",
      "7126/7126 [==============================] - 3s 367us/sample - loss: 0.3431 - accuracy: 0.9354 - val_loss: 0.4092 - val_accuracy: 0.9248\n",
      "Epoch 14/20\n",
      "7126/7126 [==============================] - 3s 366us/sample - loss: 0.3423 - accuracy: 0.9369 - val_loss: 0.4262 - val_accuracy: 0.9175\n",
      "Epoch 15/20\n",
      "7126/7126 [==============================] - 3s 369us/sample - loss: 0.3403 - accuracy: 0.9360 - val_loss: 0.3879 - val_accuracy: 0.9276\n",
      "Epoch 16/20\n",
      "7126/7126 [==============================] - 3s 367us/sample - loss: 0.3396 - accuracy: 0.9353 - val_loss: 0.3946 - val_accuracy: 0.9265\n",
      "Epoch 17/20\n",
      "7126/7126 [==============================] - 3s 365us/sample - loss: 0.3371 - accuracy: 0.9359 - val_loss: 0.3955 - val_accuracy: 0.9265\n",
      "Epoch 18/20\n",
      "7126/7126 [==============================] - 3s 397us/sample - loss: 0.3327 - accuracy: 0.9354 - val_loss: 0.4138 - val_accuracy: 0.9270\n",
      "Epoch 19/20\n",
      "7126/7126 [==============================] - 3s 372us/sample - loss: 0.3341 - accuracy: 0.9352 - val_loss: 0.3943 - val_accuracy: 0.9276\n",
      "Epoch 20/20\n",
      "7126/7126 [==============================] - 3s 372us/sample - loss: 0.3321 - accuracy: 0.9363 - val_loss: 0.3987 - val_accuracy: 0.9276\n"
     ]
    }
   ],
   "source": [
    "classifier = Sequential()\n",
    "\n",
    "# Adding the input layer and the first hidden layer\n",
    "classifier.add(Dense(units = 24, kernel_initializer = 'uniform', activation = 'relu', input_dim = 34))\n",
    "\n",
    "# Adding the second hidden layer\n",
    "classifier.add(Dense(units = 24, kernel_initializer = 'uniform', activation = 'relu'))\n",
    "\n",
    "# Adding the output layer\n",
    "classifier.add(Dense(units = 21, kernel_initializer = 'uniform', activation = 'softmax'))\n",
    "\n",
    "# Compiling the ANN\n",
    "classifier.compile(optimizer = 'adam', loss = 'categorical_crossentropy', metrics = ['accuracy']) \n",
    "\n",
    "# Fitting the ANN to the Training set\n",
    "history = classifier.fit(X_train, y_train, validation_data = (X_test, y_test), batch_size = 10, epochs = 20, shuffle = True)"
   ]
  },
  {
   "cell_type": "code",
   "execution_count": 28,
   "metadata": {},
   "outputs": [
    {
     "data": {
      "image/png": "[encoded data removed]",
      "text/plain": [
       "<Figure size 432x288 with 1 Axes>"
      ]
     },
     "metadata": {
      "needs_background": "light"
     },
     "output_type": "display_data"
    }
   ],
   "source": [
    "plt.plot(history.history['loss'], label = 'train')\n",
    "plt.plot(history.history['val_loss'], label = 'test')\n",
    "plt.legend()\n",
    "plt.show()"
   ]
  },
  {
   "cell_type": "code",
   "execution_count": 29,
   "metadata": {},
   "outputs": [
    {
     "data": {
      "image/png": "[encoded data removed]",
      "text/plain": [
       "<Figure size 432x288 with 1 Axes>"
      ]
     },
     "metadata": {
      "needs_background": "light"
     },
     "output_type": "display_data"
    }
   ],
   "source": [
    "plt.plot(history.history['accuracy'], label = 'train')\n",
    "plt.plot(history.history['val_accuracy'], label = 'test')\n",
    "plt.legend()\n",
    "plt.show()"
   ]
  },
  {
   "cell_type": "code",
   "execution_count": 30,
   "metadata": {},
   "outputs": [
    {
     "name": "stdout",
     "output_type": "stream",
     "text": [
      "105675\n",
      "104100\n",
      "Error Percentage in predicted values is : 1.4904187366926898 %\n"
     ]
    }
   ],
   "source": [
    "y_predicted = classifier.predict(X_test)\n",
    "\n",
    "y_predicted = np.argmax(y_predicted, axis = 1)\n",
    "\n",
    "y_test = np.argmax(y_test, axis = 1)\n",
    "\n",
    "test_sum = 0\n",
    "for i in range(len(y_test)):\n",
    "    test_sum += (y_test[i] * 15)\n",
    "\n",
    "print(test_sum)\n",
    "\n",
    "predicted_sum = 0\n",
    "for i in range(len(y_predicted)):\n",
    "    predicted_sum += (y_predicted[i] * 15)\n",
    "\n",
    "print(predicted_sum)\n",
    "\n",
    "print(\"Error Percentage in predicted values is : {} %\".format(np.absolute((predicted_sum - test_sum)/test_sum)*100))\n",
    "err.append(np.absolute((predicted_sum - test_sum)/test_sum)*100)"
   ]
  },
  {
   "cell_type": "code",
   "execution_count": 31,
   "metadata": {},
   "outputs": [
    {
     "data": {
      "text/plain": [
       "0.8957561397243115"
      ]
     },
     "execution_count": 31,
     "metadata": {},
     "output_type": "execute_result"
    }
   ],
   "source": [
    "f1_score(y_test, y_predicted, average = 'weighted')"
   ]
  },
  {
   "cell_type": "code",
   "execution_count": 32,
   "metadata": {},
   "outputs": [],
   "source": [
    "f1.append(f1_score(y_test, y_predicted, average = 'weighted'))"
   ]
  },
  {
   "cell_type": "code",
   "execution_count": 33,
   "metadata": {},
   "outputs": [],
   "source": [
    "acc.append(max(history.history['accuracy']))"
   ]
  },
  {
   "cell_type": "markdown",
   "metadata": {},
   "source": [
    "# January"
   ]
  },
  {
   "cell_type": "code",
   "execution_count": 34,
   "metadata": {},
   "outputs": [
    {
     "name": "stdout",
     "output_type": "stream",
     "text": [
      "(6951, 34) (6951, 21) (1738, 34) (1738, 21)\n"
     ]
    }
   ],
   "source": [
    "working_df = house_data[house_data.Month == 1]\n",
    "\n",
    "working_df = working_df[['T_ctrl', 'T_stp_heat', 'auxHeat1', 'T_out', 'RH_out']]\n",
    "cols = ['T_ctrl', 'T_stp_heat', 'T_out', 'RH_out', 'auxHeat1']\n",
    "working_df = working_df[cols]\n",
    "\n",
    "reframed = series_to_supervised(working_df, 6, 1)\n",
    "\n",
    "y_auxHeat = reframed['var5(t)']\n",
    "y_auxHeat = to_categorical(y_auxHeat)\n",
    "X = reframed.drop(labels = [\"var5(t)\"], axis = 1)\n",
    "\n",
    "X_train, X_test, y_train, y_test = train_test_split(X, y_auxHeat, test_size = 0.2, shuffle = True)\n",
    "\n",
    "X_train = X_train.values\n",
    "X_test = X_test.values\n",
    "\n",
    "print(X_train.shape, y_train.shape, X_test.shape, y_test.shape)"
   ]
  },
  {
   "cell_type": "code",
   "execution_count": 35,
   "metadata": {},
   "outputs": [
    {
     "name": "stdout",
     "output_type": "stream",
     "text": [
      "Train on 6951 samples, validate on 1738 samples\n",
      "Epoch 1/20\n",
      "6951/6951 [==============================] - 3s 446us/sample - loss: 0.8734 - accuracy: 0.8468 - val_loss: 0.6313 - val_accuracy: 0.8878\n",
      "Epoch 2/20\n",
      "6951/6951 [==============================] - 3s 374us/sample - loss: 0.5542 - accuracy: 0.8992 - val_loss: 0.5820 - val_accuracy: 0.8976\n",
      "Epoch 3/20\n",
      "6951/6951 [==============================] - 3s 366us/sample - loss: 0.5187 - accuracy: 0.9049 - val_loss: 0.5555 - val_accuracy: 0.9010\n",
      "Epoch 4/20\n",
      "6951/6951 [==============================] - 3s 371us/sample - loss: 0.5065 - accuracy: 0.9058 - val_loss: 0.5444 - val_accuracy: 0.9005\n",
      "Epoch 5/20\n",
      "6951/6951 [==============================] - 3s 367us/sample - loss: 0.4953 - accuracy: 0.9074 - val_loss: 0.5308 - val_accuracy: 0.8999\n",
      "Epoch 6/20\n",
      "6951/6951 [==============================] - 3s 364us/sample - loss: 0.4887 - accuracy: 0.9082 - val_loss: 0.5457 - val_accuracy: 0.8982\n",
      "Epoch 7/20\n",
      "6951/6951 [==============================] - 3s 369us/sample - loss: 0.4819 - accuracy: 0.9085 - val_loss: 0.5197 - val_accuracy: 0.9010\n",
      "Epoch 8/20\n",
      "6951/6951 [==============================] - 3s 365us/sample - loss: 0.4825 - accuracy: 0.9081 - val_loss: 0.5169 - val_accuracy: 0.9033\n",
      "Epoch 9/20\n",
      "6951/6951 [==============================] - 3s 369us/sample - loss: 0.4758 - accuracy: 0.9088 - val_loss: 0.5095 - val_accuracy: 0.9028\n",
      "Epoch 10/20\n",
      "6951/6951 [==============================] - 3s 374us/sample - loss: 0.4698 - accuracy: 0.9089 - val_loss: 0.5148 - val_accuracy: 0.9033\n",
      "Epoch 11/20\n",
      "6951/6951 [==============================] - 3s 369us/sample - loss: 0.4691 - accuracy: 0.9094 - val_loss: 0.5089 - val_accuracy: 0.9033\n",
      "Epoch 12/20\n",
      "6951/6951 [==============================] - 3s 368us/sample - loss: 0.4613 - accuracy: 0.9107 - val_loss: 0.5125 - val_accuracy: 0.9028\n",
      "Epoch 13/20\n",
      "6951/6951 [==============================] - 2s 359us/sample - loss: 0.4607 - accuracy: 0.9102 - val_loss: 0.5087 - val_accuracy: 0.9033\n",
      "Epoch 14/20\n",
      "6951/6951 [==============================] - 3s 371us/sample - loss: 0.4559 - accuracy: 0.9114 - val_loss: 0.5027 - val_accuracy: 0.9028\n",
      "Epoch 15/20\n",
      "6951/6951 [==============================] - 3s 372us/sample - loss: 0.4512 - accuracy: 0.9114 - val_loss: 0.4920 - val_accuracy: 0.9045\n",
      "Epoch 16/20\n",
      "6951/6951 [==============================] - 3s 375us/sample - loss: 0.4485 - accuracy: 0.9111 - val_loss: 0.4958 - val_accuracy: 0.9033\n",
      "Epoch 17/20\n",
      "6951/6951 [==============================] - 3s 373us/sample - loss: 0.4451 - accuracy: 0.9122 - val_loss: 0.4904 - val_accuracy: 0.9045\n",
      "Epoch 18/20\n",
      "6951/6951 [==============================] - 3s 371us/sample - loss: 0.4422 - accuracy: 0.9109 - val_loss: 0.4818 - val_accuracy: 0.9033\n",
      "Epoch 19/20\n",
      "6951/6951 [==============================] - 3s 371us/sample - loss: 0.4395 - accuracy: 0.9122 - val_loss: 0.4945 - val_accuracy: 0.9028\n",
      "Epoch 20/20\n",
      "6951/6951 [==============================] - 3s 369us/sample - loss: 0.4424 - accuracy: 0.9111 - val_loss: 0.4803 - val_accuracy: 0.9062\n"
     ]
    }
   ],
   "source": [
    "classifier = Sequential()\n",
    "\n",
    "# Adding the input layer and the first hidden layer\n",
    "classifier.add(Dense(units = 24, kernel_initializer = 'uniform', activation = 'relu', input_dim = 34))\n",
    "\n",
    "# Adding the second hidden layer\n",
    "classifier.add(Dense(units = 24, kernel_initializer = 'uniform', activation = 'relu'))\n",
    "\n",
    "# Adding the output layer\n",
    "classifier.add(Dense(units = 21, kernel_initializer = 'uniform', activation = 'softmax'))\n",
    "\n",
    "# Compiling the ANN\n",
    "classifier.compile(optimizer = 'adam', loss = 'categorical_crossentropy', metrics = ['accuracy']) \n",
    "\n",
    "# Fitting the ANN to the Training set\n",
    "history = classifier.fit(X_train, y_train, validation_data = (X_test, y_test), batch_size = 10, epochs = 20, shuffle = True)"
   ]
  },
  {
   "cell_type": "code",
   "execution_count": 36,
   "metadata": {},
   "outputs": [
    {
     "data": {
      "image/png": "[encoded data removed]",
      "text/plain": [
       "<Figure size 432x288 with 1 Axes>"
      ]
     },
     "metadata": {
      "needs_background": "light"
     },
     "output_type": "display_data"
    }
   ],
   "source": [
    "plt.plot(history.history['loss'], label = 'train')\n",
    "plt.plot(history.history['val_loss'], label = 'test')\n",
    "plt.legend()\n",
    "plt.show()"
   ]
  },
  {
   "cell_type": "code",
   "execution_count": 37,
   "metadata": {},
   "outputs": [
    {
     "data": {
      "image/png": "[encoded data removed]",
      "text/plain": [
       "<Figure size 432x288 with 1 Axes>"
      ]
     },
     "metadata": {
      "needs_background": "light"
     },
     "output_type": "display_data"
    }
   ],
   "source": [
    "plt.plot(history.history['accuracy'], label = 'train')\n",
    "plt.plot(history.history['val_accuracy'], label = 'test')\n",
    "plt.legend()\n",
    "plt.show()"
   ]
  },
  {
   "cell_type": "code",
   "execution_count": 38,
   "metadata": {},
   "outputs": [
    {
     "name": "stdout",
     "output_type": "stream",
     "text": [
      "149595\n",
      "150900\n",
      "Error Percentage in predicted values is : 0.8723553594705705 %\n"
     ]
    }
   ],
   "source": [
    "y_predicted = classifier.predict(X_test)\n",
    "\n",
    "y_predicted = np.argmax(y_predicted, axis = 1)\n",
    "\n",
    "y_test = np.argmax(y_test, axis = 1)\n",
    "\n",
    "test_sum = 0\n",
    "for i in range(len(y_test)):\n",
    "    test_sum += (y_test[i] * 15)\n",
    "\n",
    "print(test_sum)\n",
    "\n",
    "predicted_sum = 0\n",
    "for i in range(len(y_predicted)):\n",
    "    predicted_sum += (y_predicted[i] * 15)\n",
    "\n",
    "print(predicted_sum)\n",
    "\n",
    "print(\"Error Percentage in predicted values is : {} %\".format(np.absolute((predicted_sum - test_sum)/test_sum)*100))\n",
    "err.append(np.absolute((predicted_sum - test_sum)/test_sum)*100)"
   ]
  },
  {
   "cell_type": "code",
   "execution_count": 39,
   "metadata": {},
   "outputs": [
    {
     "data": {
      "text/plain": [
       "0.8657335029272168"
      ]
     },
     "execution_count": 39,
     "metadata": {},
     "output_type": "execute_result"
    }
   ],
   "source": [
    "f1_score(y_test, y_predicted, average = 'weighted')"
   ]
  },
  {
   "cell_type": "code",
   "execution_count": 40,
   "metadata": {},
   "outputs": [],
   "source": [
    "f1.append(f1_score(y_test, y_predicted, average = 'weighted'))"
   ]
  },
  {
   "cell_type": "code",
   "execution_count": 41,
   "metadata": {},
   "outputs": [],
   "source": [
    "acc.append(max(history.history['accuracy']))"
   ]
  },
  {
   "cell_type": "markdown",
   "metadata": {},
   "source": [
    "# February"
   ]
  },
  {
   "cell_type": "code",
   "execution_count": 42,
   "metadata": {},
   "outputs": [
    {
     "name": "stdout",
     "output_type": "stream",
     "text": [
      "(4140, 34) (4140, 21) (1035, 34) (1035, 21)\n"
     ]
    }
   ],
   "source": [
    "working_df = house_data[house_data.Month == 2]\n",
    "\n",
    "working_df = working_df[['T_ctrl', 'T_stp_heat', 'auxHeat1', 'T_out', 'RH_out']]\n",
    "cols = ['T_ctrl', 'T_stp_heat', 'T_out', 'RH_out', 'auxHeat1']\n",
    "working_df = working_df[cols]\n",
    "\n",
    "reframed = series_to_supervised(working_df, 6, 1)\n",
    "\n",
    "y_auxHeat = reframed['var5(t)']\n",
    "y_auxHeat = to_categorical(y_auxHeat)\n",
    "X = reframed.drop(labels = [\"var5(t)\"], axis = 1)\n",
    "\n",
    "X_train, X_test, y_train, y_test = train_test_split(X, y_auxHeat, test_size = 0.2, shuffle = True)\n",
    "\n",
    "X_train = X_train.values\n",
    "X_test = X_test.values\n",
    "\n",
    "print(X_train.shape, y_train.shape, X_test.shape, y_test.shape)"
   ]
  },
  {
   "cell_type": "code",
   "execution_count": 43,
   "metadata": {},
   "outputs": [
    {
     "name": "stdout",
     "output_type": "stream",
     "text": [
      "Train on 4140 samples, validate on 1035 samples\n",
      "Epoch 1/20\n",
      "4140/4140 [==============================] - 2s 412us/sample - loss: 0.9591 - accuracy: 0.8418 - val_loss: 0.5028 - val_accuracy: 0.9130\n",
      "Epoch 2/20\n",
      "4140/4140 [==============================] - 1s 336us/sample - loss: 0.4720 - accuracy: 0.9085 - val_loss: 0.4459 - val_accuracy: 0.9227\n",
      "Epoch 3/20\n",
      "4140/4140 [==============================] - 1s 323us/sample - loss: 0.4354 - accuracy: 0.9179 - val_loss: 0.4314 - val_accuracy: 0.9217\n",
      "Epoch 4/20\n",
      "4140/4140 [==============================] - 1s 317us/sample - loss: 0.4172 - accuracy: 0.9198 - val_loss: 0.4288 - val_accuracy: 0.9179\n",
      "Epoch 5/20\n",
      "4140/4140 [==============================] - 1s 323us/sample - loss: 0.4037 - accuracy: 0.9217 - val_loss: 0.4045 - val_accuracy: 0.9275\n",
      "Epoch 6/20\n",
      "4140/4140 [==============================] - 1s 324us/sample - loss: 0.3973 - accuracy: 0.9242 - val_loss: 0.4038 - val_accuracy: 0.9295\n",
      "Epoch 7/20\n",
      "4140/4140 [==============================] - 1s 316us/sample - loss: 0.3901 - accuracy: 0.9246 - val_loss: 0.4084 - val_accuracy: 0.9275\n",
      "Epoch 8/20\n",
      "4140/4140 [==============================] - 1s 325us/sample - loss: 0.3824 - accuracy: 0.9258 - val_loss: 0.3963 - val_accuracy: 0.9266\n",
      "Epoch 9/20\n",
      "4140/4140 [==============================] - 1s 322us/sample - loss: 0.3793 - accuracy: 0.9249 - val_loss: 0.4069 - val_accuracy: 0.9256\n",
      "Epoch 10/20\n",
      "4140/4140 [==============================] - 1s 322us/sample - loss: 0.3767 - accuracy: 0.9251 - val_loss: 0.3917 - val_accuracy: 0.9256\n",
      "Epoch 11/20\n",
      "4140/4140 [==============================] - 1s 324us/sample - loss: 0.3697 - accuracy: 0.9258 - val_loss: 0.3946 - val_accuracy: 0.9256\n",
      "Epoch 12/20\n",
      "4140/4140 [==============================] - 1s 321us/sample - loss: 0.3701 - accuracy: 0.9266 - val_loss: 0.3853 - val_accuracy: 0.9275\n",
      "Epoch 13/20\n",
      "4140/4140 [==============================] - 1s 325us/sample - loss: 0.3658 - accuracy: 0.9261 - val_loss: 0.3795 - val_accuracy: 0.9295\n",
      "Epoch 14/20\n",
      "4140/4140 [==============================] - 1s 324us/sample - loss: 0.3611 - accuracy: 0.9271 - val_loss: 0.3834 - val_accuracy: 0.9314\n",
      "Epoch 15/20\n",
      "4140/4140 [==============================] - 1s 322us/sample - loss: 0.3592 - accuracy: 0.9256 - val_loss: 0.3845 - val_accuracy: 0.9333\n",
      "Epoch 16/20\n",
      "4140/4140 [==============================] - 1s 324us/sample - loss: 0.3519 - accuracy: 0.9273 - val_loss: 0.3882 - val_accuracy: 0.9275\n",
      "Epoch 17/20\n",
      "4140/4140 [==============================] - 1s 322us/sample - loss: 0.3532 - accuracy: 0.9266 - val_loss: 0.3893 - val_accuracy: 0.9285\n",
      "Epoch 18/20\n",
      "4140/4140 [==============================] - 1s 328us/sample - loss: 0.3503 - accuracy: 0.9271 - val_loss: 0.3799 - val_accuracy: 0.9324\n",
      "Epoch 19/20\n",
      "4140/4140 [==============================] - 1s 324us/sample - loss: 0.3452 - accuracy: 0.9292 - val_loss: 0.3967 - val_accuracy: 0.9217\n",
      "Epoch 20/20\n",
      "4140/4140 [==============================] - 1s 326us/sample - loss: 0.3462 - accuracy: 0.9285 - val_loss: 0.3848 - val_accuracy: 0.9314\n"
     ]
    }
   ],
   "source": [
    "classifier = Sequential()\n",
    "\n",
    "# Adding the input layer and the first hidden layer\n",
    "classifier.add(Dense(units = 24, kernel_initializer = 'uniform', activation = 'relu', input_dim = 34))\n",
    "\n",
    "# Adding the second hidden layer\n",
    "classifier.add(Dense(units = 24, kernel_initializer = 'uniform', activation = 'relu'))\n",
    "\n",
    "# Adding the output layer\n",
    "classifier.add(Dense(units = 21, kernel_initializer = 'uniform', activation = 'softmax'))\n",
    "\n",
    "# Compiling the ANN\n",
    "classifier.compile(optimizer = 'adam', loss = 'categorical_crossentropy', metrics = ['accuracy']) \n",
    "\n",
    "# Fitting the ANN to the Training set\n",
    "history = classifier.fit(X_train, y_train, validation_data = (X_test, y_test), batch_size = 10, epochs = 20, shuffle = True)"
   ]
  },
  {
   "cell_type": "code",
   "execution_count": 44,
   "metadata": {},
   "outputs": [
    {
     "data": {
      "image/png": "[encoded data removed]",
      "text/plain": [
       "<Figure size 432x288 with 1 Axes>"
      ]
     },
     "metadata": {
      "needs_background": "light"
     },
     "output_type": "display_data"
    }
   ],
   "source": [
    "plt.plot(history.history['loss'], label = 'train')\n",
    "plt.plot(history.history['val_loss'], label = 'test')\n",
    "plt.legend()\n",
    "plt.show()"
   ]
  },
  {
   "cell_type": "code",
   "execution_count": 45,
   "metadata": {},
   "outputs": [
    {
     "data": {
      "image/png": "[encoded data removed]",
      "text/plain": [
       "<Figure size 432x288 with 1 Axes>"
      ]
     },
     "metadata": {
      "needs_background": "light"
     },
     "output_type": "display_data"
    }
   ],
   "source": [
    "plt.plot(history.history['accuracy'], label = 'train')\n",
    "plt.plot(history.history['val_accuracy'], label = 'test')\n",
    "plt.legend()\n",
    "plt.show()"
   ]
  },
  {
   "cell_type": "code",
   "execution_count": 46,
   "metadata": {},
   "outputs": [
    {
     "name": "stdout",
     "output_type": "stream",
     "text": [
      "65070\n",
      "65700\n",
      "Error Percentage in predicted values is : 0.9681881051175657 %\n"
     ]
    }
   ],
   "source": [
    "y_predicted = classifier.predict(X_test)\n",
    "\n",
    "y_predicted = np.argmax(y_predicted, axis = 1)\n",
    "\n",
    "y_test = np.argmax(y_test, axis = 1)\n",
    "\n",
    "test_sum = 0\n",
    "for i in range(len(y_test)):\n",
    "    test_sum += (y_test[i] * 15)\n",
    "\n",
    "print(test_sum)\n",
    "\n",
    "predicted_sum = 0\n",
    "for i in range(len(y_predicted)):\n",
    "    predicted_sum += (y_predicted[i] * 15)\n",
    "\n",
    "print(predicted_sum)\n",
    "\n",
    "print(\"Error Percentage in predicted values is : {} %\".format(np.absolute((predicted_sum - test_sum)/test_sum)*100))\n",
    "err.append(np.absolute((predicted_sum - test_sum)/test_sum)*100)"
   ]
  },
  {
   "cell_type": "code",
   "execution_count": 47,
   "metadata": {},
   "outputs": [
    {
     "data": {
      "text/plain": [
       "0.9038137408733771"
      ]
     },
     "execution_count": 47,
     "metadata": {},
     "output_type": "execute_result"
    }
   ],
   "source": [
    "f1_score(y_test, y_predicted, average = 'weighted')"
   ]
  },
  {
   "cell_type": "code",
   "execution_count": 48,
   "metadata": {},
   "outputs": [],
   "source": [
    "f1.append(f1_score(y_test, y_predicted, average = 'weighted'))"
   ]
  },
  {
   "cell_type": "code",
   "execution_count": 49,
   "metadata": {},
   "outputs": [],
   "source": [
    "acc.append(max(history.history['accuracy']))"
   ]
  },
  {
   "cell_type": "markdown",
   "metadata": {},
   "source": [
    "# March"
   ]
  },
  {
   "cell_type": "code",
   "execution_count": 50,
   "metadata": {},
   "outputs": [
    {
     "name": "stdout",
     "output_type": "stream",
     "text": [
      "(6545, 34) (6545, 21) (1637, 34) (1637, 21)\n"
     ]
    }
   ],
   "source": [
    "working_df = house_data[house_data.Month == 3]\n",
    "\n",
    "working_df = working_df[['T_ctrl', 'T_stp_heat', 'auxHeat1', 'T_out', 'RH_out']]\n",
    "cols = ['T_ctrl', 'T_stp_heat', 'T_out', 'RH_out', 'auxHeat1']\n",
    "working_df = working_df[cols]\n",
    "\n",
    "reframed = series_to_supervised(working_df, 6, 1)\n",
    "\n",
    "y_auxHeat = reframed['var5(t)']\n",
    "y_auxHeat = to_categorical(y_auxHeat)\n",
    "X = reframed.drop(labels = [\"var5(t)\"], axis = 1)\n",
    "\n",
    "X_train, X_test, y_train, y_test = train_test_split(X, y_auxHeat, test_size = 0.2, shuffle = True)\n",
    "\n",
    "X_train = X_train.values\n",
    "X_test = X_test.values\n",
    "\n",
    "print(X_train.shape, y_train.shape, X_test.shape, y_test.shape)"
   ]
  },
  {
   "cell_type": "code",
   "execution_count": 51,
   "metadata": {},
   "outputs": [
    {
     "name": "stdout",
     "output_type": "stream",
     "text": [
      "Train on 6545 samples, validate on 1637 samples\n",
      "Epoch 1/20\n",
      "6545/6545 [==============================] - 3s 430us/sample - loss: 0.7327 - accuracy: 0.8930 - val_loss: 0.4258 - val_accuracy: 0.9279\n",
      "Epoch 2/20\n",
      "6545/6545 [==============================] - 2s 367us/sample - loss: 0.3899 - accuracy: 0.9302 - val_loss: 0.3822 - val_accuracy: 0.9310\n",
      "Epoch 3/20\n",
      "6545/6545 [==============================] - 2s 365us/sample - loss: 0.3691 - accuracy: 0.9319 - val_loss: 0.3821 - val_accuracy: 0.9297\n",
      "Epoch 4/20\n",
      "6545/6545 [==============================] - 2s 367us/sample - loss: 0.3568 - accuracy: 0.9335 - val_loss: 0.3623 - val_accuracy: 0.9322\n",
      "Epoch 5/20\n",
      "6545/6545 [==============================] - 2s 377us/sample - loss: 0.3495 - accuracy: 0.9345 - val_loss: 0.3621 - val_accuracy: 0.9328\n",
      "Epoch 6/20\n",
      "6545/6545 [==============================] - 2s 371us/sample - loss: 0.3421 - accuracy: 0.9352 - val_loss: 0.3497 - val_accuracy: 0.9334\n",
      "Epoch 7/20\n",
      "6545/6545 [==============================] - 2s 370us/sample - loss: 0.3369 - accuracy: 0.9366 - val_loss: 0.3524 - val_accuracy: 0.9328\n",
      "Epoch 8/20\n",
      "6545/6545 [==============================] - 2s 368us/sample - loss: 0.3312 - accuracy: 0.9384 - val_loss: 0.3466 - val_accuracy: 0.9346\n",
      "Epoch 9/20\n",
      "6545/6545 [==============================] - 2s 369us/sample - loss: 0.3289 - accuracy: 0.9371 - val_loss: 0.3463 - val_accuracy: 0.9352\n",
      "Epoch 10/20\n",
      "6545/6545 [==============================] - 2s 369us/sample - loss: 0.3217 - accuracy: 0.9380 - val_loss: 0.3482 - val_accuracy: 0.9340\n",
      "Epoch 11/20\n",
      "6545/6545 [==============================] - 2s 369us/sample - loss: 0.3202 - accuracy: 0.9381 - val_loss: 0.3574 - val_accuracy: 0.9322\n",
      "Epoch 12/20\n",
      "6545/6545 [==============================] - 2s 371us/sample - loss: 0.3176 - accuracy: 0.9395 - val_loss: 0.3526 - val_accuracy: 0.9340\n",
      "Epoch 13/20\n",
      "6545/6545 [==============================] - 2s 371us/sample - loss: 0.3138 - accuracy: 0.9383 - val_loss: 0.3592 - val_accuracy: 0.9328\n",
      "Epoch 14/20\n",
      "6545/6545 [==============================] - 3s 391us/sample - loss: 0.3119 - accuracy: 0.9393 - val_loss: 0.3454 - val_accuracy: 0.9352\n",
      "Epoch 15/20\n",
      "6545/6545 [==============================] - 2s 375us/sample - loss: 0.3084 - accuracy: 0.9393 - val_loss: 0.3473 - val_accuracy: 0.9352\n",
      "Epoch 16/20\n",
      "6545/6545 [==============================] - 2s 377us/sample - loss: 0.3073 - accuracy: 0.9396 - val_loss: 0.3559 - val_accuracy: 0.9352\n",
      "Epoch 17/20\n",
      "6545/6545 [==============================] - 2s 371us/sample - loss: 0.3061 - accuracy: 0.9395 - val_loss: 0.3512 - val_accuracy: 0.9359\n",
      "Epoch 18/20\n",
      "6545/6545 [==============================] - 2s 377us/sample - loss: 0.3057 - accuracy: 0.9393 - val_loss: 0.3555 - val_accuracy: 0.9352\n",
      "Epoch 19/20\n",
      "6545/6545 [==============================] - 3s 387us/sample - loss: 0.3016 - accuracy: 0.9400 - val_loss: 0.3672 - val_accuracy: 0.9297\n",
      "Epoch 20/20\n",
      "6545/6545 [==============================] - 2s 377us/sample - loss: 0.3012 - accuracy: 0.9389 - val_loss: 0.3685 - val_accuracy: 0.9322\n"
     ]
    }
   ],
   "source": [
    "classifier = Sequential()\n",
    "\n",
    "# Adding the input layer and the first hidden layer\n",
    "classifier.add(Dense(units = 24, kernel_initializer = 'uniform', activation = 'relu', input_dim = 34))\n",
    "\n",
    "# Adding the second hidden layer\n",
    "classifier.add(Dense(units = 24, kernel_initializer = 'uniform', activation = 'relu'))\n",
    "\n",
    "# Adding the output layer\n",
    "classifier.add(Dense(units = 21, kernel_initializer = 'uniform', activation = 'softmax'))\n",
    "\n",
    "# Compiling the ANN\n",
    "classifier.compile(optimizer = 'adam', loss = 'categorical_crossentropy', metrics = ['accuracy']) \n",
    "\n",
    "# Fitting the ANN to the Training set\n",
    "history = classifier.fit(X_train, y_train, validation_data = (X_test, y_test), batch_size = 10, epochs = 20, shuffle = True)"
   ]
  },
  {
   "cell_type": "code",
   "execution_count": 52,
   "metadata": {},
   "outputs": [
    {
     "data": {
      "image/png": "[encoded data removed]",
      "text/plain": [
       "<Figure size 432x288 with 1 Axes>"
      ]
     },
     "metadata": {
      "needs_background": "light"
     },
     "output_type": "display_data"
    }
   ],
   "source": [
    "plt.plot(history.history['loss'], label = 'train')\n",
    "plt.plot(history.history['val_loss'], label = 'test')\n",
    "plt.legend()\n",
    "plt.show()"
   ]
  },
  {
   "cell_type": "code",
   "execution_count": 53,
   "metadata": {},
   "outputs": [
    {
     "data": {
      "image/png": "[encoded data removed]",
      "text/plain": [
       "<Figure size 432x288 with 1 Axes>"
      ]
     },
     "metadata": {
      "needs_background": "light"
     },
     "output_type": "display_data"
    }
   ],
   "source": [
    "plt.plot(history.history['accuracy'], label = 'train')\n",
    "plt.plot(history.history['val_accuracy'], label = 'test')\n",
    "plt.legend()\n",
    "plt.show()"
   ]
  },
  {
   "cell_type": "code",
   "execution_count": 54,
   "metadata": {},
   "outputs": [
    {
     "name": "stdout",
     "output_type": "stream",
     "text": [
      "92760\n",
      "84120\n",
      "Error Percentage in predicted values is : 9.314359637774903 %\n"
     ]
    }
   ],
   "source": [
    "y_predicted = classifier.predict(X_test)\n",
    "\n",
    "y_predicted = np.argmax(y_predicted, axis = 1)\n",
    "\n",
    "y_test = np.argmax(y_test, axis = 1)\n",
    "\n",
    "test_sum = 0\n",
    "for i in range(len(y_test)):\n",
    "    test_sum += (y_test[i] * 15)\n",
    "\n",
    "print(test_sum)\n",
    "\n",
    "predicted_sum = 0\n",
    "for i in range(len(y_predicted)):\n",
    "    predicted_sum += (y_predicted[i] * 15)\n",
    "\n",
    "print(predicted_sum)\n",
    "\n",
    "print(\"Error Percentage in predicted values is : {} %\".format(np.absolute((predicted_sum - test_sum)/test_sum)*100))\n",
    "err.append(np.absolute((predicted_sum - test_sum)/test_sum)*100)"
   ]
  },
  {
   "cell_type": "code",
   "execution_count": 55,
   "metadata": {},
   "outputs": [
    {
     "data": {
      "text/plain": [
       "0.9050345500559306"
      ]
     },
     "execution_count": 55,
     "metadata": {},
     "output_type": "execute_result"
    }
   ],
   "source": [
    "f1_score(y_test, y_predicted, average = 'weighted')"
   ]
  },
  {
   "cell_type": "code",
   "execution_count": 56,
   "metadata": {},
   "outputs": [],
   "source": [
    "f1.append(f1_score(y_test, y_predicted, average = 'weighted'))"
   ]
  },
  {
   "cell_type": "code",
   "execution_count": 57,
   "metadata": {},
   "outputs": [],
   "source": [
    "acc.append(max(history.history['accuracy']))"
   ]
  },
  {
   "cell_type": "markdown",
   "metadata": {},
   "source": [
    "# April"
   ]
  },
  {
   "cell_type": "code",
   "execution_count": 58,
   "metadata": {},
   "outputs": [
    {
     "name": "stdout",
     "output_type": "stream",
     "text": [
      "(6892, 34) (6892, 21) (1724, 34) (1724, 21)\n"
     ]
    }
   ],
   "source": [
    "working_df = house_data[house_data.Month == 4]\n",
    "\n",
    "working_df = working_df[['T_ctrl', 'T_stp_heat', 'auxHeat1', 'T_out', 'RH_out']]\n",
    "cols = ['T_ctrl', 'T_stp_heat', 'T_out', 'RH_out', 'auxHeat1']\n",
    "working_df = working_df[cols]\n",
    "\n",
    "reframed = series_to_supervised(working_df, 6, 1)\n",
    "\n",
    "y_auxHeat = reframed['var5(t)']\n",
    "y_auxHeat = to_categorical(y_auxHeat)\n",
    "X = reframed.drop(labels = [\"var5(t)\"], axis = 1)\n",
    "\n",
    "X_train, X_test, y_train, y_test = train_test_split(X, y_auxHeat, test_size = 0.2, shuffle = True)\n",
    "\n",
    "X_train = X_train.values\n",
    "X_test = X_test.values\n",
    "\n",
    "print(X_train.shape, y_train.shape, X_test.shape, y_test.shape)"
   ]
  },
  {
   "cell_type": "code",
   "execution_count": 59,
   "metadata": {},
   "outputs": [
    {
     "name": "stdout",
     "output_type": "stream",
     "text": [
      "Train on 6892 samples, validate on 1724 samples\n",
      "Epoch 1/20\n",
      "6892/6892 [==============================] - 3s 447us/sample - loss: 0.6781 - accuracy: 0.8897 - val_loss: 0.3385 - val_accuracy: 0.9449\n",
      "Epoch 2/20\n",
      "6892/6892 [==============================] - 3s 381us/sample - loss: 0.3088 - accuracy: 0.9462 - val_loss: 0.2916 - val_accuracy: 0.9524\n",
      "Epoch 3/20\n",
      "6892/6892 [==============================] - 3s 373us/sample - loss: 0.2807 - accuracy: 0.9497 - val_loss: 0.2673 - val_accuracy: 0.9536\n",
      "Epoch 4/20\n",
      "6892/6892 [==============================] - 3s 379us/sample - loss: 0.2625 - accuracy: 0.9510 - val_loss: 0.2577 - val_accuracy: 0.9542\n",
      "Epoch 5/20\n",
      "6892/6892 [==============================] - 3s 377us/sample - loss: 0.2545 - accuracy: 0.9527 - val_loss: 0.2510 - val_accuracy: 0.9571\n",
      "Epoch 6/20\n",
      "6892/6892 [==============================] - 3s 372us/sample - loss: 0.2525 - accuracy: 0.9527 - val_loss: 0.2513 - val_accuracy: 0.9582\n",
      "Epoch 7/20\n",
      "6892/6892 [==============================] - 3s 374us/sample - loss: 0.2465 - accuracy: 0.9541 - val_loss: 0.2456 - val_accuracy: 0.9565\n",
      "Epoch 8/20\n",
      "6892/6892 [==============================] - 3s 372us/sample - loss: 0.2440 - accuracy: 0.9534 - val_loss: 0.2421 - val_accuracy: 0.9577\n",
      "Epoch 9/20\n",
      "6892/6892 [==============================] - 2s 362us/sample - loss: 0.2383 - accuracy: 0.9539 - val_loss: 0.2458 - val_accuracy: 0.9565\n",
      "Epoch 10/20\n",
      "6892/6892 [==============================] - 3s 384us/sample - loss: 0.2360 - accuracy: 0.9541 - val_loss: 0.2327 - val_accuracy: 0.9565\n",
      "Epoch 11/20\n",
      "6892/6892 [==============================] - 3s 373us/sample - loss: 0.2326 - accuracy: 0.9541 - val_loss: 0.2477 - val_accuracy: 0.9548\n",
      "Epoch 12/20\n",
      "6892/6892 [==============================] - 3s 372us/sample - loss: 0.2330 - accuracy: 0.9536 - val_loss: 0.2430 - val_accuracy: 0.9565\n",
      "Epoch 13/20\n",
      "6892/6892 [==============================] - 3s 371us/sample - loss: 0.2274 - accuracy: 0.9549 - val_loss: 0.2354 - val_accuracy: 0.9577\n",
      "Epoch 14/20\n",
      "6892/6892 [==============================] - 3s 368us/sample - loss: 0.2256 - accuracy: 0.9543 - val_loss: 0.2383 - val_accuracy: 0.9548\n",
      "Epoch 15/20\n",
      "6892/6892 [==============================] - 3s 374us/sample - loss: 0.2247 - accuracy: 0.9541 - val_loss: 0.2477 - val_accuracy: 0.9571\n",
      "Epoch 16/20\n",
      "6892/6892 [==============================] - 3s 371us/sample - loss: 0.2217 - accuracy: 0.9552 - val_loss: 0.2457 - val_accuracy: 0.9553\n",
      "Epoch 17/20\n",
      "6892/6892 [==============================] - 3s 376us/sample - loss: 0.2202 - accuracy: 0.9546 - val_loss: 0.2445 - val_accuracy: 0.9559\n",
      "Epoch 18/20\n",
      "6892/6892 [==============================] - 3s 378us/sample - loss: 0.2191 - accuracy: 0.9547 - val_loss: 0.2583 - val_accuracy: 0.9524\n",
      "Epoch 19/20\n",
      "6892/6892 [==============================] - 3s 374us/sample - loss: 0.2156 - accuracy: 0.9549 - val_loss: 0.2480 - val_accuracy: 0.9548\n",
      "Epoch 20/20\n",
      "6892/6892 [==============================] - 3s 373us/sample - loss: 0.2154 - accuracy: 0.9555 - val_loss: 0.2471 - val_accuracy: 0.9559\n"
     ]
    }
   ],
   "source": [
    "classifier = Sequential()\n",
    "\n",
    "# Adding the input layer and the first hidden layer\n",
    "classifier.add(Dense(units = 24, kernel_initializer = 'uniform', activation = 'relu', input_dim = 34))\n",
    "\n",
    "# Adding the second hidden layer\n",
    "classifier.add(Dense(units = 24, kernel_initializer = 'uniform', activation = 'relu'))\n",
    "\n",
    "# Adding the output layer\n",
    "classifier.add(Dense(units = 21, kernel_initializer = 'uniform', activation = 'softmax'))\n",
    "\n",
    "# Compiling the ANN\n",
    "classifier.compile(optimizer = 'adam', loss = 'categorical_crossentropy', metrics = ['accuracy']) \n",
    "\n",
    "# Fitting the ANN to the Training set\n",
    "history = classifier.fit(X_train, y_train, validation_data = (X_test, y_test), batch_size = 10, epochs = 20, shuffle = True)"
   ]
  },
  {
   "cell_type": "code",
   "execution_count": 60,
   "metadata": {},
   "outputs": [
    {
     "data": {
      "image/png": "[encoded data removed]",
      "text/plain": [
       "<Figure size 432x288 with 1 Axes>"
      ]
     },
     "metadata": {
      "needs_background": "light"
     },
     "output_type": "display_data"
    }
   ],
   "source": [
    "plt.plot(history.history['loss'], label = 'train')\n",
    "plt.plot(history.history['val_loss'], label = 'test')\n",
    "plt.legend()\n",
    "plt.show()"
   ]
  },
  {
   "cell_type": "code",
   "execution_count": 61,
   "metadata": {},
   "outputs": [
    {
     "data": {
      "image/png": "[encoded data removed]",
      "text/plain": [
       "<Figure size 432x288 with 1 Axes>"
      ]
     },
     "metadata": {
      "needs_background": "light"
     },
     "output_type": "display_data"
    }
   ],
   "source": [
    "plt.plot(history.history['accuracy'], label = 'train')\n",
    "plt.plot(history.history['val_accuracy'], label = 'test')\n",
    "plt.legend()\n",
    "plt.show()"
   ]
  },
  {
   "cell_type": "code",
   "execution_count": 62,
   "metadata": {},
   "outputs": [
    {
     "name": "stdout",
     "output_type": "stream",
     "text": [
      "56010\n",
      "56010\n",
      "Error Percentage in predicted values is : 0.0 %\n"
     ]
    }
   ],
   "source": [
    "y_predicted = classifier.predict(X_test)\n",
    "\n",
    "y_predicted = np.argmax(y_predicted, axis = 1)\n",
    "\n",
    "y_test = np.argmax(y_test, axis = 1)\n",
    "\n",
    "test_sum = 0\n",
    "for i in range(len(y_test)):\n",
    "    test_sum += (y_test[i] * 15)\n",
    "\n",
    "print(test_sum)\n",
    "\n",
    "predicted_sum = 0\n",
    "for i in range(len(y_predicted)):\n",
    "    predicted_sum += (y_predicted[i] * 15)\n",
    "\n",
    "print(predicted_sum)\n",
    "\n",
    "print(\"Error Percentage in predicted values is : {} %\".format(np.absolute((predicted_sum - test_sum)/test_sum)*100))\n",
    "err.append(np.absolute((predicted_sum - test_sum)/test_sum)*100)"
   ]
  },
  {
   "cell_type": "code",
   "execution_count": 63,
   "metadata": {},
   "outputs": [
    {
     "data": {
      "text/plain": [
       "0.9411652436247013"
      ]
     },
     "execution_count": 63,
     "metadata": {},
     "output_type": "execute_result"
    }
   ],
   "source": [
    "f1_score(y_test, y_predicted, average = 'weighted')"
   ]
  },
  {
   "cell_type": "code",
   "execution_count": 64,
   "metadata": {},
   "outputs": [],
   "source": [
    "f1.append(f1_score(y_test, y_predicted, average = 'weighted'))"
   ]
  },
  {
   "cell_type": "code",
   "execution_count": 65,
   "metadata": {},
   "outputs": [],
   "source": [
    "acc.append(max(history.history['accuracy']))"
   ]
  },
  {
   "cell_type": "code",
   "execution_count": 66,
   "metadata": {},
   "outputs": [
    {
     "data": {
      "text/plain": [
       "<matplotlib.axes._subplots.AxesSubplot at 0x1c95fc201c8>"
      ]
     },
     "execution_count": 66,
     "metadata": {},
     "output_type": "execute_result"
    },
    {
     "data": {
      "image/png": "[encoded data removed]",
      "text/plain": [
       "<Figure size 432x288 with 1 Axes>"
      ]
     },
     "metadata": {
      "needs_background": "light"
     },
     "output_type": "display_data"
    }
   ],
   "source": [
    "sns.lineplot(x = months, y = f1, sort = False)"
   ]
  },
  {
   "cell_type": "code",
   "execution_count": 67,
   "metadata": {},
   "outputs": [
    {
     "data": {
      "text/plain": [
       "<matplotlib.axes._subplots.AxesSubplot at 0x1c94f829248>"
      ]
     },
     "execution_count": 67,
     "metadata": {},
     "output_type": "execute_result"
    },
    {
     "data": {
      "image/png": "[encoded data removed]",
      "text/plain": [
       "<Figure size 432x288 with 1 Axes>"
      ]
     },
     "metadata": {
      "needs_background": "light"
     },
     "output_type": "display_data"
    }
   ],
   "source": [
    "sns.lineplot(x = months, y = acc, sort = False)"
   ]
  },
  {
   "cell_type": "code",
   "execution_count": 68,
   "metadata": {},
   "outputs": [
    {
     "data": {
      "text/plain": [
       "<matplotlib.axes._subplots.AxesSubplot at 0x1c9472dcd08>"
      ]
     },
     "execution_count": 68,
     "metadata": {},
     "output_type": "execute_result"
    },
    {
     "data": {
      "image/png": "[encoded data removed]",
      "text/plain": [
       "<Figure size 432x288 with 1 Axes>"
      ]
     },
     "metadata": {
      "needs_background": "light"
     },
     "output_type": "display_data"
    }
   ],
   "source": [
    "sns.lineplot(x = months, y = err, sort = False)"
   ]
  },
  {
   "cell_type": "code",
   "execution_count": null,
   "metadata": {},
   "outputs": [],
   "source": []
  },
  {
   "cell_type": "code",
   "execution_count": null,
   "metadata": {},
   "outputs": [],
   "source": []
  },
  {
   "cell_type": "code",
   "execution_count": null,
   "metadata": {},
   "outputs": [],
   "source": []
  }
 ],
 "metadata": {
  "kernelspec": {
   "display_name": "Python 3",
   "language": "python",
   "name": "python3"
  },
  "language_info": {
   "codemirror_mode": {
    "name": "ipython",
    "version": 3
   },
   "file_extension": ".py",
   "mimetype": "text/x-python",
   "name": "python",
   "nbconvert_exporter": "python",
   "pygments_lexer": "ipython3",
   "version": "3.7.6"
  }
 },
 "nbformat": 4,
 "nbformat_minor": 4
}
