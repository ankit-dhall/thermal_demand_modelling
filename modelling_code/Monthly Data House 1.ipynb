{
 "cells": [
  {
   "cell_type": "code",
   "execution_count": 1,
   "metadata": {},
   "outputs": [],
   "source": [
    "import numpy as np\n",
    "import pandas as pd\n",
    "from sklearn.model_selection import train_test_split\n",
    "from sklearn.metrics import accuracy_score\n",
    "from sklearn.metrics import confusion_matrix\n",
    "import plotly.figure_factory as ff\n",
    "import tensorflow as tf\n",
    "from tensorflow.python.keras.layers import Dense, Dropout, LSTM\n",
    "from tensorflow.python.keras import Sequential\n",
    "from tensorflow.keras.utils import to_categorical\n",
    "from sklearn.preprocessing import OrdinalEncoder\n",
    "from pandas import DataFrame\n",
    "from pandas import concat\n",
    "import matplotlib.pyplot as plt\n",
    "from sklearn.metrics import precision_recall_curve, precision_score, recall_score, f1_score\n",
    "import seaborn as sns"
   ]
  },
  {
   "cell_type": "code",
   "execution_count": 2,
   "metadata": {},
   "outputs": [],
   "source": [
    "months = ['October', 'November', 'December', 'January', 'February', 'March', 'April']"
   ]
  },
  {
   "cell_type": "code",
   "execution_count": 3,
   "metadata": {},
   "outputs": [],
   "source": [
    "acc = list()"
   ]
  },
  {
   "cell_type": "code",
   "execution_count": 4,
   "metadata": {},
   "outputs": [],
   "source": [
    "f1 = list()"
   ]
  },
  {
   "cell_type": "code",
   "execution_count": 5,
   "metadata": {},
   "outputs": [],
   "source": [
    "err = list()"
   ]
  },
  {
   "cell_type": "code",
   "execution_count": 6,
   "metadata": {},
   "outputs": [],
   "source": [
    "house_data = pd.read_csv(\"../preprocessed_data/oneHot_data.csv\")"
   ]
  },
  {
   "cell_type": "code",
   "execution_count": 7,
   "metadata": {},
   "outputs": [
    {
     "data": {
      "text/html": [
       "<div>\n",
       "<style scoped>\n",
       "    .dataframe tbody tr th:only-of-type {\n",
       "        vertical-align: middle;\n",
       "    }\n",
       "\n",
       "    .dataframe tbody tr th {\n",
       "        vertical-align: top;\n",
       "    }\n",
       "\n",
       "    .dataframe thead th {\n",
       "        text-align: right;\n",
       "    }\n",
       "</style>\n",
       "<table border=\"1\" class=\"dataframe\">\n",
       "  <thead>\n",
       "    <tr style=\"text-align: right;\">\n",
       "      <th></th>\n",
       "      <th>hour_sin</th>\n",
       "      <th>hour_cos</th>\n",
       "      <th>month_sin</th>\n",
       "      <th>month_cos</th>\n",
       "      <th>day_sin</th>\n",
       "      <th>day_cos</th>\n",
       "      <th>Month</th>\n",
       "      <th>DayOfWeek</th>\n",
       "      <th>Day</th>\n",
       "      <th>HourofDay</th>\n",
       "      <th>...</th>\n",
       "      <th>T_stp_heat</th>\n",
       "      <th>Humidity</th>\n",
       "      <th>auxHeat1</th>\n",
       "      <th>fan</th>\n",
       "      <th>Thermostat_Temperature</th>\n",
       "      <th>Thermostat_Motion</th>\n",
       "      <th>Remote_Sensor_1_Temperature</th>\n",
       "      <th>Remote_Sensor_1_Motion</th>\n",
       "      <th>T_out</th>\n",
       "      <th>RH_out</th>\n",
       "    </tr>\n",
       "  </thead>\n",
       "  <tbody>\n",
       "    <tr>\n",
       "      <th>0</th>\n",
       "      <td>0.0</td>\n",
       "      <td>1.0</td>\n",
       "      <td>0.0</td>\n",
       "      <td>1.0</td>\n",
       "      <td>0.755303</td>\n",
       "      <td>0.484974</td>\n",
       "      <td>1</td>\n",
       "      <td>1</td>\n",
       "      <td>1</td>\n",
       "      <td>0</td>\n",
       "      <td>...</td>\n",
       "      <td>0.663321</td>\n",
       "      <td>0.177458</td>\n",
       "      <td>0</td>\n",
       "      <td>11</td>\n",
       "      <td>0.330465</td>\n",
       "      <td>0.0</td>\n",
       "      <td>67.0</td>\n",
       "      <td>0.0</td>\n",
       "      <td>0.009112</td>\n",
       "      <td>1.808865</td>\n",
       "    </tr>\n",
       "    <tr>\n",
       "      <th>1</th>\n",
       "      <td>0.0</td>\n",
       "      <td>1.0</td>\n",
       "      <td>0.0</td>\n",
       "      <td>1.0</td>\n",
       "      <td>0.755303</td>\n",
       "      <td>0.484974</td>\n",
       "      <td>1</td>\n",
       "      <td>1</td>\n",
       "      <td>1</td>\n",
       "      <td>0</td>\n",
       "      <td>...</td>\n",
       "      <td>0.663321</td>\n",
       "      <td>0.177458</td>\n",
       "      <td>2</td>\n",
       "      <td>9</td>\n",
       "      <td>0.330465</td>\n",
       "      <td>0.0</td>\n",
       "      <td>67.0</td>\n",
       "      <td>0.0</td>\n",
       "      <td>0.009112</td>\n",
       "      <td>1.808865</td>\n",
       "    </tr>\n",
       "    <tr>\n",
       "      <th>2</th>\n",
       "      <td>0.0</td>\n",
       "      <td>1.0</td>\n",
       "      <td>0.0</td>\n",
       "      <td>1.0</td>\n",
       "      <td>0.755303</td>\n",
       "      <td>0.484974</td>\n",
       "      <td>1</td>\n",
       "      <td>1</td>\n",
       "      <td>1</td>\n",
       "      <td>0</td>\n",
       "      <td>...</td>\n",
       "      <td>0.663321</td>\n",
       "      <td>0.177458</td>\n",
       "      <td>20</td>\n",
       "      <td>20</td>\n",
       "      <td>0.330465</td>\n",
       "      <td>0.0</td>\n",
       "      <td>67.0</td>\n",
       "      <td>0.0</td>\n",
       "      <td>0.009112</td>\n",
       "      <td>1.808865</td>\n",
       "    </tr>\n",
       "    <tr>\n",
       "      <th>3</th>\n",
       "      <td>0.0</td>\n",
       "      <td>1.0</td>\n",
       "      <td>0.0</td>\n",
       "      <td>1.0</td>\n",
       "      <td>0.755303</td>\n",
       "      <td>0.484974</td>\n",
       "      <td>1</td>\n",
       "      <td>1</td>\n",
       "      <td>1</td>\n",
       "      <td>0</td>\n",
       "      <td>...</td>\n",
       "      <td>0.663321</td>\n",
       "      <td>0.177458</td>\n",
       "      <td>9</td>\n",
       "      <td>12</td>\n",
       "      <td>0.330465</td>\n",
       "      <td>0.0</td>\n",
       "      <td>67.0</td>\n",
       "      <td>0.0</td>\n",
       "      <td>0.009112</td>\n",
       "      <td>1.808865</td>\n",
       "    </tr>\n",
       "    <tr>\n",
       "      <th>4</th>\n",
       "      <td>0.0</td>\n",
       "      <td>1.0</td>\n",
       "      <td>0.0</td>\n",
       "      <td>1.0</td>\n",
       "      <td>0.755303</td>\n",
       "      <td>0.484974</td>\n",
       "      <td>1</td>\n",
       "      <td>1</td>\n",
       "      <td>1</td>\n",
       "      <td>0</td>\n",
       "      <td>...</td>\n",
       "      <td>0.663321</td>\n",
       "      <td>0.177458</td>\n",
       "      <td>0</td>\n",
       "      <td>8</td>\n",
       "      <td>0.330465</td>\n",
       "      <td>0.0</td>\n",
       "      <td>67.0</td>\n",
       "      <td>0.0</td>\n",
       "      <td>0.009112</td>\n",
       "      <td>1.808865</td>\n",
       "    </tr>\n",
       "  </tbody>\n",
       "</table>\n",
       "<p>5 rows × 27 columns</p>\n",
       "</div>"
      ],
      "text/plain": [
       "   hour_sin  hour_cos  month_sin  month_cos   day_sin   day_cos  Month  \\\n",
       "0       0.0       1.0        0.0        1.0  0.755303  0.484974      1   \n",
       "1       0.0       1.0        0.0        1.0  0.755303  0.484974      1   \n",
       "2       0.0       1.0        0.0        1.0  0.755303  0.484974      1   \n",
       "3       0.0       1.0        0.0        1.0  0.755303  0.484974      1   \n",
       "4       0.0       1.0        0.0        1.0  0.755303  0.484974      1   \n",
       "\n",
       "   DayOfWeek  Day  HourofDay  ...  T_stp_heat  Humidity  auxHeat1  fan  \\\n",
       "0          1    1          0  ...    0.663321  0.177458         0   11   \n",
       "1          1    1          0  ...    0.663321  0.177458         2    9   \n",
       "2          1    1          0  ...    0.663321  0.177458        20   20   \n",
       "3          1    1          0  ...    0.663321  0.177458         9   12   \n",
       "4          1    1          0  ...    0.663321  0.177458         0    8   \n",
       "\n",
       "   Thermostat_Temperature  Thermostat_Motion  Remote_Sensor_1_Temperature  \\\n",
       "0                0.330465                0.0                         67.0   \n",
       "1                0.330465                0.0                         67.0   \n",
       "2                0.330465                0.0                         67.0   \n",
       "3                0.330465                0.0                         67.0   \n",
       "4                0.330465                0.0                         67.0   \n",
       "\n",
       "   Remote_Sensor_1_Motion     T_out    RH_out  \n",
       "0                     0.0  0.009112  1.808865  \n",
       "1                     0.0  0.009112  1.808865  \n",
       "2                     0.0  0.009112  1.808865  \n",
       "3                     0.0  0.009112  1.808865  \n",
       "4                     0.0  0.009112  1.808865  \n",
       "\n",
       "[5 rows x 27 columns]"
      ]
     },
     "execution_count": 7,
     "metadata": {},
     "output_type": "execute_result"
    }
   ],
   "source": [
    "house_data.head()"
   ]
  },
  {
   "cell_type": "code",
   "execution_count": 8,
   "metadata": {},
   "outputs": [
    {
     "data": {
      "text/plain": [
       "4     7267\n",
       "3     7132\n",
       "12    7125\n",
       "5     7123\n",
       "11    6837\n",
       "1     6797\n",
       "10    6343\n",
       "6     5986\n",
       "2     4131\n",
       "9       96\n",
       "Name: Month, dtype: int64"
      ]
     },
     "execution_count": 8,
     "metadata": {},
     "output_type": "execute_result"
    }
   ],
   "source": [
    "house_data.Month.value_counts()"
   ]
  },
  {
   "cell_type": "code",
   "execution_count": 9,
   "metadata": {},
   "outputs": [],
   "source": [
    "def series_to_supervised(data, n_in = 1, n_out = 1, dropnan = True):\n",
    "    \n",
    "    n_vars = 1 if type(data) is list else data.shape[1]\n",
    "    df = DataFrame(data)\n",
    "    cols, names = list(), list()\n",
    "    \n",
    "    # input sequence (t-n, ... t-1)\n",
    "    for i in range(n_in, 0, -1):\n",
    "        cols.append(df.shift(i))\n",
    "        names += [('var%d(t-%d)' % (j+1, i)) for j in range(n_vars)]\n",
    "    \n",
    "    # forecast sequence (t, t+1, ... t+n)\n",
    "    for i in range(0, n_out):\n",
    "        cols.append(df.shift(-i))\n",
    "        if i == 0:\n",
    "            names += [('var%d(t)' % (j+1)) for j in range(n_vars)]\n",
    "        else:\n",
    "            names += [('var%d(t+%d)' % (j+1, i)) for j in range(n_vars)]\n",
    "    # put it all together\n",
    "    agg = concat(cols, axis=1)\n",
    "    agg.columns = names\n",
    "    # drop rows with NaN values\n",
    "    if dropnan:\n",
    "        agg.dropna(inplace=True)\n",
    "    return agg"
   ]
  },
  {
   "cell_type": "markdown",
   "metadata": {},
   "source": [
    "# October"
   ]
  },
  {
   "cell_type": "code",
   "execution_count": 10,
   "metadata": {},
   "outputs": [
    {
     "name": "stdout",
     "output_type": "stream",
     "text": [
      "(5069, 34) (5069, 21) (1268, 34) (1268, 21)\n"
     ]
    }
   ],
   "source": [
    "working_df = house_data[house_data.Month == 10]\n",
    "\n",
    "working_df = working_df[['T_ctrl', 'T_stp_heat', 'auxHeat1', 'T_out', 'RH_out']]\n",
    "cols = ['T_ctrl', 'T_stp_heat', 'T_out', 'RH_out', 'auxHeat1']\n",
    "working_df = working_df[cols]\n",
    "\n",
    "reframed = series_to_supervised(working_df, 6, 1)\n",
    "\n",
    "y_auxHeat = reframed['var5(t)']\n",
    "y_auxHeat = to_categorical(y_auxHeat)\n",
    "X = reframed.drop(labels = [\"var5(t)\"], axis = 1)\n",
    "\n",
    "X_train, X_test, y_train, y_test = train_test_split(X, y_auxHeat, test_size = 0.2, shuffle = True)\n",
    "\n",
    "X_train = X_train.values\n",
    "X_test = X_test.values\n",
    "\n",
    "print(X_train.shape, y_train.shape, X_test.shape, y_test.shape)"
   ]
  },
  {
   "cell_type": "code",
   "execution_count": 11,
   "metadata": {},
   "outputs": [
    {
     "name": "stdout",
     "output_type": "stream",
     "text": [
      "Train on 5069 samples, validate on 1268 samples\n",
      "Epoch 1/20\n",
      "5069/5069 [==============================] - 3s 496us/sample - loss: 0.6667 - accuracy: 0.9120 - val_loss: 0.4037 - val_accuracy: 0.9188\n",
      "Epoch 2/20\n",
      "5069/5069 [==============================] - 2s 415us/sample - loss: 0.3466 - accuracy: 0.9339 - val_loss: 0.3753 - val_accuracy: 0.9259\n",
      "Epoch 3/20\n",
      "5069/5069 [==============================] - 2s 365us/sample - loss: 0.3300 - accuracy: 0.9379 - val_loss: 0.3676 - val_accuracy: 0.9322\n",
      "Epoch 4/20\n",
      "5069/5069 [==============================] - 2s 367us/sample - loss: 0.3207 - accuracy: 0.9410 - val_loss: 0.3581 - val_accuracy: 0.9322\n",
      "Epoch 5/20\n",
      "5069/5069 [==============================] - 2s 370us/sample - loss: 0.3143 - accuracy: 0.9404 - val_loss: 0.3492 - val_accuracy: 0.9361\n",
      "Epoch 6/20\n",
      "5069/5069 [==============================] - 2s 368us/sample - loss: 0.3099 - accuracy: 0.9392 - val_loss: 0.3554 - val_accuracy: 0.9377\n",
      "Epoch 7/20\n",
      "5069/5069 [==============================] - 2s 367us/sample - loss: 0.3094 - accuracy: 0.9398 - val_loss: 0.3516 - val_accuracy: 0.9353\n",
      "Epoch 8/20\n",
      "5069/5069 [==============================] - 2s 370us/sample - loss: 0.3056 - accuracy: 0.9416 - val_loss: 0.3487 - val_accuracy: 0.9377\n",
      "Epoch 9/20\n",
      "5069/5069 [==============================] - 2s 365us/sample - loss: 0.3026 - accuracy: 0.9414 - val_loss: 0.3465 - val_accuracy: 0.9377\n",
      "Epoch 10/20\n",
      "5069/5069 [==============================] - 2s 372us/sample - loss: 0.2984 - accuracy: 0.9420 - val_loss: 0.3356 - val_accuracy: 0.9401\n",
      "Epoch 11/20\n",
      "5069/5069 [==============================] - 2s 369us/sample - loss: 0.2963 - accuracy: 0.9426 - val_loss: 0.3346 - val_accuracy: 0.9385\n",
      "Epoch 12/20\n",
      "5069/5069 [==============================] - 2s 368us/sample - loss: 0.2961 - accuracy: 0.9426 - val_loss: 0.3301 - val_accuracy: 0.9393\n",
      "Epoch 13/20\n",
      "5069/5069 [==============================] - 2s 367us/sample - loss: 0.2930 - accuracy: 0.9436 - val_loss: 0.3427 - val_accuracy: 0.9377\n",
      "Epoch 14/20\n",
      "5069/5069 [==============================] - 2s 368us/sample - loss: 0.2908 - accuracy: 0.9442 - val_loss: 0.3299 - val_accuracy: 0.9401\n",
      "Epoch 15/20\n",
      "5069/5069 [==============================] - 2s 367us/sample - loss: 0.2890 - accuracy: 0.9436 - val_loss: 0.3402 - val_accuracy: 0.9409\n",
      "Epoch 16/20\n",
      "5069/5069 [==============================] - 2s 369us/sample - loss: 0.2859 - accuracy: 0.9434 - val_loss: 0.3293 - val_accuracy: 0.9401\n",
      "Epoch 17/20\n",
      "5069/5069 [==============================] - 2s 403us/sample - loss: 0.2851 - accuracy: 0.9444 - val_loss: 0.3309 - val_accuracy: 0.9424\n",
      "Epoch 18/20\n",
      "5069/5069 [==============================] - 2s 374us/sample - loss: 0.2824 - accuracy: 0.9442 - val_loss: 0.3310 - val_accuracy: 0.9409\n",
      "Epoch 19/20\n",
      "5069/5069 [==============================] - 2s 376us/sample - loss: 0.2823 - accuracy: 0.9440 - val_loss: 0.3342 - val_accuracy: 0.9424\n",
      "Epoch 20/20\n",
      "5069/5069 [==============================] - 2s 350us/sample - loss: 0.2810 - accuracy: 0.9442 - val_loss: 0.3224 - val_accuracy: 0.9416\n"
     ]
    }
   ],
   "source": [
    "classifier = Sequential()\n",
    "\n",
    "# Adding the input layer and the first hidden layer\n",
    "classifier.add(Dense(units = 24, kernel_initializer = 'uniform', activation = 'relu', input_dim = 34))\n",
    "\n",
    "# Adding the second hidden layer\n",
    "classifier.add(Dense(units = 24, kernel_initializer = 'uniform', activation = 'relu'))\n",
    "\n",
    "# Adding the output layer\n",
    "classifier.add(Dense(units = 21, kernel_initializer = 'uniform', activation = 'softmax'))\n",
    "\n",
    "# Compiling the ANN\n",
    "classifier.compile(optimizer = 'adam', loss = 'categorical_crossentropy', metrics = ['accuracy']) \n",
    "\n",
    "# Fitting the ANN to the Training set\n",
    "history = classifier.fit(X_train, y_train, validation_data = (X_test, y_test), batch_size = 10, epochs = 20, shuffle = True)"
   ]
  },
  {
   "cell_type": "code",
   "execution_count": 12,
   "metadata": {},
   "outputs": [
    {
     "data": {
      "image/png": "[encoded data removed]",
      "text/plain": [
       "<Figure size 432x288 with 1 Axes>"
      ]
     },
     "metadata": {
      "needs_background": "light"
     },
     "output_type": "display_data"
    }
   ],
   "source": [
    "plt.plot(history.history['loss'], label = 'train')\n",
    "plt.plot(history.history['val_loss'], label = 'test')\n",
    "plt.legend()\n",
    "plt.show()"
   ]
  },
  {
   "cell_type": "code",
   "execution_count": 13,
   "metadata": {},
   "outputs": [
    {
     "data": {
      "image/png": "[encoded data removed]",
      "text/plain": [
       "<Figure size 432x288 with 1 Axes>"
      ]
     },
     "metadata": {
      "needs_background": "light"
     },
     "output_type": "display_data"
    }
   ],
   "source": [
    "plt.plot(history.history['accuracy'], label = 'train')\n",
    "plt.plot(history.history['val_accuracy'], label = 'test')\n",
    "plt.legend()\n",
    "plt.show()"
   ]
  },
  {
   "cell_type": "code",
   "execution_count": 14,
   "metadata": {},
   "outputs": [
    {
     "name": "stdout",
     "output_type": "stream",
     "text": [
      "25830\n",
      "24300\n",
      "Error Percentage in predicted values is : 5.923344947735192 %\n"
     ]
    }
   ],
   "source": [
    "y_predicted = classifier.predict(X_test)\n",
    "\n",
    "y_predicted = np.argmax(y_predicted, axis = 1)\n",
    "\n",
    "y_test = np.argmax(y_test, axis = 1)\n",
    "\n",
    "test_sum = 0\n",
    "for i in range(len(y_test)):\n",
    "    test_sum += (y_test[i] * 15)\n",
    "\n",
    "print(test_sum)\n",
    "\n",
    "predicted_sum = 0\n",
    "for i in range(len(y_predicted)):\n",
    "    predicted_sum += (y_predicted[i] * 15)\n",
    "\n",
    "print(predicted_sum)\n",
    "\n",
    "print(\"Error Percentage in predicted values is : {} %\".format(np.absolute((predicted_sum - test_sum)/test_sum)*100))\n",
    "err.append(np.absolute((predicted_sum - test_sum)/test_sum)*100)"
   ]
  },
  {
   "cell_type": "code",
   "execution_count": 15,
   "metadata": {},
   "outputs": [
    {
     "data": {
      "text/plain": [
       "0.9194699451560346"
      ]
     },
     "execution_count": 15,
     "metadata": {},
     "output_type": "execute_result"
    }
   ],
   "source": [
    "f1_score(y_test, y_predicted, average = 'weighted')"
   ]
  },
  {
   "cell_type": "code",
   "execution_count": 16,
   "metadata": {},
   "outputs": [],
   "source": [
    "f1.append(f1_score(y_test, y_predicted, average = 'weighted'))"
   ]
  },
  {
   "cell_type": "code",
   "execution_count": 17,
   "metadata": {},
   "outputs": [],
   "source": [
    "acc.append(max(history.history['accuracy']))"
   ]
  },
  {
   "cell_type": "markdown",
   "metadata": {},
   "source": [
    "# November"
   ]
  },
  {
   "cell_type": "code",
   "execution_count": 18,
   "metadata": {},
   "outputs": [
    {
     "name": "stdout",
     "output_type": "stream",
     "text": [
      "(5464, 34) (5464, 21) (1367, 34) (1367, 21)\n"
     ]
    }
   ],
   "source": [
    "working_df = house_data[house_data.Month == 11]\n",
    "\n",
    "working_df = working_df[['T_ctrl', 'T_stp_heat', 'auxHeat1', 'T_out', 'RH_out']]\n",
    "cols = ['T_ctrl', 'T_stp_heat', 'T_out', 'RH_out', 'auxHeat1']\n",
    "working_df = working_df[cols]\n",
    "\n",
    "reframed = series_to_supervised(working_df, 6, 1)\n",
    "\n",
    "y_auxHeat = reframed['var5(t)']\n",
    "y_auxHeat = to_categorical(y_auxHeat)\n",
    "X = reframed.drop(labels = [\"var5(t)\"], axis = 1)\n",
    "\n",
    "X_train, X_test, y_train, y_test = train_test_split(X, y_auxHeat, test_size = 0.2, shuffle = True)\n",
    "\n",
    "X_train = X_train.values\n",
    "X_test = X_test.values\n",
    "\n",
    "print(X_train.shape, y_train.shape, X_test.shape, y_test.shape)"
   ]
  },
  {
   "cell_type": "code",
   "execution_count": 19,
   "metadata": {},
   "outputs": [
    {
     "name": "stdout",
     "output_type": "stream",
     "text": [
      "Train on 5464 samples, validate on 1367 samples\n",
      "Epoch 1/20\n",
      "5464/5464 [==============================] - 3s 474us/sample - loss: 1.4231 - accuracy: 0.7255 - val_loss: 1.1373 - val_accuracy: 0.7571\n",
      "Epoch 2/20\n",
      "5464/5464 [==============================] - 2s 399us/sample - loss: 1.0314 - accuracy: 0.7875 - val_loss: 1.0635 - val_accuracy: 0.7732\n",
      "Epoch 3/20\n",
      "5464/5464 [==============================] - 2s 421us/sample - loss: 0.9854 - accuracy: 0.7904 - val_loss: 1.0286 - val_accuracy: 0.7783\n",
      "Epoch 4/20\n",
      "5464/5464 [==============================] - 2s 441us/sample - loss: 0.9592 - accuracy: 0.7958 - val_loss: 1.0140 - val_accuracy: 0.7827\n",
      "Epoch 5/20\n",
      "5464/5464 [==============================] - 2s 366us/sample - loss: 0.9472 - accuracy: 0.7965 - val_loss: 0.9945 - val_accuracy: 0.7805\n",
      "Epoch 6/20\n",
      "5464/5464 [==============================] - 2s 348us/sample - loss: 0.9302 - accuracy: 0.7998 - val_loss: 0.9806 - val_accuracy: 0.7835\n",
      "Epoch 7/20\n",
      "5464/5464 [==============================] - 2s 436us/sample - loss: 0.9122 - accuracy: 0.8012 - val_loss: 0.9765 - val_accuracy: 0.7908\n",
      "Epoch 8/20\n",
      "5464/5464 [==============================] - 3s 489us/sample - loss: 0.9032 - accuracy: 0.8023 - val_loss: 0.9523 - val_accuracy: 0.7901\n",
      "Epoch 9/20\n",
      "5464/5464 [==============================] - 3s 538us/sample - loss: 0.8916 - accuracy: 0.8025 - val_loss: 0.9487 - val_accuracy: 0.7893\n",
      "Epoch 10/20\n",
      "5464/5464 [==============================] - 3s 504us/sample - loss: 0.8812 - accuracy: 0.8069 - val_loss: 0.9763 - val_accuracy: 0.7915\n",
      "Epoch 11/20\n",
      "5464/5464 [==============================] - 3s 517us/sample - loss: 0.8781 - accuracy: 0.8073 - val_loss: 0.9459 - val_accuracy: 0.7930\n",
      "Epoch 12/20\n",
      "5464/5464 [==============================] - 2s 363us/sample - loss: 0.8719 - accuracy: 0.8078 - val_loss: 0.9291 - val_accuracy: 0.7952\n",
      "Epoch 13/20\n",
      "5464/5464 [==============================] - 2s 356us/sample - loss: 0.8684 - accuracy: 0.8084 - val_loss: 0.9376 - val_accuracy: 0.7937\n",
      "Epoch 14/20\n",
      "5464/5464 [==============================] - 2s 349us/sample - loss: 0.8634 - accuracy: 0.8095 - val_loss: 0.9491 - val_accuracy: 0.7879\n",
      "Epoch 15/20\n",
      "5464/5464 [==============================] - 2s 353us/sample - loss: 0.8596 - accuracy: 0.8106 - val_loss: 0.9220 - val_accuracy: 0.7959\n",
      "Epoch 16/20\n",
      "5464/5464 [==============================] - 2s 353us/sample - loss: 0.8542 - accuracy: 0.8104 - val_loss: 0.9255 - val_accuracy: 0.7952\n",
      "Epoch 17/20\n",
      "5464/5464 [==============================] - 2s 346us/sample - loss: 0.8507 - accuracy: 0.8102 - val_loss: 0.9410 - val_accuracy: 0.7959\n",
      "Epoch 18/20\n",
      "5464/5464 [==============================] - 2s 355us/sample - loss: 0.8497 - accuracy: 0.8104 - val_loss: 0.9217 - val_accuracy: 0.7944\n",
      "Epoch 19/20\n",
      "5464/5464 [==============================] - 2s 350us/sample - loss: 0.8442 - accuracy: 0.8104 - val_loss: 0.9174 - val_accuracy: 0.7966\n",
      "Epoch 20/20\n",
      "5464/5464 [==============================] - 2s 349us/sample - loss: 0.8410 - accuracy: 0.8119 - val_loss: 0.9227 - val_accuracy: 0.7981\n"
     ]
    }
   ],
   "source": [
    "classifier = Sequential()\n",
    "\n",
    "# Adding the input layer and the first hidden layer\n",
    "classifier.add(Dense(units = 24, kernel_initializer = 'uniform', activation = 'relu', input_dim = 34))\n",
    "\n",
    "# Adding the second hidden layer\n",
    "classifier.add(Dense(units = 24, kernel_initializer = 'uniform', activation = 'relu'))\n",
    "\n",
    "# Adding the output layer\n",
    "classifier.add(Dense(units = 21, kernel_initializer = 'uniform', activation = 'softmax'))\n",
    "\n",
    "# Compiling the ANN\n",
    "classifier.compile(optimizer = 'adam', loss = 'categorical_crossentropy', metrics = ['accuracy']) \n",
    "\n",
    "# Fitting the ANN to the Training set\n",
    "history = classifier.fit(X_train, y_train, validation_data = (X_test, y_test), batch_size = 10, epochs = 20, shuffle = True)"
   ]
  },
  {
   "cell_type": "code",
   "execution_count": 20,
   "metadata": {},
   "outputs": [
    {
     "data": {
      "image/png": "[encoded data removed]",
      "text/plain": [
       "<Figure size 432x288 with 1 Axes>"
      ]
     },
     "metadata": {
      "needs_background": "light"
     },
     "output_type": "display_data"
    }
   ],
   "source": [
    "plt.plot(history.history['loss'], label = 'train')\n",
    "plt.plot(history.history['val_loss'], label = 'test')\n",
    "plt.legend()\n",
    "plt.show()"
   ]
  },
  {
   "cell_type": "code",
   "execution_count": 21,
   "metadata": {},
   "outputs": [
    {
     "data": {
      "image/png": "[encoded data removed]",
      "text/plain": [
       "<Figure size 432x288 with 1 Axes>"
      ]
     },
     "metadata": {
      "needs_background": "light"
     },
     "output_type": "display_data"
    }
   ],
   "source": [
    "plt.plot(history.history['accuracy'], label = 'train')\n",
    "plt.plot(history.history['val_accuracy'], label = 'test')\n",
    "plt.legend()\n",
    "plt.show()"
   ]
  },
  {
   "cell_type": "code",
   "execution_count": 22,
   "metadata": {},
   "outputs": [
    {
     "name": "stdout",
     "output_type": "stream",
     "text": [
      "103245\n",
      "90000\n",
      "Error Percentage in predicted values is : 12.828708412029638 %\n"
     ]
    }
   ],
   "source": [
    "y_predicted = classifier.predict(X_test)\n",
    "\n",
    "y_predicted = np.argmax(y_predicted, axis = 1)\n",
    "\n",
    "y_test = np.argmax(y_test, axis = 1)\n",
    "\n",
    "test_sum = 0\n",
    "for i in range(len(y_test)):\n",
    "    test_sum += (y_test[i] * 15)\n",
    "\n",
    "print(test_sum)\n",
    "\n",
    "predicted_sum = 0\n",
    "for i in range(len(y_predicted)):\n",
    "    predicted_sum += (y_predicted[i] * 15)\n",
    "\n",
    "print(predicted_sum)\n",
    "\n",
    "print(\"Error Percentage in predicted values is : {} %\".format(np.absolute((predicted_sum - test_sum)/test_sum)*100))\n",
    "err.append(np.absolute((predicted_sum - test_sum)/test_sum)*100)"
   ]
  },
  {
   "cell_type": "code",
   "execution_count": 23,
   "metadata": {},
   "outputs": [
    {
     "data": {
      "text/plain": [
       "0.7169570852668591"
      ]
     },
     "execution_count": 23,
     "metadata": {},
     "output_type": "execute_result"
    }
   ],
   "source": [
    "f1_score(y_test, y_predicted, average = 'weighted')"
   ]
  },
  {
   "cell_type": "code",
   "execution_count": 24,
   "metadata": {},
   "outputs": [],
   "source": [
    "f1.append(f1_score(y_test, y_predicted, average = 'weighted'))"
   ]
  },
  {
   "cell_type": "code",
   "execution_count": 25,
   "metadata": {},
   "outputs": [],
   "source": [
    "acc.append(max(history.history['accuracy']))"
   ]
  },
  {
   "cell_type": "markdown",
   "metadata": {},
   "source": [
    "# December"
   ]
  },
  {
   "cell_type": "code",
   "execution_count": 26,
   "metadata": {},
   "outputs": [
    {
     "name": "stdout",
     "output_type": "stream",
     "text": [
      "(5695, 34) (5695, 21) (1424, 34) (1424, 21)\n"
     ]
    }
   ],
   "source": [
    "working_df = house_data[house_data.Month == 12]\n",
    "\n",
    "working_df = working_df[['T_ctrl', 'T_stp_heat', 'auxHeat1', 'T_out', 'RH_out']]\n",
    "cols = ['T_ctrl', 'T_stp_heat', 'T_out', 'RH_out', 'auxHeat1']\n",
    "working_df = working_df[cols]\n",
    "\n",
    "reframed = series_to_supervised(working_df, 6, 1)\n",
    "\n",
    "y_auxHeat = reframed['var5(t)']\n",
    "y_auxHeat = to_categorical(y_auxHeat)\n",
    "X = reframed.drop(labels = [\"var5(t)\"], axis = 1)\n",
    "\n",
    "X_train, X_test, y_train, y_test = train_test_split(X, y_auxHeat, test_size = 0.2, shuffle = True)\n",
    "\n",
    "X_train = X_train.values\n",
    "X_test = X_test.values\n",
    "\n",
    "print(X_train.shape, y_train.shape, X_test.shape, y_test.shape)"
   ]
  },
  {
   "cell_type": "code",
   "execution_count": 27,
   "metadata": {},
   "outputs": [
    {
     "name": "stdout",
     "output_type": "stream",
     "text": [
      "Train on 5695 samples, validate on 1424 samples\n",
      "Epoch 1/20\n",
      "5695/5695 [==============================] - 2s 405us/sample - loss: 1.3751 - accuracy: 0.7308 - val_loss: 1.0390 - val_accuracy: 0.7893\n",
      "Epoch 2/20\n",
      "5695/5695 [==============================] - 2s 348us/sample - loss: 0.9973 - accuracy: 0.7944 - val_loss: 0.9782 - val_accuracy: 0.8055\n",
      "Epoch 3/20\n",
      "5695/5695 [==============================] - 2s 344us/sample - loss: 0.9653 - accuracy: 0.8019 - val_loss: 0.9423 - val_accuracy: 0.8020\n",
      "Epoch 4/20\n",
      "5695/5695 [==============================] - 2s 366us/sample - loss: 0.9411 - accuracy: 0.8037 - val_loss: 0.9327 - val_accuracy: 0.8125\n",
      "Epoch 5/20\n",
      "5695/5695 [==============================] - 2s 347us/sample - loss: 0.9287 - accuracy: 0.8058 - val_loss: 0.9116 - val_accuracy: 0.8139\n",
      "Epoch 6/20\n",
      "5695/5695 [==============================] - 2s 347us/sample - loss: 0.9155 - accuracy: 0.8063 - val_loss: 0.9007 - val_accuracy: 0.8139\n",
      "Epoch 7/20\n",
      "5695/5695 [==============================] - 2s 349us/sample - loss: 0.9037 - accuracy: 0.8079 - val_loss: 0.8947 - val_accuracy: 0.8146\n",
      "Epoch 8/20\n",
      "5695/5695 [==============================] - 2s 352us/sample - loss: 0.8916 - accuracy: 0.8091 - val_loss: 0.8973 - val_accuracy: 0.8118\n",
      "Epoch 9/20\n",
      "5695/5695 [==============================] - 2s 348us/sample - loss: 0.8862 - accuracy: 0.8100 - val_loss: 0.8865 - val_accuracy: 0.8153\n",
      "Epoch 10/20\n",
      "5695/5695 [==============================] - 2s 378us/sample - loss: 0.8759 - accuracy: 0.8109 - val_loss: 0.8712 - val_accuracy: 0.8188\n",
      "Epoch 11/20\n",
      "5695/5695 [==============================] - 2s 362us/sample - loss: 0.8733 - accuracy: 0.8109 - val_loss: 0.8660 - val_accuracy: 0.8160\n",
      "Epoch 12/20\n",
      "5695/5695 [==============================] - 2s 360us/sample - loss: 0.8631 - accuracy: 0.8125 - val_loss: 0.8804 - val_accuracy: 0.8146\n",
      "Epoch 13/20\n",
      "5695/5695 [==============================] - 3s 442us/sample - loss: 0.8583 - accuracy: 0.8123 - val_loss: 0.8637 - val_accuracy: 0.8167\n",
      "Epoch 14/20\n",
      "5695/5695 [==============================] - 2s 396us/sample - loss: 0.8498 - accuracy: 0.8149 - val_loss: 0.8692 - val_accuracy: 0.8160\n",
      "Epoch 15/20\n",
      "5695/5695 [==============================] - 2s 370us/sample - loss: 0.8447 - accuracy: 0.8128 - val_loss: 0.8516 - val_accuracy: 0.8181\n",
      "Epoch 16/20\n",
      "5695/5695 [==============================] - 2s 389us/sample - loss: 0.8404 - accuracy: 0.8133 - val_loss: 0.8535 - val_accuracy: 0.8209\n",
      "Epoch 17/20\n",
      "5695/5695 [==============================] - 2s 393us/sample - loss: 0.8358 - accuracy: 0.8162 - val_loss: 0.8461 - val_accuracy: 0.8223\n",
      "Epoch 18/20\n",
      "5695/5695 [==============================] - 2s 375us/sample - loss: 0.8319 - accuracy: 0.8153 - val_loss: 0.8556 - val_accuracy: 0.8188\n",
      "Epoch 19/20\n",
      "5695/5695 [==============================] - 2s 377us/sample - loss: 0.8289 - accuracy: 0.8140 - val_loss: 0.8548 - val_accuracy: 0.8209\n",
      "Epoch 20/20\n",
      "5695/5695 [==============================] - 2s 372us/sample - loss: 0.8222 - accuracy: 0.8142 - val_loss: 0.8474 - val_accuracy: 0.8195\n"
     ]
    }
   ],
   "source": [
    "classifier = Sequential()\n",
    "\n",
    "# Adding the input layer and the first hidden layer\n",
    "classifier.add(Dense(units = 24, kernel_initializer = 'uniform', activation = 'relu', input_dim = 34))\n",
    "\n",
    "# Adding the second hidden layer\n",
    "classifier.add(Dense(units = 24, kernel_initializer = 'uniform', activation = 'relu'))\n",
    "\n",
    "# Adding the output layer\n",
    "classifier.add(Dense(units = 21, kernel_initializer = 'uniform', activation = 'softmax'))\n",
    "\n",
    "# Compiling the ANN\n",
    "classifier.compile(optimizer = 'adam', loss = 'categorical_crossentropy', metrics = ['accuracy']) \n",
    "\n",
    "# Fitting the ANN to the Training set\n",
    "history = classifier.fit(X_train, y_train, validation_data = (X_test, y_test), batch_size = 10, epochs = 20, shuffle = True)"
   ]
  },
  {
   "cell_type": "code",
   "execution_count": 28,
   "metadata": {},
   "outputs": [
    {
     "data": {
      "image/png": "[encoded data removed]",
      "text/plain": [
       "<Figure size 432x288 with 1 Axes>"
      ]
     },
     "metadata": {
      "needs_background": "light"
     },
     "output_type": "display_data"
    }
   ],
   "source": [
    "plt.plot(history.history['loss'], label = 'train')\n",
    "plt.plot(history.history['val_loss'], label = 'test')\n",
    "plt.legend()\n",
    "plt.show()"
   ]
  },
  {
   "cell_type": "code",
   "execution_count": 29,
   "metadata": {},
   "outputs": [
    {
     "data": {
      "image/png": "[encoded data removed]",
      "text/plain": [
       "<Figure size 432x288 with 1 Axes>"
      ]
     },
     "metadata": {
      "needs_background": "light"
     },
     "output_type": "display_data"
    }
   ],
   "source": [
    "plt.plot(history.history['accuracy'], label = 'train')\n",
    "plt.plot(history.history['val_accuracy'], label = 'test')\n",
    "plt.legend()\n",
    "plt.show()"
   ]
  },
  {
   "cell_type": "code",
   "execution_count": 30,
   "metadata": {},
   "outputs": [
    {
     "name": "stdout",
     "output_type": "stream",
     "text": [
      "117720\n",
      "102300\n",
      "Error Percentage in predicted values is : 13.09887869520897 %\n"
     ]
    }
   ],
   "source": [
    "y_predicted = classifier.predict(X_test)\n",
    "\n",
    "y_predicted = np.argmax(y_predicted, axis = 1)\n",
    "\n",
    "y_test = np.argmax(y_test, axis = 1)\n",
    "\n",
    "test_sum = 0\n",
    "for i in range(len(y_test)):\n",
    "    test_sum += (y_test[i] * 15)\n",
    "\n",
    "print(test_sum)\n",
    "\n",
    "predicted_sum = 0\n",
    "for i in range(len(y_predicted)):\n",
    "    predicted_sum += (y_predicted[i] * 15)\n",
    "\n",
    "print(predicted_sum)\n",
    "\n",
    "print(\"Error Percentage in predicted values is : {} %\".format(np.absolute((predicted_sum - test_sum)/test_sum)*100))\n",
    "err.append(np.absolute((predicted_sum - test_sum)/test_sum)*100)"
   ]
  },
  {
   "cell_type": "code",
   "execution_count": 31,
   "metadata": {},
   "outputs": [
    {
     "data": {
      "text/plain": [
       "0.7440640769416382"
      ]
     },
     "execution_count": 31,
     "metadata": {},
     "output_type": "execute_result"
    }
   ],
   "source": [
    "f1_score(y_test, y_predicted, average = 'weighted')"
   ]
  },
  {
   "cell_type": "code",
   "execution_count": 32,
   "metadata": {},
   "outputs": [],
   "source": [
    "f1.append(f1_score(y_test, y_predicted, average = 'weighted'))"
   ]
  },
  {
   "cell_type": "code",
   "execution_count": 33,
   "metadata": {},
   "outputs": [],
   "source": [
    "acc.append(max(history.history['accuracy']))"
   ]
  },
  {
   "cell_type": "markdown",
   "metadata": {},
   "source": [
    "# January"
   ]
  },
  {
   "cell_type": "code",
   "execution_count": 34,
   "metadata": {},
   "outputs": [
    {
     "name": "stdout",
     "output_type": "stream",
     "text": [
      "(5432, 34) (5432, 21) (1359, 34) (1359, 21)\n"
     ]
    }
   ],
   "source": [
    "working_df = house_data[house_data.Month == 1]\n",
    "\n",
    "working_df = working_df[['T_ctrl', 'T_stp_heat', 'auxHeat1', 'T_out', 'RH_out']]\n",
    "cols = ['T_ctrl', 'T_stp_heat', 'T_out', 'RH_out', 'auxHeat1']\n",
    "working_df = working_df[cols]\n",
    "\n",
    "reframed = series_to_supervised(working_df, 6, 1)\n",
    "\n",
    "y_auxHeat = reframed['var5(t)']\n",
    "y_auxHeat = to_categorical(y_auxHeat)\n",
    "X = reframed.drop(labels = [\"var5(t)\"], axis = 1)\n",
    "\n",
    "X_train, X_test, y_train, y_test = train_test_split(X, y_auxHeat, test_size = 0.2, shuffle = True)\n",
    "\n",
    "X_train = X_train.values\n",
    "X_test = X_test.values\n",
    "\n",
    "print(X_train.shape, y_train.shape, X_test.shape, y_test.shape)"
   ]
  },
  {
   "cell_type": "code",
   "execution_count": 35,
   "metadata": {},
   "outputs": [
    {
     "name": "stdout",
     "output_type": "stream",
     "text": [
      "Train on 5432 samples, validate on 1359 samples\n",
      "Epoch 1/20\n",
      "5432/5432 [==============================] - 2s 432us/sample - loss: 1.3439 - accuracy: 0.7178 - val_loss: 1.0751 - val_accuracy: 0.7697\n",
      "Epoch 2/20\n",
      "5432/5432 [==============================] - 2s 369us/sample - loss: 1.0526 - accuracy: 0.7859 - val_loss: 1.0161 - val_accuracy: 0.7991\n",
      "Epoch 3/20\n",
      "5432/5432 [==============================] - 2s 399us/sample - loss: 1.0169 - accuracy: 0.7929 - val_loss: 1.0019 - val_accuracy: 0.7896\n",
      "Epoch 4/20\n",
      "5432/5432 [==============================] - 2s 412us/sample - loss: 1.0028 - accuracy: 0.7934 - val_loss: 0.9868 - val_accuracy: 0.7984\n",
      "Epoch 5/20\n",
      "5432/5432 [==============================] - 2s 374us/sample - loss: 0.9812 - accuracy: 0.7953 - val_loss: 0.9923 - val_accuracy: 0.7940\n",
      "Epoch 6/20\n",
      "5432/5432 [==============================] - 2s 374us/sample - loss: 0.9733 - accuracy: 0.7964 - val_loss: 0.9623 - val_accuracy: 0.8035\n",
      "Epoch 7/20\n",
      "5432/5432 [==============================] - 2s 378us/sample - loss: 0.9573 - accuracy: 0.7982 - val_loss: 0.9518 - val_accuracy: 0.7940\n",
      "Epoch 8/20\n",
      "5432/5432 [==============================] - 2s 377us/sample - loss: 0.9506 - accuracy: 0.7979 - val_loss: 0.9439 - val_accuracy: 0.8028\n",
      "Epoch 9/20\n",
      "5432/5432 [==============================] - 2s 375us/sample - loss: 0.9440 - accuracy: 0.7979 - val_loss: 0.9245 - val_accuracy: 0.8057\n",
      "Epoch 10/20\n",
      "5432/5432 [==============================] - 2s 398us/sample - loss: 0.9324 - accuracy: 0.8008 - val_loss: 0.9169 - val_accuracy: 0.8094\n",
      "Epoch 11/20\n",
      "5432/5432 [==============================] - 2s 377us/sample - loss: 0.9277 - accuracy: 0.8010 - val_loss: 0.9114 - val_accuracy: 0.8124\n",
      "Epoch 12/20\n",
      "5432/5432 [==============================] - 2s 374us/sample - loss: 0.9215 - accuracy: 0.8030 - val_loss: 0.9398 - val_accuracy: 0.7984\n",
      "Epoch 13/20\n",
      "5432/5432 [==============================] - 2s 377us/sample - loss: 0.9071 - accuracy: 0.8030 - val_loss: 0.9006 - val_accuracy: 0.8102\n",
      "Epoch 14/20\n",
      "5432/5432 [==============================] - 2s 374us/sample - loss: 0.9004 - accuracy: 0.8058 - val_loss: 0.9228 - val_accuracy: 0.8065\n",
      "Epoch 15/20\n",
      "5432/5432 [==============================] - 2s 375us/sample - loss: 0.9031 - accuracy: 0.8036 - val_loss: 0.9068 - val_accuracy: 0.8057\n",
      "Epoch 16/20\n",
      "5432/5432 [==============================] - 2s 388us/sample - loss: 0.8930 - accuracy: 0.8049 - val_loss: 0.9014 - val_accuracy: 0.8131\n",
      "Epoch 17/20\n",
      "5432/5432 [==============================] - 2s 421us/sample - loss: 0.8891 - accuracy: 0.8076 - val_loss: 0.8951 - val_accuracy: 0.8138\n",
      "Epoch 18/20\n",
      "5432/5432 [==============================] - 2s 380us/sample - loss: 0.8865 - accuracy: 0.8058 - val_loss: 0.8976 - val_accuracy: 0.8160\n",
      "Epoch 19/20\n",
      "5432/5432 [==============================] - 2s 376us/sample - loss: 0.8871 - accuracy: 0.8065 - val_loss: 0.8885 - val_accuracy: 0.8138\n",
      "Epoch 20/20\n",
      "5432/5432 [==============================] - 2s 377us/sample - loss: 0.8819 - accuracy: 0.8065 - val_loss: 0.8995 - val_accuracy: 0.8146\n"
     ]
    }
   ],
   "source": [
    "classifier = Sequential()\n",
    "\n",
    "# Adding the input layer and the first hidden layer\n",
    "classifier.add(Dense(units = 24, kernel_initializer = 'uniform', activation = 'relu', input_dim = 34))\n",
    "\n",
    "# Adding the second hidden layer\n",
    "classifier.add(Dense(units = 24, kernel_initializer = 'uniform', activation = 'relu'))\n",
    "\n",
    "# Adding the output layer\n",
    "classifier.add(Dense(units = 21, kernel_initializer = 'uniform', activation = 'softmax'))\n",
    "\n",
    "# Compiling the ANN\n",
    "classifier.compile(optimizer = 'adam', loss = 'categorical_crossentropy', metrics = ['accuracy']) \n",
    "\n",
    "# Fitting the ANN to the Training set\n",
    "history = classifier.fit(X_train, y_train, validation_data = (X_test, y_test), batch_size = 10, epochs = 20, shuffle = True)"
   ]
  },
  {
   "cell_type": "code",
   "execution_count": 36,
   "metadata": {},
   "outputs": [
    {
     "data": {
      "image/png": "[encoded data removed]",
      "text/plain": [
       "<Figure size 432x288 with 1 Axes>"
      ]
     },
     "metadata": {
      "needs_background": "light"
     },
     "output_type": "display_data"
    }
   ],
   "source": [
    "plt.plot(history.history['loss'], label = 'train')\n",
    "plt.plot(history.history['val_loss'], label = 'test')\n",
    "plt.legend()\n",
    "plt.show()"
   ]
  },
  {
   "cell_type": "code",
   "execution_count": 37,
   "metadata": {},
   "outputs": [
    {
     "data": {
      "image/png": "[encoded data removed]",
      "text/plain": [
       "<Figure size 432x288 with 1 Axes>"
      ]
     },
     "metadata": {
      "needs_background": "light"
     },
     "output_type": "display_data"
    }
   ],
   "source": [
    "plt.plot(history.history['accuracy'], label = 'train')\n",
    "plt.plot(history.history['val_accuracy'], label = 'test')\n",
    "plt.legend()\n",
    "plt.show()"
   ]
  },
  {
   "cell_type": "code",
   "execution_count": 38,
   "metadata": {},
   "outputs": [
    {
     "name": "stdout",
     "output_type": "stream",
     "text": [
      "187995\n",
      "182700\n",
      "Error Percentage in predicted values is : 2.8165642703263387 %\n"
     ]
    }
   ],
   "source": [
    "y_predicted = classifier.predict(X_test)\n",
    "\n",
    "y_predicted = np.argmax(y_predicted, axis = 1)\n",
    "\n",
    "y_test = np.argmax(y_test, axis = 1)\n",
    "\n",
    "test_sum = 0\n",
    "for i in range(len(y_test)):\n",
    "    test_sum += (y_test[i] * 15)\n",
    "\n",
    "print(test_sum)\n",
    "\n",
    "predicted_sum = 0\n",
    "for i in range(len(y_predicted)):\n",
    "    predicted_sum += (y_predicted[i] * 15)\n",
    "\n",
    "print(predicted_sum)\n",
    "\n",
    "print(\"Error Percentage in predicted values is : {} %\".format(np.absolute((predicted_sum - test_sum)/test_sum)*100))\n",
    "err.append(np.absolute((predicted_sum - test_sum)/test_sum)*100)"
   ]
  },
  {
   "cell_type": "code",
   "execution_count": 39,
   "metadata": {},
   "outputs": [
    {
     "data": {
      "text/plain": [
       "0.7393260944715906"
      ]
     },
     "execution_count": 39,
     "metadata": {},
     "output_type": "execute_result"
    }
   ],
   "source": [
    "f1_score(y_test, y_predicted, average = 'weighted')"
   ]
  },
  {
   "cell_type": "code",
   "execution_count": 40,
   "metadata": {},
   "outputs": [],
   "source": [
    "f1.append(f1_score(y_test, y_predicted, average = 'weighted'))"
   ]
  },
  {
   "cell_type": "code",
   "execution_count": 41,
   "metadata": {},
   "outputs": [],
   "source": [
    "acc.append(max(history.history['accuracy']))"
   ]
  },
  {
   "cell_type": "markdown",
   "metadata": {},
   "source": [
    "# February"
   ]
  },
  {
   "cell_type": "code",
   "execution_count": 42,
   "metadata": {},
   "outputs": [
    {
     "name": "stdout",
     "output_type": "stream",
     "text": [
      "(3300, 34) (3300, 21) (825, 34) (825, 21)\n"
     ]
    }
   ],
   "source": [
    "working_df = house_data[house_data.Month == 2]\n",
    "\n",
    "working_df = working_df[['T_ctrl', 'T_stp_heat', 'auxHeat1', 'T_out', 'RH_out']]\n",
    "cols = ['T_ctrl', 'T_stp_heat', 'T_out', 'RH_out', 'auxHeat1']\n",
    "working_df = working_df[cols]\n",
    "\n",
    "reframed = series_to_supervised(working_df, 6, 1)\n",
    "\n",
    "y_auxHeat = reframed['var5(t)']\n",
    "y_auxHeat = to_categorical(y_auxHeat)\n",
    "X = reframed.drop(labels = [\"var5(t)\"], axis = 1)\n",
    "\n",
    "X_train, X_test, y_train, y_test = train_test_split(X, y_auxHeat, test_size = 0.2, shuffle = True)\n",
    "\n",
    "X_train = X_train.values\n",
    "X_test = X_test.values\n",
    "\n",
    "print(X_train.shape, y_train.shape, X_test.shape, y_test.shape)"
   ]
  },
  {
   "cell_type": "code",
   "execution_count": 43,
   "metadata": {},
   "outputs": [
    {
     "name": "stdout",
     "output_type": "stream",
     "text": [
      "Train on 3300 samples, validate on 825 samples\n",
      "Epoch 1/20\n",
      "3300/3300 [==============================] - 1s 431us/sample - loss: 1.6119 - accuracy: 0.6755 - val_loss: 1.2349 - val_accuracy: 0.7248\n",
      "Epoch 2/20\n",
      "3300/3300 [==============================] - 1s 319us/sample - loss: 1.1651 - accuracy: 0.7533 - val_loss: 1.1711 - val_accuracy: 0.7394\n",
      "Epoch 3/20\n",
      "3300/3300 [==============================] - 1s 323us/sample - loss: 1.1106 - accuracy: 0.7603 - val_loss: 1.1516 - val_accuracy: 0.7479\n",
      "Epoch 4/20\n",
      "3300/3300 [==============================] - 1s 349us/sample - loss: 1.0858 - accuracy: 0.7688 - val_loss: 1.1134 - val_accuracy: 0.7515\n",
      "Epoch 5/20\n",
      "3300/3300 [==============================] - 1s 328us/sample - loss: 1.0723 - accuracy: 0.7733 - val_loss: 1.0984 - val_accuracy: 0.7697\n",
      "Epoch 6/20\n",
      "3300/3300 [==============================] - 1s 323us/sample - loss: 1.0528 - accuracy: 0.7791 - val_loss: 1.0822 - val_accuracy: 0.7673\n",
      "Epoch 7/20\n",
      "3300/3300 [==============================] - 1s 326us/sample - loss: 1.0474 - accuracy: 0.7791 - val_loss: 1.0824 - val_accuracy: 0.7648\n",
      "Epoch 8/20\n",
      "3300/3300 [==============================] - 1s 322us/sample - loss: 1.0371 - accuracy: 0.7773 - val_loss: 1.1030 - val_accuracy: 0.7600\n",
      "Epoch 9/20\n",
      "3300/3300 [==============================] - 1s 327us/sample - loss: 1.0319 - accuracy: 0.7800 - val_loss: 1.0722 - val_accuracy: 0.7709\n",
      "Epoch 10/20\n",
      "3300/3300 [==============================] - 1s 329us/sample - loss: 1.0260 - accuracy: 0.7824 - val_loss: 1.1003 - val_accuracy: 0.7624\n",
      "Epoch 11/20\n",
      "3300/3300 [==============================] - 1s 321us/sample - loss: 1.0208 - accuracy: 0.7803 - val_loss: 1.0703 - val_accuracy: 0.7721\n",
      "Epoch 12/20\n",
      "3300/3300 [==============================] - 1s 328us/sample - loss: 1.0105 - accuracy: 0.7827 - val_loss: 1.0646 - val_accuracy: 0.7697\n",
      "Epoch 13/20\n",
      "3300/3300 [==============================] - 1s 326us/sample - loss: 1.0088 - accuracy: 0.7806 - val_loss: 1.0777 - val_accuracy: 0.7721\n",
      "Epoch 14/20\n",
      "3300/3300 [==============================] - 1s 327us/sample - loss: 0.9996 - accuracy: 0.7867 - val_loss: 1.0512 - val_accuracy: 0.7758\n",
      "Epoch 15/20\n",
      "3300/3300 [==============================] - 1s 321us/sample - loss: 0.9965 - accuracy: 0.7818 - val_loss: 1.0538 - val_accuracy: 0.7709\n",
      "Epoch 16/20\n",
      "3300/3300 [==============================] - 1s 331us/sample - loss: 0.9879 - accuracy: 0.7827 - val_loss: 1.0444 - val_accuracy: 0.7733\n",
      "Epoch 17/20\n",
      "3300/3300 [==============================] - 1s 322us/sample - loss: 0.9837 - accuracy: 0.7830 - val_loss: 1.0421 - val_accuracy: 0.7721\n",
      "Epoch 18/20\n",
      "3300/3300 [==============================] - 1s 334us/sample - loss: 0.9764 - accuracy: 0.7858 - val_loss: 1.0784 - val_accuracy: 0.7709\n",
      "Epoch 19/20\n",
      "3300/3300 [==============================] - 1s 325us/sample - loss: 0.9770 - accuracy: 0.7827 - val_loss: 1.0565 - val_accuracy: 0.7733\n",
      "Epoch 20/20\n",
      "3300/3300 [==============================] - 1s 323us/sample - loss: 0.9667 - accuracy: 0.7879 - val_loss: 1.0338 - val_accuracy: 0.7709\n"
     ]
    }
   ],
   "source": [
    "classifier = Sequential()\n",
    "\n",
    "# Adding the input layer and the first hidden layer\n",
    "classifier.add(Dense(units = 24, kernel_initializer = 'uniform', activation = 'relu', input_dim = 34))\n",
    "\n",
    "# Adding the second hidden layer\n",
    "classifier.add(Dense(units = 24, kernel_initializer = 'uniform', activation = 'relu'))\n",
    "\n",
    "# Adding the output layer\n",
    "classifier.add(Dense(units = 21, kernel_initializer = 'uniform', activation = 'softmax'))\n",
    "\n",
    "# Compiling the ANN\n",
    "classifier.compile(optimizer = 'adam', loss = 'categorical_crossentropy', metrics = ['accuracy']) \n",
    "\n",
    "# Fitting the ANN to the Training set\n",
    "history = classifier.fit(X_train, y_train, validation_data = (X_test, y_test), batch_size = 10, epochs = 20, shuffle = True)"
   ]
  },
  {
   "cell_type": "code",
   "execution_count": 44,
   "metadata": {},
   "outputs": [
    {
     "data": {
      "image/png": "[encoded data removed]",
      "text/plain": [
       "<Figure size 432x288 with 1 Axes>"
      ]
     },
     "metadata": {
      "needs_background": "light"
     },
     "output_type": "display_data"
    }
   ],
   "source": [
    "plt.plot(history.history['loss'], label = 'train')\n",
    "plt.plot(history.history['val_loss'], label = 'test')\n",
    "plt.legend()\n",
    "plt.show()"
   ]
  },
  {
   "cell_type": "code",
   "execution_count": 45,
   "metadata": {},
   "outputs": [
    {
     "data": {
      "image/png": "[encoded data removed]",
      "text/plain": [
       "<Figure size 432x288 with 1 Axes>"
      ]
     },
     "metadata": {
      "needs_background": "light"
     },
     "output_type": "display_data"
    }
   ],
   "source": [
    "plt.plot(history.history['accuracy'], label = 'train')\n",
    "plt.plot(history.history['val_accuracy'], label = 'test')\n",
    "plt.legend()\n",
    "plt.show()"
   ]
  },
  {
   "cell_type": "code",
   "execution_count": 46,
   "metadata": {},
   "outputs": [
    {
     "name": "stdout",
     "output_type": "stream",
     "text": [
      "98925\n",
      "99300\n",
      "Error Percentage in predicted values is : 0.37907505686125853 %\n"
     ]
    }
   ],
   "source": [
    "y_predicted = classifier.predict(X_test)\n",
    "\n",
    "y_predicted = np.argmax(y_predicted, axis = 1)\n",
    "\n",
    "y_test = np.argmax(y_test, axis = 1)\n",
    "\n",
    "test_sum = 0\n",
    "for i in range(len(y_test)):\n",
    "    test_sum += (y_test[i] * 15)\n",
    "\n",
    "print(test_sum)\n",
    "\n",
    "predicted_sum = 0\n",
    "for i in range(len(y_predicted)):\n",
    "    predicted_sum += (y_predicted[i] * 15)\n",
    "\n",
    "print(predicted_sum)\n",
    "\n",
    "print(\"Error Percentage in predicted values is : {} %\".format(np.absolute((predicted_sum - test_sum)/test_sum)*100))\n",
    "err.append(np.absolute((predicted_sum - test_sum)/test_sum)*100)"
   ]
  },
  {
   "cell_type": "code",
   "execution_count": 47,
   "metadata": {},
   "outputs": [
    {
     "data": {
      "text/plain": [
       "0.6939777532940462"
      ]
     },
     "execution_count": 47,
     "metadata": {},
     "output_type": "execute_result"
    }
   ],
   "source": [
    "f1_score(y_test, y_predicted, average = 'weighted')"
   ]
  },
  {
   "cell_type": "code",
   "execution_count": 48,
   "metadata": {},
   "outputs": [],
   "source": [
    "f1.append(f1_score(y_test, y_predicted, average = 'weighted'))"
   ]
  },
  {
   "cell_type": "code",
   "execution_count": 49,
   "metadata": {},
   "outputs": [],
   "source": [
    "acc.append(max(history.history['accuracy']))"
   ]
  },
  {
   "cell_type": "markdown",
   "metadata": {},
   "source": [
    "# March"
   ]
  },
  {
   "cell_type": "code",
   "execution_count": 50,
   "metadata": {},
   "outputs": [
    {
     "name": "stdout",
     "output_type": "stream",
     "text": [
      "(5700, 34) (5700, 21) (1426, 34) (1426, 21)\n"
     ]
    }
   ],
   "source": [
    "working_df = house_data[house_data.Month == 3]\n",
    "\n",
    "working_df = working_df[['T_ctrl', 'T_stp_heat', 'auxHeat1', 'T_out', 'RH_out']]\n",
    "cols = ['T_ctrl', 'T_stp_heat', 'T_out', 'RH_out', 'auxHeat1']\n",
    "working_df = working_df[cols]\n",
    "\n",
    "reframed = series_to_supervised(working_df, 6, 1)\n",
    "\n",
    "y_auxHeat = reframed['var5(t)']\n",
    "y_auxHeat = to_categorical(y_auxHeat)\n",
    "X = reframed.drop(labels = [\"var5(t)\"], axis = 1)\n",
    "\n",
    "X_train, X_test, y_train, y_test = train_test_split(X, y_auxHeat, test_size = 0.2, shuffle = True)\n",
    "\n",
    "X_train = X_train.values\n",
    "X_test = X_test.values\n",
    "\n",
    "print(X_train.shape, y_train.shape, X_test.shape, y_test.shape)"
   ]
  },
  {
   "cell_type": "code",
   "execution_count": 51,
   "metadata": {},
   "outputs": [
    {
     "name": "stdout",
     "output_type": "stream",
     "text": [
      "Train on 5700 samples, validate on 1426 samples\n",
      "Epoch 1/20\n",
      "5700/5700 [==============================] - 2s 392us/sample - loss: 1.5502 - accuracy: 0.6754 - val_loss: 1.2589 - val_accuracy: 0.7454\n",
      "Epoch 2/20\n",
      "5700/5700 [==============================] - 2s 359us/sample - loss: 1.1573 - accuracy: 0.7584 - val_loss: 1.1925 - val_accuracy: 0.7588\n",
      "Epoch 3/20\n",
      "5700/5700 [==============================] - 2s 433us/sample - loss: 1.1066 - accuracy: 0.7696 - val_loss: 1.1672 - val_accuracy: 0.7616\n",
      "Epoch 4/20\n",
      "5700/5700 [==============================] - 2s 336us/sample - loss: 1.0780 - accuracy: 0.7747 - val_loss: 1.1529 - val_accuracy: 0.7630\n",
      "Epoch 5/20\n",
      "5700/5700 [==============================] - 2s 356us/sample - loss: 1.0559 - accuracy: 0.7774 - val_loss: 1.1280 - val_accuracy: 0.7700\n",
      "Epoch 6/20\n",
      "5700/5700 [==============================] - 2s 352us/sample - loss: 1.0384 - accuracy: 0.7796 - val_loss: 1.1149 - val_accuracy: 0.7707\n",
      "Epoch 7/20\n",
      "5700/5700 [==============================] - 2s 349us/sample - loss: 1.0253 - accuracy: 0.7814 - val_loss: 1.1188 - val_accuracy: 0.7707\n",
      "Epoch 8/20\n",
      "5700/5700 [==============================] - 2s 331us/sample - loss: 1.0173 - accuracy: 0.7833 - val_loss: 1.1088 - val_accuracy: 0.7616\n",
      "Epoch 9/20\n",
      "5700/5700 [==============================] - 2s 335us/sample - loss: 1.0063 - accuracy: 0.7833 - val_loss: 1.0855 - val_accuracy: 0.7721\n",
      "Epoch 10/20\n",
      "5700/5700 [==============================] - 2s 339us/sample - loss: 0.9977 - accuracy: 0.7863 - val_loss: 1.0806 - val_accuracy: 0.7735\n",
      "Epoch 11/20\n",
      "5700/5700 [==============================] - 2s 334us/sample - loss: 0.9928 - accuracy: 0.7854 - val_loss: 1.1047 - val_accuracy: 0.7616\n",
      "Epoch 12/20\n",
      "5700/5700 [==============================] - 2s 335us/sample - loss: 0.9849 - accuracy: 0.7874 - val_loss: 1.0906 - val_accuracy: 0.7721\n",
      "Epoch 13/20\n",
      "5700/5700 [==============================] - 2s 336us/sample - loss: 0.9778 - accuracy: 0.7886 - val_loss: 1.0931 - val_accuracy: 0.7735\n",
      "Epoch 14/20\n",
      "5700/5700 [==============================] - 2s 343us/sample - loss: 0.9778 - accuracy: 0.7868 - val_loss: 1.0798 - val_accuracy: 0.7728\n",
      "Epoch 15/20\n",
      "5700/5700 [==============================] - 2s 341us/sample - loss: 0.9766 - accuracy: 0.7874 - val_loss: 1.0658 - val_accuracy: 0.7756\n",
      "Epoch 16/20\n",
      "5700/5700 [==============================] - 2s 340us/sample - loss: 0.9700 - accuracy: 0.7868 - val_loss: 1.0713 - val_accuracy: 0.7728\n",
      "Epoch 17/20\n",
      "5700/5700 [==============================] - 2s 348us/sample - loss: 0.9643 - accuracy: 0.7881 - val_loss: 1.0910 - val_accuracy: 0.7707\n",
      "Epoch 18/20\n",
      "5700/5700 [==============================] - 2s 337us/sample - loss: 0.9599 - accuracy: 0.7889 - val_loss: 1.1099 - val_accuracy: 0.7665\n",
      "Epoch 19/20\n",
      "5700/5700 [==============================] - 2s 340us/sample - loss: 0.9612 - accuracy: 0.7889 - val_loss: 1.0803 - val_accuracy: 0.7728\n",
      "Epoch 20/20\n",
      "5700/5700 [==============================] - 2s 341us/sample - loss: 0.9582 - accuracy: 0.7891 - val_loss: 1.0627 - val_accuracy: 0.7735\n"
     ]
    }
   ],
   "source": [
    "classifier = Sequential()\n",
    "\n",
    "# Adding the input layer and the first hidden layer\n",
    "classifier.add(Dense(units = 24, kernel_initializer = 'uniform', activation = 'relu', input_dim = 34))\n",
    "\n",
    "# Adding the second hidden layer\n",
    "classifier.add(Dense(units = 24, kernel_initializer = 'uniform', activation = 'relu'))\n",
    "\n",
    "# Adding the output layer\n",
    "classifier.add(Dense(units = 21, kernel_initializer = 'uniform', activation = 'softmax'))\n",
    "\n",
    "# Compiling the ANN\n",
    "classifier.compile(optimizer = 'adam', loss = 'categorical_crossentropy', metrics = ['accuracy']) \n",
    "\n",
    "# Fitting the ANN to the Training set\n",
    "history = classifier.fit(X_train, y_train, validation_data = (X_test, y_test), batch_size = 10, epochs = 20, shuffle = True)"
   ]
  },
  {
   "cell_type": "code",
   "execution_count": 52,
   "metadata": {},
   "outputs": [
    {
     "data": {
      "image/png": "[encoded data removed]",
      "text/plain": [
       "<Figure size 432x288 with 1 Axes>"
      ]
     },
     "metadata": {
      "needs_background": "light"
     },
     "output_type": "display_data"
    }
   ],
   "source": [
    "plt.plot(history.history['loss'], label = 'train')\n",
    "plt.plot(history.history['val_loss'], label = 'test')\n",
    "plt.legend()\n",
    "plt.show()"
   ]
  },
  {
   "cell_type": "code",
   "execution_count": 53,
   "metadata": {},
   "outputs": [
    {
     "data": {
      "image/png": "[encoded data removed]",
      "text/plain": [
       "<Figure size 432x288 with 1 Axes>"
      ]
     },
     "metadata": {
      "needs_background": "light"
     },
     "output_type": "display_data"
    }
   ],
   "source": [
    "plt.plot(history.history['accuracy'], label = 'train')\n",
    "plt.plot(history.history['val_accuracy'], label = 'test')\n",
    "plt.legend()\n",
    "plt.show()"
   ]
  },
  {
   "cell_type": "code",
   "execution_count": 54,
   "metadata": {},
   "outputs": [
    {
     "name": "stdout",
     "output_type": "stream",
     "text": [
      "141930\n",
      "136800\n",
      "Error Percentage in predicted values is : 3.614457831325301 %\n"
     ]
    }
   ],
   "source": [
    "y_predicted = classifier.predict(X_test)\n",
    "\n",
    "y_predicted = np.argmax(y_predicted, axis = 1)\n",
    "\n",
    "y_test = np.argmax(y_test, axis = 1)\n",
    "\n",
    "test_sum = 0\n",
    "for i in range(len(y_test)):\n",
    "    test_sum += (y_test[i] * 15)\n",
    "\n",
    "print(test_sum)\n",
    "\n",
    "predicted_sum = 0\n",
    "for i in range(len(y_predicted)):\n",
    "    predicted_sum += (y_predicted[i] * 15)\n",
    "\n",
    "print(predicted_sum)\n",
    "\n",
    "print(\"Error Percentage in predicted values is : {} %\".format(np.absolute((predicted_sum - test_sum)/test_sum)*100))\n",
    "err.append(np.absolute((predicted_sum - test_sum)/test_sum)*100)"
   ]
  },
  {
   "cell_type": "code",
   "execution_count": 55,
   "metadata": {},
   "outputs": [
    {
     "data": {
      "text/plain": [
       "0.6818862404978158"
      ]
     },
     "execution_count": 55,
     "metadata": {},
     "output_type": "execute_result"
    }
   ],
   "source": [
    "f1_score(y_test, y_predicted, average = 'weighted')"
   ]
  },
  {
   "cell_type": "code",
   "execution_count": 56,
   "metadata": {},
   "outputs": [],
   "source": [
    "f1.append(f1_score(y_test, y_predicted, average = 'weighted'))"
   ]
  },
  {
   "cell_type": "code",
   "execution_count": 57,
   "metadata": {},
   "outputs": [],
   "source": [
    "acc.append(max(history.history['accuracy']))"
   ]
  },
  {
   "cell_type": "markdown",
   "metadata": {},
   "source": [
    "# April"
   ]
  },
  {
   "cell_type": "code",
   "execution_count": 58,
   "metadata": {},
   "outputs": [
    {
     "name": "stdout",
     "output_type": "stream",
     "text": [
      "(5808, 34) (5808, 21) (1453, 34) (1453, 21)\n"
     ]
    }
   ],
   "source": [
    "working_df = house_data[house_data.Month == 4]\n",
    "\n",
    "working_df = working_df[['T_ctrl', 'T_stp_heat', 'auxHeat1', 'T_out', 'RH_out']]\n",
    "cols = ['T_ctrl', 'T_stp_heat', 'T_out', 'RH_out', 'auxHeat1']\n",
    "working_df = working_df[cols]\n",
    "\n",
    "reframed = series_to_supervised(working_df, 6, 1)\n",
    "\n",
    "y_auxHeat = reframed['var5(t)']\n",
    "y_auxHeat = to_categorical(y_auxHeat)\n",
    "X = reframed.drop(labels = [\"var5(t)\"], axis = 1)\n",
    "\n",
    "X_train, X_test, y_train, y_test = train_test_split(X, y_auxHeat, test_size = 0.2, shuffle = True)\n",
    "\n",
    "X_train = X_train.values\n",
    "X_test = X_test.values\n",
    "\n",
    "print(X_train.shape, y_train.shape, X_test.shape, y_test.shape)"
   ]
  },
  {
   "cell_type": "code",
   "execution_count": 59,
   "metadata": {},
   "outputs": [
    {
     "name": "stdout",
     "output_type": "stream",
     "text": [
      "Train on 5808 samples, validate on 1453 samples\n",
      "Epoch 1/20\n",
      "5808/5808 [==============================] - 3s 453us/sample - loss: 0.9744 - accuracy: 0.8280 - val_loss: 0.7187 - val_accuracy: 0.8493\n",
      "Epoch 2/20\n",
      "5808/5808 [==============================] - 2s 370us/sample - loss: 0.6208 - accuracy: 0.8786 - val_loss: 0.6781 - val_accuracy: 0.8596\n",
      "Epoch 3/20\n",
      "5808/5808 [==============================] - 2s 373us/sample - loss: 0.5921 - accuracy: 0.8860 - val_loss: 0.6498 - val_accuracy: 0.8651\n",
      "Epoch 4/20\n",
      "5808/5808 [==============================] - 2s 371us/sample - loss: 0.5750 - accuracy: 0.8888 - val_loss: 0.6514 - val_accuracy: 0.8679\n",
      "Epoch 5/20\n",
      "5808/5808 [==============================] - 3s 450us/sample - loss: 0.5631 - accuracy: 0.8903 - val_loss: 0.6604 - val_accuracy: 0.8630\n",
      "Epoch 6/20\n",
      "5808/5808 [==============================] - 2s 396us/sample - loss: 0.5552 - accuracy: 0.8936 - val_loss: 0.6209 - val_accuracy: 0.8685\n",
      "Epoch 7/20\n",
      "5808/5808 [==============================] - 2s 402us/sample - loss: 0.5484 - accuracy: 0.8934 - val_loss: 0.6195 - val_accuracy: 0.8713\n",
      "Epoch 8/20\n",
      "5808/5808 [==============================] - 3s 525us/sample - loss: 0.5418 - accuracy: 0.8951 - val_loss: 0.6254 - val_accuracy: 0.8699\n",
      "Epoch 9/20\n",
      "5808/5808 [==============================] - 3s 537us/sample - loss: 0.5390 - accuracy: 0.8936 - val_loss: 0.6156 - val_accuracy: 0.8699\n",
      "Epoch 10/20\n",
      "5808/5808 [==============================] - 3s 441us/sample - loss: 0.5295 - accuracy: 0.8957 - val_loss: 0.6173 - val_accuracy: 0.8727\n",
      "Epoch 11/20\n",
      "5808/5808 [==============================] - 2s 374us/sample - loss: 0.5230 - accuracy: 0.8972 - val_loss: 0.6107 - val_accuracy: 0.8734\n",
      "Epoch 12/20\n",
      "5808/5808 [==============================] - 2s 373us/sample - loss: 0.5210 - accuracy: 0.8984 - val_loss: 0.5897 - val_accuracy: 0.8761\n",
      "Epoch 13/20\n",
      "5808/5808 [==============================] - 2s 377us/sample - loss: 0.5162 - accuracy: 0.8974 - val_loss: 0.5941 - val_accuracy: 0.8754\n",
      "Epoch 14/20\n",
      "5808/5808 [==============================] - 2s 379us/sample - loss: 0.5106 - accuracy: 0.8981 - val_loss: 0.5894 - val_accuracy: 0.8782\n",
      "Epoch 15/20\n",
      "5808/5808 [==============================] - 2s 379us/sample - loss: 0.5075 - accuracy: 0.8982 - val_loss: 0.5938 - val_accuracy: 0.8782\n",
      "Epoch 16/20\n",
      "5808/5808 [==============================] - 2s 379us/sample - loss: 0.5023 - accuracy: 0.8993 - val_loss: 0.5912 - val_accuracy: 0.8768\n",
      "Epoch 17/20\n",
      "5808/5808 [==============================] - 2s 377us/sample - loss: 0.5020 - accuracy: 0.8984 - val_loss: 0.5899 - val_accuracy: 0.8789\n",
      "Epoch 18/20\n",
      "5808/5808 [==============================] - 2s 405us/sample - loss: 0.4983 - accuracy: 0.8972 - val_loss: 0.5909 - val_accuracy: 0.8768\n",
      "Epoch 19/20\n",
      "5808/5808 [==============================] - 2s 375us/sample - loss: 0.4956 - accuracy: 0.8991 - val_loss: 0.5889 - val_accuracy: 0.8768\n",
      "Epoch 20/20\n",
      "5808/5808 [==============================] - 2s 378us/sample - loss: 0.4963 - accuracy: 0.8981 - val_loss: 0.5930 - val_accuracy: 0.8768\n"
     ]
    }
   ],
   "source": [
    "classifier = Sequential()\n",
    "\n",
    "# Adding the input layer and the first hidden layer\n",
    "classifier.add(Dense(units = 24, kernel_initializer = 'uniform', activation = 'relu', input_dim = 34))\n",
    "\n",
    "# Adding the second hidden layer\n",
    "classifier.add(Dense(units = 24, kernel_initializer = 'uniform', activation = 'relu'))\n",
    "\n",
    "# Adding the output layer\n",
    "classifier.add(Dense(units = 21, kernel_initializer = 'uniform', activation = 'softmax'))\n",
    "\n",
    "# Compiling the ANN\n",
    "classifier.compile(optimizer = 'adam', loss = 'categorical_crossentropy', metrics = ['accuracy']) \n",
    "\n",
    "# Fitting the ANN to the Training set\n",
    "history = classifier.fit(X_train, y_train, validation_data = (X_test, y_test), batch_size = 10, epochs = 20, shuffle = True)"
   ]
  },
  {
   "cell_type": "code",
   "execution_count": 60,
   "metadata": {},
   "outputs": [
    {
     "data": {
      "image/png": "[encoded data removed]",
      "text/plain": [
       "<Figure size 432x288 with 1 Axes>"
      ]
     },
     "metadata": {
      "needs_background": "light"
     },
     "output_type": "display_data"
    }
   ],
   "source": [
    "plt.plot(history.history['loss'], label = 'train')\n",
    "plt.plot(history.history['val_loss'], label = 'test')\n",
    "plt.legend()\n",
    "plt.show()"
   ]
  },
  {
   "cell_type": "code",
   "execution_count": 61,
   "metadata": {},
   "outputs": [
    {
     "data": {
      "image/png": "[encoded data removed]",
      "text/plain": [
       "<Figure size 432x288 with 1 Axes>"
      ]
     },
     "metadata": {
      "needs_background": "light"
     },
     "output_type": "display_data"
    }
   ],
   "source": [
    "plt.plot(history.history['accuracy'], label = 'train')\n",
    "plt.plot(history.history['val_accuracy'], label = 'test')\n",
    "plt.legend()\n",
    "plt.show()"
   ]
  },
  {
   "cell_type": "code",
   "execution_count": 62,
   "metadata": {},
   "outputs": [
    {
     "name": "stdout",
     "output_type": "stream",
     "text": [
      "64560\n",
      "58200\n",
      "Error Percentage in predicted values is : 9.851301115241636 %\n"
     ]
    }
   ],
   "source": [
    "y_predicted = classifier.predict(X_test)\n",
    "\n",
    "y_predicted = np.argmax(y_predicted, axis = 1)\n",
    "\n",
    "y_test = np.argmax(y_test, axis = 1)\n",
    "\n",
    "test_sum = 0\n",
    "for i in range(len(y_test)):\n",
    "    test_sum += (y_test[i] * 15)\n",
    "\n",
    "print(test_sum)\n",
    "\n",
    "predicted_sum = 0\n",
    "for i in range(len(y_predicted)):\n",
    "    predicted_sum += (y_predicted[i] * 15)\n",
    "\n",
    "print(predicted_sum)\n",
    "\n",
    "print(\"Error Percentage in predicted values is : {} %\".format(np.absolute((predicted_sum - test_sum)/test_sum)*100))\n",
    "err.append(np.absolute((predicted_sum - test_sum)/test_sum)*100)"
   ]
  },
  {
   "cell_type": "code",
   "execution_count": 63,
   "metadata": {},
   "outputs": [
    {
     "data": {
      "text/plain": [
       "0.8282024234705411"
      ]
     },
     "execution_count": 63,
     "metadata": {},
     "output_type": "execute_result"
    }
   ],
   "source": [
    "f1_score(y_test, y_predicted, average = 'weighted')"
   ]
  },
  {
   "cell_type": "code",
   "execution_count": 64,
   "metadata": {},
   "outputs": [],
   "source": [
    "f1.append(f1_score(y_test, y_predicted, average = 'weighted'))"
   ]
  },
  {
   "cell_type": "code",
   "execution_count": 65,
   "metadata": {},
   "outputs": [],
   "source": [
    "acc.append(max(history.history['accuracy']))"
   ]
  },
  {
   "cell_type": "code",
   "execution_count": 66,
   "metadata": {},
   "outputs": [
    {
     "data": {
      "text/plain": [
       "<matplotlib.axes._subplots.AxesSubplot at 0x165a4b016c8>"
      ]
     },
     "execution_count": 66,
     "metadata": {},
     "output_type": "execute_result"
    },
    {
     "data": {
      "image/png": "[encoded data removed]",
      "text/plain": [
       "<Figure size 432x288 with 1 Axes>"
      ]
     },
     "metadata": {
      "needs_background": "light"
     },
     "output_type": "display_data"
    }
   ],
   "source": [
    "sns.lineplot(x = months, y = f1, sort = False)"
   ]
  },
  {
   "cell_type": "code",
   "execution_count": 67,
   "metadata": {},
   "outputs": [
    {
     "data": {
      "text/plain": [
       "<matplotlib.axes._subplots.AxesSubplot at 0x166172ded08>"
      ]
     },
     "execution_count": 67,
     "metadata": {},
     "output_type": "execute_result"
    },
    {
     "data": {
      "image/png": "[encoded data removed]",
      "text/plain": [
       "<Figure size 432x288 with 1 Axes>"
      ]
     },
     "metadata": {
      "needs_background": "light"
     },
     "output_type": "display_data"
    }
   ],
   "source": [
    "sns.lineplot(x = months, y = acc, sort = False)"
   ]
  },
  {
   "cell_type": "code",
   "execution_count": 68,
   "metadata": {},
   "outputs": [
    {
     "data": {
      "text/plain": [
       "<matplotlib.axes._subplots.AxesSubplot at 0x1661a830348>"
      ]
     },
     "execution_count": 68,
     "metadata": {},
     "output_type": "execute_result"
    },
    {
     "data": {
      "image/png": "[encoded data removed]",
      "text/plain": [
       "<Figure size 432x288 with 1 Axes>"
      ]
     },
     "metadata": {
      "needs_background": "light"
     },
     "output_type": "display_data"
    }
   ],
   "source": [
    "sns.lineplot(x = months, y = err, sort = False)"
   ]
  },
  {
   "cell_type": "code",
   "execution_count": null,
   "metadata": {},
   "outputs": [],
   "source": []
  }
 ],
 "metadata": {
  "kernelspec": {
   "display_name": "Python 3",
   "language": "python",
   "name": "python3"
  },
  "language_info": {
   "codemirror_mode": {
    "name": "ipython",
    "version": 3
   },
   "file_extension": ".py",
   "mimetype": "text/x-python",
   "name": "python",
   "nbconvert_exporter": "python",
   "pygments_lexer": "ipython3",
   "version": "3.7.6"
  }
 },
 "nbformat": 4,
 "nbformat_minor": 4
}
