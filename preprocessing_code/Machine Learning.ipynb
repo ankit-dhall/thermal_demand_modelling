{
 "cells": [
  {
   "cell_type": "code",
   "execution_count": 18,
   "metadata": {},
   "outputs": [],
   "source": [
    "import pandas as pd\n",
    "import numpy as np\n",
    "from sklearn.model_selection import train_test_split\n",
    "from sklearn.ensemble import RandomForestClassifier\n",
    "from sklearn.metrics import accuracy_score\n",
    "from sklearn.metrics import confusion_matrix\n",
    "import plotly.figure_factory as ff\n",
    "from sklearn.preprocessing import OneHotEncoder, LabelEncoder"
   ]
  },
  {
   "cell_type": "code",
   "execution_count": 19,
   "metadata": {},
   "outputs": [],
   "source": [
    "data = pd.read_csv(\"../preprocessed_data/std_data.csv\")\n",
    "#data.drop(columns = ['Unnamed: 0'], axis = 1, inplace = True)"
   ]
  },
  {
   "cell_type": "code",
   "execution_count": 20,
   "metadata": {},
   "outputs": [
    {
     "data": {
      "text/plain": [
       "Index(['index', 'hour_sin', 'hour_cos', 'month_sin', 'month_cos', 'day_sin',\n",
       "       'day_cos', 'HvacMode', 'Event', 'Schedule', 'T_ctrl', 'T_stp_heat',\n",
       "       'Humidity', 'auxHeat1', 'fan', 'Thermostat_Temperature',\n",
       "       'Thermostat_Motion', 'Remote_Sensor_1_Temperature',\n",
       "       'Remote_Sensor_1_Motion', 'T_out', 'RH_out'],\n",
       "      dtype='object')"
      ]
     },
     "execution_count": 20,
     "metadata": {},
     "output_type": "execute_result"
    }
   ],
   "source": [
    "data.columns"
   ]
  },
  {
   "cell_type": "code",
   "execution_count": 21,
   "metadata": {},
   "outputs": [
    {
     "data": {
      "text/html": [
       "<div>\n",
       "<style scoped>\n",
       "    .dataframe tbody tr th:only-of-type {\n",
       "        vertical-align: middle;\n",
       "    }\n",
       "\n",
       "    .dataframe tbody tr th {\n",
       "        vertical-align: top;\n",
       "    }\n",
       "\n",
       "    .dataframe thead th {\n",
       "        text-align: right;\n",
       "    }\n",
       "</style>\n",
       "<table border=\"1\" class=\"dataframe\">\n",
       "  <thead>\n",
       "    <tr style=\"text-align: right;\">\n",
       "      <th></th>\n",
       "      <th>index</th>\n",
       "      <th>hour_sin</th>\n",
       "      <th>hour_cos</th>\n",
       "      <th>month_sin</th>\n",
       "      <th>month_cos</th>\n",
       "      <th>day_sin</th>\n",
       "      <th>day_cos</th>\n",
       "      <th>HvacMode</th>\n",
       "      <th>Event</th>\n",
       "      <th>Schedule</th>\n",
       "      <th>...</th>\n",
       "      <th>T_stp_heat</th>\n",
       "      <th>Humidity</th>\n",
       "      <th>auxHeat1</th>\n",
       "      <th>fan</th>\n",
       "      <th>Thermostat_Temperature</th>\n",
       "      <th>Thermostat_Motion</th>\n",
       "      <th>Remote_Sensor_1_Temperature</th>\n",
       "      <th>Remote_Sensor_1_Motion</th>\n",
       "      <th>T_out</th>\n",
       "      <th>RH_out</th>\n",
       "    </tr>\n",
       "  </thead>\n",
       "  <tbody>\n",
       "    <tr>\n",
       "      <th>0</th>\n",
       "      <td>0</td>\n",
       "      <td>0.0</td>\n",
       "      <td>1.0</td>\n",
       "      <td>0.0</td>\n",
       "      <td>1.0</td>\n",
       "      <td>0.755303</td>\n",
       "      <td>0.484974</td>\n",
       "      <td>heat</td>\n",
       "      <td>Hold</td>\n",
       "      <td>Sleep</td>\n",
       "      <td>...</td>\n",
       "      <td>0.724774</td>\n",
       "      <td>-0.050114</td>\n",
       "      <td>0</td>\n",
       "      <td>6</td>\n",
       "      <td>0.350982</td>\n",
       "      <td>-0.382706</td>\n",
       "      <td>-0.416649</td>\n",
       "      <td>-0.322967</td>\n",
       "      <td>-0.104028</td>\n",
       "      <td>1.782426</td>\n",
       "    </tr>\n",
       "    <tr>\n",
       "      <th>1</th>\n",
       "      <td>1</td>\n",
       "      <td>0.0</td>\n",
       "      <td>1.0</td>\n",
       "      <td>0.0</td>\n",
       "      <td>1.0</td>\n",
       "      <td>0.755303</td>\n",
       "      <td>0.484974</td>\n",
       "      <td>heat</td>\n",
       "      <td>Hold</td>\n",
       "      <td>Sleep</td>\n",
       "      <td>...</td>\n",
       "      <td>0.724774</td>\n",
       "      <td>-0.050114</td>\n",
       "      <td>1</td>\n",
       "      <td>3</td>\n",
       "      <td>0.350982</td>\n",
       "      <td>-0.382706</td>\n",
       "      <td>-0.416649</td>\n",
       "      <td>-0.322967</td>\n",
       "      <td>-0.104028</td>\n",
       "      <td>1.782426</td>\n",
       "    </tr>\n",
       "    <tr>\n",
       "      <th>2</th>\n",
       "      <td>2</td>\n",
       "      <td>0.0</td>\n",
       "      <td>1.0</td>\n",
       "      <td>0.0</td>\n",
       "      <td>1.0</td>\n",
       "      <td>0.755303</td>\n",
       "      <td>0.484974</td>\n",
       "      <td>heat</td>\n",
       "      <td>Hold</td>\n",
       "      <td>Sleep</td>\n",
       "      <td>...</td>\n",
       "      <td>0.724774</td>\n",
       "      <td>-0.050114</td>\n",
       "      <td>1</td>\n",
       "      <td>16</td>\n",
       "      <td>0.350982</td>\n",
       "      <td>-0.382706</td>\n",
       "      <td>-0.416649</td>\n",
       "      <td>-0.322967</td>\n",
       "      <td>-0.104028</td>\n",
       "      <td>1.782426</td>\n",
       "    </tr>\n",
       "    <tr>\n",
       "      <th>3</th>\n",
       "      <td>3</td>\n",
       "      <td>0.0</td>\n",
       "      <td>1.0</td>\n",
       "      <td>0.0</td>\n",
       "      <td>1.0</td>\n",
       "      <td>0.755303</td>\n",
       "      <td>0.484974</td>\n",
       "      <td>heat</td>\n",
       "      <td>Hold</td>\n",
       "      <td>Sleep</td>\n",
       "      <td>...</td>\n",
       "      <td>0.724774</td>\n",
       "      <td>-0.050114</td>\n",
       "      <td>1</td>\n",
       "      <td>7</td>\n",
       "      <td>0.350982</td>\n",
       "      <td>-0.382706</td>\n",
       "      <td>-0.416649</td>\n",
       "      <td>-0.322967</td>\n",
       "      <td>-0.104028</td>\n",
       "      <td>1.782426</td>\n",
       "    </tr>\n",
       "    <tr>\n",
       "      <th>4</th>\n",
       "      <td>4</td>\n",
       "      <td>0.0</td>\n",
       "      <td>1.0</td>\n",
       "      <td>0.0</td>\n",
       "      <td>1.0</td>\n",
       "      <td>0.755303</td>\n",
       "      <td>0.484974</td>\n",
       "      <td>heat</td>\n",
       "      <td>Hold</td>\n",
       "      <td>Sleep</td>\n",
       "      <td>...</td>\n",
       "      <td>0.724774</td>\n",
       "      <td>-0.050114</td>\n",
       "      <td>0</td>\n",
       "      <td>2</td>\n",
       "      <td>0.350982</td>\n",
       "      <td>-0.382706</td>\n",
       "      <td>-0.416649</td>\n",
       "      <td>-0.322967</td>\n",
       "      <td>-0.104028</td>\n",
       "      <td>1.782426</td>\n",
       "    </tr>\n",
       "  </tbody>\n",
       "</table>\n",
       "<p>5 rows × 21 columns</p>\n",
       "</div>"
      ],
      "text/plain": [
       "   index  hour_sin  hour_cos  month_sin  month_cos   day_sin   day_cos  \\\n",
       "0      0       0.0       1.0        0.0        1.0  0.755303  0.484974   \n",
       "1      1       0.0       1.0        0.0        1.0  0.755303  0.484974   \n",
       "2      2       0.0       1.0        0.0        1.0  0.755303  0.484974   \n",
       "3      3       0.0       1.0        0.0        1.0  0.755303  0.484974   \n",
       "4      4       0.0       1.0        0.0        1.0  0.755303  0.484974   \n",
       "\n",
       "  HvacMode Event Schedule  ...  T_stp_heat  Humidity  auxHeat1  fan  \\\n",
       "0     heat  Hold    Sleep  ...    0.724774 -0.050114         0    6   \n",
       "1     heat  Hold    Sleep  ...    0.724774 -0.050114         1    3   \n",
       "2     heat  Hold    Sleep  ...    0.724774 -0.050114         1   16   \n",
       "3     heat  Hold    Sleep  ...    0.724774 -0.050114         1    7   \n",
       "4     heat  Hold    Sleep  ...    0.724774 -0.050114         0    2   \n",
       "\n",
       "   Thermostat_Temperature  Thermostat_Motion  Remote_Sensor_1_Temperature  \\\n",
       "0                0.350982          -0.382706                    -0.416649   \n",
       "1                0.350982          -0.382706                    -0.416649   \n",
       "2                0.350982          -0.382706                    -0.416649   \n",
       "3                0.350982          -0.382706                    -0.416649   \n",
       "4                0.350982          -0.382706                    -0.416649   \n",
       "\n",
       "   Remote_Sensor_1_Motion     T_out    RH_out  \n",
       "0               -0.322967 -0.104028  1.782426  \n",
       "1               -0.322967 -0.104028  1.782426  \n",
       "2               -0.322967 -0.104028  1.782426  \n",
       "3               -0.322967 -0.104028  1.782426  \n",
       "4               -0.322967 -0.104028  1.782426  \n",
       "\n",
       "[5 rows x 21 columns]"
      ]
     },
     "execution_count": 21,
     "metadata": {},
     "output_type": "execute_result"
    }
   ],
   "source": [
    "data.head()"
   ]
  },
  {
   "cell_type": "code",
   "execution_count": 22,
   "metadata": {},
   "outputs": [
    {
     "data": {
      "text/plain": [
       "0    57149\n",
       "1    22497\n",
       "Name: auxHeat1, dtype: int64"
      ]
     },
     "execution_count": 22,
     "metadata": {},
     "output_type": "execute_result"
    }
   ],
   "source": [
    "data.auxHeat1.value_counts()"
   ]
  },
  {
   "cell_type": "code",
   "execution_count": 23,
   "metadata": {},
   "outputs": [],
   "source": [
    "categorical_vars = ['HvacMode', 'Event', 'Schedule']"
   ]
  },
  {
   "cell_type": "code",
   "execution_count": 25,
   "metadata": {},
   "outputs": [],
   "source": [
    "le = LabelEncoder()\n",
    "data[categorical_vars] = data[categorical_vars].apply(lambda col: le.fit_transform(col))"
   ]
  },
  {
   "cell_type": "code",
   "execution_count": 26,
   "metadata": {},
   "outputs": [
    {
     "data": {
      "text/html": [
       "<div>\n",
       "<style scoped>\n",
       "    .dataframe tbody tr th:only-of-type {\n",
       "        vertical-align: middle;\n",
       "    }\n",
       "\n",
       "    .dataframe tbody tr th {\n",
       "        vertical-align: top;\n",
       "    }\n",
       "\n",
       "    .dataframe thead th {\n",
       "        text-align: right;\n",
       "    }\n",
       "</style>\n",
       "<table border=\"1\" class=\"dataframe\">\n",
       "  <thead>\n",
       "    <tr style=\"text-align: right;\">\n",
       "      <th></th>\n",
       "      <th>index</th>\n",
       "      <th>hour_sin</th>\n",
       "      <th>hour_cos</th>\n",
       "      <th>month_sin</th>\n",
       "      <th>month_cos</th>\n",
       "      <th>day_sin</th>\n",
       "      <th>day_cos</th>\n",
       "      <th>HvacMode</th>\n",
       "      <th>Event</th>\n",
       "      <th>Schedule</th>\n",
       "      <th>...</th>\n",
       "      <th>T_stp_heat</th>\n",
       "      <th>Humidity</th>\n",
       "      <th>auxHeat1</th>\n",
       "      <th>fan</th>\n",
       "      <th>Thermostat_Temperature</th>\n",
       "      <th>Thermostat_Motion</th>\n",
       "      <th>Remote_Sensor_1_Temperature</th>\n",
       "      <th>Remote_Sensor_1_Motion</th>\n",
       "      <th>T_out</th>\n",
       "      <th>RH_out</th>\n",
       "    </tr>\n",
       "  </thead>\n",
       "  <tbody>\n",
       "    <tr>\n",
       "      <th>0</th>\n",
       "      <td>0</td>\n",
       "      <td>0.0</td>\n",
       "      <td>1.0</td>\n",
       "      <td>0.0</td>\n",
       "      <td>1.0</td>\n",
       "      <td>0.755303</td>\n",
       "      <td>0.484974</td>\n",
       "      <td>0</td>\n",
       "      <td>1</td>\n",
       "      <td>2</td>\n",
       "      <td>...</td>\n",
       "      <td>0.724774</td>\n",
       "      <td>-0.050114</td>\n",
       "      <td>0</td>\n",
       "      <td>6</td>\n",
       "      <td>0.350982</td>\n",
       "      <td>-0.382706</td>\n",
       "      <td>-0.416649</td>\n",
       "      <td>-0.322967</td>\n",
       "      <td>-0.104028</td>\n",
       "      <td>1.782426</td>\n",
       "    </tr>\n",
       "    <tr>\n",
       "      <th>1</th>\n",
       "      <td>1</td>\n",
       "      <td>0.0</td>\n",
       "      <td>1.0</td>\n",
       "      <td>0.0</td>\n",
       "      <td>1.0</td>\n",
       "      <td>0.755303</td>\n",
       "      <td>0.484974</td>\n",
       "      <td>0</td>\n",
       "      <td>1</td>\n",
       "      <td>2</td>\n",
       "      <td>...</td>\n",
       "      <td>0.724774</td>\n",
       "      <td>-0.050114</td>\n",
       "      <td>1</td>\n",
       "      <td>3</td>\n",
       "      <td>0.350982</td>\n",
       "      <td>-0.382706</td>\n",
       "      <td>-0.416649</td>\n",
       "      <td>-0.322967</td>\n",
       "      <td>-0.104028</td>\n",
       "      <td>1.782426</td>\n",
       "    </tr>\n",
       "    <tr>\n",
       "      <th>2</th>\n",
       "      <td>2</td>\n",
       "      <td>0.0</td>\n",
       "      <td>1.0</td>\n",
       "      <td>0.0</td>\n",
       "      <td>1.0</td>\n",
       "      <td>0.755303</td>\n",
       "      <td>0.484974</td>\n",
       "      <td>0</td>\n",
       "      <td>1</td>\n",
       "      <td>2</td>\n",
       "      <td>...</td>\n",
       "      <td>0.724774</td>\n",
       "      <td>-0.050114</td>\n",
       "      <td>1</td>\n",
       "      <td>16</td>\n",
       "      <td>0.350982</td>\n",
       "      <td>-0.382706</td>\n",
       "      <td>-0.416649</td>\n",
       "      <td>-0.322967</td>\n",
       "      <td>-0.104028</td>\n",
       "      <td>1.782426</td>\n",
       "    </tr>\n",
       "    <tr>\n",
       "      <th>3</th>\n",
       "      <td>3</td>\n",
       "      <td>0.0</td>\n",
       "      <td>1.0</td>\n",
       "      <td>0.0</td>\n",
       "      <td>1.0</td>\n",
       "      <td>0.755303</td>\n",
       "      <td>0.484974</td>\n",
       "      <td>0</td>\n",
       "      <td>1</td>\n",
       "      <td>2</td>\n",
       "      <td>...</td>\n",
       "      <td>0.724774</td>\n",
       "      <td>-0.050114</td>\n",
       "      <td>1</td>\n",
       "      <td>7</td>\n",
       "      <td>0.350982</td>\n",
       "      <td>-0.382706</td>\n",
       "      <td>-0.416649</td>\n",
       "      <td>-0.322967</td>\n",
       "      <td>-0.104028</td>\n",
       "      <td>1.782426</td>\n",
       "    </tr>\n",
       "    <tr>\n",
       "      <th>4</th>\n",
       "      <td>4</td>\n",
       "      <td>0.0</td>\n",
       "      <td>1.0</td>\n",
       "      <td>0.0</td>\n",
       "      <td>1.0</td>\n",
       "      <td>0.755303</td>\n",
       "      <td>0.484974</td>\n",
       "      <td>0</td>\n",
       "      <td>1</td>\n",
       "      <td>2</td>\n",
       "      <td>...</td>\n",
       "      <td>0.724774</td>\n",
       "      <td>-0.050114</td>\n",
       "      <td>0</td>\n",
       "      <td>2</td>\n",
       "      <td>0.350982</td>\n",
       "      <td>-0.382706</td>\n",
       "      <td>-0.416649</td>\n",
       "      <td>-0.322967</td>\n",
       "      <td>-0.104028</td>\n",
       "      <td>1.782426</td>\n",
       "    </tr>\n",
       "  </tbody>\n",
       "</table>\n",
       "<p>5 rows × 21 columns</p>\n",
       "</div>"
      ],
      "text/plain": [
       "   index  hour_sin  hour_cos  month_sin  month_cos   day_sin   day_cos  \\\n",
       "0      0       0.0       1.0        0.0        1.0  0.755303  0.484974   \n",
       "1      1       0.0       1.0        0.0        1.0  0.755303  0.484974   \n",
       "2      2       0.0       1.0        0.0        1.0  0.755303  0.484974   \n",
       "3      3       0.0       1.0        0.0        1.0  0.755303  0.484974   \n",
       "4      4       0.0       1.0        0.0        1.0  0.755303  0.484974   \n",
       "\n",
       "   HvacMode  Event  Schedule  ...  T_stp_heat  Humidity  auxHeat1  fan  \\\n",
       "0         0      1         2  ...    0.724774 -0.050114         0    6   \n",
       "1         0      1         2  ...    0.724774 -0.050114         1    3   \n",
       "2         0      1         2  ...    0.724774 -0.050114         1   16   \n",
       "3         0      1         2  ...    0.724774 -0.050114         1    7   \n",
       "4         0      1         2  ...    0.724774 -0.050114         0    2   \n",
       "\n",
       "   Thermostat_Temperature  Thermostat_Motion  Remote_Sensor_1_Temperature  \\\n",
       "0                0.350982          -0.382706                    -0.416649   \n",
       "1                0.350982          -0.382706                    -0.416649   \n",
       "2                0.350982          -0.382706                    -0.416649   \n",
       "3                0.350982          -0.382706                    -0.416649   \n",
       "4                0.350982          -0.382706                    -0.416649   \n",
       "\n",
       "   Remote_Sensor_1_Motion     T_out    RH_out  \n",
       "0               -0.322967 -0.104028  1.782426  \n",
       "1               -0.322967 -0.104028  1.782426  \n",
       "2               -0.322967 -0.104028  1.782426  \n",
       "3               -0.322967 -0.104028  1.782426  \n",
       "4               -0.322967 -0.104028  1.782426  \n",
       "\n",
       "[5 rows x 21 columns]"
      ]
     },
     "execution_count": 26,
     "metadata": {},
     "output_type": "execute_result"
    }
   ],
   "source": [
    "data.head()"
   ]
  },
  {
   "cell_type": "code",
   "execution_count": 27,
   "metadata": {},
   "outputs": [],
   "source": [
    "y_fan = data['fan']\n",
    "y_auxHeat = data['auxHeat1']"
   ]
  },
  {
   "cell_type": "code",
   "execution_count": 28,
   "metadata": {},
   "outputs": [],
   "source": [
    "X = data.drop(labels = ['auxHeat1', 'fan'], axis = 1)"
   ]
  },
  {
   "cell_type": "code",
   "execution_count": 29,
   "metadata": {},
   "outputs": [],
   "source": [
    "X_train, X_test, y_train, y_test = train_test_split(X, y_auxHeat, test_size = 0.2)"
   ]
  },
  {
   "cell_type": "code",
   "execution_count": 30,
   "metadata": {},
   "outputs": [],
   "source": [
    "rfc = RandomForestClassifier()"
   ]
  },
  {
   "cell_type": "code",
   "execution_count": 31,
   "metadata": {},
   "outputs": [
    {
     "data": {
      "text/plain": [
       "RandomForestClassifier(bootstrap=True, ccp_alpha=0.0, class_weight=None,\n",
       "                       criterion='gini', max_depth=None, max_features='auto',\n",
       "                       max_leaf_nodes=None, max_samples=None,\n",
       "                       min_impurity_decrease=0.0, min_impurity_split=None,\n",
       "                       min_samples_leaf=1, min_samples_split=2,\n",
       "                       min_weight_fraction_leaf=0.0, n_estimators=100,\n",
       "                       n_jobs=None, oob_score=False, random_state=None,\n",
       "                       verbose=0, warm_start=False)"
      ]
     },
     "execution_count": 31,
     "metadata": {},
     "output_type": "execute_result"
    }
   ],
   "source": [
    "rfc.fit(X_train, y_train)"
   ]
  },
  {
   "cell_type": "code",
   "execution_count": 32,
   "metadata": {},
   "outputs": [],
   "source": [
    "y_predict = rfc.predict(X_test)"
   ]
  },
  {
   "cell_type": "code",
   "execution_count": 33,
   "metadata": {},
   "outputs": [
    {
     "data": {
      "text/plain": [
       "array([0, 0, 0, ..., 0, 0, 1], dtype=int64)"
      ]
     },
     "execution_count": 33,
     "metadata": {},
     "output_type": "execute_result"
    }
   ],
   "source": [
    "y_predict"
   ]
  },
  {
   "cell_type": "code",
   "execution_count": 34,
   "metadata": {},
   "outputs": [],
   "source": [
    "y_test = np.array(y_test)"
   ]
  },
  {
   "cell_type": "code",
   "execution_count": 35,
   "metadata": {},
   "outputs": [
    {
     "data": {
      "text/plain": [
       "array([1, 0, 0, ..., 0, 0, 1], dtype=int64)"
      ]
     },
     "execution_count": 35,
     "metadata": {},
     "output_type": "execute_result"
    }
   ],
   "source": [
    "y_test"
   ]
  },
  {
   "cell_type": "code",
   "execution_count": 36,
   "metadata": {},
   "outputs": [
    {
     "data": {
      "text/plain": [
       "0.8707470182046453"
      ]
     },
     "execution_count": 36,
     "metadata": {},
     "output_type": "execute_result"
    }
   ],
   "source": [
    "accuracy_score(y_test, y_predict)"
   ]
  },
  {
   "cell_type": "code",
   "execution_count": null,
   "metadata": {},
   "outputs": [],
   "source": []
  }
 ],
 "metadata": {
  "kernelspec": {
   "display_name": "Python 3",
   "language": "python",
   "name": "python3"
  },
  "language_info": {
   "codemirror_mode": {
    "name": "ipython",
    "version": 3
   },
   "file_extension": ".py",
   "mimetype": "text/x-python",
   "name": "python",
   "nbconvert_exporter": "python",
   "pygments_lexer": "ipython3",
   "version": "3.7.6"
  }
 },
 "nbformat": 4,
 "nbformat_minor": 4
}
