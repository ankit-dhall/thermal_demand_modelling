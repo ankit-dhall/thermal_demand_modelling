{
 "cells": [
  {
   "cell_type": "code",
   "execution_count": 1,
   "metadata": {},
   "outputs": [],
   "source": [
    "import numpy as np\n",
    "import pandas as pd\n",
    "import os\n",
    "from sklearn.preprocessing import StandardScaler\n",
    "import matplotlib.pyplot as plt\n",
    "import seaborn as sns\n",
    "from sklearn.preprocessing import OneHotEncoder, LabelEncoder, OrdinalEncoder\n",
    "from sklearn.model_selection import train_test_split\n",
    "from pickle import load"
   ]
  },
  {
   "cell_type": "code",
   "execution_count": 2,
   "metadata": {},
   "outputs": [],
   "source": [
    "house_data = pd.read_csv(\"../raw_data/7825967a44e4a03da711c91fd27039101ad8d52f.csv\")"
   ]
  },
  {
   "cell_type": "code",
   "execution_count": 3,
   "metadata": {},
   "outputs": [
    {
     "data": {
      "text/html": [
       "<div>\n",
       "<style scoped>\n",
       "    .dataframe tbody tr th:only-of-type {\n",
       "        vertical-align: middle;\n",
       "    }\n",
       "\n",
       "    .dataframe tbody tr th {\n",
       "        vertical-align: top;\n",
       "    }\n",
       "\n",
       "    .dataframe thead th {\n",
       "        text-align: right;\n",
       "    }\n",
       "</style>\n",
       "<table border=\"1\" class=\"dataframe\">\n",
       "  <thead>\n",
       "    <tr style=\"text-align: right;\">\n",
       "      <th></th>\n",
       "      <th>DateTime</th>\n",
       "      <th>HvacMode</th>\n",
       "      <th>Event</th>\n",
       "      <th>Schedule</th>\n",
       "      <th>T_ctrl</th>\n",
       "      <th>T_stp_cool</th>\n",
       "      <th>T_stp_heat</th>\n",
       "      <th>Humidity</th>\n",
       "      <th>HumidityExpectedLow</th>\n",
       "      <th>HumidityExpectedHigh</th>\n",
       "      <th>...</th>\n",
       "      <th>Remote_Sensor_7_Temperature</th>\n",
       "      <th>Remote_Sensor_7_Motion</th>\n",
       "      <th>Remote_Sensor_8_Temperature</th>\n",
       "      <th>Remote_Sensor_8_Motion</th>\n",
       "      <th>Remote_Sensor_9_Temperature</th>\n",
       "      <th>Remote_Sensor_9_Motion</th>\n",
       "      <th>Remote_Sensor_10_Temperature</th>\n",
       "      <th>Remote_Sensor_10_Motion</th>\n",
       "      <th>T_out</th>\n",
       "      <th>RH_out</th>\n",
       "    </tr>\n",
       "  </thead>\n",
       "  <tbody>\n",
       "    <tr>\n",
       "      <th>0</th>\n",
       "      <td>2019-01-01 00:00:00</td>\n",
       "      <td>heat</td>\n",
       "      <td>NaN</td>\n",
       "      <td>Sleep</td>\n",
       "      <td>74.0</td>\n",
       "      <td>75.0</td>\n",
       "      <td>67.0</td>\n",
       "      <td>35.0</td>\n",
       "      <td>0.0</td>\n",
       "      <td>0.0</td>\n",
       "      <td>...</td>\n",
       "      <td>NaN</td>\n",
       "      <td>NaN</td>\n",
       "      <td>NaN</td>\n",
       "      <td>NaN</td>\n",
       "      <td>NaN</td>\n",
       "      <td>NaN</td>\n",
       "      <td>NaN</td>\n",
       "      <td>NaN</td>\n",
       "      <td>41.0</td>\n",
       "      <td>95.0</td>\n",
       "    </tr>\n",
       "    <tr>\n",
       "      <th>1</th>\n",
       "      <td>2019-01-01 00:05:00</td>\n",
       "      <td>heat</td>\n",
       "      <td>NaN</td>\n",
       "      <td>Sleep</td>\n",
       "      <td>74.0</td>\n",
       "      <td>75.0</td>\n",
       "      <td>67.0</td>\n",
       "      <td>36.0</td>\n",
       "      <td>0.0</td>\n",
       "      <td>0.0</td>\n",
       "      <td>...</td>\n",
       "      <td>NaN</td>\n",
       "      <td>NaN</td>\n",
       "      <td>NaN</td>\n",
       "      <td>NaN</td>\n",
       "      <td>NaN</td>\n",
       "      <td>NaN</td>\n",
       "      <td>NaN</td>\n",
       "      <td>NaN</td>\n",
       "      <td>41.0</td>\n",
       "      <td>95.0</td>\n",
       "    </tr>\n",
       "    <tr>\n",
       "      <th>2</th>\n",
       "      <td>2019-01-01 00:10:00</td>\n",
       "      <td>heat</td>\n",
       "      <td>NaN</td>\n",
       "      <td>Sleep</td>\n",
       "      <td>74.0</td>\n",
       "      <td>75.0</td>\n",
       "      <td>67.0</td>\n",
       "      <td>36.0</td>\n",
       "      <td>0.0</td>\n",
       "      <td>0.0</td>\n",
       "      <td>...</td>\n",
       "      <td>NaN</td>\n",
       "      <td>NaN</td>\n",
       "      <td>NaN</td>\n",
       "      <td>NaN</td>\n",
       "      <td>NaN</td>\n",
       "      <td>NaN</td>\n",
       "      <td>NaN</td>\n",
       "      <td>NaN</td>\n",
       "      <td>41.0</td>\n",
       "      <td>95.0</td>\n",
       "    </tr>\n",
       "    <tr>\n",
       "      <th>3</th>\n",
       "      <td>2019-01-01 00:15:00</td>\n",
       "      <td>heat</td>\n",
       "      <td>NaN</td>\n",
       "      <td>Sleep</td>\n",
       "      <td>74.0</td>\n",
       "      <td>75.0</td>\n",
       "      <td>67.0</td>\n",
       "      <td>36.0</td>\n",
       "      <td>0.0</td>\n",
       "      <td>0.0</td>\n",
       "      <td>...</td>\n",
       "      <td>NaN</td>\n",
       "      <td>NaN</td>\n",
       "      <td>NaN</td>\n",
       "      <td>NaN</td>\n",
       "      <td>NaN</td>\n",
       "      <td>NaN</td>\n",
       "      <td>NaN</td>\n",
       "      <td>NaN</td>\n",
       "      <td>41.0</td>\n",
       "      <td>95.0</td>\n",
       "    </tr>\n",
       "    <tr>\n",
       "      <th>4</th>\n",
       "      <td>2019-01-01 00:20:00</td>\n",
       "      <td>heat</td>\n",
       "      <td>NaN</td>\n",
       "      <td>Sleep</td>\n",
       "      <td>74.0</td>\n",
       "      <td>75.0</td>\n",
       "      <td>67.0</td>\n",
       "      <td>37.0</td>\n",
       "      <td>0.0</td>\n",
       "      <td>0.0</td>\n",
       "      <td>...</td>\n",
       "      <td>NaN</td>\n",
       "      <td>NaN</td>\n",
       "      <td>NaN</td>\n",
       "      <td>NaN</td>\n",
       "      <td>NaN</td>\n",
       "      <td>NaN</td>\n",
       "      <td>NaN</td>\n",
       "      <td>NaN</td>\n",
       "      <td>41.0</td>\n",
       "      <td>95.0</td>\n",
       "    </tr>\n",
       "  </tbody>\n",
       "</table>\n",
       "<p>5 rows × 42 columns</p>\n",
       "</div>"
      ],
      "text/plain": [
       "              DateTime HvacMode Event Schedule  T_ctrl  T_stp_cool  \\\n",
       "0  2019-01-01 00:00:00     heat   NaN    Sleep    74.0        75.0   \n",
       "1  2019-01-01 00:05:00     heat   NaN    Sleep    74.0        75.0   \n",
       "2  2019-01-01 00:10:00     heat   NaN    Sleep    74.0        75.0   \n",
       "3  2019-01-01 00:15:00     heat   NaN    Sleep    74.0        75.0   \n",
       "4  2019-01-01 00:20:00     heat   NaN    Sleep    74.0        75.0   \n",
       "\n",
       "   T_stp_heat  Humidity  HumidityExpectedLow  HumidityExpectedHigh  ...  \\\n",
       "0        67.0      35.0                  0.0                   0.0  ...   \n",
       "1        67.0      36.0                  0.0                   0.0  ...   \n",
       "2        67.0      36.0                  0.0                   0.0  ...   \n",
       "3        67.0      36.0                  0.0                   0.0  ...   \n",
       "4        67.0      37.0                  0.0                   0.0  ...   \n",
       "\n",
       "   Remote_Sensor_7_Temperature  Remote_Sensor_7_Motion  \\\n",
       "0                          NaN                     NaN   \n",
       "1                          NaN                     NaN   \n",
       "2                          NaN                     NaN   \n",
       "3                          NaN                     NaN   \n",
       "4                          NaN                     NaN   \n",
       "\n",
       "   Remote_Sensor_8_Temperature  Remote_Sensor_8_Motion  \\\n",
       "0                          NaN                     NaN   \n",
       "1                          NaN                     NaN   \n",
       "2                          NaN                     NaN   \n",
       "3                          NaN                     NaN   \n",
       "4                          NaN                     NaN   \n",
       "\n",
       "   Remote_Sensor_9_Temperature  Remote_Sensor_9_Motion  \\\n",
       "0                          NaN                     NaN   \n",
       "1                          NaN                     NaN   \n",
       "2                          NaN                     NaN   \n",
       "3                          NaN                     NaN   \n",
       "4                          NaN                     NaN   \n",
       "\n",
       "   Remote_Sensor_10_Temperature  Remote_Sensor_10_Motion  T_out  RH_out  \n",
       "0                           NaN                      NaN   41.0    95.0  \n",
       "1                           NaN                      NaN   41.0    95.0  \n",
       "2                           NaN                      NaN   41.0    95.0  \n",
       "3                           NaN                      NaN   41.0    95.0  \n",
       "4                           NaN                      NaN   41.0    95.0  \n",
       "\n",
       "[5 rows x 42 columns]"
      ]
     },
     "execution_count": 3,
     "metadata": {},
     "output_type": "execute_result"
    }
   ],
   "source": [
    "house_data.head()"
   ]
  },
  {
   "cell_type": "code",
   "execution_count": 4,
   "metadata": {},
   "outputs": [
    {
     "data": {
      "text/plain": [
       "DateTime                         object\n",
       "HvacMode                         object\n",
       "Event                            object\n",
       "Schedule                         object\n",
       "T_ctrl                          float64\n",
       "T_stp_cool                      float64\n",
       "T_stp_heat                      float64\n",
       "Humidity                        float64\n",
       "HumidityExpectedLow             float64\n",
       "HumidityExpectedHigh            float64\n",
       "auxHeat1                        float64\n",
       "auxHeat2                        float64\n",
       "auxHeat3                        float64\n",
       "compCool1                       float64\n",
       "compCool2                       float64\n",
       "compHeat1                       float64\n",
       "compHeat2                       float64\n",
       "fan                             float64\n",
       "Thermostat_Temperature          float64\n",
       "Thermostat_Motion               float64\n",
       "Remote_Sensor_1_Temperature     float64\n",
       "Remote_Sensor_1_Motion          float64\n",
       "Remote_Sensor_2_Temperature     float64\n",
       "Remote_Sensor_2_Motion          float64\n",
       "Remote_Sensor_3_Temperature     float64\n",
       "Remote_Sensor_3_Motion          float64\n",
       "Remote_Sensor_4_Temperature     float64\n",
       "Remote_Sensor_4_Motion          float64\n",
       "Remote_Sensor_5_Temperature     float64\n",
       "Remote_Sensor_5_Motion          float64\n",
       "Remote_Sensor_6_Temperature     float64\n",
       "Remote_Sensor_6_Motion          float64\n",
       "Remote_Sensor_7_Temperature     float64\n",
       "Remote_Sensor_7_Motion          float64\n",
       "Remote_Sensor_8_Temperature     float64\n",
       "Remote_Sensor_8_Motion          float64\n",
       "Remote_Sensor_9_Temperature     float64\n",
       "Remote_Sensor_9_Motion          float64\n",
       "Remote_Sensor_10_Temperature    float64\n",
       "Remote_Sensor_10_Motion         float64\n",
       "T_out                           float64\n",
       "RH_out                          float64\n",
       "dtype: object"
      ]
     },
     "execution_count": 4,
     "metadata": {},
     "output_type": "execute_result"
    }
   ],
   "source": [
    "house_data.dtypes"
   ]
  },
  {
   "cell_type": "code",
   "execution_count": 5,
   "metadata": {},
   "outputs": [
    {
     "data": {
      "text/plain": [
       "(104544, 42)"
      ]
     },
     "execution_count": 5,
     "metadata": {},
     "output_type": "execute_result"
    }
   ],
   "source": [
    "house_data.shape"
   ]
  },
  {
   "cell_type": "code",
   "execution_count": 6,
   "metadata": {},
   "outputs": [
    {
     "data": {
      "text/plain": [
       "DateTime                             0\n",
       "HvacMode                          2626\n",
       "Event                            90509\n",
       "Schedule                          2626\n",
       "T_ctrl                            2626\n",
       "T_stp_cool                        2626\n",
       "T_stp_heat                        2626\n",
       "Humidity                          2626\n",
       "HumidityExpectedLow               2626\n",
       "HumidityExpectedHigh              2626\n",
       "auxHeat1                          2623\n",
       "auxHeat2                          2623\n",
       "auxHeat3                          2623\n",
       "compCool1                         2623\n",
       "compCool2                         2623\n",
       "compHeat1                         2623\n",
       "compHeat2                         2623\n",
       "fan                               2623\n",
       "Thermostat_Temperature            2614\n",
       "Thermostat_Motion               104544\n",
       "Remote_Sensor_1_Temperature     104544\n",
       "Remote_Sensor_1_Motion          104544\n",
       "Remote_Sensor_2_Temperature     104544\n",
       "Remote_Sensor_2_Motion          104544\n",
       "Remote_Sensor_3_Temperature     104544\n",
       "Remote_Sensor_3_Motion          104544\n",
       "Remote_Sensor_4_Temperature     104544\n",
       "Remote_Sensor_4_Motion          104544\n",
       "Remote_Sensor_5_Temperature     104544\n",
       "Remote_Sensor_5_Motion          104544\n",
       "Remote_Sensor_6_Temperature     104544\n",
       "Remote_Sensor_6_Motion          104544\n",
       "Remote_Sensor_7_Temperature     104544\n",
       "Remote_Sensor_7_Motion          104544\n",
       "Remote_Sensor_8_Temperature     104544\n",
       "Remote_Sensor_8_Motion          104544\n",
       "Remote_Sensor_9_Temperature     104544\n",
       "Remote_Sensor_9_Motion          104544\n",
       "Remote_Sensor_10_Temperature    104544\n",
       "Remote_Sensor_10_Motion         104544\n",
       "T_out                             1152\n",
       "RH_out                            1152\n",
       "dtype: int64"
      ]
     },
     "execution_count": 6,
     "metadata": {},
     "output_type": "execute_result"
    }
   ],
   "source": [
    "house_data.isnull().sum()"
   ]
  },
  {
   "cell_type": "markdown",
   "metadata": {},
   "source": [
    "### Drop All Columns with No Data"
   ]
  },
  {
   "cell_type": "code",
   "execution_count": 7,
   "metadata": {},
   "outputs": [],
   "source": [
    "house_data = house_data.drop(labels = ['Remote_Sensor_1_Temperature', 'Remote_Sensor_1_Motion', 'Remote_Sensor_2_Temperature', 'Remote_Sensor_2_Motion', 'Remote_Sensor_3_Temperature', 'Remote_Sensor_3_Motion', 'Remote_Sensor_4_Temperature', 'Remote_Sensor_4_Motion', 'Remote_Sensor_5_Temperature', 'Remote_Sensor_5_Motion', 'Remote_Sensor_6_Temperature', 'Remote_Sensor_6_Motion', 'Remote_Sensor_7_Temperature', 'Remote_Sensor_7_Motion', 'Remote_Sensor_8_Temperature', 'Remote_Sensor_8_Motion', 'Remote_Sensor_9_Temperature', 'Remote_Sensor_9_Motion', 'Remote_Sensor_10_Temperature', 'Remote_Sensor_10_Motion'], axis = 1)"
   ]
  },
  {
   "cell_type": "code",
   "execution_count": 8,
   "metadata": {},
   "outputs": [],
   "source": [
    "house_data = house_data.drop(labels = ['auxHeat2', 'auxHeat3', 'compHeat1', 'compCool2', 'compHeat2'], axis = 1)"
   ]
  },
  {
   "cell_type": "code",
   "execution_count": 9,
   "metadata": {},
   "outputs": [],
   "source": [
    "house_data = house_data.drop(labels = ['HumidityExpectedLow', 'HumidityExpectedHigh'], axis = 1)"
   ]
  },
  {
   "cell_type": "code",
   "execution_count": 10,
   "metadata": {},
   "outputs": [],
   "source": [
    "house_data.drop(labels = ['Thermostat_Motion'], axis = 1, inplace = True)"
   ]
  },
  {
   "cell_type": "code",
   "execution_count": 11,
   "metadata": {},
   "outputs": [
    {
     "data": {
      "text/plain": [
       "heat    60676\n",
       "cool    25485\n",
       "off     15757\n",
       "Name: HvacMode, dtype: int64"
      ]
     },
     "execution_count": 11,
     "metadata": {},
     "output_type": "execute_result"
    }
   ],
   "source": [
    "house_data.HvacMode.value_counts()"
   ]
  },
  {
   "cell_type": "code",
   "execution_count": 12,
   "metadata": {},
   "outputs": [
    {
     "data": {
      "text/plain": [
       "(104544, 14)"
      ]
     },
     "execution_count": 12,
     "metadata": {},
     "output_type": "execute_result"
    }
   ],
   "source": [
    "house_data.shape"
   ]
  },
  {
   "cell_type": "code",
   "execution_count": 13,
   "metadata": {},
   "outputs": [
    {
     "data": {
      "text/html": [
       "<div>\n",
       "<style scoped>\n",
       "    .dataframe tbody tr th:only-of-type {\n",
       "        vertical-align: middle;\n",
       "    }\n",
       "\n",
       "    .dataframe tbody tr th {\n",
       "        vertical-align: top;\n",
       "    }\n",
       "\n",
       "    .dataframe thead th {\n",
       "        text-align: right;\n",
       "    }\n",
       "</style>\n",
       "<table border=\"1\" class=\"dataframe\">\n",
       "  <thead>\n",
       "    <tr style=\"text-align: right;\">\n",
       "      <th></th>\n",
       "      <th>DateTime</th>\n",
       "      <th>HvacMode</th>\n",
       "      <th>Event</th>\n",
       "      <th>Schedule</th>\n",
       "      <th>T_ctrl</th>\n",
       "      <th>T_stp_cool</th>\n",
       "      <th>T_stp_heat</th>\n",
       "      <th>Humidity</th>\n",
       "      <th>auxHeat1</th>\n",
       "      <th>compCool1</th>\n",
       "      <th>fan</th>\n",
       "      <th>Thermostat_Temperature</th>\n",
       "      <th>T_out</th>\n",
       "      <th>RH_out</th>\n",
       "    </tr>\n",
       "  </thead>\n",
       "  <tbody>\n",
       "    <tr>\n",
       "      <th>0</th>\n",
       "      <td>2019-01-01 00:00:00</td>\n",
       "      <td>heat</td>\n",
       "      <td>NaN</td>\n",
       "      <td>Sleep</td>\n",
       "      <td>74.0</td>\n",
       "      <td>75.0</td>\n",
       "      <td>67.0</td>\n",
       "      <td>35.0</td>\n",
       "      <td>0.0</td>\n",
       "      <td>0.0</td>\n",
       "      <td>0.0</td>\n",
       "      <td>74.0</td>\n",
       "      <td>41.0</td>\n",
       "      <td>95.0</td>\n",
       "    </tr>\n",
       "    <tr>\n",
       "      <th>1</th>\n",
       "      <td>2019-01-01 00:05:00</td>\n",
       "      <td>heat</td>\n",
       "      <td>NaN</td>\n",
       "      <td>Sleep</td>\n",
       "      <td>74.0</td>\n",
       "      <td>75.0</td>\n",
       "      <td>67.0</td>\n",
       "      <td>36.0</td>\n",
       "      <td>0.0</td>\n",
       "      <td>0.0</td>\n",
       "      <td>0.0</td>\n",
       "      <td>74.0</td>\n",
       "      <td>41.0</td>\n",
       "      <td>95.0</td>\n",
       "    </tr>\n",
       "    <tr>\n",
       "      <th>2</th>\n",
       "      <td>2019-01-01 00:10:00</td>\n",
       "      <td>heat</td>\n",
       "      <td>NaN</td>\n",
       "      <td>Sleep</td>\n",
       "      <td>74.0</td>\n",
       "      <td>75.0</td>\n",
       "      <td>67.0</td>\n",
       "      <td>36.0</td>\n",
       "      <td>0.0</td>\n",
       "      <td>0.0</td>\n",
       "      <td>0.0</td>\n",
       "      <td>74.0</td>\n",
       "      <td>41.0</td>\n",
       "      <td>95.0</td>\n",
       "    </tr>\n",
       "    <tr>\n",
       "      <th>3</th>\n",
       "      <td>2019-01-01 00:15:00</td>\n",
       "      <td>heat</td>\n",
       "      <td>NaN</td>\n",
       "      <td>Sleep</td>\n",
       "      <td>74.0</td>\n",
       "      <td>75.0</td>\n",
       "      <td>67.0</td>\n",
       "      <td>36.0</td>\n",
       "      <td>0.0</td>\n",
       "      <td>0.0</td>\n",
       "      <td>60.0</td>\n",
       "      <td>74.0</td>\n",
       "      <td>41.0</td>\n",
       "      <td>95.0</td>\n",
       "    </tr>\n",
       "    <tr>\n",
       "      <th>4</th>\n",
       "      <td>2019-01-01 00:20:00</td>\n",
       "      <td>heat</td>\n",
       "      <td>NaN</td>\n",
       "      <td>Sleep</td>\n",
       "      <td>74.0</td>\n",
       "      <td>75.0</td>\n",
       "      <td>67.0</td>\n",
       "      <td>37.0</td>\n",
       "      <td>0.0</td>\n",
       "      <td>0.0</td>\n",
       "      <td>300.0</td>\n",
       "      <td>74.0</td>\n",
       "      <td>41.0</td>\n",
       "      <td>95.0</td>\n",
       "    </tr>\n",
       "  </tbody>\n",
       "</table>\n",
       "</div>"
      ],
      "text/plain": [
       "              DateTime HvacMode Event Schedule  T_ctrl  T_stp_cool  \\\n",
       "0  2019-01-01 00:00:00     heat   NaN    Sleep    74.0        75.0   \n",
       "1  2019-01-01 00:05:00     heat   NaN    Sleep    74.0        75.0   \n",
       "2  2019-01-01 00:10:00     heat   NaN    Sleep    74.0        75.0   \n",
       "3  2019-01-01 00:15:00     heat   NaN    Sleep    74.0        75.0   \n",
       "4  2019-01-01 00:20:00     heat   NaN    Sleep    74.0        75.0   \n",
       "\n",
       "   T_stp_heat  Humidity  auxHeat1  compCool1    fan  Thermostat_Temperature  \\\n",
       "0        67.0      35.0       0.0        0.0    0.0                    74.0   \n",
       "1        67.0      36.0       0.0        0.0    0.0                    74.0   \n",
       "2        67.0      36.0       0.0        0.0    0.0                    74.0   \n",
       "3        67.0      36.0       0.0        0.0   60.0                    74.0   \n",
       "4        67.0      37.0       0.0        0.0  300.0                    74.0   \n",
       "\n",
       "   T_out  RH_out  \n",
       "0   41.0    95.0  \n",
       "1   41.0    95.0  \n",
       "2   41.0    95.0  \n",
       "3   41.0    95.0  \n",
       "4   41.0    95.0  "
      ]
     },
     "execution_count": 13,
     "metadata": {},
     "output_type": "execute_result"
    }
   ],
   "source": [
    "house_data.head()"
   ]
  },
  {
   "cell_type": "code",
   "execution_count": 14,
   "metadata": {},
   "outputs": [
    {
     "data": {
      "text/plain": [
       "DateTime                      0\n",
       "HvacMode                   2626\n",
       "Event                     90509\n",
       "Schedule                   2626\n",
       "T_ctrl                     2626\n",
       "T_stp_cool                 2626\n",
       "T_stp_heat                 2626\n",
       "Humidity                   2626\n",
       "auxHeat1                   2623\n",
       "compCool1                  2623\n",
       "fan                        2623\n",
       "Thermostat_Temperature     2614\n",
       "T_out                      1152\n",
       "RH_out                     1152\n",
       "dtype: int64"
      ]
     },
     "execution_count": 14,
     "metadata": {},
     "output_type": "execute_result"
    }
   ],
   "source": [
    "house_data.isnull().sum()"
   ]
  },
  {
   "cell_type": "markdown",
   "metadata": {},
   "source": [
    "### Drop All Rows with NaN Values"
   ]
  },
  {
   "cell_type": "code",
   "execution_count": 15,
   "metadata": {},
   "outputs": [],
   "source": [
    "null_list = house_data[house_data['auxHeat1'].isnull()].index.tolist()"
   ]
  },
  {
   "cell_type": "code",
   "execution_count": 16,
   "metadata": {},
   "outputs": [],
   "source": [
    "house_data = house_data.drop(null_list)"
   ]
  },
  {
   "cell_type": "code",
   "execution_count": 17,
   "metadata": {},
   "outputs": [
    {
     "data": {
      "text/plain": [
       "DateTime                      0\n",
       "HvacMode                      9\n",
       "Event                     87886\n",
       "Schedule                      9\n",
       "T_ctrl                        9\n",
       "T_stp_cool                    9\n",
       "T_stp_heat                    9\n",
       "Humidity                      9\n",
       "auxHeat1                      0\n",
       "compCool1                     0\n",
       "fan                           0\n",
       "Thermostat_Temperature        0\n",
       "T_out                      1138\n",
       "RH_out                     1138\n",
       "dtype: int64"
      ]
     },
     "execution_count": 17,
     "metadata": {},
     "output_type": "execute_result"
    }
   ],
   "source": [
    "house_data.isnull().sum()"
   ]
  },
  {
   "cell_type": "code",
   "execution_count": 18,
   "metadata": {},
   "outputs": [],
   "source": [
    "null_list = house_data[house_data['HvacMode'].isnull()].index.tolist()"
   ]
  },
  {
   "cell_type": "code",
   "execution_count": 19,
   "metadata": {},
   "outputs": [],
   "source": [
    "house_data = house_data.drop(null_list)"
   ]
  },
  {
   "cell_type": "code",
   "execution_count": 20,
   "metadata": {},
   "outputs": [
    {
     "data": {
      "text/plain": [
       "DateTime                      0\n",
       "HvacMode                      0\n",
       "Event                     87877\n",
       "Schedule                      0\n",
       "T_ctrl                        0\n",
       "T_stp_cool                    0\n",
       "T_stp_heat                    0\n",
       "Humidity                      0\n",
       "auxHeat1                      0\n",
       "compCool1                     0\n",
       "fan                           0\n",
       "Thermostat_Temperature        0\n",
       "T_out                      1138\n",
       "RH_out                     1138\n",
       "dtype: int64"
      ]
     },
     "execution_count": 20,
     "metadata": {},
     "output_type": "execute_result"
    }
   ],
   "source": [
    "house_data.isnull().sum()"
   ]
  },
  {
   "cell_type": "markdown",
   "metadata": {},
   "source": [
    "### Drop All Rows with Missing T_out Values"
   ]
  },
  {
   "cell_type": "code",
   "execution_count": 21,
   "metadata": {},
   "outputs": [],
   "source": [
    "null_list = house_data[house_data['T_out'].isnull()].index.tolist()"
   ]
  },
  {
   "cell_type": "code",
   "execution_count": 22,
   "metadata": {},
   "outputs": [],
   "source": [
    "house_data = house_data.drop(null_list)"
   ]
  },
  {
   "cell_type": "code",
   "execution_count": 23,
   "metadata": {},
   "outputs": [
    {
     "data": {
      "text/plain": [
       "DateTime                      0\n",
       "HvacMode                      0\n",
       "Event                     86897\n",
       "Schedule                      0\n",
       "T_ctrl                        0\n",
       "T_stp_cool                    0\n",
       "T_stp_heat                    0\n",
       "Humidity                      0\n",
       "auxHeat1                      0\n",
       "compCool1                     0\n",
       "fan                           0\n",
       "Thermostat_Temperature        0\n",
       "T_out                         0\n",
       "RH_out                        0\n",
       "dtype: int64"
      ]
     },
     "execution_count": 23,
     "metadata": {},
     "output_type": "execute_result"
    }
   ],
   "source": [
    "house_data.isnull().sum()"
   ]
  },
  {
   "cell_type": "code",
   "execution_count": 24,
   "metadata": {},
   "outputs": [],
   "source": [
    "null_list = house_data[house_data['Thermostat_Temperature'].isnull()].index.tolist()"
   ]
  },
  {
   "cell_type": "code",
   "execution_count": 25,
   "metadata": {},
   "outputs": [],
   "source": [
    "house_data = house_data.drop(null_list)"
   ]
  },
  {
   "cell_type": "code",
   "execution_count": 26,
   "metadata": {},
   "outputs": [
    {
     "data": {
      "text/plain": [
       "DateTime                      0\n",
       "HvacMode                      0\n",
       "Event                     86897\n",
       "Schedule                      0\n",
       "T_ctrl                        0\n",
       "T_stp_cool                    0\n",
       "T_stp_heat                    0\n",
       "Humidity                      0\n",
       "auxHeat1                      0\n",
       "compCool1                     0\n",
       "fan                           0\n",
       "Thermostat_Temperature        0\n",
       "T_out                         0\n",
       "RH_out                        0\n",
       "dtype: int64"
      ]
     },
     "execution_count": 26,
     "metadata": {},
     "output_type": "execute_result"
    }
   ],
   "source": [
    "house_data.isnull().sum()"
   ]
  },
  {
   "cell_type": "markdown",
   "metadata": {},
   "source": [
    "### Rename Null Values in 'Event' to - None"
   ]
  },
  {
   "cell_type": "code",
   "execution_count": 27,
   "metadata": {},
   "outputs": [],
   "source": [
    "house_data[\"Event\"].fillna(\"None\", inplace = True)"
   ]
  },
  {
   "cell_type": "code",
   "execution_count": 28,
   "metadata": {},
   "outputs": [
    {
     "data": {
      "text/plain": [
       "DateTime                  0\n",
       "HvacMode                  0\n",
       "Event                     0\n",
       "Schedule                  0\n",
       "T_ctrl                    0\n",
       "T_stp_cool                0\n",
       "T_stp_heat                0\n",
       "Humidity                  0\n",
       "auxHeat1                  0\n",
       "compCool1                 0\n",
       "fan                       0\n",
       "Thermostat_Temperature    0\n",
       "T_out                     0\n",
       "RH_out                    0\n",
       "dtype: int64"
      ]
     },
     "execution_count": 28,
     "metadata": {},
     "output_type": "execute_result"
    }
   ],
   "source": [
    "house_data.isnull().sum()"
   ]
  },
  {
   "cell_type": "code",
   "execution_count": 29,
   "metadata": {},
   "outputs": [],
   "source": [
    "null_list = house_data[house_data['T_stp_heat'].isnull()].index.tolist()"
   ]
  },
  {
   "cell_type": "code",
   "execution_count": 30,
   "metadata": {},
   "outputs": [],
   "source": [
    "house_data = house_data.drop(null_list)"
   ]
  },
  {
   "cell_type": "code",
   "execution_count": 31,
   "metadata": {},
   "outputs": [
    {
     "data": {
      "text/plain": [
       "DateTime                  0\n",
       "HvacMode                  0\n",
       "Event                     0\n",
       "Schedule                  0\n",
       "T_ctrl                    0\n",
       "T_stp_cool                0\n",
       "T_stp_heat                0\n",
       "Humidity                  0\n",
       "auxHeat1                  0\n",
       "compCool1                 0\n",
       "fan                       0\n",
       "Thermostat_Temperature    0\n",
       "T_out                     0\n",
       "RH_out                    0\n",
       "dtype: int64"
      ]
     },
     "execution_count": 31,
     "metadata": {},
     "output_type": "execute_result"
    }
   ],
   "source": [
    "house_data.isnull().sum()"
   ]
  },
  {
   "cell_type": "markdown",
   "metadata": {},
   "source": [
    "### Drop All Rows Where HVAC Mode is 'Cool' & 'Auto' (Summer Months)"
   ]
  },
  {
   "cell_type": "code",
   "execution_count": 32,
   "metadata": {},
   "outputs": [],
   "source": [
    "cool_list = house_data[house_data['HvacMode'] == 'cool'].index.tolist()"
   ]
  },
  {
   "cell_type": "code",
   "execution_count": 33,
   "metadata": {},
   "outputs": [
    {
     "data": {
      "text/plain": [
       "(100774, 14)"
      ]
     },
     "execution_count": 33,
     "metadata": {},
     "output_type": "execute_result"
    }
   ],
   "source": [
    "house_data.shape"
   ]
  },
  {
   "cell_type": "code",
   "execution_count": 34,
   "metadata": {},
   "outputs": [
    {
     "data": {
      "text/plain": [
       "25449"
      ]
     },
     "execution_count": 34,
     "metadata": {},
     "output_type": "execute_result"
    }
   ],
   "source": [
    "len(cool_list)"
   ]
  },
  {
   "cell_type": "code",
   "execution_count": 35,
   "metadata": {},
   "outputs": [],
   "source": [
    "house_data = house_data.drop(cool_list)"
   ]
  },
  {
   "cell_type": "code",
   "execution_count": 36,
   "metadata": {},
   "outputs": [],
   "source": [
    "auto_list = house_data[house_data['HvacMode'] == 'auto'].index.tolist()"
   ]
  },
  {
   "cell_type": "code",
   "execution_count": 37,
   "metadata": {},
   "outputs": [],
   "source": [
    "house_data = house_data.drop(auto_list)"
   ]
  },
  {
   "cell_type": "code",
   "execution_count": 38,
   "metadata": {},
   "outputs": [
    {
     "data": {
      "text/plain": [
       "(75325, 14)"
      ]
     },
     "execution_count": 38,
     "metadata": {},
     "output_type": "execute_result"
    }
   ],
   "source": [
    "house_data.shape"
   ]
  },
  {
   "cell_type": "code",
   "execution_count": 39,
   "metadata": {},
   "outputs": [],
   "source": [
    "off_list = house_data[house_data['HvacMode'] == 'off'].index.tolist()"
   ]
  },
  {
   "cell_type": "code",
   "execution_count": 40,
   "metadata": {},
   "outputs": [],
   "source": [
    "house_data = house_data.drop(off_list)"
   ]
  },
  {
   "cell_type": "code",
   "execution_count": 41,
   "metadata": {},
   "outputs": [
    {
     "data": {
      "text/plain": [
       "(59604, 14)"
      ]
     },
     "execution_count": 41,
     "metadata": {},
     "output_type": "execute_result"
    }
   ],
   "source": [
    "house_data.shape"
   ]
  },
  {
   "cell_type": "markdown",
   "metadata": {},
   "source": [
    "### Drop Cooling Source Column"
   ]
  },
  {
   "cell_type": "code",
   "execution_count": 42,
   "metadata": {},
   "outputs": [],
   "source": [
    "house_data = house_data.drop(labels = ['compCool1', 'T_stp_cool'], axis = 1)"
   ]
  },
  {
   "cell_type": "code",
   "execution_count": 43,
   "metadata": {},
   "outputs": [
    {
     "data": {
      "text/plain": [
       "DateTime                  0\n",
       "HvacMode                  0\n",
       "Event                     0\n",
       "Schedule                  0\n",
       "T_ctrl                    0\n",
       "T_stp_heat                0\n",
       "Humidity                  0\n",
       "auxHeat1                  0\n",
       "fan                       0\n",
       "Thermostat_Temperature    0\n",
       "T_out                     0\n",
       "RH_out                    0\n",
       "dtype: int64"
      ]
     },
     "execution_count": 43,
     "metadata": {},
     "output_type": "execute_result"
    }
   ],
   "source": [
    "house_data.isnull().sum()"
   ]
  },
  {
   "cell_type": "code",
   "execution_count": 44,
   "metadata": {},
   "outputs": [],
   "source": [
    "null_list = house_data[house_data['T_stp_heat'].isnull()].index.tolist()"
   ]
  },
  {
   "cell_type": "code",
   "execution_count": 45,
   "metadata": {},
   "outputs": [],
   "source": [
    "house_data = house_data.drop(null_list)"
   ]
  },
  {
   "cell_type": "code",
   "execution_count": 46,
   "metadata": {},
   "outputs": [
    {
     "data": {
      "text/plain": [
       "DateTime                  0\n",
       "HvacMode                  0\n",
       "Event                     0\n",
       "Schedule                  0\n",
       "T_ctrl                    0\n",
       "T_stp_heat                0\n",
       "Humidity                  0\n",
       "auxHeat1                  0\n",
       "fan                       0\n",
       "Thermostat_Temperature    0\n",
       "T_out                     0\n",
       "RH_out                    0\n",
       "dtype: int64"
      ]
     },
     "execution_count": 46,
     "metadata": {},
     "output_type": "execute_result"
    }
   ],
   "source": [
    "house_data.isnull().sum()"
   ]
  },
  {
   "cell_type": "markdown",
   "metadata": {},
   "source": [
    "### DateTime Manipulation"
   ]
  },
  {
   "cell_type": "code",
   "execution_count": 47,
   "metadata": {},
   "outputs": [
    {
     "data": {
      "text/plain": [
       "dtype('O')"
      ]
     },
     "execution_count": 47,
     "metadata": {},
     "output_type": "execute_result"
    }
   ],
   "source": [
    "house_data.DateTime.dtype"
   ]
  },
  {
   "cell_type": "code",
   "execution_count": 48,
   "metadata": {},
   "outputs": [],
   "source": [
    "house_data['DateTime'] = pd.to_datetime(house_data['DateTime'])"
   ]
  },
  {
   "cell_type": "code",
   "execution_count": 49,
   "metadata": {},
   "outputs": [
    {
     "data": {
      "text/plain": [
       "0        2019-01-01 00:00:00\n",
       "1        2019-01-01 00:05:00\n",
       "2        2019-01-01 00:10:00\n",
       "3        2019-01-01 00:15:00\n",
       "4        2019-01-01 00:20:00\n",
       "                 ...        \n",
       "104539   2019-12-31 23:35:00\n",
       "104540   2019-12-31 23:40:00\n",
       "104541   2019-12-31 23:45:00\n",
       "104542   2019-12-31 23:50:00\n",
       "104543   2019-12-31 23:55:00\n",
       "Name: DateTime, Length: 59604, dtype: datetime64[ns]"
      ]
     },
     "execution_count": 49,
     "metadata": {},
     "output_type": "execute_result"
    }
   ],
   "source": [
    "house_data.DateTime"
   ]
  },
  {
   "cell_type": "code",
   "execution_count": 50,
   "metadata": {},
   "outputs": [],
   "source": [
    "house_data['Month'] = pd.DatetimeIndex(house_data['DateTime']).month"
   ]
  },
  {
   "cell_type": "code",
   "execution_count": 51,
   "metadata": {},
   "outputs": [],
   "source": [
    "weekDays = [\"Monday\", \"Tuesday\", \"Wednesday\", \"Thursday\", \"Friday\", \"Saturday\", \"Sunday\"]"
   ]
  },
  {
   "cell_type": "code",
   "execution_count": 52,
   "metadata": {},
   "outputs": [],
   "source": [
    "house_data['DayOfWeek'] = pd.DatetimeIndex(house_data['DateTime']).dayofweek"
   ]
  },
  {
   "cell_type": "code",
   "execution_count": 53,
   "metadata": {},
   "outputs": [],
   "source": [
    "house_data['HourofDay'] = pd.DatetimeIndex(house_data['DateTime']).hour"
   ]
  },
  {
   "cell_type": "code",
   "execution_count": 54,
   "metadata": {},
   "outputs": [
    {
     "data": {
      "text/plain": [
       "Index(['DateTime', 'HvacMode', 'Event', 'Schedule', 'T_ctrl', 'T_stp_heat',\n",
       "       'Humidity', 'auxHeat1', 'fan', 'Thermostat_Temperature', 'T_out',\n",
       "       'RH_out', 'Month', 'DayOfWeek', 'HourofDay'],\n",
       "      dtype='object')"
      ]
     },
     "execution_count": 54,
     "metadata": {},
     "output_type": "execute_result"
    }
   ],
   "source": [
    "house_data.columns"
   ]
  },
  {
   "cell_type": "code",
   "execution_count": 55,
   "metadata": {},
   "outputs": [
    {
     "name": "stdout",
     "output_type": "stream",
     "text": [
      "['DateTime', 'HvacMode', 'Event', 'Schedule', 'T_ctrl', 'T_stp_heat', 'Humidity', 'auxHeat1', 'fan', 'Thermostat_Temperature', 'T_out', 'RH_out', 'Month', 'DayOfWeek', 'HourofDay']\n"
     ]
    }
   ],
   "source": [
    "cols = house_data.columns.tolist()\n",
    "print(cols)"
   ]
  },
  {
   "cell_type": "code",
   "execution_count": 56,
   "metadata": {},
   "outputs": [
    {
     "name": "stdout",
     "output_type": "stream",
     "text": [
      "['Month', 'DayOfWeek', 'HourofDay', 'DateTime', 'HvacMode', 'Event', 'Schedule', 'T_ctrl', 'T_stp_heat', 'Humidity', 'auxHeat1', 'fan', 'Thermostat_Temperature', 'T_out', 'RH_out']\n"
     ]
    }
   ],
   "source": [
    "cols = cols[-3:] + cols[:-3]\n",
    "print(cols)"
   ]
  },
  {
   "cell_type": "code",
   "execution_count": 57,
   "metadata": {},
   "outputs": [],
   "source": [
    "house_data = house_data[cols]"
   ]
  },
  {
   "cell_type": "code",
   "execution_count": 58,
   "metadata": {},
   "outputs": [
    {
     "data": {
      "text/html": [
       "<div>\n",
       "<style scoped>\n",
       "    .dataframe tbody tr th:only-of-type {\n",
       "        vertical-align: middle;\n",
       "    }\n",
       "\n",
       "    .dataframe tbody tr th {\n",
       "        vertical-align: top;\n",
       "    }\n",
       "\n",
       "    .dataframe thead th {\n",
       "        text-align: right;\n",
       "    }\n",
       "</style>\n",
       "<table border=\"1\" class=\"dataframe\">\n",
       "  <thead>\n",
       "    <tr style=\"text-align: right;\">\n",
       "      <th></th>\n",
       "      <th>Month</th>\n",
       "      <th>DayOfWeek</th>\n",
       "      <th>HourofDay</th>\n",
       "      <th>DateTime</th>\n",
       "      <th>HvacMode</th>\n",
       "      <th>Event</th>\n",
       "      <th>Schedule</th>\n",
       "      <th>T_ctrl</th>\n",
       "      <th>T_stp_heat</th>\n",
       "      <th>Humidity</th>\n",
       "      <th>auxHeat1</th>\n",
       "      <th>fan</th>\n",
       "      <th>Thermostat_Temperature</th>\n",
       "      <th>T_out</th>\n",
       "      <th>RH_out</th>\n",
       "    </tr>\n",
       "  </thead>\n",
       "  <tbody>\n",
       "    <tr>\n",
       "      <th>0</th>\n",
       "      <td>1</td>\n",
       "      <td>1</td>\n",
       "      <td>0</td>\n",
       "      <td>2019-01-01 00:00:00</td>\n",
       "      <td>heat</td>\n",
       "      <td>None</td>\n",
       "      <td>Sleep</td>\n",
       "      <td>74.0</td>\n",
       "      <td>67.0</td>\n",
       "      <td>35.0</td>\n",
       "      <td>0.0</td>\n",
       "      <td>0.0</td>\n",
       "      <td>74.0</td>\n",
       "      <td>41.0</td>\n",
       "      <td>95.0</td>\n",
       "    </tr>\n",
       "    <tr>\n",
       "      <th>1</th>\n",
       "      <td>1</td>\n",
       "      <td>1</td>\n",
       "      <td>0</td>\n",
       "      <td>2019-01-01 00:05:00</td>\n",
       "      <td>heat</td>\n",
       "      <td>None</td>\n",
       "      <td>Sleep</td>\n",
       "      <td>74.0</td>\n",
       "      <td>67.0</td>\n",
       "      <td>36.0</td>\n",
       "      <td>0.0</td>\n",
       "      <td>0.0</td>\n",
       "      <td>74.0</td>\n",
       "      <td>41.0</td>\n",
       "      <td>95.0</td>\n",
       "    </tr>\n",
       "    <tr>\n",
       "      <th>2</th>\n",
       "      <td>1</td>\n",
       "      <td>1</td>\n",
       "      <td>0</td>\n",
       "      <td>2019-01-01 00:10:00</td>\n",
       "      <td>heat</td>\n",
       "      <td>None</td>\n",
       "      <td>Sleep</td>\n",
       "      <td>74.0</td>\n",
       "      <td>67.0</td>\n",
       "      <td>36.0</td>\n",
       "      <td>0.0</td>\n",
       "      <td>0.0</td>\n",
       "      <td>74.0</td>\n",
       "      <td>41.0</td>\n",
       "      <td>95.0</td>\n",
       "    </tr>\n",
       "    <tr>\n",
       "      <th>3</th>\n",
       "      <td>1</td>\n",
       "      <td>1</td>\n",
       "      <td>0</td>\n",
       "      <td>2019-01-01 00:15:00</td>\n",
       "      <td>heat</td>\n",
       "      <td>None</td>\n",
       "      <td>Sleep</td>\n",
       "      <td>74.0</td>\n",
       "      <td>67.0</td>\n",
       "      <td>36.0</td>\n",
       "      <td>0.0</td>\n",
       "      <td>60.0</td>\n",
       "      <td>74.0</td>\n",
       "      <td>41.0</td>\n",
       "      <td>95.0</td>\n",
       "    </tr>\n",
       "    <tr>\n",
       "      <th>4</th>\n",
       "      <td>1</td>\n",
       "      <td>1</td>\n",
       "      <td>0</td>\n",
       "      <td>2019-01-01 00:20:00</td>\n",
       "      <td>heat</td>\n",
       "      <td>None</td>\n",
       "      <td>Sleep</td>\n",
       "      <td>74.0</td>\n",
       "      <td>67.0</td>\n",
       "      <td>37.0</td>\n",
       "      <td>0.0</td>\n",
       "      <td>300.0</td>\n",
       "      <td>74.0</td>\n",
       "      <td>41.0</td>\n",
       "      <td>95.0</td>\n",
       "    </tr>\n",
       "  </tbody>\n",
       "</table>\n",
       "</div>"
      ],
      "text/plain": [
       "   Month  DayOfWeek  HourofDay            DateTime HvacMode Event Schedule  \\\n",
       "0      1          1          0 2019-01-01 00:00:00     heat  None    Sleep   \n",
       "1      1          1          0 2019-01-01 00:05:00     heat  None    Sleep   \n",
       "2      1          1          0 2019-01-01 00:10:00     heat  None    Sleep   \n",
       "3      1          1          0 2019-01-01 00:15:00     heat  None    Sleep   \n",
       "4      1          1          0 2019-01-01 00:20:00     heat  None    Sleep   \n",
       "\n",
       "   T_ctrl  T_stp_heat  Humidity  auxHeat1    fan  Thermostat_Temperature  \\\n",
       "0    74.0        67.0      35.0       0.0    0.0                    74.0   \n",
       "1    74.0        67.0      36.0       0.0    0.0                    74.0   \n",
       "2    74.0        67.0      36.0       0.0    0.0                    74.0   \n",
       "3    74.0        67.0      36.0       0.0   60.0                    74.0   \n",
       "4    74.0        67.0      37.0       0.0  300.0                    74.0   \n",
       "\n",
       "   T_out  RH_out  \n",
       "0   41.0    95.0  \n",
       "1   41.0    95.0  \n",
       "2   41.0    95.0  \n",
       "3   41.0    95.0  \n",
       "4   41.0    95.0  "
      ]
     },
     "execution_count": 58,
     "metadata": {},
     "output_type": "execute_result"
    }
   ],
   "source": [
    "house_data.head()"
   ]
  },
  {
   "cell_type": "code",
   "execution_count": 59,
   "metadata": {},
   "outputs": [],
   "source": [
    "house_data.drop(labels = ['DateTime'], axis = 1, inplace = True)"
   ]
  },
  {
   "cell_type": "code",
   "execution_count": 60,
   "metadata": {},
   "outputs": [
    {
     "data": {
      "text/html": [
       "<div>\n",
       "<style scoped>\n",
       "    .dataframe tbody tr th:only-of-type {\n",
       "        vertical-align: middle;\n",
       "    }\n",
       "\n",
       "    .dataframe tbody tr th {\n",
       "        vertical-align: top;\n",
       "    }\n",
       "\n",
       "    .dataframe thead th {\n",
       "        text-align: right;\n",
       "    }\n",
       "</style>\n",
       "<table border=\"1\" class=\"dataframe\">\n",
       "  <thead>\n",
       "    <tr style=\"text-align: right;\">\n",
       "      <th></th>\n",
       "      <th>Month</th>\n",
       "      <th>DayOfWeek</th>\n",
       "      <th>HourofDay</th>\n",
       "      <th>HvacMode</th>\n",
       "      <th>Event</th>\n",
       "      <th>Schedule</th>\n",
       "      <th>T_ctrl</th>\n",
       "      <th>T_stp_heat</th>\n",
       "      <th>Humidity</th>\n",
       "      <th>auxHeat1</th>\n",
       "      <th>fan</th>\n",
       "      <th>Thermostat_Temperature</th>\n",
       "      <th>T_out</th>\n",
       "      <th>RH_out</th>\n",
       "    </tr>\n",
       "  </thead>\n",
       "  <tbody>\n",
       "    <tr>\n",
       "      <th>0</th>\n",
       "      <td>1</td>\n",
       "      <td>1</td>\n",
       "      <td>0</td>\n",
       "      <td>heat</td>\n",
       "      <td>None</td>\n",
       "      <td>Sleep</td>\n",
       "      <td>74.0</td>\n",
       "      <td>67.0</td>\n",
       "      <td>35.0</td>\n",
       "      <td>0.0</td>\n",
       "      <td>0.0</td>\n",
       "      <td>74.0</td>\n",
       "      <td>41.0</td>\n",
       "      <td>95.0</td>\n",
       "    </tr>\n",
       "    <tr>\n",
       "      <th>1</th>\n",
       "      <td>1</td>\n",
       "      <td>1</td>\n",
       "      <td>0</td>\n",
       "      <td>heat</td>\n",
       "      <td>None</td>\n",
       "      <td>Sleep</td>\n",
       "      <td>74.0</td>\n",
       "      <td>67.0</td>\n",
       "      <td>36.0</td>\n",
       "      <td>0.0</td>\n",
       "      <td>0.0</td>\n",
       "      <td>74.0</td>\n",
       "      <td>41.0</td>\n",
       "      <td>95.0</td>\n",
       "    </tr>\n",
       "    <tr>\n",
       "      <th>2</th>\n",
       "      <td>1</td>\n",
       "      <td>1</td>\n",
       "      <td>0</td>\n",
       "      <td>heat</td>\n",
       "      <td>None</td>\n",
       "      <td>Sleep</td>\n",
       "      <td>74.0</td>\n",
       "      <td>67.0</td>\n",
       "      <td>36.0</td>\n",
       "      <td>0.0</td>\n",
       "      <td>0.0</td>\n",
       "      <td>74.0</td>\n",
       "      <td>41.0</td>\n",
       "      <td>95.0</td>\n",
       "    </tr>\n",
       "    <tr>\n",
       "      <th>3</th>\n",
       "      <td>1</td>\n",
       "      <td>1</td>\n",
       "      <td>0</td>\n",
       "      <td>heat</td>\n",
       "      <td>None</td>\n",
       "      <td>Sleep</td>\n",
       "      <td>74.0</td>\n",
       "      <td>67.0</td>\n",
       "      <td>36.0</td>\n",
       "      <td>0.0</td>\n",
       "      <td>60.0</td>\n",
       "      <td>74.0</td>\n",
       "      <td>41.0</td>\n",
       "      <td>95.0</td>\n",
       "    </tr>\n",
       "    <tr>\n",
       "      <th>4</th>\n",
       "      <td>1</td>\n",
       "      <td>1</td>\n",
       "      <td>0</td>\n",
       "      <td>heat</td>\n",
       "      <td>None</td>\n",
       "      <td>Sleep</td>\n",
       "      <td>74.0</td>\n",
       "      <td>67.0</td>\n",
       "      <td>37.0</td>\n",
       "      <td>0.0</td>\n",
       "      <td>300.0</td>\n",
       "      <td>74.0</td>\n",
       "      <td>41.0</td>\n",
       "      <td>95.0</td>\n",
       "    </tr>\n",
       "  </tbody>\n",
       "</table>\n",
       "</div>"
      ],
      "text/plain": [
       "   Month  DayOfWeek  HourofDay HvacMode Event Schedule  T_ctrl  T_stp_heat  \\\n",
       "0      1          1          0     heat  None    Sleep    74.0        67.0   \n",
       "1      1          1          0     heat  None    Sleep    74.0        67.0   \n",
       "2      1          1          0     heat  None    Sleep    74.0        67.0   \n",
       "3      1          1          0     heat  None    Sleep    74.0        67.0   \n",
       "4      1          1          0     heat  None    Sleep    74.0        67.0   \n",
       "\n",
       "   Humidity  auxHeat1    fan  Thermostat_Temperature  T_out  RH_out  \n",
       "0      35.0       0.0    0.0                    74.0   41.0    95.0  \n",
       "1      36.0       0.0    0.0                    74.0   41.0    95.0  \n",
       "2      36.0       0.0    0.0                    74.0   41.0    95.0  \n",
       "3      36.0       0.0   60.0                    74.0   41.0    95.0  \n",
       "4      37.0       0.0  300.0                    74.0   41.0    95.0  "
      ]
     },
     "execution_count": 60,
     "metadata": {},
     "output_type": "execute_result"
    }
   ],
   "source": [
    "house_data.head()"
   ]
  },
  {
   "cell_type": "markdown",
   "metadata": {},
   "source": [
    "### Generating New Column Based on auxHeat1 Values"
   ]
  },
  {
   "cell_type": "code",
   "execution_count": null,
   "metadata": {},
   "outputs": [],
   "source": [
    "def transform_row(row):\n",
    "    if row['auxHeat1'] == 0.0:\n",
    "        return '0'\n",
    "    else:\n",
    "        return '1'"
   ]
  },
  {
   "cell_type": "code",
   "execution_count": null,
   "metadata": {},
   "outputs": [],
   "source": [
    "house_data.apply(lambda row : transform_row(row), axis = 1)"
   ]
  },
  {
   "cell_type": "code",
   "execution_count": null,
   "metadata": {},
   "outputs": [],
   "source": [
    "house_data['auxHeat1_label'] = house_data.apply(lambda row : transform_row(row), axis = 1)"
   ]
  },
  {
   "cell_type": "code",
   "execution_count": null,
   "metadata": {},
   "outputs": [],
   "source": [
    "house_data.head()"
   ]
  },
  {
   "cell_type": "markdown",
   "metadata": {},
   "source": [
    "#### Analyzing the Categorical Variables"
   ]
  },
  {
   "cell_type": "code",
   "execution_count": 61,
   "metadata": {},
   "outputs": [
    {
     "data": {
      "text/html": [
       "<div>\n",
       "<style scoped>\n",
       "    .dataframe tbody tr th:only-of-type {\n",
       "        vertical-align: middle;\n",
       "    }\n",
       "\n",
       "    .dataframe tbody tr th {\n",
       "        vertical-align: top;\n",
       "    }\n",
       "\n",
       "    .dataframe thead th {\n",
       "        text-align: right;\n",
       "    }\n",
       "</style>\n",
       "<table border=\"1\" class=\"dataframe\">\n",
       "  <thead>\n",
       "    <tr style=\"text-align: right;\">\n",
       "      <th></th>\n",
       "      <th>Month</th>\n",
       "      <th>DayOfWeek</th>\n",
       "      <th>HourofDay</th>\n",
       "      <th>HvacMode</th>\n",
       "      <th>Event</th>\n",
       "      <th>Schedule</th>\n",
       "      <th>T_ctrl</th>\n",
       "      <th>T_stp_heat</th>\n",
       "      <th>Humidity</th>\n",
       "      <th>auxHeat1</th>\n",
       "      <th>fan</th>\n",
       "      <th>Thermostat_Temperature</th>\n",
       "      <th>T_out</th>\n",
       "      <th>RH_out</th>\n",
       "    </tr>\n",
       "  </thead>\n",
       "  <tbody>\n",
       "    <tr>\n",
       "      <th>0</th>\n",
       "      <td>1</td>\n",
       "      <td>1</td>\n",
       "      <td>0</td>\n",
       "      <td>heat</td>\n",
       "      <td>None</td>\n",
       "      <td>Sleep</td>\n",
       "      <td>74.0</td>\n",
       "      <td>67.0</td>\n",
       "      <td>35.0</td>\n",
       "      <td>0.0</td>\n",
       "      <td>0.0</td>\n",
       "      <td>74.0</td>\n",
       "      <td>41.0</td>\n",
       "      <td>95.0</td>\n",
       "    </tr>\n",
       "    <tr>\n",
       "      <th>1</th>\n",
       "      <td>1</td>\n",
       "      <td>1</td>\n",
       "      <td>0</td>\n",
       "      <td>heat</td>\n",
       "      <td>None</td>\n",
       "      <td>Sleep</td>\n",
       "      <td>74.0</td>\n",
       "      <td>67.0</td>\n",
       "      <td>36.0</td>\n",
       "      <td>0.0</td>\n",
       "      <td>0.0</td>\n",
       "      <td>74.0</td>\n",
       "      <td>41.0</td>\n",
       "      <td>95.0</td>\n",
       "    </tr>\n",
       "    <tr>\n",
       "      <th>2</th>\n",
       "      <td>1</td>\n",
       "      <td>1</td>\n",
       "      <td>0</td>\n",
       "      <td>heat</td>\n",
       "      <td>None</td>\n",
       "      <td>Sleep</td>\n",
       "      <td>74.0</td>\n",
       "      <td>67.0</td>\n",
       "      <td>36.0</td>\n",
       "      <td>0.0</td>\n",
       "      <td>0.0</td>\n",
       "      <td>74.0</td>\n",
       "      <td>41.0</td>\n",
       "      <td>95.0</td>\n",
       "    </tr>\n",
       "    <tr>\n",
       "      <th>3</th>\n",
       "      <td>1</td>\n",
       "      <td>1</td>\n",
       "      <td>0</td>\n",
       "      <td>heat</td>\n",
       "      <td>None</td>\n",
       "      <td>Sleep</td>\n",
       "      <td>74.0</td>\n",
       "      <td>67.0</td>\n",
       "      <td>36.0</td>\n",
       "      <td>0.0</td>\n",
       "      <td>60.0</td>\n",
       "      <td>74.0</td>\n",
       "      <td>41.0</td>\n",
       "      <td>95.0</td>\n",
       "    </tr>\n",
       "    <tr>\n",
       "      <th>4</th>\n",
       "      <td>1</td>\n",
       "      <td>1</td>\n",
       "      <td>0</td>\n",
       "      <td>heat</td>\n",
       "      <td>None</td>\n",
       "      <td>Sleep</td>\n",
       "      <td>74.0</td>\n",
       "      <td>67.0</td>\n",
       "      <td>37.0</td>\n",
       "      <td>0.0</td>\n",
       "      <td>300.0</td>\n",
       "      <td>74.0</td>\n",
       "      <td>41.0</td>\n",
       "      <td>95.0</td>\n",
       "    </tr>\n",
       "  </tbody>\n",
       "</table>\n",
       "</div>"
      ],
      "text/plain": [
       "   Month  DayOfWeek  HourofDay HvacMode Event Schedule  T_ctrl  T_stp_heat  \\\n",
       "0      1          1          0     heat  None    Sleep    74.0        67.0   \n",
       "1      1          1          0     heat  None    Sleep    74.0        67.0   \n",
       "2      1          1          0     heat  None    Sleep    74.0        67.0   \n",
       "3      1          1          0     heat  None    Sleep    74.0        67.0   \n",
       "4      1          1          0     heat  None    Sleep    74.0        67.0   \n",
       "\n",
       "   Humidity  auxHeat1    fan  Thermostat_Temperature  T_out  RH_out  \n",
       "0      35.0       0.0    0.0                    74.0   41.0    95.0  \n",
       "1      36.0       0.0    0.0                    74.0   41.0    95.0  \n",
       "2      36.0       0.0    0.0                    74.0   41.0    95.0  \n",
       "3      36.0       0.0   60.0                    74.0   41.0    95.0  \n",
       "4      37.0       0.0  300.0                    74.0   41.0    95.0  "
      ]
     },
     "execution_count": 61,
     "metadata": {},
     "output_type": "execute_result"
    }
   ],
   "source": [
    "house_data.head()"
   ]
  },
  {
   "cell_type": "code",
   "execution_count": 62,
   "metadata": {},
   "outputs": [
    {
     "data": {
      "text/plain": [
       "Index(['Month', 'DayOfWeek', 'HourofDay', 'HvacMode', 'Event', 'Schedule',\n",
       "       'T_ctrl', 'T_stp_heat', 'Humidity', 'auxHeat1', 'fan',\n",
       "       'Thermostat_Temperature', 'T_out', 'RH_out'],\n",
       "      dtype='object')"
      ]
     },
     "execution_count": 62,
     "metadata": {},
     "output_type": "execute_result"
    }
   ],
   "source": [
    "house_data.columns"
   ]
  },
  {
   "cell_type": "code",
   "execution_count": 63,
   "metadata": {},
   "outputs": [],
   "source": [
    "house_data.drop(labels = ['HvacMode', 'Event', 'Schedule'], axis = 1, inplace = True)"
   ]
  },
  {
   "cell_type": "markdown",
   "metadata": {},
   "source": [
    "#### Feature Engineering for Cyclical Features (HourofDay, Month & DayofWeek)"
   ]
  },
  {
   "cell_type": "code",
   "execution_count": 64,
   "metadata": {},
   "outputs": [
    {
     "data": {
      "text/plain": [
       "array([ 1,  2,  3,  4,  5, 10, 11, 12], dtype=int64)"
      ]
     },
     "execution_count": 64,
     "metadata": {},
     "output_type": "execute_result"
    }
   ],
   "source": [
    "house_data.Month.unique()"
   ]
  },
  {
   "cell_type": "code",
   "execution_count": 65,
   "metadata": {},
   "outputs": [
    {
     "data": {
      "text/plain": [
       "array([ 0,  1,  2,  3,  4,  5,  6,  7,  8,  9, 10, 11, 12, 13, 14, 15, 16,\n",
       "       17, 18, 19, 20, 21, 22, 23], dtype=int64)"
      ]
     },
     "execution_count": 65,
     "metadata": {},
     "output_type": "execute_result"
    }
   ],
   "source": [
    "house_data.HourofDay.unique()"
   ]
  },
  {
   "cell_type": "code",
   "execution_count": 66,
   "metadata": {},
   "outputs": [
    {
     "data": {
      "text/plain": [
       "array([1, 2, 3, 4, 5, 6, 0], dtype=int64)"
      ]
     },
     "execution_count": 66,
     "metadata": {},
     "output_type": "execute_result"
    }
   ],
   "source": [
    "house_data.DayOfWeek.unique()"
   ]
  },
  {
   "cell_type": "code",
   "execution_count": 67,
   "metadata": {},
   "outputs": [],
   "source": [
    "house_data['hour_sin'] = np.sin(house_data.HourofDay * (2. * np.pi / 24))\n",
    "house_data['hour_cos'] = np.cos(house_data.HourofDay * (2. * np.pi / 24))\n",
    "house_data['month_sin'] = np.sin((house_data.Month - 1) * (2. * np.pi / 12))\n",
    "house_data['month_cos'] = np.cos((house_data.Month - 1) * (2. * np.pi / 12))\n",
    "house_data['day_sin'] = np.sin(house_data.DayOfWeek) * (2. * np.pi / 7)\n",
    "house_data['day_cos'] = np.cos(house_data.DayOfWeek) * (2. * np.pi / 7)"
   ]
  },
  {
   "cell_type": "code",
   "execution_count": 68,
   "metadata": {},
   "outputs": [
    {
     "name": "stdout",
     "output_type": "stream",
     "text": [
      "['Month', 'DayOfWeek', 'HourofDay', 'T_ctrl', 'T_stp_heat', 'Humidity', 'auxHeat1', 'fan', 'Thermostat_Temperature', 'T_out', 'RH_out', 'hour_sin', 'hour_cos', 'month_sin', 'month_cos', 'day_sin', 'day_cos']\n"
     ]
    }
   ],
   "source": [
    "cols = house_data.columns.tolist()\n",
    "print(cols)"
   ]
  },
  {
   "cell_type": "code",
   "execution_count": 69,
   "metadata": {},
   "outputs": [
    {
     "name": "stdout",
     "output_type": "stream",
     "text": [
      "['hour_sin', 'hour_cos', 'month_sin', 'month_cos', 'day_sin', 'day_cos', 'Month', 'DayOfWeek', 'HourofDay', 'T_ctrl', 'T_stp_heat', 'Humidity', 'auxHeat1', 'fan', 'Thermostat_Temperature', 'T_out', 'RH_out']\n"
     ]
    }
   ],
   "source": [
    "cols = cols[-6:] + cols[:-6]\n",
    "print(cols)"
   ]
  },
  {
   "cell_type": "code",
   "execution_count": 70,
   "metadata": {},
   "outputs": [],
   "source": [
    "house_data = house_data[cols]"
   ]
  },
  {
   "cell_type": "code",
   "execution_count": 71,
   "metadata": {},
   "outputs": [
    {
     "data": {
      "text/html": [
       "<div>\n",
       "<style scoped>\n",
       "    .dataframe tbody tr th:only-of-type {\n",
       "        vertical-align: middle;\n",
       "    }\n",
       "\n",
       "    .dataframe tbody tr th {\n",
       "        vertical-align: top;\n",
       "    }\n",
       "\n",
       "    .dataframe thead th {\n",
       "        text-align: right;\n",
       "    }\n",
       "</style>\n",
       "<table border=\"1\" class=\"dataframe\">\n",
       "  <thead>\n",
       "    <tr style=\"text-align: right;\">\n",
       "      <th></th>\n",
       "      <th>hour_sin</th>\n",
       "      <th>hour_cos</th>\n",
       "      <th>month_sin</th>\n",
       "      <th>month_cos</th>\n",
       "      <th>day_sin</th>\n",
       "      <th>day_cos</th>\n",
       "      <th>Month</th>\n",
       "      <th>DayOfWeek</th>\n",
       "      <th>HourofDay</th>\n",
       "      <th>T_ctrl</th>\n",
       "      <th>T_stp_heat</th>\n",
       "      <th>Humidity</th>\n",
       "      <th>auxHeat1</th>\n",
       "      <th>fan</th>\n",
       "      <th>Thermostat_Temperature</th>\n",
       "      <th>T_out</th>\n",
       "      <th>RH_out</th>\n",
       "    </tr>\n",
       "  </thead>\n",
       "  <tbody>\n",
       "    <tr>\n",
       "      <th>0</th>\n",
       "      <td>0.0</td>\n",
       "      <td>1.0</td>\n",
       "      <td>0.0</td>\n",
       "      <td>1.0</td>\n",
       "      <td>0.755303</td>\n",
       "      <td>0.484974</td>\n",
       "      <td>1</td>\n",
       "      <td>1</td>\n",
       "      <td>0</td>\n",
       "      <td>74.0</td>\n",
       "      <td>67.0</td>\n",
       "      <td>35.0</td>\n",
       "      <td>0.0</td>\n",
       "      <td>0.0</td>\n",
       "      <td>74.0</td>\n",
       "      <td>41.0</td>\n",
       "      <td>95.0</td>\n",
       "    </tr>\n",
       "    <tr>\n",
       "      <th>1</th>\n",
       "      <td>0.0</td>\n",
       "      <td>1.0</td>\n",
       "      <td>0.0</td>\n",
       "      <td>1.0</td>\n",
       "      <td>0.755303</td>\n",
       "      <td>0.484974</td>\n",
       "      <td>1</td>\n",
       "      <td>1</td>\n",
       "      <td>0</td>\n",
       "      <td>74.0</td>\n",
       "      <td>67.0</td>\n",
       "      <td>36.0</td>\n",
       "      <td>0.0</td>\n",
       "      <td>0.0</td>\n",
       "      <td>74.0</td>\n",
       "      <td>41.0</td>\n",
       "      <td>95.0</td>\n",
       "    </tr>\n",
       "    <tr>\n",
       "      <th>2</th>\n",
       "      <td>0.0</td>\n",
       "      <td>1.0</td>\n",
       "      <td>0.0</td>\n",
       "      <td>1.0</td>\n",
       "      <td>0.755303</td>\n",
       "      <td>0.484974</td>\n",
       "      <td>1</td>\n",
       "      <td>1</td>\n",
       "      <td>0</td>\n",
       "      <td>74.0</td>\n",
       "      <td>67.0</td>\n",
       "      <td>36.0</td>\n",
       "      <td>0.0</td>\n",
       "      <td>0.0</td>\n",
       "      <td>74.0</td>\n",
       "      <td>41.0</td>\n",
       "      <td>95.0</td>\n",
       "    </tr>\n",
       "    <tr>\n",
       "      <th>3</th>\n",
       "      <td>0.0</td>\n",
       "      <td>1.0</td>\n",
       "      <td>0.0</td>\n",
       "      <td>1.0</td>\n",
       "      <td>0.755303</td>\n",
       "      <td>0.484974</td>\n",
       "      <td>1</td>\n",
       "      <td>1</td>\n",
       "      <td>0</td>\n",
       "      <td>74.0</td>\n",
       "      <td>67.0</td>\n",
       "      <td>36.0</td>\n",
       "      <td>0.0</td>\n",
       "      <td>60.0</td>\n",
       "      <td>74.0</td>\n",
       "      <td>41.0</td>\n",
       "      <td>95.0</td>\n",
       "    </tr>\n",
       "    <tr>\n",
       "      <th>4</th>\n",
       "      <td>0.0</td>\n",
       "      <td>1.0</td>\n",
       "      <td>0.0</td>\n",
       "      <td>1.0</td>\n",
       "      <td>0.755303</td>\n",
       "      <td>0.484974</td>\n",
       "      <td>1</td>\n",
       "      <td>1</td>\n",
       "      <td>0</td>\n",
       "      <td>74.0</td>\n",
       "      <td>67.0</td>\n",
       "      <td>37.0</td>\n",
       "      <td>0.0</td>\n",
       "      <td>300.0</td>\n",
       "      <td>74.0</td>\n",
       "      <td>41.0</td>\n",
       "      <td>95.0</td>\n",
       "    </tr>\n",
       "  </tbody>\n",
       "</table>\n",
       "</div>"
      ],
      "text/plain": [
       "   hour_sin  hour_cos  month_sin  month_cos   day_sin   day_cos  Month  \\\n",
       "0       0.0       1.0        0.0        1.0  0.755303  0.484974      1   \n",
       "1       0.0       1.0        0.0        1.0  0.755303  0.484974      1   \n",
       "2       0.0       1.0        0.0        1.0  0.755303  0.484974      1   \n",
       "3       0.0       1.0        0.0        1.0  0.755303  0.484974      1   \n",
       "4       0.0       1.0        0.0        1.0  0.755303  0.484974      1   \n",
       "\n",
       "   DayOfWeek  HourofDay  T_ctrl  T_stp_heat  Humidity  auxHeat1    fan  \\\n",
       "0          1          0    74.0        67.0      35.0       0.0    0.0   \n",
       "1          1          0    74.0        67.0      36.0       0.0    0.0   \n",
       "2          1          0    74.0        67.0      36.0       0.0    0.0   \n",
       "3          1          0    74.0        67.0      36.0       0.0   60.0   \n",
       "4          1          0    74.0        67.0      37.0       0.0  300.0   \n",
       "\n",
       "   Thermostat_Temperature  T_out  RH_out  \n",
       "0                    74.0   41.0    95.0  \n",
       "1                    74.0   41.0    95.0  \n",
       "2                    74.0   41.0    95.0  \n",
       "3                    74.0   41.0    95.0  \n",
       "4                    74.0   41.0    95.0  "
      ]
     },
     "execution_count": 71,
     "metadata": {},
     "output_type": "execute_result"
    }
   ],
   "source": [
    "house_data.head()"
   ]
  },
  {
   "cell_type": "markdown",
   "metadata": {},
   "source": [
    "### Data Pre-Processing"
   ]
  },
  {
   "cell_type": "code",
   "execution_count": 72,
   "metadata": {},
   "outputs": [],
   "source": [
    "categorical_vars = ['HvacMode', 'Event', 'Schedule']\n",
    "numerical_vars = ['T_ctrl', 'T_stp_heat', 'Humidity', 'Thermostat_Temperature', 'T_out', 'RH_out']"
   ]
  },
  {
   "cell_type": "markdown",
   "metadata": {},
   "source": [
    "#### Standardizing the Numerical Features"
   ]
  },
  {
   "cell_type": "code",
   "execution_count": 73,
   "metadata": {},
   "outputs": [],
   "source": [
    "#sc = StandardScaler()\n",
    "#house_data[numerical_vars] = sc.fit_transform(house_data[numerical_vars])"
   ]
  },
  {
   "cell_type": "code",
   "execution_count": 74,
   "metadata": {},
   "outputs": [],
   "source": [
    "sc = load(open('scaler.pkl', 'rb'))\n",
    "house_data[numerical_vars] = sc.transform(house_data[numerical_vars])"
   ]
  },
  {
   "cell_type": "code",
   "execution_count": 75,
   "metadata": {},
   "outputs": [
    {
     "data": {
      "text/html": [
       "<div>\n",
       "<style scoped>\n",
       "    .dataframe tbody tr th:only-of-type {\n",
       "        vertical-align: middle;\n",
       "    }\n",
       "\n",
       "    .dataframe tbody tr th {\n",
       "        vertical-align: top;\n",
       "    }\n",
       "\n",
       "    .dataframe thead th {\n",
       "        text-align: right;\n",
       "    }\n",
       "</style>\n",
       "<table border=\"1\" class=\"dataframe\">\n",
       "  <thead>\n",
       "    <tr style=\"text-align: right;\">\n",
       "      <th></th>\n",
       "      <th>hour_sin</th>\n",
       "      <th>hour_cos</th>\n",
       "      <th>month_sin</th>\n",
       "      <th>month_cos</th>\n",
       "      <th>day_sin</th>\n",
       "      <th>day_cos</th>\n",
       "      <th>Month</th>\n",
       "      <th>DayOfWeek</th>\n",
       "      <th>HourofDay</th>\n",
       "      <th>T_ctrl</th>\n",
       "      <th>T_stp_heat</th>\n",
       "      <th>Humidity</th>\n",
       "      <th>auxHeat1</th>\n",
       "      <th>fan</th>\n",
       "      <th>Thermostat_Temperature</th>\n",
       "      <th>T_out</th>\n",
       "      <th>RH_out</th>\n",
       "    </tr>\n",
       "  </thead>\n",
       "  <tbody>\n",
       "    <tr>\n",
       "      <th>0</th>\n",
       "      <td>0.0</td>\n",
       "      <td>1.0</td>\n",
       "      <td>0.0</td>\n",
       "      <td>1.0</td>\n",
       "      <td>0.755303</td>\n",
       "      <td>0.484974</td>\n",
       "      <td>1</td>\n",
       "      <td>1</td>\n",
       "      <td>0</td>\n",
       "      <td>1.786445</td>\n",
       "      <td>-0.072345</td>\n",
       "      <td>-0.027416</td>\n",
       "      <td>0.0</td>\n",
       "      <td>0.0</td>\n",
       "      <td>1.81318</td>\n",
       "      <td>0.009112</td>\n",
       "      <td>1.808865</td>\n",
       "    </tr>\n",
       "    <tr>\n",
       "      <th>1</th>\n",
       "      <td>0.0</td>\n",
       "      <td>1.0</td>\n",
       "      <td>0.0</td>\n",
       "      <td>1.0</td>\n",
       "      <td>0.755303</td>\n",
       "      <td>0.484974</td>\n",
       "      <td>1</td>\n",
       "      <td>1</td>\n",
       "      <td>0</td>\n",
       "      <td>1.786445</td>\n",
       "      <td>-0.072345</td>\n",
       "      <td>0.075021</td>\n",
       "      <td>0.0</td>\n",
       "      <td>0.0</td>\n",
       "      <td>1.81318</td>\n",
       "      <td>0.009112</td>\n",
       "      <td>1.808865</td>\n",
       "    </tr>\n",
       "    <tr>\n",
       "      <th>2</th>\n",
       "      <td>0.0</td>\n",
       "      <td>1.0</td>\n",
       "      <td>0.0</td>\n",
       "      <td>1.0</td>\n",
       "      <td>0.755303</td>\n",
       "      <td>0.484974</td>\n",
       "      <td>1</td>\n",
       "      <td>1</td>\n",
       "      <td>0</td>\n",
       "      <td>1.786445</td>\n",
       "      <td>-0.072345</td>\n",
       "      <td>0.075021</td>\n",
       "      <td>0.0</td>\n",
       "      <td>0.0</td>\n",
       "      <td>1.81318</td>\n",
       "      <td>0.009112</td>\n",
       "      <td>1.808865</td>\n",
       "    </tr>\n",
       "    <tr>\n",
       "      <th>3</th>\n",
       "      <td>0.0</td>\n",
       "      <td>1.0</td>\n",
       "      <td>0.0</td>\n",
       "      <td>1.0</td>\n",
       "      <td>0.755303</td>\n",
       "      <td>0.484974</td>\n",
       "      <td>1</td>\n",
       "      <td>1</td>\n",
       "      <td>0</td>\n",
       "      <td>1.786445</td>\n",
       "      <td>-0.072345</td>\n",
       "      <td>0.075021</td>\n",
       "      <td>0.0</td>\n",
       "      <td>60.0</td>\n",
       "      <td>1.81318</td>\n",
       "      <td>0.009112</td>\n",
       "      <td>1.808865</td>\n",
       "    </tr>\n",
       "    <tr>\n",
       "      <th>4</th>\n",
       "      <td>0.0</td>\n",
       "      <td>1.0</td>\n",
       "      <td>0.0</td>\n",
       "      <td>1.0</td>\n",
       "      <td>0.755303</td>\n",
       "      <td>0.484974</td>\n",
       "      <td>1</td>\n",
       "      <td>1</td>\n",
       "      <td>0</td>\n",
       "      <td>1.786445</td>\n",
       "      <td>-0.072345</td>\n",
       "      <td>0.177458</td>\n",
       "      <td>0.0</td>\n",
       "      <td>300.0</td>\n",
       "      <td>1.81318</td>\n",
       "      <td>0.009112</td>\n",
       "      <td>1.808865</td>\n",
       "    </tr>\n",
       "  </tbody>\n",
       "</table>\n",
       "</div>"
      ],
      "text/plain": [
       "   hour_sin  hour_cos  month_sin  month_cos   day_sin   day_cos  Month  \\\n",
       "0       0.0       1.0        0.0        1.0  0.755303  0.484974      1   \n",
       "1       0.0       1.0        0.0        1.0  0.755303  0.484974      1   \n",
       "2       0.0       1.0        0.0        1.0  0.755303  0.484974      1   \n",
       "3       0.0       1.0        0.0        1.0  0.755303  0.484974      1   \n",
       "4       0.0       1.0        0.0        1.0  0.755303  0.484974      1   \n",
       "\n",
       "   DayOfWeek  HourofDay    T_ctrl  T_stp_heat  Humidity  auxHeat1    fan  \\\n",
       "0          1          0  1.786445   -0.072345 -0.027416       0.0    0.0   \n",
       "1          1          0  1.786445   -0.072345  0.075021       0.0    0.0   \n",
       "2          1          0  1.786445   -0.072345  0.075021       0.0    0.0   \n",
       "3          1          0  1.786445   -0.072345  0.075021       0.0   60.0   \n",
       "4          1          0  1.786445   -0.072345  0.177458       0.0  300.0   \n",
       "\n",
       "   Thermostat_Temperature     T_out    RH_out  \n",
       "0                 1.81318  0.009112  1.808865  \n",
       "1                 1.81318  0.009112  1.808865  \n",
       "2                 1.81318  0.009112  1.808865  \n",
       "3                 1.81318  0.009112  1.808865  \n",
       "4                 1.81318  0.009112  1.808865  "
      ]
     },
     "execution_count": 75,
     "metadata": {},
     "output_type": "execute_result"
    }
   ],
   "source": [
    "house_data.head()"
   ]
  },
  {
   "cell_type": "code",
   "execution_count": 76,
   "metadata": {},
   "outputs": [],
   "source": [
    "house_data.reset_index(inplace = True)"
   ]
  },
  {
   "cell_type": "markdown",
   "metadata": {},
   "source": [
    "#### Ordinal Encoding the 'fan' Feature & 'auxHeat1' Feature"
   ]
  },
  {
   "cell_type": "code",
   "execution_count": 77,
   "metadata": {},
   "outputs": [],
   "source": [
    "y_auxHeat = house_data['auxHeat1'].to_numpy()\n",
    "y_fan = house_data['fan'].to_numpy()"
   ]
  },
  {
   "cell_type": "code",
   "execution_count": 78,
   "metadata": {},
   "outputs": [],
   "source": [
    "oe = OrdinalEncoder()\n",
    "y_auxHeat = oe.fit_transform(y_auxHeat.reshape(-1, 1))\n",
    "y_fan = oe.fit_transform(y_fan.reshape(-1, 1))"
   ]
  },
  {
   "cell_type": "code",
   "execution_count": 79,
   "metadata": {},
   "outputs": [],
   "source": [
    "y_auxHeat = y_auxHeat.reshape(y_auxHeat.shape[0], )\n",
    "y_fan = y_fan.reshape(y_fan.shape[0], )"
   ]
  },
  {
   "cell_type": "code",
   "execution_count": 80,
   "metadata": {},
   "outputs": [],
   "source": [
    "y_auxHeat = y_auxHeat.astype(int)\n",
    "y_auxHeat = y_auxHeat.astype(str)\n",
    "\n",
    "y_fan = y_fan.astype(int)\n",
    "y_fan = y_fan.astype(str)"
   ]
  },
  {
   "cell_type": "code",
   "execution_count": 81,
   "metadata": {},
   "outputs": [],
   "source": [
    "house_data['auxHeat1'] = y_auxHeat\n",
    "house_data['fan'] = y_fan"
   ]
  },
  {
   "cell_type": "code",
   "execution_count": 82,
   "metadata": {},
   "outputs": [
    {
     "data": {
      "text/html": [
       "<div>\n",
       "<style scoped>\n",
       "    .dataframe tbody tr th:only-of-type {\n",
       "        vertical-align: middle;\n",
       "    }\n",
       "\n",
       "    .dataframe tbody tr th {\n",
       "        vertical-align: top;\n",
       "    }\n",
       "\n",
       "    .dataframe thead th {\n",
       "        text-align: right;\n",
       "    }\n",
       "</style>\n",
       "<table border=\"1\" class=\"dataframe\">\n",
       "  <thead>\n",
       "    <tr style=\"text-align: right;\">\n",
       "      <th></th>\n",
       "      <th>index</th>\n",
       "      <th>hour_sin</th>\n",
       "      <th>hour_cos</th>\n",
       "      <th>month_sin</th>\n",
       "      <th>month_cos</th>\n",
       "      <th>day_sin</th>\n",
       "      <th>day_cos</th>\n",
       "      <th>Month</th>\n",
       "      <th>DayOfWeek</th>\n",
       "      <th>HourofDay</th>\n",
       "      <th>T_ctrl</th>\n",
       "      <th>T_stp_heat</th>\n",
       "      <th>Humidity</th>\n",
       "      <th>auxHeat1</th>\n",
       "      <th>fan</th>\n",
       "      <th>Thermostat_Temperature</th>\n",
       "      <th>T_out</th>\n",
       "      <th>RH_out</th>\n",
       "    </tr>\n",
       "  </thead>\n",
       "  <tbody>\n",
       "    <tr>\n",
       "      <th>0</th>\n",
       "      <td>0</td>\n",
       "      <td>0.0</td>\n",
       "      <td>1.0</td>\n",
       "      <td>0.0</td>\n",
       "      <td>1.0</td>\n",
       "      <td>0.755303</td>\n",
       "      <td>0.484974</td>\n",
       "      <td>1</td>\n",
       "      <td>1</td>\n",
       "      <td>0</td>\n",
       "      <td>1.786445</td>\n",
       "      <td>-0.072345</td>\n",
       "      <td>-0.027416</td>\n",
       "      <td>0</td>\n",
       "      <td>0</td>\n",
       "      <td>1.81318</td>\n",
       "      <td>0.009112</td>\n",
       "      <td>1.808865</td>\n",
       "    </tr>\n",
       "    <tr>\n",
       "      <th>1</th>\n",
       "      <td>1</td>\n",
       "      <td>0.0</td>\n",
       "      <td>1.0</td>\n",
       "      <td>0.0</td>\n",
       "      <td>1.0</td>\n",
       "      <td>0.755303</td>\n",
       "      <td>0.484974</td>\n",
       "      <td>1</td>\n",
       "      <td>1</td>\n",
       "      <td>0</td>\n",
       "      <td>1.786445</td>\n",
       "      <td>-0.072345</td>\n",
       "      <td>0.075021</td>\n",
       "      <td>0</td>\n",
       "      <td>0</td>\n",
       "      <td>1.81318</td>\n",
       "      <td>0.009112</td>\n",
       "      <td>1.808865</td>\n",
       "    </tr>\n",
       "    <tr>\n",
       "      <th>2</th>\n",
       "      <td>2</td>\n",
       "      <td>0.0</td>\n",
       "      <td>1.0</td>\n",
       "      <td>0.0</td>\n",
       "      <td>1.0</td>\n",
       "      <td>0.755303</td>\n",
       "      <td>0.484974</td>\n",
       "      <td>1</td>\n",
       "      <td>1</td>\n",
       "      <td>0</td>\n",
       "      <td>1.786445</td>\n",
       "      <td>-0.072345</td>\n",
       "      <td>0.075021</td>\n",
       "      <td>0</td>\n",
       "      <td>0</td>\n",
       "      <td>1.81318</td>\n",
       "      <td>0.009112</td>\n",
       "      <td>1.808865</td>\n",
       "    </tr>\n",
       "    <tr>\n",
       "      <th>3</th>\n",
       "      <td>3</td>\n",
       "      <td>0.0</td>\n",
       "      <td>1.0</td>\n",
       "      <td>0.0</td>\n",
       "      <td>1.0</td>\n",
       "      <td>0.755303</td>\n",
       "      <td>0.484974</td>\n",
       "      <td>1</td>\n",
       "      <td>1</td>\n",
       "      <td>0</td>\n",
       "      <td>1.786445</td>\n",
       "      <td>-0.072345</td>\n",
       "      <td>0.075021</td>\n",
       "      <td>0</td>\n",
       "      <td>4</td>\n",
       "      <td>1.81318</td>\n",
       "      <td>0.009112</td>\n",
       "      <td>1.808865</td>\n",
       "    </tr>\n",
       "    <tr>\n",
       "      <th>4</th>\n",
       "      <td>4</td>\n",
       "      <td>0.0</td>\n",
       "      <td>1.0</td>\n",
       "      <td>0.0</td>\n",
       "      <td>1.0</td>\n",
       "      <td>0.755303</td>\n",
       "      <td>0.484974</td>\n",
       "      <td>1</td>\n",
       "      <td>1</td>\n",
       "      <td>0</td>\n",
       "      <td>1.786445</td>\n",
       "      <td>-0.072345</td>\n",
       "      <td>0.177458</td>\n",
       "      <td>0</td>\n",
       "      <td>20</td>\n",
       "      <td>1.81318</td>\n",
       "      <td>0.009112</td>\n",
       "      <td>1.808865</td>\n",
       "    </tr>\n",
       "  </tbody>\n",
       "</table>\n",
       "</div>"
      ],
      "text/plain": [
       "   index  hour_sin  hour_cos  month_sin  month_cos   day_sin   day_cos  Month  \\\n",
       "0      0       0.0       1.0        0.0        1.0  0.755303  0.484974      1   \n",
       "1      1       0.0       1.0        0.0        1.0  0.755303  0.484974      1   \n",
       "2      2       0.0       1.0        0.0        1.0  0.755303  0.484974      1   \n",
       "3      3       0.0       1.0        0.0        1.0  0.755303  0.484974      1   \n",
       "4      4       0.0       1.0        0.0        1.0  0.755303  0.484974      1   \n",
       "\n",
       "   DayOfWeek  HourofDay    T_ctrl  T_stp_heat  Humidity auxHeat1 fan  \\\n",
       "0          1          0  1.786445   -0.072345 -0.027416        0   0   \n",
       "1          1          0  1.786445   -0.072345  0.075021        0   0   \n",
       "2          1          0  1.786445   -0.072345  0.075021        0   0   \n",
       "3          1          0  1.786445   -0.072345  0.075021        0   4   \n",
       "4          1          0  1.786445   -0.072345  0.177458        0  20   \n",
       "\n",
       "   Thermostat_Temperature     T_out    RH_out  \n",
       "0                 1.81318  0.009112  1.808865  \n",
       "1                 1.81318  0.009112  1.808865  \n",
       "2                 1.81318  0.009112  1.808865  \n",
       "3                 1.81318  0.009112  1.808865  \n",
       "4                 1.81318  0.009112  1.808865  "
      ]
     },
     "execution_count": 82,
     "metadata": {},
     "output_type": "execute_result"
    }
   ],
   "source": [
    "house_data.head()"
   ]
  },
  {
   "cell_type": "code",
   "execution_count": 83,
   "metadata": {},
   "outputs": [
    {
     "data": {
      "text/plain": [
       "array(['0', '12', '18', '2', '20', '3', '5', '10', '17', '15', '9', '7',\n",
       "       '14', '8', '1', '6', '16', '11', '13', '4', '19'], dtype=object)"
      ]
     },
     "execution_count": 83,
     "metadata": {},
     "output_type": "execute_result"
    }
   ],
   "source": [
    "house_data.auxHeat1.unique()"
   ]
  },
  {
   "cell_type": "code",
   "execution_count": 84,
   "metadata": {},
   "outputs": [
    {
     "data": {
      "text/plain": [
       "array(['0', '4', '20', '6', '15', '8', '14', '18', '9', '16', '3', '5',\n",
       "       '1', '19', '7', '2', '13', '11', '17', '10', '12'], dtype=object)"
      ]
     },
     "execution_count": 84,
     "metadata": {},
     "output_type": "execute_result"
    }
   ],
   "source": [
    "house_data.fan.unique()"
   ]
  },
  {
   "cell_type": "code",
   "execution_count": 85,
   "metadata": {},
   "outputs": [
    {
     "data": {
      "text/plain": [
       "(59604, 18)"
      ]
     },
     "execution_count": 85,
     "metadata": {},
     "output_type": "execute_result"
    }
   ],
   "source": [
    "house_data.shape"
   ]
  },
  {
   "cell_type": "code",
   "execution_count": 86,
   "metadata": {},
   "outputs": [],
   "source": [
    "house_data.to_csv(\"../preprocessed_data/std_test_data_7825967a44e4a03da711c91fd27039101ad8d52f.csv\", index = False)"
   ]
  },
  {
   "cell_type": "code",
   "execution_count": null,
   "metadata": {},
   "outputs": [],
   "source": []
  }
 ],
 "metadata": {
  "kernelspec": {
   "display_name": "Python 3",
   "language": "python",
   "name": "python3"
  },
  "language_info": {
   "codemirror_mode": {
    "name": "ipython",
    "version": 3
   },
   "file_extension": ".py",
   "mimetype": "text/x-python",
   "name": "python",
   "nbconvert_exporter": "python",
   "pygments_lexer": "ipython3",
   "version": "3.7.6"
  }
 },
 "nbformat": 4,
 "nbformat_minor": 4
}
