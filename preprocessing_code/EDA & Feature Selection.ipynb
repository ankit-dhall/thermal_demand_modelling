{
 "cells": [
  {
   "cell_type": "code",
   "execution_count": 1,
   "metadata": {},
   "outputs": [],
   "source": [
    "import numpy as np\n",
    "import pandas as pd\n",
    "import matplotlib.pyplot as plt\n",
    "import seaborn as sns\n",
    "import matplotlib.pyplot as plt\n",
    "from sklearn.feature_selection import RFE"
   ]
  },
  {
   "cell_type": "code",
   "execution_count": 2,
   "metadata": {},
   "outputs": [],
   "source": [
    "house_data = pd.read_csv(\"../preprocessed_data/clean_data1.csv\")"
   ]
  },
  {
   "cell_type": "code",
   "execution_count": 3,
   "metadata": {},
   "outputs": [],
   "source": [
    "house_data_std = pd.read_csv(\"../preprocessed_data/std_data.csv\")\n",
    "house_data_std.drop(columns = ['index'], axis = 1, inplace = True)"
   ]
  },
  {
   "cell_type": "code",
   "execution_count": 4,
   "metadata": {},
   "outputs": [],
   "source": [
    "house_data_ohe = pd.read_csv(\"../preprocessed_data/oneHot_data.csv\")"
   ]
  },
  {
   "cell_type": "code",
   "execution_count": 5,
   "metadata": {},
   "outputs": [
    {
     "data": {
      "text/html": [
       "<div>\n",
       "<style scoped>\n",
       "    .dataframe tbody tr th:only-of-type {\n",
       "        vertical-align: middle;\n",
       "    }\n",
       "\n",
       "    .dataframe tbody tr th {\n",
       "        vertical-align: top;\n",
       "    }\n",
       "\n",
       "    .dataframe thead th {\n",
       "        text-align: right;\n",
       "    }\n",
       "</style>\n",
       "<table border=\"1\" class=\"dataframe\">\n",
       "  <thead>\n",
       "    <tr style=\"text-align: right;\">\n",
       "      <th></th>\n",
       "      <th>hour_sin</th>\n",
       "      <th>hour_cos</th>\n",
       "      <th>month_sin</th>\n",
       "      <th>month_cos</th>\n",
       "      <th>day_sin</th>\n",
       "      <th>day_cos</th>\n",
       "      <th>Month</th>\n",
       "      <th>DayOfWeek</th>\n",
       "      <th>HourofDay</th>\n",
       "      <th>HvacMode</th>\n",
       "      <th>...</th>\n",
       "      <th>Humidity</th>\n",
       "      <th>auxHeat1</th>\n",
       "      <th>fan</th>\n",
       "      <th>Thermostat_Temperature</th>\n",
       "      <th>Thermostat_Motion</th>\n",
       "      <th>Remote_Sensor_1_Temperature</th>\n",
       "      <th>Remote_Sensor_1_Motion</th>\n",
       "      <th>T_out</th>\n",
       "      <th>RH_out</th>\n",
       "      <th>auxHeat1_label</th>\n",
       "    </tr>\n",
       "  </thead>\n",
       "  <tbody>\n",
       "    <tr>\n",
       "      <th>0</th>\n",
       "      <td>0.0</td>\n",
       "      <td>1.0</td>\n",
       "      <td>0.0</td>\n",
       "      <td>1.0</td>\n",
       "      <td>0.755303</td>\n",
       "      <td>0.484974</td>\n",
       "      <td>1</td>\n",
       "      <td>1</td>\n",
       "      <td>0</td>\n",
       "      <td>heat</td>\n",
       "      <td>...</td>\n",
       "      <td>37.0</td>\n",
       "      <td>0.0</td>\n",
       "      <td>165.0</td>\n",
       "      <td>70.0</td>\n",
       "      <td>0.0</td>\n",
       "      <td>67.0</td>\n",
       "      <td>0.0</td>\n",
       "      <td>41.0</td>\n",
       "      <td>95.0</td>\n",
       "      <td>0</td>\n",
       "    </tr>\n",
       "    <tr>\n",
       "      <th>1</th>\n",
       "      <td>0.0</td>\n",
       "      <td>1.0</td>\n",
       "      <td>0.0</td>\n",
       "      <td>1.0</td>\n",
       "      <td>0.755303</td>\n",
       "      <td>0.484974</td>\n",
       "      <td>1</td>\n",
       "      <td>1</td>\n",
       "      <td>0</td>\n",
       "      <td>heat</td>\n",
       "      <td>...</td>\n",
       "      <td>37.0</td>\n",
       "      <td>30.0</td>\n",
       "      <td>135.0</td>\n",
       "      <td>70.0</td>\n",
       "      <td>0.0</td>\n",
       "      <td>67.0</td>\n",
       "      <td>0.0</td>\n",
       "      <td>41.0</td>\n",
       "      <td>95.0</td>\n",
       "      <td>1</td>\n",
       "    </tr>\n",
       "    <tr>\n",
       "      <th>2</th>\n",
       "      <td>0.0</td>\n",
       "      <td>1.0</td>\n",
       "      <td>0.0</td>\n",
       "      <td>1.0</td>\n",
       "      <td>0.755303</td>\n",
       "      <td>0.484974</td>\n",
       "      <td>1</td>\n",
       "      <td>1</td>\n",
       "      <td>0</td>\n",
       "      <td>heat</td>\n",
       "      <td>...</td>\n",
       "      <td>37.0</td>\n",
       "      <td>300.0</td>\n",
       "      <td>300.0</td>\n",
       "      <td>70.0</td>\n",
       "      <td>0.0</td>\n",
       "      <td>67.0</td>\n",
       "      <td>0.0</td>\n",
       "      <td>41.0</td>\n",
       "      <td>95.0</td>\n",
       "      <td>1</td>\n",
       "    </tr>\n",
       "    <tr>\n",
       "      <th>3</th>\n",
       "      <td>0.0</td>\n",
       "      <td>1.0</td>\n",
       "      <td>0.0</td>\n",
       "      <td>1.0</td>\n",
       "      <td>0.755303</td>\n",
       "      <td>0.484974</td>\n",
       "      <td>1</td>\n",
       "      <td>1</td>\n",
       "      <td>0</td>\n",
       "      <td>heat</td>\n",
       "      <td>...</td>\n",
       "      <td>37.0</td>\n",
       "      <td>135.0</td>\n",
       "      <td>180.0</td>\n",
       "      <td>70.0</td>\n",
       "      <td>0.0</td>\n",
       "      <td>67.0</td>\n",
       "      <td>0.0</td>\n",
       "      <td>41.0</td>\n",
       "      <td>95.0</td>\n",
       "      <td>1</td>\n",
       "    </tr>\n",
       "    <tr>\n",
       "      <th>4</th>\n",
       "      <td>0.0</td>\n",
       "      <td>1.0</td>\n",
       "      <td>0.0</td>\n",
       "      <td>1.0</td>\n",
       "      <td>0.755303</td>\n",
       "      <td>0.484974</td>\n",
       "      <td>1</td>\n",
       "      <td>1</td>\n",
       "      <td>0</td>\n",
       "      <td>heat</td>\n",
       "      <td>...</td>\n",
       "      <td>37.0</td>\n",
       "      <td>0.0</td>\n",
       "      <td>120.0</td>\n",
       "      <td>70.0</td>\n",
       "      <td>0.0</td>\n",
       "      <td>67.0</td>\n",
       "      <td>0.0</td>\n",
       "      <td>41.0</td>\n",
       "      <td>95.0</td>\n",
       "      <td>0</td>\n",
       "    </tr>\n",
       "  </tbody>\n",
       "</table>\n",
       "<p>5 rows × 24 columns</p>\n",
       "</div>"
      ],
      "text/plain": [
       "   hour_sin  hour_cos  month_sin  month_cos   day_sin   day_cos  Month  \\\n",
       "0       0.0       1.0        0.0        1.0  0.755303  0.484974      1   \n",
       "1       0.0       1.0        0.0        1.0  0.755303  0.484974      1   \n",
       "2       0.0       1.0        0.0        1.0  0.755303  0.484974      1   \n",
       "3       0.0       1.0        0.0        1.0  0.755303  0.484974      1   \n",
       "4       0.0       1.0        0.0        1.0  0.755303  0.484974      1   \n",
       "\n",
       "   DayOfWeek  HourofDay HvacMode  ... Humidity auxHeat1    fan  \\\n",
       "0          1          0     heat  ...     37.0      0.0  165.0   \n",
       "1          1          0     heat  ...     37.0     30.0  135.0   \n",
       "2          1          0     heat  ...     37.0    300.0  300.0   \n",
       "3          1          0     heat  ...     37.0    135.0  180.0   \n",
       "4          1          0     heat  ...     37.0      0.0  120.0   \n",
       "\n",
       "   Thermostat_Temperature  Thermostat_Motion  Remote_Sensor_1_Temperature  \\\n",
       "0                    70.0                0.0                         67.0   \n",
       "1                    70.0                0.0                         67.0   \n",
       "2                    70.0                0.0                         67.0   \n",
       "3                    70.0                0.0                         67.0   \n",
       "4                    70.0                0.0                         67.0   \n",
       "\n",
       "   Remote_Sensor_1_Motion  T_out  RH_out  auxHeat1_label  \n",
       "0                     0.0   41.0    95.0               0  \n",
       "1                     0.0   41.0    95.0               1  \n",
       "2                     0.0   41.0    95.0               1  \n",
       "3                     0.0   41.0    95.0               1  \n",
       "4                     0.0   41.0    95.0               0  \n",
       "\n",
       "[5 rows x 24 columns]"
      ]
     },
     "execution_count": 5,
     "metadata": {},
     "output_type": "execute_result"
    }
   ],
   "source": [
    "house_data.head()"
   ]
  },
  {
   "cell_type": "code",
   "execution_count": 6,
   "metadata": {},
   "outputs": [
    {
     "data": {
      "text/html": [
       "<div>\n",
       "<style scoped>\n",
       "    .dataframe tbody tr th:only-of-type {\n",
       "        vertical-align: middle;\n",
       "    }\n",
       "\n",
       "    .dataframe tbody tr th {\n",
       "        vertical-align: top;\n",
       "    }\n",
       "\n",
       "    .dataframe thead th {\n",
       "        text-align: right;\n",
       "    }\n",
       "</style>\n",
       "<table border=\"1\" class=\"dataframe\">\n",
       "  <thead>\n",
       "    <tr style=\"text-align: right;\">\n",
       "      <th></th>\n",
       "      <th>hour_sin</th>\n",
       "      <th>hour_cos</th>\n",
       "      <th>month_sin</th>\n",
       "      <th>month_cos</th>\n",
       "      <th>day_sin</th>\n",
       "      <th>day_cos</th>\n",
       "      <th>Month</th>\n",
       "      <th>DayOfWeek</th>\n",
       "      <th>HourofDay</th>\n",
       "      <th>HvacMode</th>\n",
       "      <th>...</th>\n",
       "      <th>Humidity</th>\n",
       "      <th>auxHeat1</th>\n",
       "      <th>fan</th>\n",
       "      <th>Thermostat_Temperature</th>\n",
       "      <th>Thermostat_Motion</th>\n",
       "      <th>Remote_Sensor_1_Temperature</th>\n",
       "      <th>Remote_Sensor_1_Motion</th>\n",
       "      <th>T_out</th>\n",
       "      <th>RH_out</th>\n",
       "      <th>auxHeat1_label</th>\n",
       "    </tr>\n",
       "  </thead>\n",
       "  <tbody>\n",
       "    <tr>\n",
       "      <th>0</th>\n",
       "      <td>0.0</td>\n",
       "      <td>1.0</td>\n",
       "      <td>0.0</td>\n",
       "      <td>1.0</td>\n",
       "      <td>0.755303</td>\n",
       "      <td>0.484974</td>\n",
       "      <td>1</td>\n",
       "      <td>1</td>\n",
       "      <td>0</td>\n",
       "      <td>heat</td>\n",
       "      <td>...</td>\n",
       "      <td>-0.04369</td>\n",
       "      <td>0</td>\n",
       "      <td>11</td>\n",
       "      <td>0.325373</td>\n",
       "      <td>-0.372318</td>\n",
       "      <td>67.0</td>\n",
       "      <td>0.0</td>\n",
       "      <td>-0.132793</td>\n",
       "      <td>1.825624</td>\n",
       "      <td>0</td>\n",
       "    </tr>\n",
       "    <tr>\n",
       "      <th>1</th>\n",
       "      <td>0.0</td>\n",
       "      <td>1.0</td>\n",
       "      <td>0.0</td>\n",
       "      <td>1.0</td>\n",
       "      <td>0.755303</td>\n",
       "      <td>0.484974</td>\n",
       "      <td>1</td>\n",
       "      <td>1</td>\n",
       "      <td>0</td>\n",
       "      <td>heat</td>\n",
       "      <td>...</td>\n",
       "      <td>-0.04369</td>\n",
       "      <td>2</td>\n",
       "      <td>9</td>\n",
       "      <td>0.325373</td>\n",
       "      <td>-0.372318</td>\n",
       "      <td>67.0</td>\n",
       "      <td>0.0</td>\n",
       "      <td>-0.132793</td>\n",
       "      <td>1.825624</td>\n",
       "      <td>1</td>\n",
       "    </tr>\n",
       "    <tr>\n",
       "      <th>2</th>\n",
       "      <td>0.0</td>\n",
       "      <td>1.0</td>\n",
       "      <td>0.0</td>\n",
       "      <td>1.0</td>\n",
       "      <td>0.755303</td>\n",
       "      <td>0.484974</td>\n",
       "      <td>1</td>\n",
       "      <td>1</td>\n",
       "      <td>0</td>\n",
       "      <td>heat</td>\n",
       "      <td>...</td>\n",
       "      <td>-0.04369</td>\n",
       "      <td>20</td>\n",
       "      <td>20</td>\n",
       "      <td>0.325373</td>\n",
       "      <td>-0.372318</td>\n",
       "      <td>67.0</td>\n",
       "      <td>0.0</td>\n",
       "      <td>-0.132793</td>\n",
       "      <td>1.825624</td>\n",
       "      <td>1</td>\n",
       "    </tr>\n",
       "    <tr>\n",
       "      <th>3</th>\n",
       "      <td>0.0</td>\n",
       "      <td>1.0</td>\n",
       "      <td>0.0</td>\n",
       "      <td>1.0</td>\n",
       "      <td>0.755303</td>\n",
       "      <td>0.484974</td>\n",
       "      <td>1</td>\n",
       "      <td>1</td>\n",
       "      <td>0</td>\n",
       "      <td>heat</td>\n",
       "      <td>...</td>\n",
       "      <td>-0.04369</td>\n",
       "      <td>9</td>\n",
       "      <td>12</td>\n",
       "      <td>0.325373</td>\n",
       "      <td>-0.372318</td>\n",
       "      <td>67.0</td>\n",
       "      <td>0.0</td>\n",
       "      <td>-0.132793</td>\n",
       "      <td>1.825624</td>\n",
       "      <td>1</td>\n",
       "    </tr>\n",
       "    <tr>\n",
       "      <th>4</th>\n",
       "      <td>0.0</td>\n",
       "      <td>1.0</td>\n",
       "      <td>0.0</td>\n",
       "      <td>1.0</td>\n",
       "      <td>0.755303</td>\n",
       "      <td>0.484974</td>\n",
       "      <td>1</td>\n",
       "      <td>1</td>\n",
       "      <td>0</td>\n",
       "      <td>heat</td>\n",
       "      <td>...</td>\n",
       "      <td>-0.04369</td>\n",
       "      <td>0</td>\n",
       "      <td>8</td>\n",
       "      <td>0.325373</td>\n",
       "      <td>-0.372318</td>\n",
       "      <td>67.0</td>\n",
       "      <td>0.0</td>\n",
       "      <td>-0.132793</td>\n",
       "      <td>1.825624</td>\n",
       "      <td>0</td>\n",
       "    </tr>\n",
       "  </tbody>\n",
       "</table>\n",
       "<p>5 rows × 24 columns</p>\n",
       "</div>"
      ],
      "text/plain": [
       "   hour_sin  hour_cos  month_sin  month_cos   day_sin   day_cos  Month  \\\n",
       "0       0.0       1.0        0.0        1.0  0.755303  0.484974      1   \n",
       "1       0.0       1.0        0.0        1.0  0.755303  0.484974      1   \n",
       "2       0.0       1.0        0.0        1.0  0.755303  0.484974      1   \n",
       "3       0.0       1.0        0.0        1.0  0.755303  0.484974      1   \n",
       "4       0.0       1.0        0.0        1.0  0.755303  0.484974      1   \n",
       "\n",
       "   DayOfWeek  HourofDay HvacMode  ... Humidity auxHeat1  fan  \\\n",
       "0          1          0     heat  ... -0.04369        0   11   \n",
       "1          1          0     heat  ... -0.04369        2    9   \n",
       "2          1          0     heat  ... -0.04369       20   20   \n",
       "3          1          0     heat  ... -0.04369        9   12   \n",
       "4          1          0     heat  ... -0.04369        0    8   \n",
       "\n",
       "   Thermostat_Temperature  Thermostat_Motion  Remote_Sensor_1_Temperature  \\\n",
       "0                0.325373          -0.372318                         67.0   \n",
       "1                0.325373          -0.372318                         67.0   \n",
       "2                0.325373          -0.372318                         67.0   \n",
       "3                0.325373          -0.372318                         67.0   \n",
       "4                0.325373          -0.372318                         67.0   \n",
       "\n",
       "   Remote_Sensor_1_Motion     T_out    RH_out  auxHeat1_label  \n",
       "0                     0.0 -0.132793  1.825624               0  \n",
       "1                     0.0 -0.132793  1.825624               1  \n",
       "2                     0.0 -0.132793  1.825624               1  \n",
       "3                     0.0 -0.132793  1.825624               1  \n",
       "4                     0.0 -0.132793  1.825624               0  \n",
       "\n",
       "[5 rows x 24 columns]"
      ]
     },
     "execution_count": 6,
     "metadata": {},
     "output_type": "execute_result"
    }
   ],
   "source": [
    "house_data_std.head()"
   ]
  },
  {
   "cell_type": "code",
   "execution_count": 7,
   "metadata": {},
   "outputs": [
    {
     "data": {
      "text/html": [
       "<div>\n",
       "<style scoped>\n",
       "    .dataframe tbody tr th:only-of-type {\n",
       "        vertical-align: middle;\n",
       "    }\n",
       "\n",
       "    .dataframe tbody tr th {\n",
       "        vertical-align: top;\n",
       "    }\n",
       "\n",
       "    .dataframe thead th {\n",
       "        text-align: right;\n",
       "    }\n",
       "</style>\n",
       "<table border=\"1\" class=\"dataframe\">\n",
       "  <thead>\n",
       "    <tr style=\"text-align: right;\">\n",
       "      <th></th>\n",
       "      <th>hour_sin</th>\n",
       "      <th>hour_cos</th>\n",
       "      <th>month_sin</th>\n",
       "      <th>month_cos</th>\n",
       "      <th>day_sin</th>\n",
       "      <th>day_cos</th>\n",
       "      <th>Month</th>\n",
       "      <th>DayOfWeek</th>\n",
       "      <th>HourofDay</th>\n",
       "      <th>HvacMode_heat</th>\n",
       "      <th>...</th>\n",
       "      <th>Humidity</th>\n",
       "      <th>auxHeat1</th>\n",
       "      <th>fan</th>\n",
       "      <th>Thermostat_Temperature</th>\n",
       "      <th>Thermostat_Motion</th>\n",
       "      <th>Remote_Sensor_1_Temperature</th>\n",
       "      <th>Remote_Sensor_1_Motion</th>\n",
       "      <th>T_out</th>\n",
       "      <th>RH_out</th>\n",
       "      <th>auxHeat1_label</th>\n",
       "    </tr>\n",
       "  </thead>\n",
       "  <tbody>\n",
       "    <tr>\n",
       "      <th>0</th>\n",
       "      <td>0.0</td>\n",
       "      <td>1.0</td>\n",
       "      <td>0.0</td>\n",
       "      <td>1.0</td>\n",
       "      <td>0.755303</td>\n",
       "      <td>0.484974</td>\n",
       "      <td>1</td>\n",
       "      <td>1</td>\n",
       "      <td>0</td>\n",
       "      <td>1</td>\n",
       "      <td>...</td>\n",
       "      <td>-0.04369</td>\n",
       "      <td>0</td>\n",
       "      <td>11</td>\n",
       "      <td>0.325373</td>\n",
       "      <td>-0.372318</td>\n",
       "      <td>67.0</td>\n",
       "      <td>0.0</td>\n",
       "      <td>-0.132793</td>\n",
       "      <td>1.825624</td>\n",
       "      <td>0</td>\n",
       "    </tr>\n",
       "    <tr>\n",
       "      <th>1</th>\n",
       "      <td>0.0</td>\n",
       "      <td>1.0</td>\n",
       "      <td>0.0</td>\n",
       "      <td>1.0</td>\n",
       "      <td>0.755303</td>\n",
       "      <td>0.484974</td>\n",
       "      <td>1</td>\n",
       "      <td>1</td>\n",
       "      <td>0</td>\n",
       "      <td>1</td>\n",
       "      <td>...</td>\n",
       "      <td>-0.04369</td>\n",
       "      <td>2</td>\n",
       "      <td>9</td>\n",
       "      <td>0.325373</td>\n",
       "      <td>-0.372318</td>\n",
       "      <td>67.0</td>\n",
       "      <td>0.0</td>\n",
       "      <td>-0.132793</td>\n",
       "      <td>1.825624</td>\n",
       "      <td>1</td>\n",
       "    </tr>\n",
       "    <tr>\n",
       "      <th>2</th>\n",
       "      <td>0.0</td>\n",
       "      <td>1.0</td>\n",
       "      <td>0.0</td>\n",
       "      <td>1.0</td>\n",
       "      <td>0.755303</td>\n",
       "      <td>0.484974</td>\n",
       "      <td>1</td>\n",
       "      <td>1</td>\n",
       "      <td>0</td>\n",
       "      <td>1</td>\n",
       "      <td>...</td>\n",
       "      <td>-0.04369</td>\n",
       "      <td>20</td>\n",
       "      <td>20</td>\n",
       "      <td>0.325373</td>\n",
       "      <td>-0.372318</td>\n",
       "      <td>67.0</td>\n",
       "      <td>0.0</td>\n",
       "      <td>-0.132793</td>\n",
       "      <td>1.825624</td>\n",
       "      <td>1</td>\n",
       "    </tr>\n",
       "    <tr>\n",
       "      <th>3</th>\n",
       "      <td>0.0</td>\n",
       "      <td>1.0</td>\n",
       "      <td>0.0</td>\n",
       "      <td>1.0</td>\n",
       "      <td>0.755303</td>\n",
       "      <td>0.484974</td>\n",
       "      <td>1</td>\n",
       "      <td>1</td>\n",
       "      <td>0</td>\n",
       "      <td>1</td>\n",
       "      <td>...</td>\n",
       "      <td>-0.04369</td>\n",
       "      <td>9</td>\n",
       "      <td>12</td>\n",
       "      <td>0.325373</td>\n",
       "      <td>-0.372318</td>\n",
       "      <td>67.0</td>\n",
       "      <td>0.0</td>\n",
       "      <td>-0.132793</td>\n",
       "      <td>1.825624</td>\n",
       "      <td>1</td>\n",
       "    </tr>\n",
       "    <tr>\n",
       "      <th>4</th>\n",
       "      <td>0.0</td>\n",
       "      <td>1.0</td>\n",
       "      <td>0.0</td>\n",
       "      <td>1.0</td>\n",
       "      <td>0.755303</td>\n",
       "      <td>0.484974</td>\n",
       "      <td>1</td>\n",
       "      <td>1</td>\n",
       "      <td>0</td>\n",
       "      <td>1</td>\n",
       "      <td>...</td>\n",
       "      <td>-0.04369</td>\n",
       "      <td>0</td>\n",
       "      <td>8</td>\n",
       "      <td>0.325373</td>\n",
       "      <td>-0.372318</td>\n",
       "      <td>67.0</td>\n",
       "      <td>0.0</td>\n",
       "      <td>-0.132793</td>\n",
       "      <td>1.825624</td>\n",
       "      <td>0</td>\n",
       "    </tr>\n",
       "  </tbody>\n",
       "</table>\n",
       "<p>5 rows × 28 columns</p>\n",
       "</div>"
      ],
      "text/plain": [
       "   hour_sin  hour_cos  month_sin  month_cos   day_sin   day_cos  Month  \\\n",
       "0       0.0       1.0        0.0        1.0  0.755303  0.484974      1   \n",
       "1       0.0       1.0        0.0        1.0  0.755303  0.484974      1   \n",
       "2       0.0       1.0        0.0        1.0  0.755303  0.484974      1   \n",
       "3       0.0       1.0        0.0        1.0  0.755303  0.484974      1   \n",
       "4       0.0       1.0        0.0        1.0  0.755303  0.484974      1   \n",
       "\n",
       "   DayOfWeek  HourofDay  HvacMode_heat  ...  Humidity  auxHeat1  fan  \\\n",
       "0          1          0              1  ...  -0.04369         0   11   \n",
       "1          1          0              1  ...  -0.04369         2    9   \n",
       "2          1          0              1  ...  -0.04369        20   20   \n",
       "3          1          0              1  ...  -0.04369         9   12   \n",
       "4          1          0              1  ...  -0.04369         0    8   \n",
       "\n",
       "   Thermostat_Temperature  Thermostat_Motion  Remote_Sensor_1_Temperature  \\\n",
       "0                0.325373          -0.372318                         67.0   \n",
       "1                0.325373          -0.372318                         67.0   \n",
       "2                0.325373          -0.372318                         67.0   \n",
       "3                0.325373          -0.372318                         67.0   \n",
       "4                0.325373          -0.372318                         67.0   \n",
       "\n",
       "   Remote_Sensor_1_Motion     T_out    RH_out  auxHeat1_label  \n",
       "0                     0.0 -0.132793  1.825624               0  \n",
       "1                     0.0 -0.132793  1.825624               1  \n",
       "2                     0.0 -0.132793  1.825624               1  \n",
       "3                     0.0 -0.132793  1.825624               1  \n",
       "4                     0.0 -0.132793  1.825624               0  \n",
       "\n",
       "[5 rows x 28 columns]"
      ]
     },
     "execution_count": 7,
     "metadata": {},
     "output_type": "execute_result"
    }
   ],
   "source": [
    "house_data_ohe.head()"
   ]
  },
  {
   "cell_type": "markdown",
   "metadata": {},
   "source": [
    "https://machinelearningmastery.com/feature-selection-with-real-and-categorical-data/"
   ]
  },
  {
   "cell_type": "markdown",
   "metadata": {},
   "source": [
    "### Numerical Input, Categorical Output"
   ]
  },
  {
   "cell_type": "markdown",
   "metadata": {},
   "source": [
    "This is a classification predictive modeling problem with numerical input variables.\n",
    "<br>\n",
    "This might be the most common example of a classification problem,\n",
    "<br>\n",
    "Again, the most common techniques are correlation based, although in this case, they must take the categorical target into account.\n",
    "<br>\n",
    "ANOVA correlation coefficient (linear).\n",
    "Kendall’s rank coefficient (nonlinear).\n",
    "Kendall does assume that the categorical variable is ordinal."
   ]
  },
  {
   "cell_type": "markdown",
   "metadata": {},
   "source": [
    "### Using Filter Methods for Feature Selection"
   ]
  },
  {
   "cell_type": "markdown",
   "metadata": {},
   "source": [
    "### Correlation Heatmap"
   ]
  },
  {
   "cell_type": "code",
   "execution_count": 9,
   "metadata": {},
   "outputs": [
    {
     "data": {
      "text/plain": [
       "Index(['hour_sin', 'hour_cos', 'month_sin', 'month_cos', 'day_sin', 'day_cos',\n",
       "       'Month', 'DayOfWeek', 'HourofDay', 'HvacMode', 'Event', 'Schedule',\n",
       "       'T_ctrl', 'T_stp_heat', 'Humidity', 'auxHeat1', 'fan',\n",
       "       'Thermostat_Temperature', 'Thermostat_Motion',\n",
       "       'Remote_Sensor_1_Temperature', 'Remote_Sensor_1_Motion', 'T_out',\n",
       "       'RH_out', 'auxHeat1_label'],\n",
       "      dtype='object')"
      ]
     },
     "execution_count": 9,
     "metadata": {},
     "output_type": "execute_result"
    }
   ],
   "source": [
    "house_data"
   ]
  },
  {
   "cell_type": "code",
   "execution_count": 10,
   "metadata": {},
   "outputs": [],
   "source": [
    "house_data.drop(labels = ['Month', 'DayOfWeek', 'HourofDay', 'Remote_Sensor_1_Temperature', 'Remote_Sensor_1_Motion', 'auxHeat1_label'], axis = 1, inplace = True) "
   ]
  },
  {
   "cell_type": "code",
   "execution_count": 11,
   "metadata": {},
   "outputs": [
    {
     "data": {
      "image/png": "[encoded data removed]",
      "text/plain": [
       "<Figure size 1152x864 with 2 Axes>"
      ]
     },
     "metadata": {
      "needs_background": "light"
     },
     "output_type": "display_data"
    }
   ],
   "source": [
    "plt.figure(figsize = (16,12))\n",
    "cor = house_data.corr('pearson')\n",
    "sns.heatmap(cor, annot = True, cmap = plt.cm.Reds)\n",
    "plt.show()"
   ]
  },
  {
   "cell_type": "markdown",
   "metadata": {},
   "source": [
    "#### High correlation between 'T_ctrl' and 'Thermostat_Temperature'. Understandable as the Thermostat Temperature majorly depends on the T_ctrl at any given time. However, none of the two features can be removed from the lot of features as they both indvidually play a role in deciding other values in the dataset and might be valuable on their own as well.\n",
    "\n",
    "#### High correlation between 'month_cos' and 'T_out' features. However neither can be removed as they are both individually important in order to determine other feature values. \n",
    "\n",
    "#### Moderately high correlation between T_out and Humidity features. Understandable as Humidity might tend to increase with Temperature. However, it is not high enough to remove either of the features\n"
   ]
  },
  {
   "cell_type": "markdown",
   "metadata": {},
   "source": [
    "### ANOVA f-measure (Numerical Input, Categorical Output)"
   ]
  },
  {
   "cell_type": "code",
   "execution_count": 12,
   "metadata": {},
   "outputs": [
    {
     "data": {
      "text/plain": [
       "Index(['hour_sin', 'hour_cos', 'month_sin', 'month_cos', 'day_sin', 'day_cos',\n",
       "       'Month', 'DayOfWeek', 'HourofDay', 'HvacMode', 'Event', 'Schedule',\n",
       "       'T_ctrl', 'T_stp_heat', 'Humidity', 'auxHeat1', 'fan',\n",
       "       'Thermostat_Temperature', 'Thermostat_Motion',\n",
       "       'Remote_Sensor_1_Temperature', 'Remote_Sensor_1_Motion', 'T_out',\n",
       "       'RH_out', 'auxHeat1_label'],\n",
       "      dtype='object')"
      ]
     },
     "execution_count": 12,
     "metadata": {},
     "output_type": "execute_result"
    }
   ],
   "source": [
    "house_data_std.columns"
   ]
  },
  {
   "cell_type": "code",
   "execution_count": 13,
   "metadata": {},
   "outputs": [],
   "source": [
    "numerical_features = ['hour_sin', 'hour_cos', 'month_sin', 'month_cos', 'day_sin', 'day_cos', \n",
    "                      'T_ctrl', 'T_stp_heat', 'Humidity', 'Thermostat_Temperature', 'Thermostat_Motion', 'T_out', 'RH_out']"
   ]
  },
  {
   "cell_type": "code",
   "execution_count": 14,
   "metadata": {},
   "outputs": [],
   "source": [
    "from sklearn.feature_selection import SelectKBest\n",
    "from sklearn.feature_selection import f_classif\n",
    "from sklearn.datasets import make_classification\n",
    "from sklearn.preprocessing import OrdinalEncoder, LabelEncoder\n",
    "from sklearn.feature_selection import chi2\n",
    "from sklearn.feature_selection import mutual_info_classif"
   ]
  },
  {
   "cell_type": "code",
   "execution_count": 15,
   "metadata": {},
   "outputs": [
    {
     "data": {
      "text/html": [
       "<div>\n",
       "<style scoped>\n",
       "    .dataframe tbody tr th:only-of-type {\n",
       "        vertical-align: middle;\n",
       "    }\n",
       "\n",
       "    .dataframe tbody tr th {\n",
       "        vertical-align: top;\n",
       "    }\n",
       "\n",
       "    .dataframe thead th {\n",
       "        text-align: right;\n",
       "    }\n",
       "</style>\n",
       "<table border=\"1\" class=\"dataframe\">\n",
       "  <thead>\n",
       "    <tr style=\"text-align: right;\">\n",
       "      <th></th>\n",
       "      <th>hour_sin</th>\n",
       "      <th>hour_cos</th>\n",
       "      <th>month_sin</th>\n",
       "      <th>month_cos</th>\n",
       "      <th>day_sin</th>\n",
       "      <th>day_cos</th>\n",
       "      <th>Month</th>\n",
       "      <th>DayOfWeek</th>\n",
       "      <th>HourofDay</th>\n",
       "      <th>HvacMode</th>\n",
       "      <th>...</th>\n",
       "      <th>Humidity</th>\n",
       "      <th>auxHeat1</th>\n",
       "      <th>fan</th>\n",
       "      <th>Thermostat_Temperature</th>\n",
       "      <th>Thermostat_Motion</th>\n",
       "      <th>Remote_Sensor_1_Temperature</th>\n",
       "      <th>Remote_Sensor_1_Motion</th>\n",
       "      <th>T_out</th>\n",
       "      <th>RH_out</th>\n",
       "      <th>auxHeat1_label</th>\n",
       "    </tr>\n",
       "  </thead>\n",
       "  <tbody>\n",
       "    <tr>\n",
       "      <th>0</th>\n",
       "      <td>0.0</td>\n",
       "      <td>1.0</td>\n",
       "      <td>0.0</td>\n",
       "      <td>1.0</td>\n",
       "      <td>0.755303</td>\n",
       "      <td>0.484974</td>\n",
       "      <td>1</td>\n",
       "      <td>1</td>\n",
       "      <td>0</td>\n",
       "      <td>heat</td>\n",
       "      <td>...</td>\n",
       "      <td>-0.04369</td>\n",
       "      <td>0</td>\n",
       "      <td>11</td>\n",
       "      <td>0.325373</td>\n",
       "      <td>-0.372318</td>\n",
       "      <td>67.0</td>\n",
       "      <td>0.0</td>\n",
       "      <td>-0.132793</td>\n",
       "      <td>1.825624</td>\n",
       "      <td>0</td>\n",
       "    </tr>\n",
       "    <tr>\n",
       "      <th>1</th>\n",
       "      <td>0.0</td>\n",
       "      <td>1.0</td>\n",
       "      <td>0.0</td>\n",
       "      <td>1.0</td>\n",
       "      <td>0.755303</td>\n",
       "      <td>0.484974</td>\n",
       "      <td>1</td>\n",
       "      <td>1</td>\n",
       "      <td>0</td>\n",
       "      <td>heat</td>\n",
       "      <td>...</td>\n",
       "      <td>-0.04369</td>\n",
       "      <td>2</td>\n",
       "      <td>9</td>\n",
       "      <td>0.325373</td>\n",
       "      <td>-0.372318</td>\n",
       "      <td>67.0</td>\n",
       "      <td>0.0</td>\n",
       "      <td>-0.132793</td>\n",
       "      <td>1.825624</td>\n",
       "      <td>1</td>\n",
       "    </tr>\n",
       "    <tr>\n",
       "      <th>2</th>\n",
       "      <td>0.0</td>\n",
       "      <td>1.0</td>\n",
       "      <td>0.0</td>\n",
       "      <td>1.0</td>\n",
       "      <td>0.755303</td>\n",
       "      <td>0.484974</td>\n",
       "      <td>1</td>\n",
       "      <td>1</td>\n",
       "      <td>0</td>\n",
       "      <td>heat</td>\n",
       "      <td>...</td>\n",
       "      <td>-0.04369</td>\n",
       "      <td>20</td>\n",
       "      <td>20</td>\n",
       "      <td>0.325373</td>\n",
       "      <td>-0.372318</td>\n",
       "      <td>67.0</td>\n",
       "      <td>0.0</td>\n",
       "      <td>-0.132793</td>\n",
       "      <td>1.825624</td>\n",
       "      <td>1</td>\n",
       "    </tr>\n",
       "    <tr>\n",
       "      <th>3</th>\n",
       "      <td>0.0</td>\n",
       "      <td>1.0</td>\n",
       "      <td>0.0</td>\n",
       "      <td>1.0</td>\n",
       "      <td>0.755303</td>\n",
       "      <td>0.484974</td>\n",
       "      <td>1</td>\n",
       "      <td>1</td>\n",
       "      <td>0</td>\n",
       "      <td>heat</td>\n",
       "      <td>...</td>\n",
       "      <td>-0.04369</td>\n",
       "      <td>9</td>\n",
       "      <td>12</td>\n",
       "      <td>0.325373</td>\n",
       "      <td>-0.372318</td>\n",
       "      <td>67.0</td>\n",
       "      <td>0.0</td>\n",
       "      <td>-0.132793</td>\n",
       "      <td>1.825624</td>\n",
       "      <td>1</td>\n",
       "    </tr>\n",
       "    <tr>\n",
       "      <th>4</th>\n",
       "      <td>0.0</td>\n",
       "      <td>1.0</td>\n",
       "      <td>0.0</td>\n",
       "      <td>1.0</td>\n",
       "      <td>0.755303</td>\n",
       "      <td>0.484974</td>\n",
       "      <td>1</td>\n",
       "      <td>1</td>\n",
       "      <td>0</td>\n",
       "      <td>heat</td>\n",
       "      <td>...</td>\n",
       "      <td>-0.04369</td>\n",
       "      <td>0</td>\n",
       "      <td>8</td>\n",
       "      <td>0.325373</td>\n",
       "      <td>-0.372318</td>\n",
       "      <td>67.0</td>\n",
       "      <td>0.0</td>\n",
       "      <td>-0.132793</td>\n",
       "      <td>1.825624</td>\n",
       "      <td>0</td>\n",
       "    </tr>\n",
       "  </tbody>\n",
       "</table>\n",
       "<p>5 rows × 24 columns</p>\n",
       "</div>"
      ],
      "text/plain": [
       "   hour_sin  hour_cos  month_sin  month_cos   day_sin   day_cos  Month  \\\n",
       "0       0.0       1.0        0.0        1.0  0.755303  0.484974      1   \n",
       "1       0.0       1.0        0.0        1.0  0.755303  0.484974      1   \n",
       "2       0.0       1.0        0.0        1.0  0.755303  0.484974      1   \n",
       "3       0.0       1.0        0.0        1.0  0.755303  0.484974      1   \n",
       "4       0.0       1.0        0.0        1.0  0.755303  0.484974      1   \n",
       "\n",
       "   DayOfWeek  HourofDay HvacMode  ... Humidity auxHeat1  fan  \\\n",
       "0          1          0     heat  ... -0.04369        0   11   \n",
       "1          1          0     heat  ... -0.04369        2    9   \n",
       "2          1          0     heat  ... -0.04369       20   20   \n",
       "3          1          0     heat  ... -0.04369        9   12   \n",
       "4          1          0     heat  ... -0.04369        0    8   \n",
       "\n",
       "   Thermostat_Temperature  Thermostat_Motion  Remote_Sensor_1_Temperature  \\\n",
       "0                0.325373          -0.372318                         67.0   \n",
       "1                0.325373          -0.372318                         67.0   \n",
       "2                0.325373          -0.372318                         67.0   \n",
       "3                0.325373          -0.372318                         67.0   \n",
       "4                0.325373          -0.372318                         67.0   \n",
       "\n",
       "   Remote_Sensor_1_Motion     T_out    RH_out  auxHeat1_label  \n",
       "0                     0.0 -0.132793  1.825624               0  \n",
       "1                     0.0 -0.132793  1.825624               1  \n",
       "2                     0.0 -0.132793  1.825624               1  \n",
       "3                     0.0 -0.132793  1.825624               1  \n",
       "4                     0.0 -0.132793  1.825624               0  \n",
       "\n",
       "[5 rows x 24 columns]"
      ]
     },
     "execution_count": 15,
     "metadata": {},
     "output_type": "execute_result"
    }
   ],
   "source": [
    "house_data_std.head()"
   ]
  },
  {
   "cell_type": "code",
   "execution_count": 16,
   "metadata": {},
   "outputs": [],
   "source": [
    "X, y = house_data_std[numerical_features], house_data_std['auxHeat1']"
   ]
  },
  {
   "cell_type": "code",
   "execution_count": 17,
   "metadata": {},
   "outputs": [],
   "source": [
    "X = np.array(X)"
   ]
  },
  {
   "cell_type": "code",
   "execution_count": 18,
   "metadata": {},
   "outputs": [],
   "source": [
    "y = np.array(y)"
   ]
  },
  {
   "cell_type": "code",
   "execution_count": 19,
   "metadata": {},
   "outputs": [],
   "source": [
    "oe = OrdinalEncoder()\n",
    "y = oe.fit_transform(y.reshape(-1, 1))"
   ]
  },
  {
   "cell_type": "code",
   "execution_count": 20,
   "metadata": {},
   "outputs": [
    {
     "data": {
      "text/plain": [
       "(numpy.ndarray, numpy.ndarray)"
      ]
     },
     "execution_count": 20,
     "metadata": {},
     "output_type": "execute_result"
    }
   ],
   "source": [
    "type(X), type(y)"
   ]
  },
  {
   "cell_type": "code",
   "execution_count": 21,
   "metadata": {},
   "outputs": [
    {
     "data": {
      "text/plain": [
       "(64619, 13)"
      ]
     },
     "execution_count": 21,
     "metadata": {},
     "output_type": "execute_result"
    }
   ],
   "source": [
    "X.shape"
   ]
  },
  {
   "cell_type": "code",
   "execution_count": 22,
   "metadata": {},
   "outputs": [
    {
     "data": {
      "text/plain": [
       "(64619, 1)"
      ]
     },
     "execution_count": 22,
     "metadata": {},
     "output_type": "execute_result"
    }
   ],
   "source": [
    "y.shape"
   ]
  },
  {
   "cell_type": "code",
   "execution_count": 23,
   "metadata": {},
   "outputs": [
    {
     "data": {
      "text/plain": [
       "array([[ 0.],\n",
       "       [ 2.],\n",
       "       [20.],\n",
       "       ...,\n",
       "       [ 0.],\n",
       "       [ 0.],\n",
       "       [ 6.]])"
      ]
     },
     "execution_count": 23,
     "metadata": {},
     "output_type": "execute_result"
    }
   ],
   "source": [
    "y"
   ]
  },
  {
   "cell_type": "code",
   "execution_count": 33,
   "metadata": {},
   "outputs": [],
   "source": [
    "fs = SelectKBest(score_func=f_classif, k = 'all')\n",
    "X_selected = fs.fit_transform(X, y.reshape(y.shape[0], ))"
   ]
  },
  {
   "cell_type": "code",
   "execution_count": 34,
   "metadata": {},
   "outputs": [
    {
     "name": "stdout",
     "output_type": "stream",
     "text": [
      "(64619, 13)\n"
     ]
    }
   ],
   "source": [
    "print(X_selected.shape)"
   ]
  },
  {
   "cell_type": "code",
   "execution_count": 35,
   "metadata": {},
   "outputs": [
    {
     "data": {
      "text/plain": [
       "hour_sin                          0\n",
       "hour_cos                          1\n",
       "month_sin                         0\n",
       "month_cos                         1\n",
       "day_sin                    0.755303\n",
       "day_cos                    0.484974\n",
       "T_ctrl                      0.28937\n",
       "T_stp_heat                 0.738328\n",
       "Humidity                 -0.0436904\n",
       "Thermostat_Temperature     0.325373\n",
       "Thermostat_Motion         -0.372318\n",
       "T_out                     -0.132793\n",
       "RH_out                      1.82562\n",
       "Name: 0, dtype: object"
      ]
     },
     "execution_count": 35,
     "metadata": {},
     "output_type": "execute_result"
    }
   ],
   "source": [
    "house_data_std.loc[0, numerical_features]"
   ]
  },
  {
   "cell_type": "code",
   "execution_count": 37,
   "metadata": {},
   "outputs": [
    {
     "name": "stdout",
     "output_type": "stream",
     "text": [
      "Feature 0: 5.368163\n",
      "Feature 1: 6.434517\n",
      "Feature 2: 4.195052\n",
      "Feature 3: 608.834921\n",
      "Feature 4: 10.933881\n",
      "Feature 5: 1.263004\n",
      "Feature 6: 35.899204\n",
      "Feature 7: 886.759441\n",
      "Feature 8: 533.989721\n",
      "Feature 9: 51.814932\n",
      "Feature 10: 16.636071\n",
      "Feature 11: 892.522619\n",
      "Feature 12: 9.921598\n"
     ]
    },
    {
     "data": {
      "image/png": "[encoded data removed]",
      "text/plain": [
       "<Figure size 432x288 with 1 Axes>"
      ]
     },
     "metadata": {
      "needs_background": "light"
     },
     "output_type": "display_data"
    }
   ],
   "source": [
    "for i in range(len(fs.scores_)):\n",
    "    print('Feature %d: %f' % (i, fs.scores_[i]))\n",
    "# plot the scores\n",
    "plt.bar([i for i in range(len(fs.scores_))], fs.scores_)\n",
    "plt.show()"
   ]
  },
  {
   "cell_type": "markdown",
   "metadata": {},
   "source": [
    "#### Mostly all of the numerical features are being used in order to make classifications. The least important features in terms of relative importance seem to be the hour and month projection variables"
   ]
  },
  {
   "cell_type": "markdown",
   "metadata": {},
   "source": [
    "### Chi-2-measure (Categorical Input, Categorical Output)"
   ]
  },
  {
   "cell_type": "markdown",
   "metadata": {},
   "source": [
    "https://machinelearningmastery.com/feature-selection-with-categorical-data/"
   ]
  },
  {
   "cell_type": "code",
   "execution_count": 38,
   "metadata": {},
   "outputs": [
    {
     "data": {
      "text/plain": [
       "Index(['hour_sin', 'hour_cos', 'month_sin', 'month_cos', 'day_sin', 'day_cos',\n",
       "       'Month', 'DayOfWeek', 'HourofDay', 'HvacMode', 'Event', 'Schedule',\n",
       "       'T_ctrl', 'T_stp_heat', 'Humidity', 'auxHeat1', 'fan',\n",
       "       'Thermostat_Temperature', 'Thermostat_Motion',\n",
       "       'Remote_Sensor_1_Temperature', 'Remote_Sensor_1_Motion', 'T_out',\n",
       "       'RH_out', 'auxHeat1_label'],\n",
       "      dtype='object')"
      ]
     },
     "execution_count": 38,
     "metadata": {},
     "output_type": "execute_result"
    }
   ],
   "source": [
    "house_data_std.columns"
   ]
  },
  {
   "cell_type": "code",
   "execution_count": 39,
   "metadata": {},
   "outputs": [],
   "source": [
    "categorical_features = ['HvacMode', 'Event', 'Schedule']"
   ]
  },
  {
   "cell_type": "code",
   "execution_count": 40,
   "metadata": {},
   "outputs": [],
   "source": [
    "X = house_data_std[categorical_features]"
   ]
  },
  {
   "cell_type": "code",
   "execution_count": 41,
   "metadata": {},
   "outputs": [
    {
     "data": {
      "text/plain": [
       "array([[ 0.],\n",
       "       [ 2.],\n",
       "       [20.],\n",
       "       ...,\n",
       "       [ 0.],\n",
       "       [ 0.],\n",
       "       [ 6.]])"
      ]
     },
     "execution_count": 41,
     "metadata": {},
     "output_type": "execute_result"
    }
   ],
   "source": [
    "y"
   ]
  },
  {
   "cell_type": "code",
   "execution_count": 42,
   "metadata": {},
   "outputs": [],
   "source": [
    "y = y.reshape(y.shape[0], )"
   ]
  },
  {
   "cell_type": "code",
   "execution_count": 43,
   "metadata": {},
   "outputs": [
    {
     "data": {
      "text/plain": [
       "array([ 0.,  2., 20., ...,  0.,  0.,  6.])"
      ]
     },
     "execution_count": 43,
     "metadata": {},
     "output_type": "execute_result"
    }
   ],
   "source": [
    "y"
   ]
  },
  {
   "cell_type": "code",
   "execution_count": 44,
   "metadata": {},
   "outputs": [
    {
     "data": {
      "text/html": [
       "<div>\n",
       "<style scoped>\n",
       "    .dataframe tbody tr th:only-of-type {\n",
       "        vertical-align: middle;\n",
       "    }\n",
       "\n",
       "    .dataframe tbody tr th {\n",
       "        vertical-align: top;\n",
       "    }\n",
       "\n",
       "    .dataframe thead th {\n",
       "        text-align: right;\n",
       "    }\n",
       "</style>\n",
       "<table border=\"1\" class=\"dataframe\">\n",
       "  <thead>\n",
       "    <tr style=\"text-align: right;\">\n",
       "      <th></th>\n",
       "      <th>HvacMode</th>\n",
       "      <th>Event</th>\n",
       "      <th>Schedule</th>\n",
       "    </tr>\n",
       "  </thead>\n",
       "  <tbody>\n",
       "    <tr>\n",
       "      <th>0</th>\n",
       "      <td>heat</td>\n",
       "      <td>Hold</td>\n",
       "      <td>Sleep</td>\n",
       "    </tr>\n",
       "    <tr>\n",
       "      <th>1</th>\n",
       "      <td>heat</td>\n",
       "      <td>Hold</td>\n",
       "      <td>Sleep</td>\n",
       "    </tr>\n",
       "    <tr>\n",
       "      <th>2</th>\n",
       "      <td>heat</td>\n",
       "      <td>Hold</td>\n",
       "      <td>Sleep</td>\n",
       "    </tr>\n",
       "    <tr>\n",
       "      <th>3</th>\n",
       "      <td>heat</td>\n",
       "      <td>Hold</td>\n",
       "      <td>Sleep</td>\n",
       "    </tr>\n",
       "    <tr>\n",
       "      <th>4</th>\n",
       "      <td>heat</td>\n",
       "      <td>Hold</td>\n",
       "      <td>Sleep</td>\n",
       "    </tr>\n",
       "    <tr>\n",
       "      <th>...</th>\n",
       "      <td>...</td>\n",
       "      <td>...</td>\n",
       "      <td>...</td>\n",
       "    </tr>\n",
       "    <tr>\n",
       "      <th>64614</th>\n",
       "      <td>heat</td>\n",
       "      <td>Hold</td>\n",
       "      <td>Sleep</td>\n",
       "    </tr>\n",
       "    <tr>\n",
       "      <th>64615</th>\n",
       "      <td>heat</td>\n",
       "      <td>Hold</td>\n",
       "      <td>Sleep</td>\n",
       "    </tr>\n",
       "    <tr>\n",
       "      <th>64616</th>\n",
       "      <td>heat</td>\n",
       "      <td>Hold</td>\n",
       "      <td>Sleep</td>\n",
       "    </tr>\n",
       "    <tr>\n",
       "      <th>64617</th>\n",
       "      <td>heat</td>\n",
       "      <td>Hold</td>\n",
       "      <td>Sleep</td>\n",
       "    </tr>\n",
       "    <tr>\n",
       "      <th>64618</th>\n",
       "      <td>heat</td>\n",
       "      <td>Hold</td>\n",
       "      <td>Sleep</td>\n",
       "    </tr>\n",
       "  </tbody>\n",
       "</table>\n",
       "<p>64619 rows × 3 columns</p>\n",
       "</div>"
      ],
      "text/plain": [
       "      HvacMode Event Schedule\n",
       "0         heat  Hold    Sleep\n",
       "1         heat  Hold    Sleep\n",
       "2         heat  Hold    Sleep\n",
       "3         heat  Hold    Sleep\n",
       "4         heat  Hold    Sleep\n",
       "...        ...   ...      ...\n",
       "64614     heat  Hold    Sleep\n",
       "64615     heat  Hold    Sleep\n",
       "64616     heat  Hold    Sleep\n",
       "64617     heat  Hold    Sleep\n",
       "64618     heat  Hold    Sleep\n",
       "\n",
       "[64619 rows x 3 columns]"
      ]
     },
     "execution_count": 44,
     "metadata": {},
     "output_type": "execute_result"
    }
   ],
   "source": [
    "X"
   ]
  },
  {
   "cell_type": "code",
   "execution_count": 45,
   "metadata": {},
   "outputs": [
    {
     "name": "stderr",
     "output_type": "stream",
     "text": [
      "C:\\Users\\ankit\\Anaconda3\\envs\\tensorflow-gpu\\lib\\site-packages\\pandas\\core\\frame.py:2963: SettingWithCopyWarning: \n",
      "A value is trying to be set on a copy of a slice from a DataFrame.\n",
      "Try using .loc[row_indexer,col_indexer] = value instead\n",
      "\n",
      "See the caveats in the documentation: https://pandas.pydata.org/pandas-docs/stable/user_guide/indexing.html#returning-a-view-versus-a-copy\n",
      "  self[k1] = value[k2]\n"
     ]
    }
   ],
   "source": [
    "le = LabelEncoder()\n",
    "X[categorical_features] = X[categorical_features].apply(lambda col: le.fit_transform(col))"
   ]
  },
  {
   "cell_type": "code",
   "execution_count": 46,
   "metadata": {},
   "outputs": [],
   "source": [
    "X = np.array(X)"
   ]
  },
  {
   "cell_type": "code",
   "execution_count": 47,
   "metadata": {},
   "outputs": [
    {
     "data": {
      "text/plain": [
       "SelectKBest(k='all', score_func=<function chi2 at 0x000002CCB31613A8>)"
      ]
     },
     "execution_count": 47,
     "metadata": {},
     "output_type": "execute_result"
    }
   ],
   "source": [
    "fs = SelectKBest(score_func = chi2, k = 'all')\n",
    "fs.fit(X, y)"
   ]
  },
  {
   "cell_type": "code",
   "execution_count": 48,
   "metadata": {},
   "outputs": [
    {
     "name": "stdout",
     "output_type": "stream",
     "text": [
      "Feature 0: 2008.972829\n",
      "Feature 1: 7074.145523\n",
      "Feature 2: 128.727320\n"
     ]
    },
    {
     "data": {
      "image/png": "[encoded data removed]",
      "text/plain": [
       "<Figure size 432x288 with 1 Axes>"
      ]
     },
     "metadata": {
      "needs_background": "light"
     },
     "output_type": "display_data"
    }
   ],
   "source": [
    "for i in range(len(fs.scores_)):\n",
    "    print('Feature %d: %f' % (i, fs.scores_[i]))\n",
    "# plot the scores\n",
    "plt.bar([i for i in range(len(fs.scores_))], fs.scores_)\n",
    "plt.show()"
   ]
  },
  {
   "cell_type": "markdown",
   "metadata": {},
   "source": [
    "#### According to the feature imporance graph for categorical variables shown above, the 'Schedule' feature does not seem to contribute much in terms of importance of features"
   ]
  },
  {
   "cell_type": "markdown",
   "metadata": {},
   "source": [
    "### Using 'Mutual Information' Feature Selection (Categorical Input, Categorical Output)"
   ]
  },
  {
   "cell_type": "code",
   "execution_count": 49,
   "metadata": {},
   "outputs": [
    {
     "data": {
      "text/plain": [
       "SelectKBest(k='all',\n",
       "            score_func=<function mutual_info_classif at 0x000002CCB3454048>)"
      ]
     },
     "execution_count": 49,
     "metadata": {},
     "output_type": "execute_result"
    }
   ],
   "source": [
    "fs = SelectKBest(score_func = mutual_info_classif, k = 'all')\n",
    "fs.fit(X, y)"
   ]
  },
  {
   "cell_type": "code",
   "execution_count": 50,
   "metadata": {},
   "outputs": [
    {
     "name": "stdout",
     "output_type": "stream",
     "text": [
      "Feature 0: 0.029472\n",
      "Feature 1: 0.116578\n",
      "Feature 2: 0.005671\n"
     ]
    },
    {
     "data": {
      "image/png": "[encoded data removed]",
      "text/plain": [
       "<Figure size 432x288 with 1 Axes>"
      ]
     },
     "metadata": {
      "needs_background": "light"
     },
     "output_type": "display_data"
    }
   ],
   "source": [
    "for i in range(len(fs.scores_)):\n",
    "    print('Feature %d: %f' % (i, fs.scores_[i]))\n",
    "# plot the scores\n",
    "plt.bar([i for i in range(len(fs.scores_))], fs.scores_)\n",
    "plt.show()"
   ]
  },
  {
   "cell_type": "markdown",
   "metadata": {},
   "source": [
    "### Using Wrapper Methods for feature Selection"
   ]
  },
  {
   "cell_type": "markdown",
   "metadata": {},
   "source": [
    "https://towardsdatascience.com/feature-selection-with-pandas-e3690ad8504b"
   ]
  },
  {
   "cell_type": "markdown",
   "metadata": {},
   "source": [
    "A wrapper method needs one machine learning algorithm and uses its performance as evaluation criteria. This means, you feed the features to the selected Machine Learning algorithm and based on the model performance you add/remove the features. This is an iterative and computationally expensive process but it is more accurate than the filter method."
   ]
  },
  {
   "cell_type": "markdown",
   "metadata": {},
   "source": [
    "#### Recursive Feature Elimination"
   ]
  },
  {
   "cell_type": "code",
   "execution_count": 51,
   "metadata": {},
   "outputs": [
    {
     "data": {
      "text/html": [
       "<div>\n",
       "<style scoped>\n",
       "    .dataframe tbody tr th:only-of-type {\n",
       "        vertical-align: middle;\n",
       "    }\n",
       "\n",
       "    .dataframe tbody tr th {\n",
       "        vertical-align: top;\n",
       "    }\n",
       "\n",
       "    .dataframe thead th {\n",
       "        text-align: right;\n",
       "    }\n",
       "</style>\n",
       "<table border=\"1\" class=\"dataframe\">\n",
       "  <thead>\n",
       "    <tr style=\"text-align: right;\">\n",
       "      <th></th>\n",
       "      <th>hour_sin</th>\n",
       "      <th>hour_cos</th>\n",
       "      <th>month_sin</th>\n",
       "      <th>month_cos</th>\n",
       "      <th>day_sin</th>\n",
       "      <th>day_cos</th>\n",
       "      <th>Month</th>\n",
       "      <th>DayOfWeek</th>\n",
       "      <th>HourofDay</th>\n",
       "      <th>HvacMode_heat</th>\n",
       "      <th>...</th>\n",
       "      <th>Humidity</th>\n",
       "      <th>auxHeat1</th>\n",
       "      <th>fan</th>\n",
       "      <th>Thermostat_Temperature</th>\n",
       "      <th>Thermostat_Motion</th>\n",
       "      <th>Remote_Sensor_1_Temperature</th>\n",
       "      <th>Remote_Sensor_1_Motion</th>\n",
       "      <th>T_out</th>\n",
       "      <th>RH_out</th>\n",
       "      <th>auxHeat1_label</th>\n",
       "    </tr>\n",
       "  </thead>\n",
       "  <tbody>\n",
       "    <tr>\n",
       "      <th>0</th>\n",
       "      <td>0.0</td>\n",
       "      <td>1.0</td>\n",
       "      <td>0.0</td>\n",
       "      <td>1.0</td>\n",
       "      <td>0.755303</td>\n",
       "      <td>0.484974</td>\n",
       "      <td>1</td>\n",
       "      <td>1</td>\n",
       "      <td>0</td>\n",
       "      <td>1</td>\n",
       "      <td>...</td>\n",
       "      <td>-0.04369</td>\n",
       "      <td>0</td>\n",
       "      <td>11</td>\n",
       "      <td>0.325373</td>\n",
       "      <td>-0.372318</td>\n",
       "      <td>67.0</td>\n",
       "      <td>0.0</td>\n",
       "      <td>-0.132793</td>\n",
       "      <td>1.825624</td>\n",
       "      <td>0</td>\n",
       "    </tr>\n",
       "    <tr>\n",
       "      <th>1</th>\n",
       "      <td>0.0</td>\n",
       "      <td>1.0</td>\n",
       "      <td>0.0</td>\n",
       "      <td>1.0</td>\n",
       "      <td>0.755303</td>\n",
       "      <td>0.484974</td>\n",
       "      <td>1</td>\n",
       "      <td>1</td>\n",
       "      <td>0</td>\n",
       "      <td>1</td>\n",
       "      <td>...</td>\n",
       "      <td>-0.04369</td>\n",
       "      <td>2</td>\n",
       "      <td>9</td>\n",
       "      <td>0.325373</td>\n",
       "      <td>-0.372318</td>\n",
       "      <td>67.0</td>\n",
       "      <td>0.0</td>\n",
       "      <td>-0.132793</td>\n",
       "      <td>1.825624</td>\n",
       "      <td>1</td>\n",
       "    </tr>\n",
       "    <tr>\n",
       "      <th>2</th>\n",
       "      <td>0.0</td>\n",
       "      <td>1.0</td>\n",
       "      <td>0.0</td>\n",
       "      <td>1.0</td>\n",
       "      <td>0.755303</td>\n",
       "      <td>0.484974</td>\n",
       "      <td>1</td>\n",
       "      <td>1</td>\n",
       "      <td>0</td>\n",
       "      <td>1</td>\n",
       "      <td>...</td>\n",
       "      <td>-0.04369</td>\n",
       "      <td>20</td>\n",
       "      <td>20</td>\n",
       "      <td>0.325373</td>\n",
       "      <td>-0.372318</td>\n",
       "      <td>67.0</td>\n",
       "      <td>0.0</td>\n",
       "      <td>-0.132793</td>\n",
       "      <td>1.825624</td>\n",
       "      <td>1</td>\n",
       "    </tr>\n",
       "    <tr>\n",
       "      <th>3</th>\n",
       "      <td>0.0</td>\n",
       "      <td>1.0</td>\n",
       "      <td>0.0</td>\n",
       "      <td>1.0</td>\n",
       "      <td>0.755303</td>\n",
       "      <td>0.484974</td>\n",
       "      <td>1</td>\n",
       "      <td>1</td>\n",
       "      <td>0</td>\n",
       "      <td>1</td>\n",
       "      <td>...</td>\n",
       "      <td>-0.04369</td>\n",
       "      <td>9</td>\n",
       "      <td>12</td>\n",
       "      <td>0.325373</td>\n",
       "      <td>-0.372318</td>\n",
       "      <td>67.0</td>\n",
       "      <td>0.0</td>\n",
       "      <td>-0.132793</td>\n",
       "      <td>1.825624</td>\n",
       "      <td>1</td>\n",
       "    </tr>\n",
       "    <tr>\n",
       "      <th>4</th>\n",
       "      <td>0.0</td>\n",
       "      <td>1.0</td>\n",
       "      <td>0.0</td>\n",
       "      <td>1.0</td>\n",
       "      <td>0.755303</td>\n",
       "      <td>0.484974</td>\n",
       "      <td>1</td>\n",
       "      <td>1</td>\n",
       "      <td>0</td>\n",
       "      <td>1</td>\n",
       "      <td>...</td>\n",
       "      <td>-0.04369</td>\n",
       "      <td>0</td>\n",
       "      <td>8</td>\n",
       "      <td>0.325373</td>\n",
       "      <td>-0.372318</td>\n",
       "      <td>67.0</td>\n",
       "      <td>0.0</td>\n",
       "      <td>-0.132793</td>\n",
       "      <td>1.825624</td>\n",
       "      <td>0</td>\n",
       "    </tr>\n",
       "  </tbody>\n",
       "</table>\n",
       "<p>5 rows × 28 columns</p>\n",
       "</div>"
      ],
      "text/plain": [
       "   hour_sin  hour_cos  month_sin  month_cos   day_sin   day_cos  Month  \\\n",
       "0       0.0       1.0        0.0        1.0  0.755303  0.484974      1   \n",
       "1       0.0       1.0        0.0        1.0  0.755303  0.484974      1   \n",
       "2       0.0       1.0        0.0        1.0  0.755303  0.484974      1   \n",
       "3       0.0       1.0        0.0        1.0  0.755303  0.484974      1   \n",
       "4       0.0       1.0        0.0        1.0  0.755303  0.484974      1   \n",
       "\n",
       "   DayOfWeek  HourofDay  HvacMode_heat  ...  Humidity  auxHeat1  fan  \\\n",
       "0          1          0              1  ...  -0.04369         0   11   \n",
       "1          1          0              1  ...  -0.04369         2    9   \n",
       "2          1          0              1  ...  -0.04369        20   20   \n",
       "3          1          0              1  ...  -0.04369         9   12   \n",
       "4          1          0              1  ...  -0.04369         0    8   \n",
       "\n",
       "   Thermostat_Temperature  Thermostat_Motion  Remote_Sensor_1_Temperature  \\\n",
       "0                0.325373          -0.372318                         67.0   \n",
       "1                0.325373          -0.372318                         67.0   \n",
       "2                0.325373          -0.372318                         67.0   \n",
       "3                0.325373          -0.372318                         67.0   \n",
       "4                0.325373          -0.372318                         67.0   \n",
       "\n",
       "   Remote_Sensor_1_Motion     T_out    RH_out  auxHeat1_label  \n",
       "0                     0.0 -0.132793  1.825624               0  \n",
       "1                     0.0 -0.132793  1.825624               1  \n",
       "2                     0.0 -0.132793  1.825624               1  \n",
       "3                     0.0 -0.132793  1.825624               1  \n",
       "4                     0.0 -0.132793  1.825624               0  \n",
       "\n",
       "[5 rows x 28 columns]"
      ]
     },
     "execution_count": 51,
     "metadata": {},
     "output_type": "execute_result"
    }
   ],
   "source": [
    "house_data_ohe.head()"
   ]
  },
  {
   "cell_type": "code",
   "execution_count": 52,
   "metadata": {},
   "outputs": [],
   "source": [
    "X = house_data_ohe.drop(labels = ['auxHeat1', 'auxHeat1_label', 'Remote_Sensor_1_Temperature', \n",
    "                                  'Remote_Sensor_1_Motion', 'Month', 'DayOfWeek', 'HourofDay'], axis = 1)\n",
    "y = house_data_ohe['auxHeat1']"
   ]
  },
  {
   "cell_type": "code",
   "execution_count": 53,
   "metadata": {},
   "outputs": [],
   "source": [
    "from sklearn.tree import DecisionTreeClassifier\n",
    "from sklearn.model_selection import train_test_split"
   ]
  },
  {
   "cell_type": "code",
   "execution_count": 54,
   "metadata": {},
   "outputs": [
    {
     "data": {
      "text/html": [
       "<div>\n",
       "<style scoped>\n",
       "    .dataframe tbody tr th:only-of-type {\n",
       "        vertical-align: middle;\n",
       "    }\n",
       "\n",
       "    .dataframe tbody tr th {\n",
       "        vertical-align: top;\n",
       "    }\n",
       "\n",
       "    .dataframe thead th {\n",
       "        text-align: right;\n",
       "    }\n",
       "</style>\n",
       "<table border=\"1\" class=\"dataframe\">\n",
       "  <thead>\n",
       "    <tr style=\"text-align: right;\">\n",
       "      <th></th>\n",
       "      <th>hour_sin</th>\n",
       "      <th>hour_cos</th>\n",
       "      <th>month_sin</th>\n",
       "      <th>month_cos</th>\n",
       "      <th>day_sin</th>\n",
       "      <th>day_cos</th>\n",
       "      <th>HvacMode_heat</th>\n",
       "      <th>HvacMode_off</th>\n",
       "      <th>Event_Hold</th>\n",
       "      <th>Event_None</th>\n",
       "      <th>...</th>\n",
       "      <th>Schedule_Home</th>\n",
       "      <th>Schedule_Sleep</th>\n",
       "      <th>T_ctrl</th>\n",
       "      <th>T_stp_heat</th>\n",
       "      <th>Humidity</th>\n",
       "      <th>fan</th>\n",
       "      <th>Thermostat_Temperature</th>\n",
       "      <th>Thermostat_Motion</th>\n",
       "      <th>T_out</th>\n",
       "      <th>RH_out</th>\n",
       "    </tr>\n",
       "  </thead>\n",
       "  <tbody>\n",
       "    <tr>\n",
       "      <th>0</th>\n",
       "      <td>0.000000</td>\n",
       "      <td>1.000000</td>\n",
       "      <td>0.0</td>\n",
       "      <td>1.000000</td>\n",
       "      <td>0.755303</td>\n",
       "      <td>0.484974</td>\n",
       "      <td>1</td>\n",
       "      <td>0</td>\n",
       "      <td>1</td>\n",
       "      <td>0</td>\n",
       "      <td>...</td>\n",
       "      <td>0</td>\n",
       "      <td>1</td>\n",
       "      <td>0.28937</td>\n",
       "      <td>0.738328</td>\n",
       "      <td>-0.043690</td>\n",
       "      <td>11</td>\n",
       "      <td>0.325373</td>\n",
       "      <td>-0.372318</td>\n",
       "      <td>-0.132793</td>\n",
       "      <td>1.825624</td>\n",
       "    </tr>\n",
       "    <tr>\n",
       "      <th>1</th>\n",
       "      <td>0.000000</td>\n",
       "      <td>1.000000</td>\n",
       "      <td>0.0</td>\n",
       "      <td>1.000000</td>\n",
       "      <td>0.755303</td>\n",
       "      <td>0.484974</td>\n",
       "      <td>1</td>\n",
       "      <td>0</td>\n",
       "      <td>1</td>\n",
       "      <td>0</td>\n",
       "      <td>...</td>\n",
       "      <td>0</td>\n",
       "      <td>1</td>\n",
       "      <td>0.28937</td>\n",
       "      <td>0.738328</td>\n",
       "      <td>-0.043690</td>\n",
       "      <td>9</td>\n",
       "      <td>0.325373</td>\n",
       "      <td>-0.372318</td>\n",
       "      <td>-0.132793</td>\n",
       "      <td>1.825624</td>\n",
       "    </tr>\n",
       "    <tr>\n",
       "      <th>2</th>\n",
       "      <td>0.000000</td>\n",
       "      <td>1.000000</td>\n",
       "      <td>0.0</td>\n",
       "      <td>1.000000</td>\n",
       "      <td>0.755303</td>\n",
       "      <td>0.484974</td>\n",
       "      <td>1</td>\n",
       "      <td>0</td>\n",
       "      <td>1</td>\n",
       "      <td>0</td>\n",
       "      <td>...</td>\n",
       "      <td>0</td>\n",
       "      <td>1</td>\n",
       "      <td>0.28937</td>\n",
       "      <td>0.738328</td>\n",
       "      <td>-0.043690</td>\n",
       "      <td>20</td>\n",
       "      <td>0.325373</td>\n",
       "      <td>-0.372318</td>\n",
       "      <td>-0.132793</td>\n",
       "      <td>1.825624</td>\n",
       "    </tr>\n",
       "    <tr>\n",
       "      <th>3</th>\n",
       "      <td>0.000000</td>\n",
       "      <td>1.000000</td>\n",
       "      <td>0.0</td>\n",
       "      <td>1.000000</td>\n",
       "      <td>0.755303</td>\n",
       "      <td>0.484974</td>\n",
       "      <td>1</td>\n",
       "      <td>0</td>\n",
       "      <td>1</td>\n",
       "      <td>0</td>\n",
       "      <td>...</td>\n",
       "      <td>0</td>\n",
       "      <td>1</td>\n",
       "      <td>0.28937</td>\n",
       "      <td>0.738328</td>\n",
       "      <td>-0.043690</td>\n",
       "      <td>12</td>\n",
       "      <td>0.325373</td>\n",
       "      <td>-0.372318</td>\n",
       "      <td>-0.132793</td>\n",
       "      <td>1.825624</td>\n",
       "    </tr>\n",
       "    <tr>\n",
       "      <th>4</th>\n",
       "      <td>0.000000</td>\n",
       "      <td>1.000000</td>\n",
       "      <td>0.0</td>\n",
       "      <td>1.000000</td>\n",
       "      <td>0.755303</td>\n",
       "      <td>0.484974</td>\n",
       "      <td>1</td>\n",
       "      <td>0</td>\n",
       "      <td>1</td>\n",
       "      <td>0</td>\n",
       "      <td>...</td>\n",
       "      <td>0</td>\n",
       "      <td>1</td>\n",
       "      <td>0.28937</td>\n",
       "      <td>0.738328</td>\n",
       "      <td>-0.043690</td>\n",
       "      <td>8</td>\n",
       "      <td>0.325373</td>\n",
       "      <td>-0.372318</td>\n",
       "      <td>-0.132793</td>\n",
       "      <td>1.825624</td>\n",
       "    </tr>\n",
       "    <tr>\n",
       "      <th>...</th>\n",
       "      <td>...</td>\n",
       "      <td>...</td>\n",
       "      <td>...</td>\n",
       "      <td>...</td>\n",
       "      <td>...</td>\n",
       "      <td>...</td>\n",
       "      <td>...</td>\n",
       "      <td>...</td>\n",
       "      <td>...</td>\n",
       "      <td>...</td>\n",
       "      <td>...</td>\n",
       "      <td>...</td>\n",
       "      <td>...</td>\n",
       "      <td>...</td>\n",
       "      <td>...</td>\n",
       "      <td>...</td>\n",
       "      <td>...</td>\n",
       "      <td>...</td>\n",
       "      <td>...</td>\n",
       "      <td>...</td>\n",
       "      <td>...</td>\n",
       "    </tr>\n",
       "    <tr>\n",
       "      <th>64614</th>\n",
       "      <td>-0.258819</td>\n",
       "      <td>0.965926</td>\n",
       "      <td>-0.5</td>\n",
       "      <td>0.866025</td>\n",
       "      <td>0.755303</td>\n",
       "      <td>0.484974</td>\n",
       "      <td>1</td>\n",
       "      <td>0</td>\n",
       "      <td>1</td>\n",
       "      <td>0</td>\n",
       "      <td>...</td>\n",
       "      <td>0</td>\n",
       "      <td>1</td>\n",
       "      <td>0.28937</td>\n",
       "      <td>0.738328</td>\n",
       "      <td>-0.630380</td>\n",
       "      <td>20</td>\n",
       "      <td>0.325373</td>\n",
       "      <td>2.685876</td>\n",
       "      <td>-0.743775</td>\n",
       "      <td>-0.102577</td>\n",
       "    </tr>\n",
       "    <tr>\n",
       "      <th>64615</th>\n",
       "      <td>-0.258819</td>\n",
       "      <td>0.965926</td>\n",
       "      <td>-0.5</td>\n",
       "      <td>0.866025</td>\n",
       "      <td>0.755303</td>\n",
       "      <td>0.484974</td>\n",
       "      <td>1</td>\n",
       "      <td>0</td>\n",
       "      <td>1</td>\n",
       "      <td>0</td>\n",
       "      <td>...</td>\n",
       "      <td>0</td>\n",
       "      <td>1</td>\n",
       "      <td>0.28937</td>\n",
       "      <td>0.738328</td>\n",
       "      <td>-0.546567</td>\n",
       "      <td>16</td>\n",
       "      <td>0.325373</td>\n",
       "      <td>-0.372318</td>\n",
       "      <td>-0.743775</td>\n",
       "      <td>-0.102577</td>\n",
       "    </tr>\n",
       "    <tr>\n",
       "      <th>64616</th>\n",
       "      <td>-0.258819</td>\n",
       "      <td>0.965926</td>\n",
       "      <td>-0.5</td>\n",
       "      <td>0.866025</td>\n",
       "      <td>0.755303</td>\n",
       "      <td>0.484974</td>\n",
       "      <td>1</td>\n",
       "      <td>0</td>\n",
       "      <td>1</td>\n",
       "      <td>0</td>\n",
       "      <td>...</td>\n",
       "      <td>0</td>\n",
       "      <td>1</td>\n",
       "      <td>0.28937</td>\n",
       "      <td>0.738328</td>\n",
       "      <td>-0.546567</td>\n",
       "      <td>4</td>\n",
       "      <td>0.325373</td>\n",
       "      <td>-0.372318</td>\n",
       "      <td>-0.743775</td>\n",
       "      <td>-0.102577</td>\n",
       "    </tr>\n",
       "    <tr>\n",
       "      <th>64617</th>\n",
       "      <td>-0.258819</td>\n",
       "      <td>0.965926</td>\n",
       "      <td>-0.5</td>\n",
       "      <td>0.866025</td>\n",
       "      <td>0.755303</td>\n",
       "      <td>0.484974</td>\n",
       "      <td>1</td>\n",
       "      <td>0</td>\n",
       "      <td>1</td>\n",
       "      <td>0</td>\n",
       "      <td>...</td>\n",
       "      <td>0</td>\n",
       "      <td>1</td>\n",
       "      <td>0.28937</td>\n",
       "      <td>0.738328</td>\n",
       "      <td>-0.630380</td>\n",
       "      <td>20</td>\n",
       "      <td>0.325373</td>\n",
       "      <td>-0.372318</td>\n",
       "      <td>-0.743775</td>\n",
       "      <td>-0.102577</td>\n",
       "    </tr>\n",
       "    <tr>\n",
       "      <th>64618</th>\n",
       "      <td>-0.258819</td>\n",
       "      <td>0.965926</td>\n",
       "      <td>-0.5</td>\n",
       "      <td>0.866025</td>\n",
       "      <td>0.755303</td>\n",
       "      <td>0.484974</td>\n",
       "      <td>1</td>\n",
       "      <td>0</td>\n",
       "      <td>1</td>\n",
       "      <td>0</td>\n",
       "      <td>...</td>\n",
       "      <td>0</td>\n",
       "      <td>1</td>\n",
       "      <td>0.28937</td>\n",
       "      <td>0.738328</td>\n",
       "      <td>-0.630380</td>\n",
       "      <td>20</td>\n",
       "      <td>0.325373</td>\n",
       "      <td>-0.372318</td>\n",
       "      <td>-0.743775</td>\n",
       "      <td>-0.102577</td>\n",
       "    </tr>\n",
       "  </tbody>\n",
       "</table>\n",
       "<p>64619 rows × 21 columns</p>\n",
       "</div>"
      ],
      "text/plain": [
       "       hour_sin  hour_cos  month_sin  month_cos   day_sin   day_cos  \\\n",
       "0      0.000000  1.000000        0.0   1.000000  0.755303  0.484974   \n",
       "1      0.000000  1.000000        0.0   1.000000  0.755303  0.484974   \n",
       "2      0.000000  1.000000        0.0   1.000000  0.755303  0.484974   \n",
       "3      0.000000  1.000000        0.0   1.000000  0.755303  0.484974   \n",
       "4      0.000000  1.000000        0.0   1.000000  0.755303  0.484974   \n",
       "...         ...       ...        ...        ...       ...       ...   \n",
       "64614 -0.258819  0.965926       -0.5   0.866025  0.755303  0.484974   \n",
       "64615 -0.258819  0.965926       -0.5   0.866025  0.755303  0.484974   \n",
       "64616 -0.258819  0.965926       -0.5   0.866025  0.755303  0.484974   \n",
       "64617 -0.258819  0.965926       -0.5   0.866025  0.755303  0.484974   \n",
       "64618 -0.258819  0.965926       -0.5   0.866025  0.755303  0.484974   \n",
       "\n",
       "       HvacMode_heat  HvacMode_off  Event_Hold  Event_None  ...  \\\n",
       "0                  1             0           1           0  ...   \n",
       "1                  1             0           1           0  ...   \n",
       "2                  1             0           1           0  ...   \n",
       "3                  1             0           1           0  ...   \n",
       "4                  1             0           1           0  ...   \n",
       "...              ...           ...         ...         ...  ...   \n",
       "64614              1             0           1           0  ...   \n",
       "64615              1             0           1           0  ...   \n",
       "64616              1             0           1           0  ...   \n",
       "64617              1             0           1           0  ...   \n",
       "64618              1             0           1           0  ...   \n",
       "\n",
       "       Schedule_Home  Schedule_Sleep   T_ctrl  T_stp_heat  Humidity  fan  \\\n",
       "0                  0               1  0.28937    0.738328 -0.043690   11   \n",
       "1                  0               1  0.28937    0.738328 -0.043690    9   \n",
       "2                  0               1  0.28937    0.738328 -0.043690   20   \n",
       "3                  0               1  0.28937    0.738328 -0.043690   12   \n",
       "4                  0               1  0.28937    0.738328 -0.043690    8   \n",
       "...              ...             ...      ...         ...       ...  ...   \n",
       "64614              0               1  0.28937    0.738328 -0.630380   20   \n",
       "64615              0               1  0.28937    0.738328 -0.546567   16   \n",
       "64616              0               1  0.28937    0.738328 -0.546567    4   \n",
       "64617              0               1  0.28937    0.738328 -0.630380   20   \n",
       "64618              0               1  0.28937    0.738328 -0.630380   20   \n",
       "\n",
       "       Thermostat_Temperature  Thermostat_Motion     T_out    RH_out  \n",
       "0                    0.325373          -0.372318 -0.132793  1.825624  \n",
       "1                    0.325373          -0.372318 -0.132793  1.825624  \n",
       "2                    0.325373          -0.372318 -0.132793  1.825624  \n",
       "3                    0.325373          -0.372318 -0.132793  1.825624  \n",
       "4                    0.325373          -0.372318 -0.132793  1.825624  \n",
       "...                       ...                ...       ...       ...  \n",
       "64614                0.325373           2.685876 -0.743775 -0.102577  \n",
       "64615                0.325373          -0.372318 -0.743775 -0.102577  \n",
       "64616                0.325373          -0.372318 -0.743775 -0.102577  \n",
       "64617                0.325373          -0.372318 -0.743775 -0.102577  \n",
       "64618                0.325373          -0.372318 -0.743775 -0.102577  \n",
       "\n",
       "[64619 rows x 21 columns]"
      ]
     },
     "execution_count": 54,
     "metadata": {},
     "output_type": "execute_result"
    }
   ],
   "source": [
    "X"
   ]
  },
  {
   "cell_type": "code",
   "execution_count": 56,
   "metadata": {},
   "outputs": [],
   "source": [
    "from sklearn.ensemble import RandomForestClassifier"
   ]
  },
  {
   "cell_type": "code",
   "execution_count": 57,
   "metadata": {},
   "outputs": [
    {
     "name": "stdout",
     "output_type": "stream",
     "text": [
      "0\n",
      "1\n",
      "2\n",
      "3\n",
      "4\n",
      "5\n",
      "6\n",
      "7\n",
      "8\n",
      "9\n",
      "10\n",
      "11\n",
      "12\n",
      "13\n",
      "14\n",
      "15\n",
      "16\n",
      "17\n",
      "18\n",
      "19\n",
      "20\n",
      "Optimum number of features: 7\n",
      "Score with 7 features: 0.828175\n"
     ]
    }
   ],
   "source": [
    "#no of features\n",
    "nof_list = np.arange(1, 22)            \n",
    "high_score = 0\n",
    "#Variable to store the optimum features\n",
    "nof = 0           \n",
    "score_list = []\n",
    "for n in range(len(nof_list)):\n",
    "    print(n)\n",
    "    X_train, X_test, y_train, y_test = train_test_split(X, y, test_size = 0.3, random_state = 0)\n",
    "    model = RandomForestClassifier()\n",
    "    rfe = RFE(model, nof_list[n])\n",
    "    X_train_rfe = rfe.fit_transform(X_train, y_train)\n",
    "    X_test_rfe = rfe.transform(X_test)\n",
    "    model.fit(X_train_rfe, y_train)\n",
    "    score = model.score(X_test_rfe, y_test)\n",
    "    score_list.append(score)\n",
    "    if(score > high_score):\n",
    "        high_score = score\n",
    "        nof = nof_list[n]\n",
    "print(\"Optimum number of features: %d\" %nof)\n",
    "print(\"Score with %d features: %f\" % (nof, high_score))"
   ]
  },
  {
   "cell_type": "code",
   "execution_count": 59,
   "metadata": {},
   "outputs": [
    {
     "name": "stdout",
     "output_type": "stream",
     "text": [
      "Index(['hour_sin', 'T_ctrl', 'T_stp_heat', 'Humidity', 'fan', 'T_out',\n",
      "       'RH_out'],\n",
      "      dtype='object')\n"
     ]
    }
   ],
   "source": [
    "cols = list(X.columns)\n",
    "model = RandomForestClassifier()\n",
    "#Initializing RFE model\n",
    "rfe = RFE(model, 7)             \n",
    "#Transforming data using RFE\n",
    "X_rfe = rfe.fit_transform(X, y)  \n",
    "#Fitting the data to model\n",
    "model.fit(X_rfe,y)              \n",
    "temp = pd.Series(rfe.support_,index = cols)\n",
    "selected_features_rfe = temp[temp == True].index\n",
    "print(selected_features_rfe)"
   ]
  },
  {
   "cell_type": "markdown",
   "metadata": {},
   "source": [
    "### Embedded Method for Feature Selection"
   ]
  },
  {
   "cell_type": "code",
   "execution_count": 60,
   "metadata": {},
   "outputs": [
    {
     "name": "stdout",
     "output_type": "stream",
     "text": [
      "Requirement already satisfied: lightgbm in c:\\users\\ankit\\anaconda3\\envs\\tensorflow-gpu\\lib\\site-packages (2.3.1)\n",
      "Requirement already satisfied: scipy in c:\\users\\ankit\\anaconda3\\envs\\tensorflow-gpu\\lib\\site-packages (from lightgbm) (1.4.1)\n",
      "Requirement already satisfied: numpy in c:\\users\\ankit\\anaconda3\\envs\\tensorflow-gpu\\lib\\site-packages (from lightgbm) (1.18.1)\n",
      "Requirement already satisfied: scikit-learn in c:\\users\\ankit\\anaconda3\\envs\\tensorflow-gpu\\lib\\site-packages (from lightgbm) (0.22.2.post1)\n",
      "Requirement already satisfied: joblib>=0.11 in c:\\users\\ankit\\anaconda3\\envs\\tensorflow-gpu\\lib\\site-packages (from scikit-learn->lightgbm) (0.14.1)\n"
     ]
    }
   ],
   "source": [
    "!pip install lightgbm"
   ]
  },
  {
   "cell_type": "code",
   "execution_count": 61,
   "metadata": {},
   "outputs": [],
   "source": [
    "from sklearn.feature_selection import SelectFromModel\n",
    "from sklearn.linear_model import LogisticRegression\n",
    "from lightgbm import LGBMClassifier"
   ]
  },
  {
   "cell_type": "code",
   "execution_count": 62,
   "metadata": {},
   "outputs": [
    {
     "data": {
      "text/plain": [
       "SelectFromModel(estimator=RandomForestClassifier(bootstrap=True, ccp_alpha=0.0,\n",
       "                                                 class_weight=None,\n",
       "                                                 criterion='gini',\n",
       "                                                 max_depth=None,\n",
       "                                                 max_features='auto',\n",
       "                                                 max_leaf_nodes=None,\n",
       "                                                 max_samples=None,\n",
       "                                                 min_impurity_decrease=0.0,\n",
       "                                                 min_impurity_split=None,\n",
       "                                                 min_samples_leaf=1,\n",
       "                                                 min_samples_split=2,\n",
       "                                                 min_weight_fraction_leaf=0.0,\n",
       "                                                 n_estimators=100, n_jobs=None,\n",
       "                                                 oob_score=False,\n",
       "                                                 random_state=None, verbose=0,\n",
       "                                                 warm_start=False),\n",
       "                max_features=None, norm_order=1, prefit=False,\n",
       "                threshold='1.25*median')"
      ]
     },
     "execution_count": 62,
     "metadata": {},
     "output_type": "execute_result"
    }
   ],
   "source": [
    "embeded_rf_selector = SelectFromModel(RandomForestClassifier(n_estimators = 100), threshold = '1.25*median')\n",
    "embeded_rf_selector.fit(X, y)"
   ]
  },
  {
   "cell_type": "code",
   "execution_count": 63,
   "metadata": {},
   "outputs": [
    {
     "name": "stdout",
     "output_type": "stream",
     "text": [
      "7 selected features\n"
     ]
    }
   ],
   "source": [
    "embeded_rf_support = embeded_rf_selector.get_support()\n",
    "embeded_rf_feature = X.loc[:,embeded_rf_support].columns.tolist()\n",
    "print(str(len(embeded_rf_feature)), 'selected features')"
   ]
  },
  {
   "cell_type": "code",
   "execution_count": 64,
   "metadata": {},
   "outputs": [
    {
     "data": {
      "text/plain": [
       "['hour_sin', 'hour_cos', 'T_stp_heat', 'Humidity', 'fan', 'T_out', 'RH_out']"
      ]
     },
     "execution_count": 64,
     "metadata": {},
     "output_type": "execute_result"
    }
   ],
   "source": [
    "embeded_rf_feature"
   ]
  },
  {
   "cell_type": "code",
   "execution_count": 65,
   "metadata": {},
   "outputs": [
    {
     "data": {
      "text/plain": [
       "SelectFromModel(estimator=LGBMClassifier(boosting_type='gbdt',\n",
       "                                         class_weight=None,\n",
       "                                         colsample_bytree=0.2,\n",
       "                                         importance_type='split',\n",
       "                                         learning_rate=0.05, max_depth=-1,\n",
       "                                         min_child_samples=20,\n",
       "                                         min_child_weight=40,\n",
       "                                         min_split_gain=0.01, n_estimators=500,\n",
       "                                         n_jobs=-1, num_leaves=32,\n",
       "                                         objective=None, random_state=None,\n",
       "                                         reg_alpha=3, reg_lambda=1, silent=True,\n",
       "                                         subsample=1.0,\n",
       "                                         subsample_for_bin=200000,\n",
       "                                         subsample_freq=0),\n",
       "                max_features=None, norm_order=1, prefit=False,\n",
       "                threshold='1.25*median')"
      ]
     },
     "execution_count": 65,
     "metadata": {},
     "output_type": "execute_result"
    }
   ],
   "source": [
    "lgbc = LGBMClassifier(n_estimators=500, learning_rate=0.05, num_leaves=32, colsample_bytree=0.2,\n",
    "            reg_alpha=3, reg_lambda=1, min_split_gain=0.01, min_child_weight=40)\n",
    "\n",
    "embeded_lgb_selector = SelectFromModel(lgbc, threshold='1.25*median')\n",
    "embeded_lgb_selector.fit(X, y)"
   ]
  },
  {
   "cell_type": "code",
   "execution_count": 66,
   "metadata": {},
   "outputs": [
    {
     "name": "stdout",
     "output_type": "stream",
     "text": [
      "6 selected features\n"
     ]
    }
   ],
   "source": [
    "embeded_lgb_support = embeded_lgb_selector.get_support()\n",
    "embeded_lgb_feature = X.loc[:,embeded_lgb_support].columns.tolist()\n",
    "print(str(len(embeded_lgb_feature)), 'selected features')"
   ]
  },
  {
   "cell_type": "code",
   "execution_count": 67,
   "metadata": {},
   "outputs": [
    {
     "data": {
      "text/plain": [
       "['hour_sin', 'hour_cos', 'Humidity', 'fan', 'T_out', 'RH_out']"
      ]
     },
     "execution_count": 67,
     "metadata": {},
     "output_type": "execute_result"
    }
   ],
   "source": [
    "embeded_lgb_feature"
   ]
  },
  {
   "cell_type": "markdown",
   "metadata": {},
   "source": [
    "### Feature Importance"
   ]
  },
  {
   "cell_type": "code",
   "execution_count": 68,
   "metadata": {},
   "outputs": [
    {
     "data": {
      "text/plain": [
       "<matplotlib.axes._subplots.AxesSubplot at 0x2ccb53d5448>"
      ]
     },
     "execution_count": 68,
     "metadata": {},
     "output_type": "execute_result"
    },
    {
     "data": {
      "image/png": "[encoded data removed]",
      "text/plain": [
       "<Figure size 864x432 with 1 Axes>"
      ]
     },
     "metadata": {
      "needs_background": "light"
     },
     "output_type": "display_data"
    }
   ],
   "source": [
    "from sklearn.tree import DecisionTreeClassifier\n",
    "\n",
    "clf = DecisionTreeClassifier()\n",
    "clf.fit(X, y)\n",
    "\n",
    "pd.Series(clf.feature_importances_, index = X.columns).plot.bar(color = 'steelblue', figsize = (12, 6))"
   ]
  },
  {
   "cell_type": "code",
   "execution_count": null,
   "metadata": {},
   "outputs": [],
   "source": []
  }
 ],
 "metadata": {
  "kernelspec": {
   "display_name": "Python 3",
   "language": "python",
   "name": "python3"
  },
  "language_info": {
   "codemirror_mode": {
    "name": "ipython",
    "version": 3
   },
   "file_extension": ".py",
   "mimetype": "text/x-python",
   "name": "python",
   "nbconvert_exporter": "python",
   "pygments_lexer": "ipython3",
   "version": "3.7.6"
  }
 },
 "nbformat": 4,
 "nbformat_minor": 4
}
